{
 "cells": [
  {
   "cell_type": "markdown",
   "id": "240acf99",
   "metadata": {},
   "source": [
    "Dataset organized kindly by user Mourad. https://www.kaggle.com/msheriey/104-flowers-garden-of-eden"
   ]
  },
  {
   "cell_type": "markdown",
   "id": "57708f20",
   "metadata": {},
   "source": [
    "# import"
   ]
  },
  {
   "cell_type": "code",
   "execution_count": 1,
   "id": "12d75b1c",
   "metadata": {},
   "outputs": [],
   "source": [
    "import os\n",
    "import pandas as pd\n",
    "import numpy as np\n",
    "import matplotlib.pyplot as plt\n",
    "%matplotlib inline\n",
    "from tensorflow.keras.models import Sequential\n",
    "from tensorflow.keras.layers import Dense, Conv2D, MaxPooling2D, Flatten\n",
    "from tensorflow.keras.preprocessing.image import ImageDataGenerator, array_to_img, img_to_array, load_img\n",
    "from tensorflow.keras.utils import to_categorical\n",
    "from sklearn.model_selection import train_test_split\n",
    "import tensorflow as tf\n",
    "from tensorflow.keras import datasets, layers, models\n",
    "import random"
   ]
  },
  {
   "cell_type": "markdown",
   "id": "31dfd567",
   "metadata": {},
   "source": [
    "# global variables"
   ]
  },
  {
   "cell_type": "code",
   "execution_count": 2,
   "id": "b60659f1",
   "metadata": {},
   "outputs": [],
   "source": [
    "# image size options: 192, 224, 311, 512\n",
    "IMAGE_DIMENSION = 192\n",
    "VECTOR_LEN = IMAGE_DIMENSION**2\n",
    "NUM_CLASS = 104\n",
    "\n",
    "TRAIN_DIR = f'data/jpeg-{IMAGE_DIMENSION}x{IMAGE_DIMENSION}/train'\n",
    "VAL_DIR = f'data/jpeg-{IMAGE_DIMENSION}x{IMAGE_DIMENSION}/val'\n",
    "TEST_DIR = f'data/jpeg-{IMAGE_DIMENSION}x{IMAGE_DIMENSION}/test'\n",
    "\n",
    "BATCH_SIZE = 10\n",
    "TRAIN_BATCH_SIZE = BATCH_SIZE\n",
    "VAL_BATCH_SIZE = BATCH_SIZE\n",
    "TEST_BATCH_SIZE = 32"
   ]
  },
  {
   "cell_type": "markdown",
   "id": "7989fb6c",
   "metadata": {},
   "source": [
    "# generate datasets"
   ]
  },
  {
   "cell_type": "code",
   "execution_count": 3,
   "id": "e68dae13",
   "metadata": {},
   "outputs": [],
   "source": [
    "# train_img, train_lb = next(generate_train_dataset()) # x_train, y_train\n",
    "# val_img, val_lb = next(generate_val_dataset()) # x_test, y_test\n",
    "# test_img, test_lb = next(generate_test_dataset())"
   ]
  },
  {
   "cell_type": "code",
   "execution_count": 4,
   "id": "884a679c",
   "metadata": {},
   "outputs": [
    {
     "name": "stdout",
     "output_type": "stream",
     "text": [
      "Found 11459 images belonging to 104 classes.\n",
      "Found 3710 images belonging to 104 classes.\n",
      "Found 1294 images belonging to 104 classes.\n"
     ]
    }
   ],
   "source": [
    "train_generator = ImageDataGenerator(rescale=1./255).flow_from_directory(\n",
    "    TRAIN_DIR,\n",
    "    target_size=(IMAGE_DIMENSION, IMAGE_DIMENSION), \n",
    "    batch_size=TRAIN_BATCH_SIZE,\n",
    "    shuffle=True \n",
    ")\n",
    "\n",
    "val_generator = ImageDataGenerator().flow_from_directory(\n",
    "    VAL_DIR,\n",
    "    target_size=(IMAGE_DIMENSION, IMAGE_DIMENSION),\n",
    "    batch_size=VAL_BATCH_SIZE,\n",
    "    shuffle=True\n",
    ")\n",
    "\n",
    "test_generator = ImageDataGenerator().flow_from_directory(\n",
    "    TEST_DIR,\n",
    "    target_size=(IMAGE_DIMENSION, IMAGE_DIMENSION),\n",
    "    batch_size=TEST_BATCH_SIZE,\n",
    "    shuffle=False\n",
    ")"
   ]
  },
  {
   "cell_type": "code",
   "execution_count": 5,
   "id": "f0c9208e",
   "metadata": {},
   "outputs": [],
   "source": [
    "train_img, train_lb = next(train_generator)\n",
    "val_img, val_lb = next(val_generator)\n",
    "test_img, test_lb = next(test_generator)"
   ]
  },
  {
   "cell_type": "markdown",
   "id": "04d44fe8",
   "metadata": {},
   "source": [
    "# explore data"
   ]
  },
  {
   "cell_type": "code",
   "execution_count": 6,
   "id": "d29d5271",
   "metadata": {},
   "outputs": [
    {
     "data": {
      "text/plain": [
       "((10, 192, 192, 3), (10, 104))"
      ]
     },
     "execution_count": 6,
     "metadata": {},
     "output_type": "execute_result"
    }
   ],
   "source": [
    "train_img.shape, train_lb.shape"
   ]
  },
  {
   "cell_type": "code",
   "execution_count": 7,
   "id": "fa80b325",
   "metadata": {},
   "outputs": [
    {
     "data": {
      "text/plain": [
       "array([0., 0., 0., 0., 0., 0., 0., 0., 0., 0., 0., 0., 0., 0., 0., 0., 0.,\n",
       "       0., 0., 0., 0., 0., 0., 0., 0., 0., 0., 0., 0., 0., 0., 0., 0., 0.,\n",
       "       0., 0., 0., 0., 0., 0., 0., 0., 0., 0., 0., 0., 0., 0., 0., 0., 0.,\n",
       "       0., 0., 0., 0., 0., 0., 0., 0., 0., 0., 0., 0., 0., 0., 0., 0., 0.,\n",
       "       0., 0., 1., 0., 0., 0., 0., 0., 0., 0., 0., 0., 0., 0., 0., 0., 0.,\n",
       "       0., 0., 0., 0., 0., 0., 0., 0., 0., 0., 0., 0., 0., 0., 0., 0., 0.,\n",
       "       0., 0.], dtype=float32)"
      ]
     },
     "execution_count": 7,
     "metadata": {},
     "output_type": "execute_result"
    }
   ],
   "source": [
    "train_lb[1]"
   ]
  },
  {
   "cell_type": "markdown",
   "id": "b6c474f7",
   "metadata": {},
   "source": [
    "# preprocessing"
   ]
  },
  {
   "cell_type": "code",
   "execution_count": 8,
   "id": "635ad7c8",
   "metadata": {},
   "outputs": [
    {
     "data": {
      "text/plain": [
       "((10, 192, 192, 3), (10, 104))"
      ]
     },
     "execution_count": 8,
     "metadata": {},
     "output_type": "execute_result"
    }
   ],
   "source": [
    "train_img.shape, train_lb.shape"
   ]
  },
  {
   "cell_type": "code",
   "execution_count": 9,
   "id": "afa81543",
   "metadata": {
    "scrolled": true
   },
   "outputs": [
    {
     "name": "stdout",
     "output_type": "stream",
     "text": [
      "(10, 192, 192, 3)\n",
      "(10, 104)\n",
      "(10, 192, 192, 3)\n",
      "(10, 104)\n"
     ]
    }
   ],
   "source": [
    "print(np.shape(train_img))\n",
    "print(np.shape(train_lb))\n",
    "print(np.shape(val_img))\n",
    "print(np.shape(val_lb))"
   ]
  },
  {
   "cell_type": "code",
   "execution_count": 10,
   "id": "aa5b0e89",
   "metadata": {},
   "outputs": [
    {
     "data": {
      "text/plain": [
       "(110592, 10)"
      ]
     },
     "execution_count": 10,
     "metadata": {},
     "output_type": "execute_result"
    }
   ],
   "source": [
    "train_img_unrow = train_img.reshape(TRAIN_BATCH_SIZE, -1).T\n",
    "np.shape(train_img_unrow)"
   ]
  },
  {
   "cell_type": "code",
   "execution_count": 11,
   "id": "54b7a025",
   "metadata": {
    "scrolled": true
   },
   "outputs": [
    {
     "data": {
      "text/plain": [
       "(110592, 10)"
      ]
     },
     "execution_count": 11,
     "metadata": {},
     "output_type": "execute_result"
    }
   ],
   "source": [
    "val_img_unrow = val_img.reshape(VAL_BATCH_SIZE, -1).T\n",
    "np.shape(val_img_unrow)"
   ]
  },
  {
   "cell_type": "markdown",
   "id": "5b831614",
   "metadata": {},
   "source": [
    "# base model cnn"
   ]
  },
  {
   "cell_type": "code",
   "execution_count": 12,
   "id": "e519b65e",
   "metadata": {},
   "outputs": [
    {
     "name": "stdout",
     "output_type": "stream",
     "text": [
      "Model: \"sequential\"\n",
      "_________________________________________________________________\n",
      "Layer (type)                 Output Shape              Param #   \n",
      "=================================================================\n",
      "conv2d (Conv2D)              (None, 192, 192, 32)      416       \n",
      "_________________________________________________________________\n",
      "max_pooling2d (MaxPooling2D) (None, 96, 96, 32)        0         \n",
      "_________________________________________________________________\n",
      "flatten (Flatten)            (None, 294912)            0         \n",
      "_________________________________________________________________\n",
      "dense (Dense)                (None, 104)               30670952  \n",
      "_________________________________________________________________\n",
      "activation (Activation)      (None, 104)               0         \n",
      "=================================================================\n",
      "Total params: 30,671,368\n",
      "Trainable params: 30,671,368\n",
      "Non-trainable params: 0\n",
      "_________________________________________________________________\n"
     ]
    }
   ],
   "source": [
    "model = models.Sequential()\n",
    "model.add(layers.Conv2D(filters=32, \n",
    "                        kernel_size=(2,2),\n",
    "                        strides=(1,1),\n",
    "                        activation='relu',\n",
    "                        padding = 'same',\n",
    "                        input_shape=(IMAGE_DIMENSION, IMAGE_DIMENSION, 3),\n",
    "                        data_format = 'channels_last'))\n",
    "model.add(layers.MaxPooling2D(pool_size=(2,2),\n",
    "                     strides=2))\n",
    "model.add(layers.Flatten())        \n",
    "# possibly more layers here\n",
    "\n",
    "model.add(layers.Dense(NUM_CLASS)) # output layer\n",
    "model.add(layers.Activation('sigmoid'))\n",
    "\n",
    "model.summary()\n",
    "\n",
    "model.compile(optimizer='adam',\n",
    "              loss='categorical_crossentropy',\n",
    "              metrics=['accuracy'])"
   ]
  },
  {
   "cell_type": "code",
   "execution_count": 13,
   "id": "905a5b17",
   "metadata": {},
   "outputs": [],
   "source": [
    "# model.fit_generator(train_generator, epochs=5, validation_data=val_generator)\n"
   ]
  },
  {
   "cell_type": "code",
   "execution_count": 14,
   "id": "c3d7aefd",
   "metadata": {},
   "outputs": [
    {
     "name": "stdout",
     "output_type": "stream",
     "text": [
      "Epoch 1/5\n",
      "WARNING:tensorflow:AutoGraph could not transform <function Model.make_train_function.<locals>.train_function at 0x15cdfd430> and will run it as-is.\n",
      "Please report this to the TensorFlow team. When filing the bug, set the verbosity to 10 (on Linux, `export AUTOGRAPH_VERBOSITY=10`) and attach the full output.\n",
      "Cause: unsupported operand type(s) for -: 'NoneType' and 'int'\n",
      "To silence this warning, decorate the function with @tf.autograph.experimental.do_not_convert\n",
      "WARNING: AutoGraph could not transform <function Model.make_train_function.<locals>.train_function at 0x15cdfd430> and will run it as-is.\n",
      "Please report this to the TensorFlow team. When filing the bug, set the verbosity to 10 (on Linux, `export AUTOGRAPH_VERBOSITY=10`) and attach the full output.\n",
      "Cause: unsupported operand type(s) for -: 'NoneType' and 'int'\n",
      "To silence this warning, decorate the function with @tf.autograph.experimental.do_not_convert\n"
     ]
    },
    {
     "name": "stderr",
     "output_type": "stream",
     "text": [
      "2021-12-01 18:28:37.045496: I tensorflow/compiler/mlir/mlir_graph_optimization_pass.cc:116] None of the MLIR optimization passes are enabled (registered 2)\n",
      "2021-12-01 18:28:37.045655: W tensorflow/core/platform/profile_utils/cpu_utils.cc:126] Failed to get CPU frequency: 0 Hz\n"
     ]
    },
    {
     "name": "stdout",
     "output_type": "stream",
     "text": [
      "1146/1146 [==============================] - ETA: 0s - loss: 6.3226 - accuracy: 0.1318WARNING:tensorflow:AutoGraph could not transform <function Model.make_test_function.<locals>.test_function at 0x15fce9820> and will run it as-is.\n",
      "Please report this to the TensorFlow team. When filing the bug, set the verbosity to 10 (on Linux, `export AUTOGRAPH_VERBOSITY=10`) and attach the full output.\n",
      "Cause: unsupported operand type(s) for -: 'NoneType' and 'int'\n",
      "To silence this warning, decorate the function with @tf.autograph.experimental.do_not_convert\n",
      "WARNING: AutoGraph could not transform <function Model.make_test_function.<locals>.test_function at 0x15fce9820> and will run it as-is.\n",
      "Please report this to the TensorFlow team. When filing the bug, set the verbosity to 10 (on Linux, `export AUTOGRAPH_VERBOSITY=10`) and attach the full output.\n",
      "Cause: unsupported operand type(s) for -: 'NoneType' and 'int'\n",
      "To silence this warning, decorate the function with @tf.autograph.experimental.do_not_convert\n",
      "1146/1146 [==============================] - 130s 114ms/step - loss: 6.3207 - accuracy: 0.1319 - val_loss: 1099.0229 - val_accuracy: 0.1248\n",
      "Epoch 2/5\n",
      "1146/1146 [==============================] - 130s 113ms/step - loss: 2.0305 - accuracy: 0.4910 - val_loss: 1376.2433 - val_accuracy: 0.1402\n",
      "Epoch 3/5\n",
      "1146/1146 [==============================] - 132s 115ms/step - loss: 0.5035 - accuracy: 0.8857 - val_loss: 1716.0114 - val_accuracy: 0.1792\n",
      "Epoch 4/5\n",
      "1146/1146 [==============================] - 131s 114ms/step - loss: 0.1549 - accuracy: 0.9671 - val_loss: 2130.5264 - val_accuracy: 0.1652\n",
      "Epoch 5/5\n",
      "1146/1146 [==============================] - 130s 114ms/step - loss: 0.0849 - accuracy: 0.9856 - val_loss: 2637.2817 - val_accuracy: 0.1604\n"
     ]
    },
    {
     "data": {
      "text/plain": [
       "<tensorflow.python.keras.callbacks.History at 0x15bf39d60>"
      ]
     },
     "execution_count": 14,
     "metadata": {},
     "output_type": "execute_result"
    }
   ],
   "source": [
    "model.fit(train_generator, epochs=5, validation_data=val_generator, use_multiprocessing=False)"
   ]
  },
  {
   "cell_type": "markdown",
   "id": "5b82d656",
   "metadata": {},
   "source": [
    "### High train accuracy and low val accuracy. Adding more layers and normalizing to bring them closer"
   ]
  },
  {
   "cell_type": "code",
   "execution_count": 16,
   "id": "e71ef8b3",
   "metadata": {},
   "outputs": [],
   "source": [
    "# Build the model with multiple hidden layers\n",
    "model_2 = models.Sequential()\n",
    "model_2.add(layers.Conv2D(filters=32, \n",
    "                        kernel_size=(2,2),\n",
    "                        strides=(1,1),\n",
    "                        activation='relu',\n",
    "                        padding = 'same',\n",
    "                        input_shape=(IMAGE_DIMENSION, IMAGE_DIMENSION, 3),\n",
    "                        data_format = 'channels_last'))\n",
    "model_2.add(layers.MaxPooling2D(pool_size=(2,2),\n",
    "                     strides=2))\n",
    "model_2.add(layers.Flatten())        \n",
    "# possibly more layers here\n",
    "model_2.add(layers.BatchNormalization())\n",
    "model_2.add(layers.Dense(128, activation='relu'))\n",
    "model_2.add(layers.Dense(64, activation='relu'))\n",
    "model_2.add(layers.Dense(NUM_CLASS)) # output layer\n",
    "model_2.add(layers.Activation('sigmoid'))"
   ]
  },
  {
   "cell_type": "code",
   "execution_count": 17,
   "id": "cf614d29",
   "metadata": {},
   "outputs": [
    {
     "name": "stdout",
     "output_type": "stream",
     "text": [
      "Model: \"sequential_2\"\n",
      "_________________________________________________________________\n",
      "Layer (type)                 Output Shape              Param #   \n",
      "=================================================================\n",
      "conv2d_2 (Conv2D)            (None, 192, 192, 32)      416       \n",
      "_________________________________________________________________\n",
      "max_pooling2d_2 (MaxPooling2 (None, 96, 96, 32)        0         \n",
      "_________________________________________________________________\n",
      "flatten_2 (Flatten)          (None, 294912)            0         \n",
      "_________________________________________________________________\n",
      "batch_normalization (BatchNo (None, 294912)            1179648   \n",
      "_________________________________________________________________\n",
      "dense_1 (Dense)              (None, 128)               37748864  \n",
      "_________________________________________________________________\n",
      "dense_2 (Dense)              (None, 64)                8256      \n",
      "_________________________________________________________________\n",
      "dense_3 (Dense)              (None, 104)               6760      \n",
      "_________________________________________________________________\n",
      "activation_1 (Activation)    (None, 104)               0         \n",
      "=================================================================\n",
      "Total params: 38,943,944\n",
      "Trainable params: 38,354,120\n",
      "Non-trainable params: 589,824\n",
      "_________________________________________________________________\n"
     ]
    }
   ],
   "source": [
    "model_2.summary()"
   ]
  },
  {
   "cell_type": "code",
   "execution_count": 18,
   "id": "b75cb9c9",
   "metadata": {},
   "outputs": [],
   "source": [
    "# Define an optimizer, cost lost function, and scoring metric\n",
    "model_2.compile(optimizer='adam',\n",
    "              loss='categorical_crossentropy',\n",
    "              metrics=['accuracy'])"
   ]
  },
  {
   "cell_type": "code",
   "execution_count": 19,
   "id": "b10f554a",
   "metadata": {
    "scrolled": false
   },
   "outputs": [
    {
     "name": "stdout",
     "output_type": "stream",
     "text": [
      "Epoch 1/5\n",
      "WARNING:tensorflow:AutoGraph could not transform <function Model.make_train_function.<locals>.train_function at 0x15bf325e0> and will run it as-is.\n",
      "Please report this to the TensorFlow team. When filing the bug, set the verbosity to 10 (on Linux, `export AUTOGRAPH_VERBOSITY=10`) and attach the full output.\n",
      "Cause: unsupported operand type(s) for -: 'NoneType' and 'int'\n",
      "To silence this warning, decorate the function with @tf.autograph.experimental.do_not_convert\n",
      "WARNING: AutoGraph could not transform <function Model.make_train_function.<locals>.train_function at 0x15bf325e0> and will run it as-is.\n",
      "Please report this to the TensorFlow team. When filing the bug, set the verbosity to 10 (on Linux, `export AUTOGRAPH_VERBOSITY=10`) and attach the full output.\n",
      "Cause: unsupported operand type(s) for -: 'NoneType' and 'int'\n",
      "To silence this warning, decorate the function with @tf.autograph.experimental.do_not_convert\n",
      "1146/1146 [==============================] - ETA: 0s - loss: 6.9787 - accuracy: 0.0546WARNING:tensorflow:AutoGraph could not transform <function Model.make_test_function.<locals>.test_function at 0x15fdda280> and will run it as-is.\n",
      "Please report this to the TensorFlow team. When filing the bug, set the verbosity to 10 (on Linux, `export AUTOGRAPH_VERBOSITY=10`) and attach the full output.\n",
      "Cause: unsupported operand type(s) for -: 'NoneType' and 'int'\n",
      "To silence this warning, decorate the function with @tf.autograph.experimental.do_not_convert\n",
      "WARNING: AutoGraph could not transform <function Model.make_test_function.<locals>.test_function at 0x15fdda280> and will run it as-is.\n",
      "Please report this to the TensorFlow team. When filing the bug, set the verbosity to 10 (on Linux, `export AUTOGRAPH_VERBOSITY=10`) and attach the full output.\n",
      "Cause: unsupported operand type(s) for -: 'NoneType' and 'int'\n",
      "To silence this warning, decorate the function with @tf.autograph.experimental.do_not_convert\n",
      "1146/1146 [==============================] - 158s 138ms/step - loss: 6.9770 - accuracy: 0.0546 - val_loss: 1811.2554 - val_accuracy: 0.0606\n",
      "Epoch 2/5\n",
      "1146/1146 [==============================] - 163s 142ms/step - loss: 4.1284 - accuracy: 0.0624 - val_loss: 1867.6353 - val_accuracy: 0.0453\n",
      "Epoch 3/5\n",
      "1146/1146 [==============================] - 159s 139ms/step - loss: 4.0086 - accuracy: 0.0773 - val_loss: 1358.8372 - val_accuracy: 0.0294\n",
      "Epoch 4/5\n",
      "1146/1146 [==============================] - 159s 139ms/step - loss: 3.9314 - accuracy: 0.0853 - val_loss: 494.4455 - val_accuracy: 0.0687\n",
      "Epoch 5/5\n",
      "1146/1146 [==============================] - 160s 140ms/step - loss: 3.9001 - accuracy: 0.0863 - val_loss: 958.9554 - val_accuracy: 0.0426\n"
     ]
    },
    {
     "data": {
      "text/plain": [
       "<tensorflow.python.keras.callbacks.History at 0x1594d5970>"
      ]
     },
     "execution_count": 19,
     "metadata": {},
     "output_type": "execute_result"
    }
   ],
   "source": [
    "model_2.fit(train_generator, epochs=5, validation_data=val_generator, use_multiprocessing=False)"
   ]
  },
  {
   "cell_type": "markdown",
   "id": "98d8c14a",
   "metadata": {},
   "source": [
    "### introduce transfer learning"
   ]
  },
  {
   "cell_type": "markdown",
   "id": "5eaae856",
   "metadata": {},
   "source": [
    "### increase batch size and epochs to experiment"
   ]
  },
  {
   "cell_type": "code",
   "execution_count": null,
   "id": "98b6aa4e",
   "metadata": {},
   "outputs": [],
   "source": [
    "BATCH_SIZE = 128\n",
    "TRAIN_BATCH_SIZE = BATCH_SIZE\n",
    "VAL_BATCH_SIZE = BATCH_SIZE\n",
    "#TEST_BATCH_SIZE = 32"
   ]
  },
  {
   "cell_type": "code",
   "execution_count": null,
   "id": "d27516a0",
   "metadata": {},
   "outputs": [],
   "source": [
    "# Build the model with multiple hidden layers\n",
    "model_3 = models.Sequential()\n",
    "model_3.add(layers.Conv2D(filters=32, \n",
    "                        kernel_size=(2,2),\n",
    "                        strides=(1,1),\n",
    "                        activation='relu',\n",
    "                        padding = 'same',\n",
    "                        input_shape=(IMAGE_DIMENSION, IMAGE_DIMENSION, 3),\n",
    "                        data_format = 'channels_last'))\n",
    "model_3.add(layers.MaxPooling2D(pool_size=(2,2),\n",
    "                     strides=2))\n",
    "model_3.add(layers.Flatten())        \n",
    "# possibly more layers here\n",
    "model_3.add(layers.Dense(128))\n",
    "model_3.add(layers.Activation('relu'))\n",
    "model_3.add(layers.Dense(NUM_CLASS)) # output layer\n",
    "model_3.add(layers.Activation('sigmoid'))"
   ]
  },
  {
   "cell_type": "code",
   "execution_count": null,
   "id": "b2bdd728",
   "metadata": {},
   "outputs": [],
   "source": [
    "model_3.summary()"
   ]
  },
  {
   "cell_type": "code",
   "execution_count": null,
   "id": "bb8a4d7d",
   "metadata": {},
   "outputs": [],
   "source": [
    "# Define an optimizer, cost lost function, and scoring metric\n",
    "model_3.compile(optimizer='adam',\n",
    "              loss='binary_crossentropy',\n",
    "              metrics=['accuracy'])"
   ]
  },
  {
   "cell_type": "code",
   "execution_count": null,
   "id": "b567ea12",
   "metadata": {
    "scrolled": true
   },
   "outputs": [],
   "source": [
    "model_3.fit(train_img, train_lb, epochs=100, batch_size=TRAIN_BATCH_SIZE)"
   ]
  },
  {
   "cell_type": "code",
   "execution_count": null,
   "id": "d535064b",
   "metadata": {},
   "outputs": [],
   "source": [
    "val_loss, val_acc = model_3.evaluate(val_img, val_lb, batch_size=TRAIN_BATCH_SIZE)"
   ]
  },
  {
   "cell_type": "markdown",
   "id": "9bbb5c99",
   "metadata": {},
   "source": [
    "### adding dropout layer"
   ]
  },
  {
   "cell_type": "code",
   "execution_count": null,
   "id": "289c179a",
   "metadata": {},
   "outputs": [],
   "source": [
    "BATCH_SIZE = 128\n",
    "TRAIN_BATCH_SIZE = BATCH_SIZE\n",
    "VAL_BATCH_SIZE = BATCH_SIZE\n",
    "#TEST_BATCH_SIZE = 32"
   ]
  },
  {
   "cell_type": "code",
   "execution_count": null,
   "id": "3ec194bd",
   "metadata": {},
   "outputs": [],
   "source": [
    "# Build the model with multiple hidden layers\n",
    "model_4 = models.Sequential()\n",
    "model_4.add(layers.Conv2D(filters=32, \n",
    "                        kernel_size=(2,2),\n",
    "                        strides=(1,1),\n",
    "                        activation='relu',\n",
    "                        padding = 'same',\n",
    "                        input_shape=(IMAGE_DIMENSION, IMAGE_DIMENSION, 3),\n",
    "                        data_format = 'channels_last'))\n",
    "model_4.add(layers.MaxPooling2D(pool_size=(2,2),\n",
    "                     strides=2))\n",
    "model_4.add(layers.Flatten())        \n",
    "# possibly more layers here\n",
    "model_4.add(layers.Dropout(0.2, input_shape=(IMAGE_DIMENSION,)))\n",
    "model_4.add(layers.Dense(128, activation='relu'))\n",
    "model_4.add(layers.Dense(64, activation='relu'))\n",
    "model_4.add(layers.Dense(NUM_CLASS)) # output layer\n",
    "model_4.add(layers.Activation('sigmoid'))"
   ]
  },
  {
   "cell_type": "code",
   "execution_count": null,
   "id": "605bf5d8",
   "metadata": {},
   "outputs": [],
   "source": [
    "model_4.summary()"
   ]
  },
  {
   "cell_type": "code",
   "execution_count": null,
   "id": "399f34f3",
   "metadata": {},
   "outputs": [],
   "source": [
    "# Define an optimizer, cost lost function, and scoring metric\n",
    "model_4.compile(optimizer='adam',\n",
    "              loss='binary_crossentropy',\n",
    "              metrics=['accuracy'])"
   ]
  },
  {
   "cell_type": "code",
   "execution_count": null,
   "id": "5800c8aa",
   "metadata": {
    "scrolled": true
   },
   "outputs": [],
   "source": [
    "model_4.fit(train_img, train_lb, epochs=100, batch_size=TRAIN_BATCH_SIZE)"
   ]
  },
  {
   "cell_type": "code",
   "execution_count": null,
   "id": "a8dd1e2d",
   "metadata": {},
   "outputs": [],
   "source": [
    "val_loss, val_acc = model_4.evaluate(val_img, val_lb, batch_size=TRAIN_BATCH_SIZE)"
   ]
  },
  {
   "cell_type": "markdown",
   "id": "516cd431",
   "metadata": {},
   "source": [
    "### shuffle is turned on. more epochs"
   ]
  },
  {
   "cell_type": "code",
   "execution_count": null,
   "id": "24421a6e",
   "metadata": {},
   "outputs": [],
   "source": [
    "# Build the model with multiple hidden layers\n",
    "model_1 = models.Sequential()\n",
    "model_1.add(layers.Conv2D(filters=32, \n",
    "                        kernel_size=(2,2),\n",
    "                        strides=(1,1),\n",
    "                        activation='relu',\n",
    "                        padding = 'same',\n",
    "                        input_shape=(IMAGE_DIMENSION, IMAGE_DIMENSION, 3),\n",
    "                        data_format = 'channels_last'))\n",
    "model_1.add(layers.BatchNormalization())\n",
    "model_1.add(layers.MaxPooling2D(pool_size=(2,2),\n",
    "                     strides=2))\n",
    "model_1.add(layers.Flatten())        \n",
    "# possibly more layers here\n",
    "model_1.add(layers.Dense(NUM_CLASS)) # output layer\n",
    "model_1.add(layers.Activation('sigmoid'))"
   ]
  },
  {
   "cell_type": "code",
   "execution_count": null,
   "id": "8da4bd49",
   "metadata": {},
   "outputs": [],
   "source": [
    "model_1.summary()"
   ]
  },
  {
   "cell_type": "code",
   "execution_count": null,
   "id": "37ab0efc",
   "metadata": {},
   "outputs": [],
   "source": [
    "# Define an optimizer, cost lost function, and scoring metric\n",
    "model_1.compile(optimizer='adam',\n",
    "              loss='categorical_crossentropy',\n",
    "              metrics=['categorical_crossentropy'])"
   ]
  },
  {
   "cell_type": "code",
   "execution_count": null,
   "id": "84ab72ad",
   "metadata": {
    "scrolled": false
   },
   "outputs": [],
   "source": [
    "model_1.fit(train_img, train_lb, epochs=150, batch_size=TRAIN_BATCH_SIZE)"
   ]
  },
  {
   "cell_type": "code",
   "execution_count": null,
   "id": "b6362b85",
   "metadata": {
    "scrolled": true
   },
   "outputs": [],
   "source": [
    "val_loss, val_acc = model_1.evaluate(val_img, val_lb, batch_size=TRAIN_BATCH_SIZE)"
   ]
  },
  {
   "cell_type": "markdown",
   "id": "0269d856",
   "metadata": {},
   "source": [
    "### without flattening"
   ]
  },
  {
   "cell_type": "code",
   "execution_count": null,
   "id": "6fa65c45",
   "metadata": {},
   "outputs": [],
   "source": [
    "with strategy.scope():\n",
    "    pretrained_model = tf.keras.applications.Xception(\n",
    "        weights='imagenet',\n",
    "        include_top=False ,\n",
    "        input_shape=[IMAGE_DIMENSION, IMAGE_DIMENSION, 3]\n",
    "    )\n",
    "    pretrained_model.trainable = False\n",
    "    \n",
    "    model1 = tf.keras.Sequential([\n",
    "        # To a base pretrained on ImageNet to extract features from images...\n",
    "        pretrained_model,\n",
    "        # ... attach a new head to act as a classifier.\n",
    "        tf.keras.layers.GlobalAveragePooling2D(),\n",
    "        # tf.keras.layers.Dropout(rate=0.2),\n",
    "        tf.keras.layers.Dense(len(CLASSES), activation='softmax')\n",
    "    ])"
   ]
  },
  {
   "cell_type": "markdown",
   "id": "c3e97769",
   "metadata": {},
   "source": [
    "# data augmentation"
   ]
  },
  {
   "cell_type": "markdown",
   "id": "400e1956",
   "metadata": {},
   "source": [
    "running into overfitting issues. will augment data to reduce overfitting"
   ]
  },
  {
   "cell_type": "code",
   "execution_count": null,
   "id": "7addbaae",
   "metadata": {},
   "outputs": [],
   "source": [
    "def random_fliplr(image):\n",
    "    if random.choice([0,1]):\n",
    "        image = np.fliplr(image)\n",
    "    else:\n",
    "        pass\n",
    "\n",
    "    return image\n",
    "\n",
    "def random_flipud(image):\n",
    "    if random_choice([0,1]):\n",
    "        image = np.flipud(image)\n",
    "    else:\n",
    "        pass\n",
    "\n",
    "    return image"
   ]
  },
  {
   "cell_type": "code",
   "execution_count": null,
   "id": "93469fa8",
   "metadata": {},
   "outputs": [],
   "source": [
    "# display a sample image\n",
    "array_to_img(train_img[0])"
   ]
  },
  {
   "cell_type": "code",
   "execution_count": null,
   "id": "9a6b11de",
   "metadata": {},
   "outputs": [],
   "source": [
    "def augment_dataset(dataset):\n",
    "    # actual augmenting the dataset\n",
    "    augmented_dataset = dataset[0]\n",
    "    print(augmented_dataset)\n",
    "    \n",
    "    for img in dataset:\n",
    "        img = random_fliplr(img)\n",
    "        img = random_flipud(img)\n",
    "        \n",
    "        np.append(augmented_dataset, img, axis=0)\n",
    "        \n",
    "    return augmented_dataset"
   ]
  },
  {
   "cell_type": "code",
   "execution_count": null,
   "id": "9e49f329",
   "metadata": {},
   "outputs": [],
   "source": [
    "array_to_img(random_fliplr(train_img[0]))"
   ]
  },
  {
   "cell_type": "code",
   "execution_count": null,
   "id": "c6051587",
   "metadata": {},
   "outputs": [],
   "source": [
    "new_array = augment_dataset(train_img)"
   ]
  },
  {
   "cell_type": "code",
   "execution_count": null,
   "id": "7a662453",
   "metadata": {},
   "outputs": [],
   "source": [
    "def print_img(dataset):\n",
    "    for img in dataset:\n",
    "        array_to_img(img)\n",
    "        \n",
    "    return array_to_img(img)"
   ]
  },
  {
   "cell_type": "code",
   "execution_count": null,
   "id": "302f1cb2",
   "metadata": {},
   "outputs": [],
   "source": [
    "print_img(train_img)"
   ]
  },
  {
   "cell_type": "code",
   "execution_count": null,
   "id": "cf9d65f1",
   "metadata": {},
   "outputs": [],
   "source": []
  }
 ],
 "metadata": {
  "kernelspec": {
   "display_name": "Python 3 (ipykernel)",
   "language": "python",
   "name": "python3"
  },
  "language_info": {
   "codemirror_mode": {
    "name": "ipython",
    "version": 3
   },
   "file_extension": ".py",
   "mimetype": "text/x-python",
   "name": "python",
   "nbconvert_exporter": "python",
   "pygments_lexer": "ipython3",
   "version": "3.8.12"
  }
 },
 "nbformat": 4,
 "nbformat_minor": 5
}
