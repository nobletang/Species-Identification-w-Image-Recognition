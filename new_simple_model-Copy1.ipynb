{
 "cells": [
  {
   "cell_type": "markdown",
   "id": "240acf99",
   "metadata": {},
   "source": [
    "Dataset organized kindly by user Mourad. https://www.kaggle.com/msheriey/104-flowers-garden-of-eden"
   ]
  },
  {
   "cell_type": "markdown",
   "id": "57708f20",
   "metadata": {},
   "source": [
    "# import"
   ]
  },
  {
   "cell_type": "code",
   "execution_count": 23,
   "id": "12d75b1c",
   "metadata": {},
   "outputs": [],
   "source": [
    "import os\n",
    "import pandas as pd\n",
    "import numpy as np\n",
    "import matplotlib.pyplot as plt\n",
    "%matplotlib inline\n",
    "from tensorflow.keras.models import Sequential\n",
    "from tensorflow.keras.layers import Dense, Conv2D, MaxPooling2D, Flatten, GlobalAveragePooling2D, Dropout\n",
    "from tensorflow.keras.preprocessing.image import ImageDataGenerator, array_to_img, img_to_array, load_img\n",
    "from tensorflow.keras.utils import to_categorical\n",
    "from sklearn.model_selection import train_test_split\n",
    "import tensorflow as tf\n",
    "from tensorflow.keras import datasets, layers, models\n",
    "from tensorflow.keras.applications import Xception, DenseNet201\n",
    "from tensorflow.keras.callbacks import LearningRateScheduler\n",
    "import random\n",
    "from PIL import Image\n",
    "import shutil"
   ]
  },
  {
   "cell_type": "markdown",
   "id": "31dfd567",
   "metadata": {},
   "source": [
    "# global variables"
   ]
  },
  {
   "cell_type": "code",
   "execution_count": 4,
   "id": "b60659f1",
   "metadata": {},
   "outputs": [],
   "source": [
    "# image size options: 192, 224, 311, 512\n",
    "IMAGE_DIMENSION = 192\n",
    "VECTOR_LEN = IMAGE_DIMENSION**2\n",
    "NUM_CLASS = 104\n",
    "\n",
    "TRAIN_DIR = f'data/jpeg-{IMAGE_DIMENSION}x{IMAGE_DIMENSION}/train'\n",
    "VAL_DIR = f'data/jpeg-{IMAGE_DIMENSION}x{IMAGE_DIMENSION}/val'\n",
    "TEST_DIR = f'data/jpeg-{IMAGE_DIMENSION}x{IMAGE_DIMENSION}/test'\n",
    "\n",
    "BATCH_SIZE = 10\n",
    "TRAIN_BATCH_SIZE = BATCH_SIZE\n",
    "VAL_BATCH_SIZE = BATCH_SIZE\n",
    "TEST_BATCH_SIZE = 32"
   ]
  },
  {
   "cell_type": "markdown",
   "id": "7989fb6c",
   "metadata": {},
   "source": [
    "# generate datasets"
   ]
  },
  {
   "cell_type": "code",
   "execution_count": 3,
   "id": "e68dae13",
   "metadata": {},
   "outputs": [],
   "source": [
    "# train_img, train_lb = next(generate_train_dataset()) # x_train, y_train\n",
    "# val_img, val_lb = next(generate_val_dataset()) # x_test, y_test\n",
    "# test_img, test_lb = next(generate_test_dataset())"
   ]
  },
  {
   "cell_type": "code",
   "execution_count": 4,
   "id": "e4640b95",
   "metadata": {},
   "outputs": [
    {
     "name": "stdout",
     "output_type": "stream",
     "text": [
      "Found 11459 images belonging to 104 classes.\n",
      "Found 3710 images belonging to 104 classes.\n",
      "Found 1294 images belonging to 104 classes.\n"
     ]
    }
   ],
   "source": [
    "train_generator = ImageDataGenerator(rescale=1./255).flow_from_directory(\n",
    "    TRAIN_DIR,\n",
    "    target_size=(IMAGE_DIMENSION, IMAGE_DIMENSION), \n",
    "    batch_size=TRAIN_BATCH_SIZE,\n",
    "    shuffle=True \n",
    ")\n",
    "\n",
    "val_generator = ImageDataGenerator().flow_from_directory(\n",
    "    VAL_DIR,\n",
    "    target_size=(IMAGE_DIMENSION, IMAGE_DIMENSION),\n",
    "    batch_size=VAL_BATCH_SIZE,\n",
    "    shuffle=True\n",
    ")\n",
    "\n",
    "test_generator = ImageDataGenerator().flow_from_directory(\n",
    "    TEST_DIR,\n",
    "    target_size=(IMAGE_DIMENSION, IMAGE_DIMENSION),\n",
    "    batch_size=TEST_BATCH_SIZE,\n",
    "    shuffle=False\n",
    ")"
   ]
  },
  {
   "cell_type": "code",
   "execution_count": 65,
   "id": "58786387",
   "metadata": {},
   "outputs": [],
   "source": [
    "train_img, train_lb = next(train_generator)\n",
    "val_img, val_lb = next(val_generator)\n",
    "test_img, test_lb = next(test_generator)"
   ]
  },
  {
   "cell_type": "markdown",
   "id": "04d44fe8",
   "metadata": {},
   "source": [
    "# explore data"
   ]
  },
  {
   "cell_type": "code",
   "execution_count": 66,
   "id": "d29d5271",
   "metadata": {},
   "outputs": [
    {
     "data": {
      "text/plain": [
       "((10, 192, 192, 3), (10, 104))"
      ]
     },
     "execution_count": 66,
     "metadata": {},
     "output_type": "execute_result"
    }
   ],
   "source": [
    "train_img.shape, train_lb.shape"
   ]
  },
  {
   "cell_type": "code",
   "execution_count": 67,
   "id": "6da51c6a",
   "metadata": {},
   "outputs": [
    {
     "data": {
      "text/plain": [
       "array([0., 0., 0., 0., 0., 0., 0., 0., 0., 0., 0., 0., 0., 0., 0., 0., 0.,\n",
       "       0., 0., 0., 0., 0., 0., 0., 0., 0., 0., 0., 0., 0., 0., 1., 0., 0.,\n",
       "       0., 0., 0., 0., 0., 0., 0., 0., 0., 0., 0., 0., 0., 0., 0., 0., 0.,\n",
       "       0., 0., 0., 0., 0., 0., 0., 0., 0., 0., 0., 0., 0., 0., 0., 0., 0.,\n",
       "       0., 0., 0., 0., 0., 0., 0., 0., 0., 0., 0., 0., 0., 0., 0., 0., 0.,\n",
       "       0., 0., 0., 0., 0., 0., 0., 0., 0., 0., 0., 0., 0., 0., 0., 0., 0.,\n",
       "       0., 0.], dtype=float32)"
      ]
     },
     "execution_count": 67,
     "metadata": {},
     "output_type": "execute_result"
    }
   ],
   "source": [
    "train_lb[1]"
   ]
  },
  {
   "cell_type": "markdown",
   "id": "b6c474f7",
   "metadata": {},
   "source": [
    "# preprocessing"
   ]
  },
  {
   "cell_type": "code",
   "execution_count": null,
   "id": "635ad7c8",
   "metadata": {},
   "outputs": [],
   "source": [
    "train_img.shape, train_lb.shape"
   ]
  },
  {
   "cell_type": "code",
   "execution_count": null,
   "id": "afa81543",
   "metadata": {
    "scrolled": true
   },
   "outputs": [],
   "source": [
    "print(np.shape(train_img))\n",
    "print(np.shape(train_lb))\n",
    "print(np.shape(val_img))\n",
    "print(np.shape(val_lb))"
   ]
  },
  {
   "cell_type": "code",
   "execution_count": null,
   "id": "aa5b0e89",
   "metadata": {},
   "outputs": [],
   "source": [
    "train_img_unrow = train_img.reshape(TRAIN_BATCH_SIZE, -1).T\n",
    "np.shape(train_img_unrow)"
   ]
  },
  {
   "cell_type": "code",
   "execution_count": null,
   "id": "54b7a025",
   "metadata": {
    "scrolled": true
   },
   "outputs": [],
   "source": [
    "val_img_unrow = val_img.reshape(VAL_BATCH_SIZE, -1).T\n",
    "np.shape(val_img_unrow)"
   ]
  },
  {
   "cell_type": "markdown",
   "id": "6e14efe9",
   "metadata": {},
   "source": [
    "# base model cnn"
   ]
  },
  {
   "cell_type": "code",
   "execution_count": null,
   "id": "5065ab45",
   "metadata": {},
   "outputs": [],
   "source": [
    "model = models.Sequential()\n",
    "model.add(layers.Conv2D(filters=32, \n",
    "                        kernel_size=(2,2),\n",
    "                        strides=(1,1),\n",
    "                        activation='relu',\n",
    "                        padding = 'same',\n",
    "                        input_shape=(IMAGE_DIMENSION, IMAGE_DIMENSION, 3),\n",
    "                        data_format = 'channels_last'))\n",
    "model.add(layers.MaxPooling2D(pool_size=(2,2),\n",
    "                     strides=2))\n",
    "model.add(layers.Flatten())        \n",
    "# possibly more layers here\n",
    "\n",
    "model.add(layers.Dense(NUM_CLASS)) # output layer\n",
    "model.add(layers.Activation('sigmoid'))\n",
    "\n",
    "model.summary()\n",
    "\n",
    "model.compile(optimizer='adam',\n",
    "              loss='categorical_crossentropy',\n",
    "              metrics=['accuracy'])"
   ]
  },
  {
   "cell_type": "code",
   "execution_count": null,
   "id": "340f9956",
   "metadata": {},
   "outputs": [],
   "source": [
    "# model.fit_generator(train_generator, epochs=5, validation_data=val_generator)\n"
   ]
  },
  {
   "cell_type": "code",
   "execution_count": null,
   "id": "99ab6787",
   "metadata": {},
   "outputs": [],
   "source": [
    "model.fit(train_generator, epochs=5, validation_data=val_generator, use_multiprocessing=False)"
   ]
  },
  {
   "cell_type": "markdown",
   "id": "5b82d656",
   "metadata": {},
   "source": [
    "### High train accuracy and low val accuracy. Adding more layers and normalizing to bring them closer"
   ]
  },
  {
   "cell_type": "code",
   "execution_count": null,
   "id": "e71ef8b3",
   "metadata": {},
   "outputs": [],
   "source": [
    "# Build the model with multiple hidden layers\n",
    "model_2 = models.Sequential()\n",
    "\n",
    "model_2.add(layers.Conv2D(filters=32, \n",
    "                        kernel_size=(2,2),\n",
    "                        strides=(1,1),\n",
    "                        activation='relu',\n",
    "                        padding = 'same',\n",
    "                        input_shape=(IMAGE_DIMENSION, IMAGE_DIMENSION, 3),\n",
    "                        data_format = 'channels_last'))\n",
    "model_2.add(layers.MaxPooling2D(pool_size=(2,2),\n",
    "                     strides=2))\n",
    "model_2.add(layers.Flatten())        \n",
    "# possibly more layers here\n",
    "model_2.add(layers.BatchNormalization())\n",
    "model_2.add(layers.Dense(128, activation='relu'))\n",
    "model_2.add(layers.Dropout(0.5, input_shape=(IMAGE_DIMENSION,)))\n",
    "model_2.add(layers.Dense(64, activation='relu'))\n",
    "model_2.add(layers.Dense(NUM_CLASS)) # output layer\n",
    "model_2.add(layers.Activation('sigmoid'))"
   ]
  },
  {
   "cell_type": "code",
   "execution_count": null,
   "id": "cf614d29",
   "metadata": {},
   "outputs": [],
   "source": [
    "model_2.summary()"
   ]
  },
  {
   "cell_type": "code",
   "execution_count": null,
   "id": "b75cb9c9",
   "metadata": {},
   "outputs": [],
   "source": [
    "# Define an optimizer, cost lost function, and scoring metric\n",
    "model_2.compile(optimizer='adam',\n",
    "              loss='categorical_crossentropy',\n",
    "              metrics=['accuracy'])"
   ]
  },
  {
   "cell_type": "code",
   "execution_count": null,
   "id": "b10f554a",
   "metadata": {
    "scrolled": true
   },
   "outputs": [],
   "source": [
    "model_2.fit(train_generator, epochs=5, validation_data=val_generator, use_multiprocessing=False)"
   ]
  },
  {
   "cell_type": "markdown",
   "id": "ac895335",
   "metadata": {},
   "source": [
    "### introduce transfer learning"
   ]
  },
  {
   "cell_type": "code",
   "execution_count": null,
   "id": "94e8fbff",
   "metadata": {},
   "outputs": [],
   "source": [
    "Xception_model = Xception(weights='imagenet', include_top=False, input_shape=[IMAGE_DIMENSION, IMAGE_DIMENSION, 3])\n",
    "Xception_model.trainable = False\n",
    "\n",
    "model_tl_1 = Sequential([\n",
    "    Xception_model,\n",
    "    layers.Conv2D(filters=32, \n",
    "        kernel_size=(2,2),\n",
    "        strides=(1,1),\n",
    "        activation='relu',\n",
    "        padding = 'same',\n",
    "        input_shape=(IMAGE_DIMENSION, IMAGE_DIMENSION, 3),\n",
    "        data_format = 'channels_last'),\n",
    "    layers.Flatten(),\n",
    "    Dense(NUM_CLASS, activation='sigmoid')\n",
    "])\n",
    "\n",
    "model_tl_1.compile(optimizer='adam', loss='categorical_crossentropy', metrics='accuracy')"
   ]
  },
  {
   "cell_type": "code",
   "execution_count": null,
   "id": "8dbf2451",
   "metadata": {},
   "outputs": [],
   "source": [
    "model_tl_1.fit(train_generator, epochs=5, validation_data=val_generator, use_multiprocessing=False)"
   ]
  },
  {
   "cell_type": "markdown",
   "id": "a912b156",
   "metadata": {},
   "source": [
    "### using globalaveragepooling"
   ]
  },
  {
   "cell_type": "code",
   "execution_count": null,
   "id": "d0e28a20",
   "metadata": {},
   "outputs": [],
   "source": [
    "Xception_model = Xception(weights='imagenet', include_top=False, input_shape=[IMAGE_DIMENSION, IMAGE_DIMENSION, 3])\n",
    "Xception_model.trainable = False\n",
    "\n",
    "model_tl_2 = Sequential([\n",
    "    Xception_model,\n",
    "    GlobalAveragePooling2D(),\n",
    "    layers.Flatten(),\n",
    "    model_4.add(layers.Dropout(0.2, input_shape=(IMAGE_DIMENSION,)))\n",
    "    Dense(NUM_CLASS, activation='sigmoid')\n",
    "])\n",
    "\n",
    "model_tl_2.compile(optimizer='adam', loss='categorical_crossentropy', metrics='accuracy')"
   ]
  },
  {
   "cell_type": "code",
   "execution_count": null,
   "id": "9bbb4baf",
   "metadata": {},
   "outputs": [],
   "source": [
    "model_tl_2.fit(train_generator, epochs=50, validation_data=val_generator, use_multiprocessing=False)"
   ]
  },
  {
   "cell_type": "markdown",
   "id": "c3c9a6c0",
   "metadata": {},
   "source": [
    "### even more basic model"
   ]
  },
  {
   "cell_type": "code",
   "execution_count": null,
   "id": "ab760f16",
   "metadata": {},
   "outputs": [],
   "source": [
    "train_generator = ImageDataGenerator(rescale=1./255).flow_from_directory(\n",
    "    TRAIN_DIR,\n",
    "    target_size=(IMAGE_DIMENSION, IMAGE_DIMENSION), \n",
    "    batch_size=TRAIN_BATCH_SIZE,\n",
    "    shuffle=True \n",
    ")\n",
    "\n",
    "val_generator = ImageDataGenerator().flow_from_directory(\n",
    "    VAL_DIR,\n",
    "    target_size=(IMAGE_DIMENSION, IMAGE_DIMENSION),\n",
    "    batch_size=VAL_BATCH_SIZE,\n",
    "    shuffle=True\n",
    ")\n",
    "\n",
    "test_generator = ImageDataGenerator().flow_from_directory(\n",
    "    TEST_DIR,\n",
    "    target_size=(IMAGE_DIMENSION, IMAGE_DIMENSION),\n",
    "    batch_size=TEST_BATCH_SIZE,\n",
    "    shuffle=False\n",
    ")"
   ]
  },
  {
   "cell_type": "code",
   "execution_count": null,
   "id": "c235903d",
   "metadata": {},
   "outputs": [],
   "source": [
    "model = models.Sequential()\n",
    "model.add(layers.Conv2D(filters=32, \n",
    "                        kernel_size=(2,2),\n",
    "                        strides=(1,1),\n",
    "                        activation='relu',\n",
    "                        padding = 'same',\n",
    "                        input_shape=(IMAGE_DIMENSION, IMAGE_DIMENSION, 3),\n",
    "                        data_format = 'channels_last'))\n",
    "model.add(layers.Flatten())\n",
    "model.add(layers.Dense(NUM_CLASS)) # output layer\n",
    "model.add(layers.Activation('sigmoid'))\n",
    "\n",
    "model.summary()\n",
    "\n",
    "model.compile(optimizer='adam',\n",
    "              loss='categorical_crossentropy',\n",
    "              metrics=['accuracy'])"
   ]
  },
  {
   "cell_type": "code",
   "execution_count": null,
   "id": "3bbe2626",
   "metadata": {},
   "outputs": [],
   "source": [
    "model.fit(train_generator, steps_per_epoch=11459 // BATCH_SIZE, epochs=5, validation_data=val_generator, use_multiprocessing=False)"
   ]
  },
  {
   "cell_type": "markdown",
   "id": "8098f873",
   "metadata": {},
   "source": [
    "### overfitting, going to introduce some data augmentation here"
   ]
  },
  {
   "cell_type": "code",
   "execution_count": null,
   "id": "c4a7f39d",
   "metadata": {},
   "outputs": [],
   "source": [
    "train_generator = ImageDataGenerator(rescale=1./255, horizontal_flip=True, rotation_range=15).flow_from_directory(\n",
    "    TRAIN_DIR,\n",
    "    target_size=(IMAGE_DIMENSION, IMAGE_DIMENSION), \n",
    "    batch_size=TRAIN_BATCH_SIZE,\n",
    "    shuffle=True \n",
    ")\n",
    "\n",
    "val_generator = ImageDataGenerator().flow_from_directory(\n",
    "    VAL_DIR,\n",
    "    target_size=(IMAGE_DIMENSION, IMAGE_DIMENSION),\n",
    "    batch_size=VAL_BATCH_SIZE,\n",
    "    shuffle=True\n",
    ")\n",
    "\n",
    "test_generator = ImageDataGenerator().flow_from_directory(\n",
    "    TEST_DIR,\n",
    "    target_size=(IMAGE_DIMENSION, IMAGE_DIMENSION),\n",
    "    batch_size=TEST_BATCH_SIZE,\n",
    "    shuffle=False\n",
    ")"
   ]
  },
  {
   "cell_type": "code",
   "execution_count": null,
   "id": "4c77aa00",
   "metadata": {},
   "outputs": [],
   "source": [
    "model = models.Sequential()\n",
    "model.add(layers.Conv2D(filters=32, \n",
    "                        kernel_size=(2,2),\n",
    "                        strides=(1,1),\n",
    "                        activation='relu',\n",
    "                        padding = 'same',\n",
    "                        input_shape=(IMAGE_DIMENSION, IMAGE_DIMENSION, 3),\n",
    "                        data_format = 'channels_last'))\n",
    "model.add(layers.Flatten())\n",
    "model.add(layers.Dense(NUM_CLASS)) # output layer\n",
    "model.add(layers.Activation('sigmoid'))\n",
    "\n",
    "model.summary()\n",
    "\n",
    "model.compile(optimizer='adam',\n",
    "              loss='categorical_crossentropy',\n",
    "              metrics=['accuracy'])"
   ]
  },
  {
   "cell_type": "code",
   "execution_count": null,
   "id": "ace7ff8f",
   "metadata": {},
   "outputs": [],
   "source": [
    "model.fit(train_generator, steps_per_epoch=11459 // BATCH_SIZE, epochs=5, validation_data=val_generator, use_multiprocessing=False)"
   ]
  },
  {
   "cell_type": "markdown",
   "id": "c714f828",
   "metadata": {},
   "source": [
    "### attempt to reduce overfitting (dropout) and more epochs (25) to run overnight"
   ]
  },
  {
   "cell_type": "code",
   "execution_count": 11,
   "id": "076014f5",
   "metadata": {},
   "outputs": [
    {
     "name": "stdout",
     "output_type": "stream",
     "text": [
      "Found 11459 images belonging to 104 classes.\n",
      "Found 3710 images belonging to 104 classes.\n",
      "Found 1294 images belonging to 104 classes.\n"
     ]
    }
   ],
   "source": [
    "train_generator = ImageDataGenerator(rescale=1./255, \n",
    "                                     horizontal_flip=True, \n",
    "                                     rotation_range=15,\n",
    "                                     vertical_flip=True,\n",
    "                                     brightness_range=[0.5,1.5]\n",
    "                                    ).flow_from_directory(\n",
    "    TRAIN_DIR,\n",
    "    target_size=(IMAGE_DIMENSION, IMAGE_DIMENSION), \n",
    "    batch_size=TRAIN_BATCH_SIZE,\n",
    "    shuffle=True \n",
    ")\n",
    "\n",
    "val_generator = ImageDataGenerator().flow_from_directory(\n",
    "    VAL_DIR,\n",
    "    target_size=(IMAGE_DIMENSION, IMAGE_DIMENSION),\n",
    "    batch_size=VAL_BATCH_SIZE,\n",
    "    shuffle=True\n",
    ")\n",
    "\n",
    "test_generator = ImageDataGenerator().flow_from_directory(\n",
    "    TEST_DIR,\n",
    "    target_size=(IMAGE_DIMENSION, IMAGE_DIMENSION),\n",
    "    batch_size=TEST_BATCH_SIZE,\n",
    "    shuffle=False\n",
    ")"
   ]
  },
  {
   "cell_type": "code",
   "execution_count": 12,
   "id": "a52d22a3",
   "metadata": {},
   "outputs": [
    {
     "name": "stdout",
     "output_type": "stream",
     "text": [
      "Model: \"sequential_1\"\n",
      "_________________________________________________________________\n",
      "Layer (type)                 Output Shape              Param #   \n",
      "=================================================================\n",
      "conv2d_7 (Conv2D)            (None, 192, 192, 32)      416       \n",
      "_________________________________________________________________\n",
      "max_pooling2d_2 (MaxPooling2 (None, 96, 96, 32)        0         \n",
      "_________________________________________________________________\n",
      "conv2d_8 (Conv2D)            (None, 95, 95, 64)        8256      \n",
      "_________________________________________________________________\n",
      "max_pooling2d_3 (MaxPooling2 (None, 47, 47, 64)        0         \n",
      "_________________________________________________________________\n",
      "conv2d_9 (Conv2D)            (None, 46, 46, 64)        16448     \n",
      "_________________________________________________________________\n",
      "flatten_1 (Flatten)          (None, 135424)            0         \n",
      "_________________________________________________________________\n",
      "dropout_1 (Dropout)          (None, 135424)            0         \n",
      "_________________________________________________________________\n",
      "dense_2 (Dense)              (None, 64)                8667200   \n",
      "_________________________________________________________________\n",
      "dense_3 (Dense)              (None, 104)               6760      \n",
      "_________________________________________________________________\n",
      "activation_1 (Activation)    (None, 104)               0         \n",
      "=================================================================\n",
      "Total params: 8,699,080\n",
      "Trainable params: 8,699,080\n",
      "Non-trainable params: 0\n",
      "_________________________________________________________________\n"
     ]
    }
   ],
   "source": [
    "model = models.Sequential()\n",
    "model.add(layers.Conv2D(filters=32, \n",
    "                        kernel_size=(2,2),\n",
    "                        strides=(1,1),\n",
    "                        activation='relu',\n",
    "                        padding = 'same',\n",
    "                        input_shape=(IMAGE_DIMENSION, IMAGE_DIMENSION, 3),\n",
    "                        data_format = 'channels_last'))\n",
    "model.add(layers.MaxPooling2D((2,2)))\n",
    "model.add(layers.Conv2D(64, (2,2), activation='relu'))\n",
    "model.add(layers.MaxPooling2D((2,2)))\n",
    "model.add(layers.Conv2D(64, (2,2), activation='relu'))\n",
    "model.add(layers.Flatten())\n",
    "model.add(layers.Dropout(0.5, input_shape=(IMAGE_DIMENSION, IMAGE_DIMENSION, 3)))\n",
    "model.add(layers.Dense(64, activation='relu'))\n",
    "model.add(layers.Dense(NUM_CLASS)) # output layer\n",
    "model.add(layers.Activation('sigmoid'))\n",
    "\n",
    "model.summary()\n",
    "\n",
    "model.compile(optimizer='adam',\n",
    "              loss='categorical_crossentropy',\n",
    "              metrics=['accuracy'])"
   ]
  },
  {
   "cell_type": "code",
   "execution_count": 13,
   "id": "2bb8fa4a",
   "metadata": {
    "scrolled": true
   },
   "outputs": [
    {
     "name": "stdout",
     "output_type": "stream",
     "text": [
      "Epoch 1/25\n",
      "WARNING:tensorflow:AutoGraph could not transform <function Model.make_train_function.<locals>.train_function at 0x2cf9c2160> and will run it as-is.\n",
      "Please report this to the TensorFlow team. When filing the bug, set the verbosity to 10 (on Linux, `export AUTOGRAPH_VERBOSITY=10`) and attach the full output.\n",
      "Cause: unsupported operand type(s) for -: 'NoneType' and 'int'\n",
      "To silence this warning, decorate the function with @tf.autograph.experimental.do_not_convert\n",
      "WARNING: AutoGraph could not transform <function Model.make_train_function.<locals>.train_function at 0x2cf9c2160> and will run it as-is.\n",
      "Please report this to the TensorFlow team. When filing the bug, set the verbosity to 10 (on Linux, `export AUTOGRAPH_VERBOSITY=10`) and attach the full output.\n",
      "Cause: unsupported operand type(s) for -: 'NoneType' and 'int'\n",
      "To silence this warning, decorate the function with @tf.autograph.experimental.do_not_convert\n",
      " 812/1145 [====================>.........] - ETA: 26s - loss: 4.1548 - accuracy: 0.0811"
     ]
    },
    {
     "ename": "KeyboardInterrupt",
     "evalue": "",
     "output_type": "error",
     "traceback": [
      "\u001b[0;31m---------------------------------------------------------------------------\u001b[0m",
      "\u001b[0;31mKeyboardInterrupt\u001b[0m                         Traceback (most recent call last)",
      "\u001b[0;32m/var/folders/fh/_3l8mb_s4j967nwd3wg1v2d40000gn/T/ipykernel_13678/3257430881.py\u001b[0m in \u001b[0;36m<module>\u001b[0;34m\u001b[0m\n\u001b[0;32m----> 1\u001b[0;31m model.fit(train_generator, steps_per_epoch=11459 // BATCH_SIZE, epochs=25,\n\u001b[0m\u001b[1;32m      2\u001b[0m           validation_data=val_generator, use_multiprocessing=False)\n",
      "\u001b[0;32m~/mambaforge/envs/apple_tensorflow/lib/python3.8/site-packages/tensorflow/python/keras/engine/training.py\u001b[0m in \u001b[0;36mfit\u001b[0;34m(self, x, y, batch_size, epochs, verbose, callbacks, validation_split, validation_data, shuffle, class_weight, sample_weight, initial_epoch, steps_per_epoch, validation_steps, validation_batch_size, validation_freq, max_queue_size, workers, use_multiprocessing)\u001b[0m\n\u001b[1;32m   1098\u001b[0m                 _r=1):\n\u001b[1;32m   1099\u001b[0m               \u001b[0mcallbacks\u001b[0m\u001b[0;34m.\u001b[0m\u001b[0mon_train_batch_begin\u001b[0m\u001b[0;34m(\u001b[0m\u001b[0mstep\u001b[0m\u001b[0;34m)\u001b[0m\u001b[0;34m\u001b[0m\u001b[0;34m\u001b[0m\u001b[0m\n\u001b[0;32m-> 1100\u001b[0;31m               \u001b[0mtmp_logs\u001b[0m \u001b[0;34m=\u001b[0m \u001b[0mself\u001b[0m\u001b[0;34m.\u001b[0m\u001b[0mtrain_function\u001b[0m\u001b[0;34m(\u001b[0m\u001b[0miterator\u001b[0m\u001b[0;34m)\u001b[0m\u001b[0;34m\u001b[0m\u001b[0;34m\u001b[0m\u001b[0m\n\u001b[0m\u001b[1;32m   1101\u001b[0m               \u001b[0;32mif\u001b[0m \u001b[0mdata_handler\u001b[0m\u001b[0;34m.\u001b[0m\u001b[0mshould_sync\u001b[0m\u001b[0;34m:\u001b[0m\u001b[0;34m\u001b[0m\u001b[0;34m\u001b[0m\u001b[0m\n\u001b[1;32m   1102\u001b[0m                 \u001b[0mcontext\u001b[0m\u001b[0;34m.\u001b[0m\u001b[0masync_wait\u001b[0m\u001b[0;34m(\u001b[0m\u001b[0;34m)\u001b[0m\u001b[0;34m\u001b[0m\u001b[0;34m\u001b[0m\u001b[0m\n",
      "\u001b[0;32m~/mambaforge/envs/apple_tensorflow/lib/python3.8/site-packages/tensorflow/python/eager/def_function.py\u001b[0m in \u001b[0;36m__call__\u001b[0;34m(self, *args, **kwds)\u001b[0m\n\u001b[1;32m    826\u001b[0m     \u001b[0mtracing_count\u001b[0m \u001b[0;34m=\u001b[0m \u001b[0mself\u001b[0m\u001b[0;34m.\u001b[0m\u001b[0mexperimental_get_tracing_count\u001b[0m\u001b[0;34m(\u001b[0m\u001b[0;34m)\u001b[0m\u001b[0;34m\u001b[0m\u001b[0;34m\u001b[0m\u001b[0m\n\u001b[1;32m    827\u001b[0m     \u001b[0;32mwith\u001b[0m \u001b[0mtrace\u001b[0m\u001b[0;34m.\u001b[0m\u001b[0mTrace\u001b[0m\u001b[0;34m(\u001b[0m\u001b[0mself\u001b[0m\u001b[0;34m.\u001b[0m\u001b[0m_name\u001b[0m\u001b[0;34m)\u001b[0m \u001b[0;32mas\u001b[0m \u001b[0mtm\u001b[0m\u001b[0;34m:\u001b[0m\u001b[0;34m\u001b[0m\u001b[0;34m\u001b[0m\u001b[0m\n\u001b[0;32m--> 828\u001b[0;31m       \u001b[0mresult\u001b[0m \u001b[0;34m=\u001b[0m \u001b[0mself\u001b[0m\u001b[0;34m.\u001b[0m\u001b[0m_call\u001b[0m\u001b[0;34m(\u001b[0m\u001b[0;34m*\u001b[0m\u001b[0margs\u001b[0m\u001b[0;34m,\u001b[0m \u001b[0;34m**\u001b[0m\u001b[0mkwds\u001b[0m\u001b[0;34m)\u001b[0m\u001b[0;34m\u001b[0m\u001b[0;34m\u001b[0m\u001b[0m\n\u001b[0m\u001b[1;32m    829\u001b[0m       \u001b[0mcompiler\u001b[0m \u001b[0;34m=\u001b[0m \u001b[0;34m\"xla\"\u001b[0m \u001b[0;32mif\u001b[0m \u001b[0mself\u001b[0m\u001b[0;34m.\u001b[0m\u001b[0m_experimental_compile\u001b[0m \u001b[0;32melse\u001b[0m \u001b[0;34m\"nonXla\"\u001b[0m\u001b[0;34m\u001b[0m\u001b[0;34m\u001b[0m\u001b[0m\n\u001b[1;32m    830\u001b[0m       \u001b[0mnew_tracing_count\u001b[0m \u001b[0;34m=\u001b[0m \u001b[0mself\u001b[0m\u001b[0;34m.\u001b[0m\u001b[0mexperimental_get_tracing_count\u001b[0m\u001b[0;34m(\u001b[0m\u001b[0;34m)\u001b[0m\u001b[0;34m\u001b[0m\u001b[0;34m\u001b[0m\u001b[0m\n",
      "\u001b[0;32m~/mambaforge/envs/apple_tensorflow/lib/python3.8/site-packages/tensorflow/python/eager/def_function.py\u001b[0m in \u001b[0;36m_call\u001b[0;34m(self, *args, **kwds)\u001b[0m\n\u001b[1;32m    853\u001b[0m       \u001b[0;31m# In this case we have created variables on the first call, so we run the\u001b[0m\u001b[0;34m\u001b[0m\u001b[0;34m\u001b[0m\u001b[0;34m\u001b[0m\u001b[0m\n\u001b[1;32m    854\u001b[0m       \u001b[0;31m# defunned version which is guaranteed to never create variables.\u001b[0m\u001b[0;34m\u001b[0m\u001b[0;34m\u001b[0m\u001b[0;34m\u001b[0m\u001b[0m\n\u001b[0;32m--> 855\u001b[0;31m       \u001b[0;32mreturn\u001b[0m \u001b[0mself\u001b[0m\u001b[0;34m.\u001b[0m\u001b[0m_stateless_fn\u001b[0m\u001b[0;34m(\u001b[0m\u001b[0;34m*\u001b[0m\u001b[0margs\u001b[0m\u001b[0;34m,\u001b[0m \u001b[0;34m**\u001b[0m\u001b[0mkwds\u001b[0m\u001b[0;34m)\u001b[0m  \u001b[0;31m# pylint: disable=not-callable\u001b[0m\u001b[0;34m\u001b[0m\u001b[0;34m\u001b[0m\u001b[0m\n\u001b[0m\u001b[1;32m    856\u001b[0m     \u001b[0;32melif\u001b[0m \u001b[0mself\u001b[0m\u001b[0;34m.\u001b[0m\u001b[0m_stateful_fn\u001b[0m \u001b[0;32mis\u001b[0m \u001b[0;32mnot\u001b[0m \u001b[0;32mNone\u001b[0m\u001b[0;34m:\u001b[0m\u001b[0;34m\u001b[0m\u001b[0;34m\u001b[0m\u001b[0m\n\u001b[1;32m    857\u001b[0m       \u001b[0;31m# Release the lock early so that multiple threads can perform the call\u001b[0m\u001b[0;34m\u001b[0m\u001b[0;34m\u001b[0m\u001b[0;34m\u001b[0m\u001b[0m\n",
      "\u001b[0;32m~/mambaforge/envs/apple_tensorflow/lib/python3.8/site-packages/tensorflow/python/eager/function.py\u001b[0m in \u001b[0;36m__call__\u001b[0;34m(self, *args, **kwargs)\u001b[0m\n\u001b[1;32m   2940\u001b[0m       (graph_function,\n\u001b[1;32m   2941\u001b[0m        filtered_flat_args) = self._maybe_define_function(args, kwargs)\n\u001b[0;32m-> 2942\u001b[0;31m     return graph_function._call_flat(\n\u001b[0m\u001b[1;32m   2943\u001b[0m         filtered_flat_args, captured_inputs=graph_function.captured_inputs)  # pylint: disable=protected-access\n\u001b[1;32m   2944\u001b[0m \u001b[0;34m\u001b[0m\u001b[0m\n",
      "\u001b[0;32m~/mambaforge/envs/apple_tensorflow/lib/python3.8/site-packages/tensorflow/python/eager/function.py\u001b[0m in \u001b[0;36m_call_flat\u001b[0;34m(self, args, captured_inputs, cancellation_manager)\u001b[0m\n\u001b[1;32m   1916\u001b[0m         and executing_eagerly):\n\u001b[1;32m   1917\u001b[0m       \u001b[0;31m# No tape is watching; skip to running the function.\u001b[0m\u001b[0;34m\u001b[0m\u001b[0;34m\u001b[0m\u001b[0;34m\u001b[0m\u001b[0m\n\u001b[0;32m-> 1918\u001b[0;31m       return self._build_call_outputs(self._inference_function.call(\n\u001b[0m\u001b[1;32m   1919\u001b[0m           ctx, args, cancellation_manager=cancellation_manager))\n\u001b[1;32m   1920\u001b[0m     forward_backward = self._select_forward_and_backward_functions(\n",
      "\u001b[0;32m~/mambaforge/envs/apple_tensorflow/lib/python3.8/site-packages/tensorflow/python/eager/function.py\u001b[0m in \u001b[0;36mcall\u001b[0;34m(self, ctx, args, cancellation_manager)\u001b[0m\n\u001b[1;32m    553\u001b[0m       \u001b[0;32mwith\u001b[0m \u001b[0m_InterpolateFunctionError\u001b[0m\u001b[0;34m(\u001b[0m\u001b[0mself\u001b[0m\u001b[0;34m)\u001b[0m\u001b[0;34m:\u001b[0m\u001b[0;34m\u001b[0m\u001b[0;34m\u001b[0m\u001b[0m\n\u001b[1;32m    554\u001b[0m         \u001b[0;32mif\u001b[0m \u001b[0mcancellation_manager\u001b[0m \u001b[0;32mis\u001b[0m \u001b[0;32mNone\u001b[0m\u001b[0;34m:\u001b[0m\u001b[0;34m\u001b[0m\u001b[0;34m\u001b[0m\u001b[0m\n\u001b[0;32m--> 555\u001b[0;31m           outputs = execute.execute(\n\u001b[0m\u001b[1;32m    556\u001b[0m               \u001b[0mstr\u001b[0m\u001b[0;34m(\u001b[0m\u001b[0mself\u001b[0m\u001b[0;34m.\u001b[0m\u001b[0msignature\u001b[0m\u001b[0;34m.\u001b[0m\u001b[0mname\u001b[0m\u001b[0;34m)\u001b[0m\u001b[0;34m,\u001b[0m\u001b[0;34m\u001b[0m\u001b[0;34m\u001b[0m\u001b[0m\n\u001b[1;32m    557\u001b[0m               \u001b[0mnum_outputs\u001b[0m\u001b[0;34m=\u001b[0m\u001b[0mself\u001b[0m\u001b[0;34m.\u001b[0m\u001b[0m_num_outputs\u001b[0m\u001b[0;34m,\u001b[0m\u001b[0;34m\u001b[0m\u001b[0;34m\u001b[0m\u001b[0m\n",
      "\u001b[0;32m~/mambaforge/envs/apple_tensorflow/lib/python3.8/site-packages/tensorflow/python/eager/execute.py\u001b[0m in \u001b[0;36mquick_execute\u001b[0;34m(op_name, num_outputs, inputs, attrs, ctx, name)\u001b[0m\n\u001b[1;32m     57\u001b[0m   \u001b[0;32mtry\u001b[0m\u001b[0;34m:\u001b[0m\u001b[0;34m\u001b[0m\u001b[0;34m\u001b[0m\u001b[0m\n\u001b[1;32m     58\u001b[0m     \u001b[0mctx\u001b[0m\u001b[0;34m.\u001b[0m\u001b[0mensure_initialized\u001b[0m\u001b[0;34m(\u001b[0m\u001b[0;34m)\u001b[0m\u001b[0;34m\u001b[0m\u001b[0;34m\u001b[0m\u001b[0m\n\u001b[0;32m---> 59\u001b[0;31m     tensors = pywrap_tfe.TFE_Py_Execute(ctx._handle, device_name, op_name,\n\u001b[0m\u001b[1;32m     60\u001b[0m                                         inputs, attrs, num_outputs)\n\u001b[1;32m     61\u001b[0m   \u001b[0;32mexcept\u001b[0m \u001b[0mcore\u001b[0m\u001b[0;34m.\u001b[0m\u001b[0m_NotOkStatusException\u001b[0m \u001b[0;32mas\u001b[0m \u001b[0me\u001b[0m\u001b[0;34m:\u001b[0m\u001b[0;34m\u001b[0m\u001b[0;34m\u001b[0m\u001b[0m\n",
      "\u001b[0;31mKeyboardInterrupt\u001b[0m: "
     ]
    }
   ],
   "source": [
    "model.fit(train_generator, steps_per_epoch=11459 // BATCH_SIZE, epochs=25,\n",
    "          validation_data=val_generator, use_multiprocessing=False)"
   ]
  },
  {
   "cell_type": "markdown",
   "id": "59981ae6",
   "metadata": {},
   "source": [
    "# much better accuracy"
   ]
  },
  {
   "cell_type": "markdown",
   "id": "bbad87a1",
   "metadata": {},
   "source": [
    "### introduce learning rate"
   ]
  },
  {
   "cell_type": "code",
   "execution_count": null,
   "id": "9c8d3955",
   "metadata": {},
   "outputs": [],
   "source": [
    "def scheduler(epoch, lr):\n",
    "    if epoch < 10:\n",
    "        return lr\n",
    "    else:\n",
    "        return lr * tf.math.exp(-0.1)\n",
    "    \n",
    "lr_callback = LearningRateScheduler(scheduler)"
   ]
  },
  {
   "cell_type": "code",
   "execution_count": null,
   "id": "f8a35592",
   "metadata": {},
   "outputs": [],
   "source": [
    "train_generator = ImageDataGenerator(rescale=1./255, \n",
    "                                     horizontal_flip=True, \n",
    "                                     rotation_range=90,\n",
    "                                     vertical_flip=True,\n",
    "                                     brightness_range=[0.5,1.5],\n",
    "                                     zoom_range=0.2,\n",
    "                                     shear_range=0.2\n",
    "                                    ).flow_from_directory(\n",
    "    TRAIN_DIR,\n",
    "    target_size=(IMAGE_DIMENSION, IMAGE_DIMENSION), \n",
    "    batch_size=TRAIN_BATCH_SIZE,\n",
    "    shuffle=True \n",
    ")\n",
    "\n",
    "val_generator = ImageDataGenerator().flow_from_directory(\n",
    "    VAL_DIR,\n",
    "    target_size=(IMAGE_DIMENSION, IMAGE_DIMENSION),\n",
    "    batch_size=VAL_BATCH_SIZE,\n",
    "    shuffle=True\n",
    ")\n",
    "\n",
    "test_generator = ImageDataGenerator().flow_from_directory(\n",
    "    TEST_DIR,\n",
    "    target_size=(IMAGE_DIMENSION, IMAGE_DIMENSION),\n",
    "    batch_size=TEST_BATCH_SIZE,\n",
    "    shuffle=False\n",
    ")"
   ]
  },
  {
   "cell_type": "code",
   "execution_count": null,
   "id": "6bdd98f8",
   "metadata": {},
   "outputs": [],
   "source": [
    "model = models.Sequential()\n",
    "model.add(layers.Conv2D(filters=32, \n",
    "                        kernel_size=(2,2),\n",
    "                        strides=(1,1),\n",
    "                        activation='relu',\n",
    "                        padding = 'same',\n",
    "                        input_shape=(IMAGE_DIMENSION, IMAGE_DIMENSION, 3),\n",
    "                        data_format = 'channels_last'))\n",
    "model.add(layers.MaxPooling2D((2,2)))\n",
    "model.add(layers.Conv2D(64, (2,2), activation='relu'))\n",
    "model.add(layers.MaxPooling2D((2,2)))\n",
    "model.add(layers.Conv2D(64, (2,2), activation='relu'))\n",
    "model.add(layers.Flatten())\n",
    "model.add(layers.Dropout(0.5, input_shape=(IMAGE_DIMENSION, IMAGE_DIMENSION, 3)))\n",
    "model.add(layers.Dense(64, activation='relu'))\n",
    "model.add(layers.Dense(NUM_CLASS)) # output layer\n",
    "model.add(layers.Activation('sigmoid'))\n",
    "\n",
    "model.summary()\n",
    "\n",
    "model.compile(optimizer='adam',\n",
    "              loss='categorical_crossentropy',\n",
    "              metrics=['accuracy'])"
   ]
  },
  {
   "cell_type": "code",
   "execution_count": null,
   "id": "e07f5f26",
   "metadata": {},
   "outputs": [],
   "source": [
    "model.fit(train_generator, steps_per_epoch=11459 // BATCH_SIZE, epochs=25,\n",
    "          validation_data=val_generator, callbacks=lr_callback, use_multiprocessing=False)"
   ]
  },
  {
   "cell_type": "markdown",
   "id": "1a4df9c9",
   "metadata": {},
   "source": [
    "### reintroduce transfer learning"
   ]
  },
  {
   "cell_type": "code",
   "execution_count": 6,
   "id": "4a46ee0f",
   "metadata": {},
   "outputs": [],
   "source": [
    "def scheduler(epoch, lr):\n",
    "    if epoch < 10:\n",
    "        return lr\n",
    "    else:\n",
    "        return lr * tf.math.exp(-0.1)\n",
    "    \n",
    "lr_callback = LearningRateScheduler(scheduler)"
   ]
  },
  {
   "cell_type": "code",
   "execution_count": 7,
   "id": "7e1b948d",
   "metadata": {},
   "outputs": [
    {
     "name": "stdout",
     "output_type": "stream",
     "text": [
      "Found 11459 images belonging to 104 classes.\n",
      "Found 3710 images belonging to 104 classes.\n",
      "Found 1294 images belonging to 104 classes.\n"
     ]
    }
   ],
   "source": [
    "train_generator = ImageDataGenerator(rescale=1./255, \n",
    "                                     horizontal_flip=True, \n",
    "                                     rotation_range=90,\n",
    "                                     vertical_flip=True,\n",
    "                                     brightness_range=[0.5,1.5],\n",
    "                                     zoom_range=0.2,\n",
    "                                     shear_range=0.2\n",
    "                                    ).flow_from_directory(\n",
    "    TRAIN_DIR,\n",
    "    target_size=(IMAGE_DIMENSION, IMAGE_DIMENSION), \n",
    "    batch_size=TRAIN_BATCH_SIZE,\n",
    "    shuffle=True \n",
    ")\n",
    "\n",
    "val_generator = ImageDataGenerator().flow_from_directory(\n",
    "    VAL_DIR,\n",
    "    target_size=(IMAGE_DIMENSION, IMAGE_DIMENSION),\n",
    "    batch_size=VAL_BATCH_SIZE,\n",
    "    shuffle=True\n",
    ")\n",
    "\n",
    "test_generator = ImageDataGenerator().flow_from_directory(\n",
    "    TEST_DIR,\n",
    "    target_size=(IMAGE_DIMENSION, IMAGE_DIMENSION),\n",
    "    batch_size=TEST_BATCH_SIZE,\n",
    "    shuffle=False\n",
    ")"
   ]
  },
  {
   "cell_type": "code",
   "execution_count": 12,
   "id": "1fbcf2b2",
   "metadata": {},
   "outputs": [
    {
     "name": "stdout",
     "output_type": "stream",
     "text": [
      "Model: \"sequential_2\"\n",
      "_________________________________________________________________\n",
      "Layer (type)                 Output Shape              Param #   \n",
      "=================================================================\n",
      "xception (Functional)        (None, 6, 6, 2048)        20861480  \n",
      "_________________________________________________________________\n",
      "global_average_pooling2d_2 ( (None, 2048)              0         \n",
      "_________________________________________________________________\n",
      "flatten_2 (Flatten)          (None, 2048)              0         \n",
      "_________________________________________________________________\n",
      "dense_2 (Dense)              (None, 104)               213096    \n",
      "=================================================================\n",
      "Total params: 21,074,576\n",
      "Trainable params: 213,096\n",
      "Non-trainable params: 20,861,480\n",
      "_________________________________________________________________\n"
     ]
    }
   ],
   "source": [
    "Xception_model = Xception(weights='imagenet', include_top=False, input_shape=[IMAGE_DIMENSION, IMAGE_DIMENSION, 3])\n",
    "Xception_model.trainable = False\n",
    "\n",
    "model = Sequential([\n",
    "    Xception_model,\n",
    "    GlobalAveragePooling2D(),\n",
    "    layers.Flatten(),\n",
    "#    Dropout(0.5, input_shape=(IMAGE_DIMENSION, IMAGE_DIMENSION, 3)),\n",
    "#    Dense(64, activation='relu'),\n",
    "    Dense(NUM_CLASS, activation='softmax')\n",
    "])\n",
    "\n",
    "model.summary()\n",
    "\n",
    "model.compile(optimizer='adam', loss='categorical_crossentropy', metrics='accuracy')"
   ]
  },
  {
   "cell_type": "code",
   "execution_count": 13,
   "id": "508e3683",
   "metadata": {},
   "outputs": [
    {
     "name": "stdout",
     "output_type": "stream",
     "text": [
      "Epoch 1/20\n",
      "WARNING:tensorflow:AutoGraph could not transform <function Model.make_train_function.<locals>.train_function at 0x2f4ba71f0> and will run it as-is.\n",
      "Please report this to the TensorFlow team. When filing the bug, set the verbosity to 10 (on Linux, `export AUTOGRAPH_VERBOSITY=10`) and attach the full output.\n",
      "Cause: unsupported operand type(s) for -: 'NoneType' and 'int'\n",
      "To silence this warning, decorate the function with @tf.autograph.experimental.do_not_convert\n",
      "WARNING: AutoGraph could not transform <function Model.make_train_function.<locals>.train_function at 0x2f4ba71f0> and will run it as-is.\n",
      "Please report this to the TensorFlow team. When filing the bug, set the verbosity to 10 (on Linux, `export AUTOGRAPH_VERBOSITY=10`) and attach the full output.\n",
      "Cause: unsupported operand type(s) for -: 'NoneType' and 'int'\n",
      "To silence this warning, decorate the function with @tf.autograph.experimental.do_not_convert\n",
      "1145/1145 [==============================] - ETA: 0s - loss: 3.5389 - accuracy: 0.2547WARNING:tensorflow:AutoGraph could not transform <function Model.make_test_function.<locals>.test_function at 0x17fbcd1f0> and will run it as-is.\n",
      "Please report this to the TensorFlow team. When filing the bug, set the verbosity to 10 (on Linux, `export AUTOGRAPH_VERBOSITY=10`) and attach the full output.\n",
      "Cause: unsupported operand type(s) for -: 'NoneType' and 'int'\n",
      "To silence this warning, decorate the function with @tf.autograph.experimental.do_not_convert\n",
      "WARNING: AutoGraph could not transform <function Model.make_test_function.<locals>.test_function at 0x17fbcd1f0> and will run it as-is.\n",
      "Please report this to the TensorFlow team. When filing the bug, set the verbosity to 10 (on Linux, `export AUTOGRAPH_VERBOSITY=10`) and attach the full output.\n",
      "Cause: unsupported operand type(s) for -: 'NoneType' and 'int'\n",
      "To silence this warning, decorate the function with @tf.autograph.experimental.do_not_convert\n",
      "1145/1145 [==============================] - 386s 336ms/step - loss: 3.5385 - accuracy: 0.2547 - val_loss: 385.8642 - val_accuracy: 0.0116\n",
      "Epoch 2/20\n",
      "1145/1145 [==============================] - 386s 337ms/step - loss: 2.1638 - accuracy: 0.4960 - val_loss: 712.2999 - val_accuracy: 0.0221\n",
      "Epoch 3/20\n",
      "  40/1145 [>.............................] - ETA: 4:48 - loss: 1.9368 - accuracy: 0.5162"
     ]
    },
    {
     "ename": "KeyboardInterrupt",
     "evalue": "",
     "output_type": "error",
     "traceback": [
      "\u001b[0;31m---------------------------------------------------------------------------\u001b[0m",
      "\u001b[0;31mKeyboardInterrupt\u001b[0m                         Traceback (most recent call last)",
      "\u001b[0;32m/var/folders/fh/_3l8mb_s4j967nwd3wg1v2d40000gn/T/ipykernel_13086/483433994.py\u001b[0m in \u001b[0;36m<module>\u001b[0;34m\u001b[0m\n\u001b[0;32m----> 1\u001b[0;31m model.fit(train_generator, steps_per_epoch=11459 // BATCH_SIZE, epochs=20, \n\u001b[0m\u001b[1;32m      2\u001b[0m           validation_data=val_generator, use_multiprocessing=False)\n",
      "\u001b[0;32m~/mambaforge/envs/apple_tensorflow/lib/python3.8/site-packages/tensorflow/python/keras/engine/training.py\u001b[0m in \u001b[0;36mfit\u001b[0;34m(self, x, y, batch_size, epochs, verbose, callbacks, validation_split, validation_data, shuffle, class_weight, sample_weight, initial_epoch, steps_per_epoch, validation_steps, validation_batch_size, validation_freq, max_queue_size, workers, use_multiprocessing)\u001b[0m\n\u001b[1;32m   1098\u001b[0m                 _r=1):\n\u001b[1;32m   1099\u001b[0m               \u001b[0mcallbacks\u001b[0m\u001b[0;34m.\u001b[0m\u001b[0mon_train_batch_begin\u001b[0m\u001b[0;34m(\u001b[0m\u001b[0mstep\u001b[0m\u001b[0;34m)\u001b[0m\u001b[0;34m\u001b[0m\u001b[0;34m\u001b[0m\u001b[0m\n\u001b[0;32m-> 1100\u001b[0;31m               \u001b[0mtmp_logs\u001b[0m \u001b[0;34m=\u001b[0m \u001b[0mself\u001b[0m\u001b[0;34m.\u001b[0m\u001b[0mtrain_function\u001b[0m\u001b[0;34m(\u001b[0m\u001b[0miterator\u001b[0m\u001b[0;34m)\u001b[0m\u001b[0;34m\u001b[0m\u001b[0;34m\u001b[0m\u001b[0m\n\u001b[0m\u001b[1;32m   1101\u001b[0m               \u001b[0;32mif\u001b[0m \u001b[0mdata_handler\u001b[0m\u001b[0;34m.\u001b[0m\u001b[0mshould_sync\u001b[0m\u001b[0;34m:\u001b[0m\u001b[0;34m\u001b[0m\u001b[0;34m\u001b[0m\u001b[0m\n\u001b[1;32m   1102\u001b[0m                 \u001b[0mcontext\u001b[0m\u001b[0;34m.\u001b[0m\u001b[0masync_wait\u001b[0m\u001b[0;34m(\u001b[0m\u001b[0;34m)\u001b[0m\u001b[0;34m\u001b[0m\u001b[0;34m\u001b[0m\u001b[0m\n",
      "\u001b[0;32m~/mambaforge/envs/apple_tensorflow/lib/python3.8/site-packages/tensorflow/python/eager/def_function.py\u001b[0m in \u001b[0;36m__call__\u001b[0;34m(self, *args, **kwds)\u001b[0m\n\u001b[1;32m    826\u001b[0m     \u001b[0mtracing_count\u001b[0m \u001b[0;34m=\u001b[0m \u001b[0mself\u001b[0m\u001b[0;34m.\u001b[0m\u001b[0mexperimental_get_tracing_count\u001b[0m\u001b[0;34m(\u001b[0m\u001b[0;34m)\u001b[0m\u001b[0;34m\u001b[0m\u001b[0;34m\u001b[0m\u001b[0m\n\u001b[1;32m    827\u001b[0m     \u001b[0;32mwith\u001b[0m \u001b[0mtrace\u001b[0m\u001b[0;34m.\u001b[0m\u001b[0mTrace\u001b[0m\u001b[0;34m(\u001b[0m\u001b[0mself\u001b[0m\u001b[0;34m.\u001b[0m\u001b[0m_name\u001b[0m\u001b[0;34m)\u001b[0m \u001b[0;32mas\u001b[0m \u001b[0mtm\u001b[0m\u001b[0;34m:\u001b[0m\u001b[0;34m\u001b[0m\u001b[0;34m\u001b[0m\u001b[0m\n\u001b[0;32m--> 828\u001b[0;31m       \u001b[0mresult\u001b[0m \u001b[0;34m=\u001b[0m \u001b[0mself\u001b[0m\u001b[0;34m.\u001b[0m\u001b[0m_call\u001b[0m\u001b[0;34m(\u001b[0m\u001b[0;34m*\u001b[0m\u001b[0margs\u001b[0m\u001b[0;34m,\u001b[0m \u001b[0;34m**\u001b[0m\u001b[0mkwds\u001b[0m\u001b[0;34m)\u001b[0m\u001b[0;34m\u001b[0m\u001b[0;34m\u001b[0m\u001b[0m\n\u001b[0m\u001b[1;32m    829\u001b[0m       \u001b[0mcompiler\u001b[0m \u001b[0;34m=\u001b[0m \u001b[0;34m\"xla\"\u001b[0m \u001b[0;32mif\u001b[0m \u001b[0mself\u001b[0m\u001b[0;34m.\u001b[0m\u001b[0m_experimental_compile\u001b[0m \u001b[0;32melse\u001b[0m \u001b[0;34m\"nonXla\"\u001b[0m\u001b[0;34m\u001b[0m\u001b[0;34m\u001b[0m\u001b[0m\n\u001b[1;32m    830\u001b[0m       \u001b[0mnew_tracing_count\u001b[0m \u001b[0;34m=\u001b[0m \u001b[0mself\u001b[0m\u001b[0;34m.\u001b[0m\u001b[0mexperimental_get_tracing_count\u001b[0m\u001b[0;34m(\u001b[0m\u001b[0;34m)\u001b[0m\u001b[0;34m\u001b[0m\u001b[0;34m\u001b[0m\u001b[0m\n",
      "\u001b[0;32m~/mambaforge/envs/apple_tensorflow/lib/python3.8/site-packages/tensorflow/python/eager/def_function.py\u001b[0m in \u001b[0;36m_call\u001b[0;34m(self, *args, **kwds)\u001b[0m\n\u001b[1;32m    853\u001b[0m       \u001b[0;31m# In this case we have created variables on the first call, so we run the\u001b[0m\u001b[0;34m\u001b[0m\u001b[0;34m\u001b[0m\u001b[0;34m\u001b[0m\u001b[0m\n\u001b[1;32m    854\u001b[0m       \u001b[0;31m# defunned version which is guaranteed to never create variables.\u001b[0m\u001b[0;34m\u001b[0m\u001b[0;34m\u001b[0m\u001b[0;34m\u001b[0m\u001b[0m\n\u001b[0;32m--> 855\u001b[0;31m       \u001b[0;32mreturn\u001b[0m \u001b[0mself\u001b[0m\u001b[0;34m.\u001b[0m\u001b[0m_stateless_fn\u001b[0m\u001b[0;34m(\u001b[0m\u001b[0;34m*\u001b[0m\u001b[0margs\u001b[0m\u001b[0;34m,\u001b[0m \u001b[0;34m**\u001b[0m\u001b[0mkwds\u001b[0m\u001b[0;34m)\u001b[0m  \u001b[0;31m# pylint: disable=not-callable\u001b[0m\u001b[0;34m\u001b[0m\u001b[0;34m\u001b[0m\u001b[0m\n\u001b[0m\u001b[1;32m    856\u001b[0m     \u001b[0;32melif\u001b[0m \u001b[0mself\u001b[0m\u001b[0;34m.\u001b[0m\u001b[0m_stateful_fn\u001b[0m \u001b[0;32mis\u001b[0m \u001b[0;32mnot\u001b[0m \u001b[0;32mNone\u001b[0m\u001b[0;34m:\u001b[0m\u001b[0;34m\u001b[0m\u001b[0;34m\u001b[0m\u001b[0m\n\u001b[1;32m    857\u001b[0m       \u001b[0;31m# Release the lock early so that multiple threads can perform the call\u001b[0m\u001b[0;34m\u001b[0m\u001b[0;34m\u001b[0m\u001b[0;34m\u001b[0m\u001b[0m\n",
      "\u001b[0;32m~/mambaforge/envs/apple_tensorflow/lib/python3.8/site-packages/tensorflow/python/eager/function.py\u001b[0m in \u001b[0;36m__call__\u001b[0;34m(self, *args, **kwargs)\u001b[0m\n\u001b[1;32m   2940\u001b[0m       (graph_function,\n\u001b[1;32m   2941\u001b[0m        filtered_flat_args) = self._maybe_define_function(args, kwargs)\n\u001b[0;32m-> 2942\u001b[0;31m     return graph_function._call_flat(\n\u001b[0m\u001b[1;32m   2943\u001b[0m         filtered_flat_args, captured_inputs=graph_function.captured_inputs)  # pylint: disable=protected-access\n\u001b[1;32m   2944\u001b[0m \u001b[0;34m\u001b[0m\u001b[0m\n",
      "\u001b[0;32m~/mambaforge/envs/apple_tensorflow/lib/python3.8/site-packages/tensorflow/python/eager/function.py\u001b[0m in \u001b[0;36m_call_flat\u001b[0;34m(self, args, captured_inputs, cancellation_manager)\u001b[0m\n\u001b[1;32m   1916\u001b[0m         and executing_eagerly):\n\u001b[1;32m   1917\u001b[0m       \u001b[0;31m# No tape is watching; skip to running the function.\u001b[0m\u001b[0;34m\u001b[0m\u001b[0;34m\u001b[0m\u001b[0;34m\u001b[0m\u001b[0m\n\u001b[0;32m-> 1918\u001b[0;31m       return self._build_call_outputs(self._inference_function.call(\n\u001b[0m\u001b[1;32m   1919\u001b[0m           ctx, args, cancellation_manager=cancellation_manager))\n\u001b[1;32m   1920\u001b[0m     forward_backward = self._select_forward_and_backward_functions(\n",
      "\u001b[0;32m~/mambaforge/envs/apple_tensorflow/lib/python3.8/site-packages/tensorflow/python/eager/function.py\u001b[0m in \u001b[0;36mcall\u001b[0;34m(self, ctx, args, cancellation_manager)\u001b[0m\n\u001b[1;32m    553\u001b[0m       \u001b[0;32mwith\u001b[0m \u001b[0m_InterpolateFunctionError\u001b[0m\u001b[0;34m(\u001b[0m\u001b[0mself\u001b[0m\u001b[0;34m)\u001b[0m\u001b[0;34m:\u001b[0m\u001b[0;34m\u001b[0m\u001b[0;34m\u001b[0m\u001b[0m\n\u001b[1;32m    554\u001b[0m         \u001b[0;32mif\u001b[0m \u001b[0mcancellation_manager\u001b[0m \u001b[0;32mis\u001b[0m \u001b[0;32mNone\u001b[0m\u001b[0;34m:\u001b[0m\u001b[0;34m\u001b[0m\u001b[0;34m\u001b[0m\u001b[0m\n\u001b[0;32m--> 555\u001b[0;31m           outputs = execute.execute(\n\u001b[0m\u001b[1;32m    556\u001b[0m               \u001b[0mstr\u001b[0m\u001b[0;34m(\u001b[0m\u001b[0mself\u001b[0m\u001b[0;34m.\u001b[0m\u001b[0msignature\u001b[0m\u001b[0;34m.\u001b[0m\u001b[0mname\u001b[0m\u001b[0;34m)\u001b[0m\u001b[0;34m,\u001b[0m\u001b[0;34m\u001b[0m\u001b[0;34m\u001b[0m\u001b[0m\n\u001b[1;32m    557\u001b[0m               \u001b[0mnum_outputs\u001b[0m\u001b[0;34m=\u001b[0m\u001b[0mself\u001b[0m\u001b[0;34m.\u001b[0m\u001b[0m_num_outputs\u001b[0m\u001b[0;34m,\u001b[0m\u001b[0;34m\u001b[0m\u001b[0;34m\u001b[0m\u001b[0m\n",
      "\u001b[0;32m~/mambaforge/envs/apple_tensorflow/lib/python3.8/site-packages/tensorflow/python/eager/execute.py\u001b[0m in \u001b[0;36mquick_execute\u001b[0;34m(op_name, num_outputs, inputs, attrs, ctx, name)\u001b[0m\n\u001b[1;32m     57\u001b[0m   \u001b[0;32mtry\u001b[0m\u001b[0;34m:\u001b[0m\u001b[0;34m\u001b[0m\u001b[0;34m\u001b[0m\u001b[0m\n\u001b[1;32m     58\u001b[0m     \u001b[0mctx\u001b[0m\u001b[0;34m.\u001b[0m\u001b[0mensure_initialized\u001b[0m\u001b[0;34m(\u001b[0m\u001b[0;34m)\u001b[0m\u001b[0;34m\u001b[0m\u001b[0;34m\u001b[0m\u001b[0m\n\u001b[0;32m---> 59\u001b[0;31m     tensors = pywrap_tfe.TFE_Py_Execute(ctx._handle, device_name, op_name,\n\u001b[0m\u001b[1;32m     60\u001b[0m                                         inputs, attrs, num_outputs)\n\u001b[1;32m     61\u001b[0m   \u001b[0;32mexcept\u001b[0m \u001b[0mcore\u001b[0m\u001b[0;34m.\u001b[0m\u001b[0m_NotOkStatusException\u001b[0m \u001b[0;32mas\u001b[0m \u001b[0me\u001b[0m\u001b[0;34m:\u001b[0m\u001b[0;34m\u001b[0m\u001b[0;34m\u001b[0m\u001b[0m\n",
      "\u001b[0;31mKeyboardInterrupt\u001b[0m: "
     ]
    }
   ],
   "source": [
    "model.fit(train_generator, steps_per_epoch=11459 // BATCH_SIZE, epochs=20, \n",
    "          validation_data=val_generator, use_multiprocessing=False)"
   ]
  },
  {
   "cell_type": "markdown",
   "id": "a94f7e1e",
   "metadata": {},
   "source": [
    "### attempt to remove flattening to see how that affects the model. also introduce dropout"
   ]
  },
  {
   "cell_type": "code",
   "execution_count": 14,
   "id": "28dbc1e1",
   "metadata": {},
   "outputs": [],
   "source": [
    "def scheduler(epoch, lr):\n",
    "    if epoch < 10:\n",
    "        return lr\n",
    "    else:\n",
    "        return lr * tf.math.exp(-0.1)\n",
    "    \n",
    "lr_callback = LearningRateScheduler(scheduler)"
   ]
  },
  {
   "cell_type": "code",
   "execution_count": 15,
   "id": "1595525d",
   "metadata": {},
   "outputs": [
    {
     "name": "stdout",
     "output_type": "stream",
     "text": [
      "Found 11459 images belonging to 104 classes.\n",
      "Found 3710 images belonging to 104 classes.\n",
      "Found 1294 images belonging to 104 classes.\n"
     ]
    }
   ],
   "source": [
    "train_generator = ImageDataGenerator(rescale=1./255, \n",
    "                                     horizontal_flip=True, \n",
    "                                     rotation_range=90,\n",
    "                                     vertical_flip=True,\n",
    "                                     brightness_range=[0.5,1.5],\n",
    "                                     zoom_range=0.2,\n",
    "                                     shear_range=0.2\n",
    "                                    ).flow_from_directory(\n",
    "    TRAIN_DIR,\n",
    "    target_size=(IMAGE_DIMENSION, IMAGE_DIMENSION), \n",
    "    batch_size=TRAIN_BATCH_SIZE,\n",
    "    shuffle=True \n",
    ")\n",
    "\n",
    "val_generator = ImageDataGenerator().flow_from_directory(\n",
    "    VAL_DIR,\n",
    "    target_size=(IMAGE_DIMENSION, IMAGE_DIMENSION),\n",
    "    batch_size=VAL_BATCH_SIZE,\n",
    "    shuffle=True\n",
    ")\n",
    "\n",
    "test_generator = ImageDataGenerator().flow_from_directory(\n",
    "    TEST_DIR,\n",
    "    target_size=(IMAGE_DIMENSION, IMAGE_DIMENSION),\n",
    "    batch_size=TEST_BATCH_SIZE,\n",
    "    shuffle=False\n",
    ")"
   ]
  },
  {
   "cell_type": "code",
   "execution_count": 16,
   "id": "29191ad1",
   "metadata": {},
   "outputs": [
    {
     "name": "stdout",
     "output_type": "stream",
     "text": [
      "Model: \"sequential_3\"\n",
      "_________________________________________________________________\n",
      "Layer (type)                 Output Shape              Param #   \n",
      "=================================================================\n",
      "xception (Functional)        (None, 6, 6, 2048)        20861480  \n",
      "_________________________________________________________________\n",
      "global_average_pooling2d_3 ( (None, 2048)              0         \n",
      "_________________________________________________________________\n",
      "dropout (Dropout)            (None, 2048)              0         \n",
      "_________________________________________________________________\n",
      "dense_3 (Dense)              (None, 104)               213096    \n",
      "=================================================================\n",
      "Total params: 21,074,576\n",
      "Trainable params: 213,096\n",
      "Non-trainable params: 20,861,480\n",
      "_________________________________________________________________\n"
     ]
    }
   ],
   "source": [
    "Xception_model = Xception(weights='imagenet', include_top=False, input_shape=[IMAGE_DIMENSION, IMAGE_DIMENSION, 3])\n",
    "Xception_model.trainable = False\n",
    "\n",
    "model = Sequential([\n",
    "    Xception_model,\n",
    "    GlobalAveragePooling2D(),\n",
    "#    layers.Flatten(),\n",
    "    Dropout(0.5, input_shape=(IMAGE_DIMENSION, IMAGE_DIMENSION, 3)),\n",
    "#    Dense(64, activation='relu'),\n",
    "    Dense(NUM_CLASS, activation='softmax')\n",
    "])\n",
    "\n",
    "model.summary()\n",
    "\n",
    "model.compile(optimizer='adam', loss='categorical_crossentropy', metrics='accuracy')"
   ]
  },
  {
   "cell_type": "code",
   "execution_count": 17,
   "id": "73d5cf4c",
   "metadata": {},
   "outputs": [
    {
     "name": "stdout",
     "output_type": "stream",
     "text": [
      "Epoch 1/20\n",
      "WARNING:tensorflow:AutoGraph could not transform <function Model.make_train_function.<locals>.train_function at 0x355b7c820> and will run it as-is.\n",
      "Please report this to the TensorFlow team. When filing the bug, set the verbosity to 10 (on Linux, `export AUTOGRAPH_VERBOSITY=10`) and attach the full output.\n",
      "Cause: unsupported operand type(s) for -: 'NoneType' and 'int'\n",
      "To silence this warning, decorate the function with @tf.autograph.experimental.do_not_convert\n",
      "WARNING: AutoGraph could not transform <function Model.make_train_function.<locals>.train_function at 0x355b7c820> and will run it as-is.\n",
      "Please report this to the TensorFlow team. When filing the bug, set the verbosity to 10 (on Linux, `export AUTOGRAPH_VERBOSITY=10`) and attach the full output.\n",
      "Cause: unsupported operand type(s) for -: 'NoneType' and 'int'\n",
      "To silence this warning, decorate the function with @tf.autograph.experimental.do_not_convert\n",
      "1145/1145 [==============================] - ETA: 0s - loss: 3.7230 - accuracy: 0.2144WARNING:tensorflow:AutoGraph could not transform <function Model.make_test_function.<locals>.test_function at 0x355b96430> and will run it as-is.\n",
      "Please report this to the TensorFlow team. When filing the bug, set the verbosity to 10 (on Linux, `export AUTOGRAPH_VERBOSITY=10`) and attach the full output.\n",
      "Cause: unsupported operand type(s) for -: 'NoneType' and 'int'\n",
      "To silence this warning, decorate the function with @tf.autograph.experimental.do_not_convert\n",
      "WARNING: AutoGraph could not transform <function Model.make_test_function.<locals>.test_function at 0x355b96430> and will run it as-is.\n",
      "Please report this to the TensorFlow team. When filing the bug, set the verbosity to 10 (on Linux, `export AUTOGRAPH_VERBOSITY=10`) and attach the full output.\n",
      "Cause: unsupported operand type(s) for -: 'NoneType' and 'int'\n",
      "To silence this warning, decorate the function with @tf.autograph.experimental.do_not_convert\n",
      "1145/1145 [==============================] - 387s 337ms/step - loss: 3.7226 - accuracy: 0.2145 - val_loss: 78.8614 - val_accuracy: 0.0078\n",
      "Epoch 2/20\n",
      "1145/1145 [==============================] - 387s 338ms/step - loss: 2.4672 - accuracy: 0.4203 - val_loss: 194.3671 - val_accuracy: 0.0084\n",
      "Epoch 3/20\n",
      "1145/1145 [==============================] - 386s 337ms/step - loss: 2.1707 - accuracy: 0.4765 - val_loss: 361.2457 - val_accuracy: 0.0111\n",
      "Epoch 4/20\n",
      " 553/1145 [=============>................] - ETA: 2:34 - loss: 2.0949 - accuracy: 0.4915"
     ]
    },
    {
     "ename": "KeyboardInterrupt",
     "evalue": "",
     "output_type": "error",
     "traceback": [
      "\u001b[0;31m---------------------------------------------------------------------------\u001b[0m",
      "\u001b[0;31mKeyboardInterrupt\u001b[0m                         Traceback (most recent call last)",
      "\u001b[0;32m/var/folders/fh/_3l8mb_s4j967nwd3wg1v2d40000gn/T/ipykernel_13086/483433994.py\u001b[0m in \u001b[0;36m<module>\u001b[0;34m\u001b[0m\n\u001b[0;32m----> 1\u001b[0;31m model.fit(train_generator, steps_per_epoch=11459 // BATCH_SIZE, epochs=20, \n\u001b[0m\u001b[1;32m      2\u001b[0m           validation_data=val_generator, use_multiprocessing=False)\n",
      "\u001b[0;32m~/mambaforge/envs/apple_tensorflow/lib/python3.8/site-packages/tensorflow/python/keras/engine/training.py\u001b[0m in \u001b[0;36mfit\u001b[0;34m(self, x, y, batch_size, epochs, verbose, callbacks, validation_split, validation_data, shuffle, class_weight, sample_weight, initial_epoch, steps_per_epoch, validation_steps, validation_batch_size, validation_freq, max_queue_size, workers, use_multiprocessing)\u001b[0m\n\u001b[1;32m   1098\u001b[0m                 _r=1):\n\u001b[1;32m   1099\u001b[0m               \u001b[0mcallbacks\u001b[0m\u001b[0;34m.\u001b[0m\u001b[0mon_train_batch_begin\u001b[0m\u001b[0;34m(\u001b[0m\u001b[0mstep\u001b[0m\u001b[0;34m)\u001b[0m\u001b[0;34m\u001b[0m\u001b[0;34m\u001b[0m\u001b[0m\n\u001b[0;32m-> 1100\u001b[0;31m               \u001b[0mtmp_logs\u001b[0m \u001b[0;34m=\u001b[0m \u001b[0mself\u001b[0m\u001b[0;34m.\u001b[0m\u001b[0mtrain_function\u001b[0m\u001b[0;34m(\u001b[0m\u001b[0miterator\u001b[0m\u001b[0;34m)\u001b[0m\u001b[0;34m\u001b[0m\u001b[0;34m\u001b[0m\u001b[0m\n\u001b[0m\u001b[1;32m   1101\u001b[0m               \u001b[0;32mif\u001b[0m \u001b[0mdata_handler\u001b[0m\u001b[0;34m.\u001b[0m\u001b[0mshould_sync\u001b[0m\u001b[0;34m:\u001b[0m\u001b[0;34m\u001b[0m\u001b[0;34m\u001b[0m\u001b[0m\n\u001b[1;32m   1102\u001b[0m                 \u001b[0mcontext\u001b[0m\u001b[0;34m.\u001b[0m\u001b[0masync_wait\u001b[0m\u001b[0;34m(\u001b[0m\u001b[0;34m)\u001b[0m\u001b[0;34m\u001b[0m\u001b[0;34m\u001b[0m\u001b[0m\n",
      "\u001b[0;32m~/mambaforge/envs/apple_tensorflow/lib/python3.8/site-packages/tensorflow/python/eager/def_function.py\u001b[0m in \u001b[0;36m__call__\u001b[0;34m(self, *args, **kwds)\u001b[0m\n\u001b[1;32m    826\u001b[0m     \u001b[0mtracing_count\u001b[0m \u001b[0;34m=\u001b[0m \u001b[0mself\u001b[0m\u001b[0;34m.\u001b[0m\u001b[0mexperimental_get_tracing_count\u001b[0m\u001b[0;34m(\u001b[0m\u001b[0;34m)\u001b[0m\u001b[0;34m\u001b[0m\u001b[0;34m\u001b[0m\u001b[0m\n\u001b[1;32m    827\u001b[0m     \u001b[0;32mwith\u001b[0m \u001b[0mtrace\u001b[0m\u001b[0;34m.\u001b[0m\u001b[0mTrace\u001b[0m\u001b[0;34m(\u001b[0m\u001b[0mself\u001b[0m\u001b[0;34m.\u001b[0m\u001b[0m_name\u001b[0m\u001b[0;34m)\u001b[0m \u001b[0;32mas\u001b[0m \u001b[0mtm\u001b[0m\u001b[0;34m:\u001b[0m\u001b[0;34m\u001b[0m\u001b[0;34m\u001b[0m\u001b[0m\n\u001b[0;32m--> 828\u001b[0;31m       \u001b[0mresult\u001b[0m \u001b[0;34m=\u001b[0m \u001b[0mself\u001b[0m\u001b[0;34m.\u001b[0m\u001b[0m_call\u001b[0m\u001b[0;34m(\u001b[0m\u001b[0;34m*\u001b[0m\u001b[0margs\u001b[0m\u001b[0;34m,\u001b[0m \u001b[0;34m**\u001b[0m\u001b[0mkwds\u001b[0m\u001b[0;34m)\u001b[0m\u001b[0;34m\u001b[0m\u001b[0;34m\u001b[0m\u001b[0m\n\u001b[0m\u001b[1;32m    829\u001b[0m       \u001b[0mcompiler\u001b[0m \u001b[0;34m=\u001b[0m \u001b[0;34m\"xla\"\u001b[0m \u001b[0;32mif\u001b[0m \u001b[0mself\u001b[0m\u001b[0;34m.\u001b[0m\u001b[0m_experimental_compile\u001b[0m \u001b[0;32melse\u001b[0m \u001b[0;34m\"nonXla\"\u001b[0m\u001b[0;34m\u001b[0m\u001b[0;34m\u001b[0m\u001b[0m\n\u001b[1;32m    830\u001b[0m       \u001b[0mnew_tracing_count\u001b[0m \u001b[0;34m=\u001b[0m \u001b[0mself\u001b[0m\u001b[0;34m.\u001b[0m\u001b[0mexperimental_get_tracing_count\u001b[0m\u001b[0;34m(\u001b[0m\u001b[0;34m)\u001b[0m\u001b[0;34m\u001b[0m\u001b[0;34m\u001b[0m\u001b[0m\n",
      "\u001b[0;32m~/mambaforge/envs/apple_tensorflow/lib/python3.8/site-packages/tensorflow/python/eager/def_function.py\u001b[0m in \u001b[0;36m_call\u001b[0;34m(self, *args, **kwds)\u001b[0m\n\u001b[1;32m    853\u001b[0m       \u001b[0;31m# In this case we have created variables on the first call, so we run the\u001b[0m\u001b[0;34m\u001b[0m\u001b[0;34m\u001b[0m\u001b[0;34m\u001b[0m\u001b[0m\n\u001b[1;32m    854\u001b[0m       \u001b[0;31m# defunned version which is guaranteed to never create variables.\u001b[0m\u001b[0;34m\u001b[0m\u001b[0;34m\u001b[0m\u001b[0;34m\u001b[0m\u001b[0m\n\u001b[0;32m--> 855\u001b[0;31m       \u001b[0;32mreturn\u001b[0m \u001b[0mself\u001b[0m\u001b[0;34m.\u001b[0m\u001b[0m_stateless_fn\u001b[0m\u001b[0;34m(\u001b[0m\u001b[0;34m*\u001b[0m\u001b[0margs\u001b[0m\u001b[0;34m,\u001b[0m \u001b[0;34m**\u001b[0m\u001b[0mkwds\u001b[0m\u001b[0;34m)\u001b[0m  \u001b[0;31m# pylint: disable=not-callable\u001b[0m\u001b[0;34m\u001b[0m\u001b[0;34m\u001b[0m\u001b[0m\n\u001b[0m\u001b[1;32m    856\u001b[0m     \u001b[0;32melif\u001b[0m \u001b[0mself\u001b[0m\u001b[0;34m.\u001b[0m\u001b[0m_stateful_fn\u001b[0m \u001b[0;32mis\u001b[0m \u001b[0;32mnot\u001b[0m \u001b[0;32mNone\u001b[0m\u001b[0;34m:\u001b[0m\u001b[0;34m\u001b[0m\u001b[0;34m\u001b[0m\u001b[0m\n\u001b[1;32m    857\u001b[0m       \u001b[0;31m# Release the lock early so that multiple threads can perform the call\u001b[0m\u001b[0;34m\u001b[0m\u001b[0;34m\u001b[0m\u001b[0;34m\u001b[0m\u001b[0m\n",
      "\u001b[0;32m~/mambaforge/envs/apple_tensorflow/lib/python3.8/site-packages/tensorflow/python/eager/function.py\u001b[0m in \u001b[0;36m__call__\u001b[0;34m(self, *args, **kwargs)\u001b[0m\n\u001b[1;32m   2940\u001b[0m       (graph_function,\n\u001b[1;32m   2941\u001b[0m        filtered_flat_args) = self._maybe_define_function(args, kwargs)\n\u001b[0;32m-> 2942\u001b[0;31m     return graph_function._call_flat(\n\u001b[0m\u001b[1;32m   2943\u001b[0m         filtered_flat_args, captured_inputs=graph_function.captured_inputs)  # pylint: disable=protected-access\n\u001b[1;32m   2944\u001b[0m \u001b[0;34m\u001b[0m\u001b[0m\n",
      "\u001b[0;32m~/mambaforge/envs/apple_tensorflow/lib/python3.8/site-packages/tensorflow/python/eager/function.py\u001b[0m in \u001b[0;36m_call_flat\u001b[0;34m(self, args, captured_inputs, cancellation_manager)\u001b[0m\n\u001b[1;32m   1916\u001b[0m         and executing_eagerly):\n\u001b[1;32m   1917\u001b[0m       \u001b[0;31m# No tape is watching; skip to running the function.\u001b[0m\u001b[0;34m\u001b[0m\u001b[0;34m\u001b[0m\u001b[0;34m\u001b[0m\u001b[0m\n\u001b[0;32m-> 1918\u001b[0;31m       return self._build_call_outputs(self._inference_function.call(\n\u001b[0m\u001b[1;32m   1919\u001b[0m           ctx, args, cancellation_manager=cancellation_manager))\n\u001b[1;32m   1920\u001b[0m     forward_backward = self._select_forward_and_backward_functions(\n",
      "\u001b[0;32m~/mambaforge/envs/apple_tensorflow/lib/python3.8/site-packages/tensorflow/python/eager/function.py\u001b[0m in \u001b[0;36mcall\u001b[0;34m(self, ctx, args, cancellation_manager)\u001b[0m\n\u001b[1;32m    553\u001b[0m       \u001b[0;32mwith\u001b[0m \u001b[0m_InterpolateFunctionError\u001b[0m\u001b[0;34m(\u001b[0m\u001b[0mself\u001b[0m\u001b[0;34m)\u001b[0m\u001b[0;34m:\u001b[0m\u001b[0;34m\u001b[0m\u001b[0;34m\u001b[0m\u001b[0m\n\u001b[1;32m    554\u001b[0m         \u001b[0;32mif\u001b[0m \u001b[0mcancellation_manager\u001b[0m \u001b[0;32mis\u001b[0m \u001b[0;32mNone\u001b[0m\u001b[0;34m:\u001b[0m\u001b[0;34m\u001b[0m\u001b[0;34m\u001b[0m\u001b[0m\n\u001b[0;32m--> 555\u001b[0;31m           outputs = execute.execute(\n\u001b[0m\u001b[1;32m    556\u001b[0m               \u001b[0mstr\u001b[0m\u001b[0;34m(\u001b[0m\u001b[0mself\u001b[0m\u001b[0;34m.\u001b[0m\u001b[0msignature\u001b[0m\u001b[0;34m.\u001b[0m\u001b[0mname\u001b[0m\u001b[0;34m)\u001b[0m\u001b[0;34m,\u001b[0m\u001b[0;34m\u001b[0m\u001b[0;34m\u001b[0m\u001b[0m\n\u001b[1;32m    557\u001b[0m               \u001b[0mnum_outputs\u001b[0m\u001b[0;34m=\u001b[0m\u001b[0mself\u001b[0m\u001b[0;34m.\u001b[0m\u001b[0m_num_outputs\u001b[0m\u001b[0;34m,\u001b[0m\u001b[0;34m\u001b[0m\u001b[0;34m\u001b[0m\u001b[0m\n",
      "\u001b[0;32m~/mambaforge/envs/apple_tensorflow/lib/python3.8/site-packages/tensorflow/python/eager/execute.py\u001b[0m in \u001b[0;36mquick_execute\u001b[0;34m(op_name, num_outputs, inputs, attrs, ctx, name)\u001b[0m\n\u001b[1;32m     57\u001b[0m   \u001b[0;32mtry\u001b[0m\u001b[0;34m:\u001b[0m\u001b[0;34m\u001b[0m\u001b[0;34m\u001b[0m\u001b[0m\n\u001b[1;32m     58\u001b[0m     \u001b[0mctx\u001b[0m\u001b[0;34m.\u001b[0m\u001b[0mensure_initialized\u001b[0m\u001b[0;34m(\u001b[0m\u001b[0;34m)\u001b[0m\u001b[0;34m\u001b[0m\u001b[0;34m\u001b[0m\u001b[0m\n\u001b[0;32m---> 59\u001b[0;31m     tensors = pywrap_tfe.TFE_Py_Execute(ctx._handle, device_name, op_name,\n\u001b[0m\u001b[1;32m     60\u001b[0m                                         inputs, attrs, num_outputs)\n\u001b[1;32m     61\u001b[0m   \u001b[0;32mexcept\u001b[0m \u001b[0mcore\u001b[0m\u001b[0;34m.\u001b[0m\u001b[0m_NotOkStatusException\u001b[0m \u001b[0;32mas\u001b[0m \u001b[0me\u001b[0m\u001b[0;34m:\u001b[0m\u001b[0;34m\u001b[0m\u001b[0;34m\u001b[0m\u001b[0m\n",
      "\u001b[0;31mKeyboardInterrupt\u001b[0m: "
     ]
    }
   ],
   "source": [
    "model.fit(train_generator, steps_per_epoch=11459 // BATCH_SIZE, epochs=20, \n",
    "          validation_data=val_generator, use_multiprocessing=False)"
   ]
  },
  {
   "cell_type": "markdown",
   "id": "b9cce802",
   "metadata": {},
   "source": [
    "### shuffle for validation is turned off"
   ]
  },
  {
   "cell_type": "code",
   "execution_count": 18,
   "id": "5ec510e5",
   "metadata": {},
   "outputs": [],
   "source": [
    "def scheduler(epoch, lr):\n",
    "    if epoch < 10:\n",
    "        return lr\n",
    "    else:\n",
    "        return lr * tf.math.exp(-0.1)\n",
    "    \n",
    "lr_callback = LearningRateScheduler(scheduler)"
   ]
  },
  {
   "cell_type": "code",
   "execution_count": 19,
   "id": "4a767da7",
   "metadata": {},
   "outputs": [
    {
     "name": "stdout",
     "output_type": "stream",
     "text": [
      "Found 11459 images belonging to 104 classes.\n",
      "Found 3710 images belonging to 104 classes.\n",
      "Found 1294 images belonging to 104 classes.\n"
     ]
    }
   ],
   "source": [
    "train_generator = ImageDataGenerator(rescale=1./255, \n",
    "                                     horizontal_flip=True, \n",
    "                                     rotation_range=90,\n",
    "                                     vertical_flip=True,\n",
    "                                     brightness_range=[0.5,1.5],\n",
    "                                     zoom_range=0.2,\n",
    "                                     shear_range=0.2\n",
    "                                    ).flow_from_directory(\n",
    "    TRAIN_DIR,\n",
    "    target_size=(IMAGE_DIMENSION, IMAGE_DIMENSION), \n",
    "    batch_size=TRAIN_BATCH_SIZE,\n",
    "    shuffle=True \n",
    ")\n",
    "\n",
    "val_generator = ImageDataGenerator().flow_from_directory(\n",
    "    VAL_DIR,\n",
    "    target_size=(IMAGE_DIMENSION, IMAGE_DIMENSION),\n",
    "    batch_size=VAL_BATCH_SIZE,\n",
    "    shuffle=False\n",
    ")\n",
    "\n",
    "test_generator = ImageDataGenerator().flow_from_directory(\n",
    "    TEST_DIR,\n",
    "    target_size=(IMAGE_DIMENSION, IMAGE_DIMENSION),\n",
    "    batch_size=TEST_BATCH_SIZE,\n",
    "    shuffle=False\n",
    ")"
   ]
  },
  {
   "cell_type": "code",
   "execution_count": 20,
   "id": "af60c7a1",
   "metadata": {},
   "outputs": [
    {
     "name": "stdout",
     "output_type": "stream",
     "text": [
      "Model: \"sequential_4\"\n",
      "_________________________________________________________________\n",
      "Layer (type)                 Output Shape              Param #   \n",
      "=================================================================\n",
      "xception (Functional)        (None, 6, 6, 2048)        20861480  \n",
      "_________________________________________________________________\n",
      "global_average_pooling2d_4 ( (None, 2048)              0         \n",
      "_________________________________________________________________\n",
      "dropout_1 (Dropout)          (None, 2048)              0         \n",
      "_________________________________________________________________\n",
      "dense_4 (Dense)              (None, 104)               213096    \n",
      "=================================================================\n",
      "Total params: 21,074,576\n",
      "Trainable params: 213,096\n",
      "Non-trainable params: 20,861,480\n",
      "_________________________________________________________________\n"
     ]
    }
   ],
   "source": [
    "Xception_model = Xception(weights='imagenet', include_top=False, input_shape=[IMAGE_DIMENSION, IMAGE_DIMENSION, 3])\n",
    "Xception_model.trainable = False\n",
    "\n",
    "model = Sequential([\n",
    "    Xception_model,\n",
    "    GlobalAveragePooling2D(),\n",
    "#    layers.Flatten(),\n",
    "    Dropout(0.5, input_shape=(IMAGE_DIMENSION, IMAGE_DIMENSION, 3)),\n",
    "#    Dense(64, activation='relu'),\n",
    "    Dense(NUM_CLASS, activation='softmax')\n",
    "])\n",
    "\n",
    "model.summary()\n",
    "\n",
    "model.compile(optimizer='adam', loss='categorical_crossentropy', metrics='accuracy')"
   ]
  },
  {
   "cell_type": "code",
   "execution_count": 21,
   "id": "791c08e5",
   "metadata": {
    "scrolled": false
   },
   "outputs": [
    {
     "name": "stdout",
     "output_type": "stream",
     "text": [
      "Epoch 1/20\n",
      "WARNING:tensorflow:AutoGraph could not transform <function Model.make_train_function.<locals>.train_function at 0x2f2d6a430> and will run it as-is.\n",
      "Please report this to the TensorFlow team. When filing the bug, set the verbosity to 10 (on Linux, `export AUTOGRAPH_VERBOSITY=10`) and attach the full output.\n",
      "Cause: unsupported operand type(s) for -: 'NoneType' and 'int'\n",
      "To silence this warning, decorate the function with @tf.autograph.experimental.do_not_convert\n",
      "WARNING: AutoGraph could not transform <function Model.make_train_function.<locals>.train_function at 0x2f2d6a430> and will run it as-is.\n",
      "Please report this to the TensorFlow team. When filing the bug, set the verbosity to 10 (on Linux, `export AUTOGRAPH_VERBOSITY=10`) and attach the full output.\n",
      "Cause: unsupported operand type(s) for -: 'NoneType' and 'int'\n",
      "To silence this warning, decorate the function with @tf.autograph.experimental.do_not_convert\n",
      "1145/1145 [==============================] - ETA: 0s - loss: 3.7176 - accuracy: 0.2157WARNING:tensorflow:AutoGraph could not transform <function Model.make_test_function.<locals>.test_function at 0x2c7eaff70> and will run it as-is.\n",
      "Please report this to the TensorFlow team. When filing the bug, set the verbosity to 10 (on Linux, `export AUTOGRAPH_VERBOSITY=10`) and attach the full output.\n",
      "Cause: unsupported operand type(s) for -: 'NoneType' and 'int'\n",
      "To silence this warning, decorate the function with @tf.autograph.experimental.do_not_convert\n",
      "WARNING: AutoGraph could not transform <function Model.make_test_function.<locals>.test_function at 0x2c7eaff70> and will run it as-is.\n",
      "Please report this to the TensorFlow team. When filing the bug, set the verbosity to 10 (on Linux, `export AUTOGRAPH_VERBOSITY=10`) and attach the full output.\n",
      "Cause: unsupported operand type(s) for -: 'NoneType' and 'int'\n",
      "To silence this warning, decorate the function with @tf.autograph.experimental.do_not_convert\n",
      "1145/1145 [==============================] - 382s 333ms/step - loss: 3.7172 - accuracy: 0.2158 - val_loss: 394.1703 - val_accuracy: 0.0210\n",
      "Epoch 2/20\n",
      "1145/1145 [==============================] - 382s 334ms/step - loss: 2.4707 - accuracy: 0.4313 - val_loss: 118.3906 - val_accuracy: 0.0100\n",
      "Epoch 3/20\n",
      "1145/1145 [==============================] - 381s 332ms/step - loss: 2.1871 - accuracy: 0.4758 - val_loss: 249.7218 - val_accuracy: 0.0067\n",
      "Epoch 4/20\n",
      "1145/1145 [==============================] - 382s 333ms/step - loss: 2.0550 - accuracy: 0.5009 - val_loss: 164.3312 - val_accuracy: 0.0086\n",
      "Epoch 5/20\n",
      "1145/1145 [==============================] - 383s 334ms/step - loss: 1.9652 - accuracy: 0.5169 - val_loss: 560.9910 - val_accuracy: 0.0148\n",
      "Epoch 6/20\n",
      "1145/1145 [==============================] - 382s 334ms/step - loss: 1.9439 - accuracy: 0.5188 - val_loss: 888.7313 - val_accuracy: 0.0097\n",
      "Epoch 7/20\n",
      "1145/1145 [==============================] - 381s 333ms/step - loss: 1.9056 - accuracy: 0.5294 - val_loss: 370.9457 - val_accuracy: 0.0070\n",
      "Epoch 8/20\n",
      "1145/1145 [==============================] - 383s 335ms/step - loss: 1.8430 - accuracy: 0.5393 - val_loss: 215.6325 - val_accuracy: 0.0070\n",
      "Epoch 9/20\n",
      "1145/1145 [==============================] - 382s 333ms/step - loss: 1.9256 - accuracy: 0.5159 - val_loss: 405.2083 - val_accuracy: 0.0067\n",
      "Epoch 10/20\n",
      "1145/1145 [==============================] - 382s 334ms/step - loss: 1.8498 - accuracy: 0.5405 - val_loss: 282.9030 - val_accuracy: 0.0040\n",
      "Epoch 11/20\n",
      "1145/1145 [==============================] - 386s 337ms/step - loss: 1.8776 - accuracy: 0.5247 - val_loss: 573.9048 - val_accuracy: 0.0084\n",
      "Epoch 12/20\n",
      " 495/1145 [===========>..................] - ETA: 2:49 - loss: 1.8103 - accuracy: 0.5376"
     ]
    },
    {
     "ename": "KeyboardInterrupt",
     "evalue": "",
     "output_type": "error",
     "traceback": [
      "\u001b[0;31m---------------------------------------------------------------------------\u001b[0m",
      "\u001b[0;31mKeyboardInterrupt\u001b[0m                         Traceback (most recent call last)",
      "\u001b[0;32m/var/folders/fh/_3l8mb_s4j967nwd3wg1v2d40000gn/T/ipykernel_13086/483433994.py\u001b[0m in \u001b[0;36m<module>\u001b[0;34m\u001b[0m\n\u001b[0;32m----> 1\u001b[0;31m model.fit(train_generator, steps_per_epoch=11459 // BATCH_SIZE, epochs=20, \n\u001b[0m\u001b[1;32m      2\u001b[0m           validation_data=val_generator, use_multiprocessing=False)\n",
      "\u001b[0;32m~/mambaforge/envs/apple_tensorflow/lib/python3.8/site-packages/tensorflow/python/keras/engine/training.py\u001b[0m in \u001b[0;36mfit\u001b[0;34m(self, x, y, batch_size, epochs, verbose, callbacks, validation_split, validation_data, shuffle, class_weight, sample_weight, initial_epoch, steps_per_epoch, validation_steps, validation_batch_size, validation_freq, max_queue_size, workers, use_multiprocessing)\u001b[0m\n\u001b[1;32m   1098\u001b[0m                 _r=1):\n\u001b[1;32m   1099\u001b[0m               \u001b[0mcallbacks\u001b[0m\u001b[0;34m.\u001b[0m\u001b[0mon_train_batch_begin\u001b[0m\u001b[0;34m(\u001b[0m\u001b[0mstep\u001b[0m\u001b[0;34m)\u001b[0m\u001b[0;34m\u001b[0m\u001b[0;34m\u001b[0m\u001b[0m\n\u001b[0;32m-> 1100\u001b[0;31m               \u001b[0mtmp_logs\u001b[0m \u001b[0;34m=\u001b[0m \u001b[0mself\u001b[0m\u001b[0;34m.\u001b[0m\u001b[0mtrain_function\u001b[0m\u001b[0;34m(\u001b[0m\u001b[0miterator\u001b[0m\u001b[0;34m)\u001b[0m\u001b[0;34m\u001b[0m\u001b[0;34m\u001b[0m\u001b[0m\n\u001b[0m\u001b[1;32m   1101\u001b[0m               \u001b[0;32mif\u001b[0m \u001b[0mdata_handler\u001b[0m\u001b[0;34m.\u001b[0m\u001b[0mshould_sync\u001b[0m\u001b[0;34m:\u001b[0m\u001b[0;34m\u001b[0m\u001b[0;34m\u001b[0m\u001b[0m\n\u001b[1;32m   1102\u001b[0m                 \u001b[0mcontext\u001b[0m\u001b[0;34m.\u001b[0m\u001b[0masync_wait\u001b[0m\u001b[0;34m(\u001b[0m\u001b[0;34m)\u001b[0m\u001b[0;34m\u001b[0m\u001b[0;34m\u001b[0m\u001b[0m\n",
      "\u001b[0;32m~/mambaforge/envs/apple_tensorflow/lib/python3.8/site-packages/tensorflow/python/eager/def_function.py\u001b[0m in \u001b[0;36m__call__\u001b[0;34m(self, *args, **kwds)\u001b[0m\n\u001b[1;32m    826\u001b[0m     \u001b[0mtracing_count\u001b[0m \u001b[0;34m=\u001b[0m \u001b[0mself\u001b[0m\u001b[0;34m.\u001b[0m\u001b[0mexperimental_get_tracing_count\u001b[0m\u001b[0;34m(\u001b[0m\u001b[0;34m)\u001b[0m\u001b[0;34m\u001b[0m\u001b[0;34m\u001b[0m\u001b[0m\n\u001b[1;32m    827\u001b[0m     \u001b[0;32mwith\u001b[0m \u001b[0mtrace\u001b[0m\u001b[0;34m.\u001b[0m\u001b[0mTrace\u001b[0m\u001b[0;34m(\u001b[0m\u001b[0mself\u001b[0m\u001b[0;34m.\u001b[0m\u001b[0m_name\u001b[0m\u001b[0;34m)\u001b[0m \u001b[0;32mas\u001b[0m \u001b[0mtm\u001b[0m\u001b[0;34m:\u001b[0m\u001b[0;34m\u001b[0m\u001b[0;34m\u001b[0m\u001b[0m\n\u001b[0;32m--> 828\u001b[0;31m       \u001b[0mresult\u001b[0m \u001b[0;34m=\u001b[0m \u001b[0mself\u001b[0m\u001b[0;34m.\u001b[0m\u001b[0m_call\u001b[0m\u001b[0;34m(\u001b[0m\u001b[0;34m*\u001b[0m\u001b[0margs\u001b[0m\u001b[0;34m,\u001b[0m \u001b[0;34m**\u001b[0m\u001b[0mkwds\u001b[0m\u001b[0;34m)\u001b[0m\u001b[0;34m\u001b[0m\u001b[0;34m\u001b[0m\u001b[0m\n\u001b[0m\u001b[1;32m    829\u001b[0m       \u001b[0mcompiler\u001b[0m \u001b[0;34m=\u001b[0m \u001b[0;34m\"xla\"\u001b[0m \u001b[0;32mif\u001b[0m \u001b[0mself\u001b[0m\u001b[0;34m.\u001b[0m\u001b[0m_experimental_compile\u001b[0m \u001b[0;32melse\u001b[0m \u001b[0;34m\"nonXla\"\u001b[0m\u001b[0;34m\u001b[0m\u001b[0;34m\u001b[0m\u001b[0m\n\u001b[1;32m    830\u001b[0m       \u001b[0mnew_tracing_count\u001b[0m \u001b[0;34m=\u001b[0m \u001b[0mself\u001b[0m\u001b[0;34m.\u001b[0m\u001b[0mexperimental_get_tracing_count\u001b[0m\u001b[0;34m(\u001b[0m\u001b[0;34m)\u001b[0m\u001b[0;34m\u001b[0m\u001b[0;34m\u001b[0m\u001b[0m\n",
      "\u001b[0;32m~/mambaforge/envs/apple_tensorflow/lib/python3.8/site-packages/tensorflow/python/eager/def_function.py\u001b[0m in \u001b[0;36m_call\u001b[0;34m(self, *args, **kwds)\u001b[0m\n\u001b[1;32m    853\u001b[0m       \u001b[0;31m# In this case we have created variables on the first call, so we run the\u001b[0m\u001b[0;34m\u001b[0m\u001b[0;34m\u001b[0m\u001b[0;34m\u001b[0m\u001b[0m\n\u001b[1;32m    854\u001b[0m       \u001b[0;31m# defunned version which is guaranteed to never create variables.\u001b[0m\u001b[0;34m\u001b[0m\u001b[0;34m\u001b[0m\u001b[0;34m\u001b[0m\u001b[0m\n\u001b[0;32m--> 855\u001b[0;31m       \u001b[0;32mreturn\u001b[0m \u001b[0mself\u001b[0m\u001b[0;34m.\u001b[0m\u001b[0m_stateless_fn\u001b[0m\u001b[0;34m(\u001b[0m\u001b[0;34m*\u001b[0m\u001b[0margs\u001b[0m\u001b[0;34m,\u001b[0m \u001b[0;34m**\u001b[0m\u001b[0mkwds\u001b[0m\u001b[0;34m)\u001b[0m  \u001b[0;31m# pylint: disable=not-callable\u001b[0m\u001b[0;34m\u001b[0m\u001b[0;34m\u001b[0m\u001b[0m\n\u001b[0m\u001b[1;32m    856\u001b[0m     \u001b[0;32melif\u001b[0m \u001b[0mself\u001b[0m\u001b[0;34m.\u001b[0m\u001b[0m_stateful_fn\u001b[0m \u001b[0;32mis\u001b[0m \u001b[0;32mnot\u001b[0m \u001b[0;32mNone\u001b[0m\u001b[0;34m:\u001b[0m\u001b[0;34m\u001b[0m\u001b[0;34m\u001b[0m\u001b[0m\n\u001b[1;32m    857\u001b[0m       \u001b[0;31m# Release the lock early so that multiple threads can perform the call\u001b[0m\u001b[0;34m\u001b[0m\u001b[0;34m\u001b[0m\u001b[0;34m\u001b[0m\u001b[0m\n",
      "\u001b[0;32m~/mambaforge/envs/apple_tensorflow/lib/python3.8/site-packages/tensorflow/python/eager/function.py\u001b[0m in \u001b[0;36m__call__\u001b[0;34m(self, *args, **kwargs)\u001b[0m\n\u001b[1;32m   2940\u001b[0m       (graph_function,\n\u001b[1;32m   2941\u001b[0m        filtered_flat_args) = self._maybe_define_function(args, kwargs)\n\u001b[0;32m-> 2942\u001b[0;31m     return graph_function._call_flat(\n\u001b[0m\u001b[1;32m   2943\u001b[0m         filtered_flat_args, captured_inputs=graph_function.captured_inputs)  # pylint: disable=protected-access\n\u001b[1;32m   2944\u001b[0m \u001b[0;34m\u001b[0m\u001b[0m\n",
      "\u001b[0;32m~/mambaforge/envs/apple_tensorflow/lib/python3.8/site-packages/tensorflow/python/eager/function.py\u001b[0m in \u001b[0;36m_call_flat\u001b[0;34m(self, args, captured_inputs, cancellation_manager)\u001b[0m\n\u001b[1;32m   1916\u001b[0m         and executing_eagerly):\n\u001b[1;32m   1917\u001b[0m       \u001b[0;31m# No tape is watching; skip to running the function.\u001b[0m\u001b[0;34m\u001b[0m\u001b[0;34m\u001b[0m\u001b[0;34m\u001b[0m\u001b[0m\n\u001b[0;32m-> 1918\u001b[0;31m       return self._build_call_outputs(self._inference_function.call(\n\u001b[0m\u001b[1;32m   1919\u001b[0m           ctx, args, cancellation_manager=cancellation_manager))\n\u001b[1;32m   1920\u001b[0m     forward_backward = self._select_forward_and_backward_functions(\n",
      "\u001b[0;32m~/mambaforge/envs/apple_tensorflow/lib/python3.8/site-packages/tensorflow/python/eager/function.py\u001b[0m in \u001b[0;36mcall\u001b[0;34m(self, ctx, args, cancellation_manager)\u001b[0m\n\u001b[1;32m    553\u001b[0m       \u001b[0;32mwith\u001b[0m \u001b[0m_InterpolateFunctionError\u001b[0m\u001b[0;34m(\u001b[0m\u001b[0mself\u001b[0m\u001b[0;34m)\u001b[0m\u001b[0;34m:\u001b[0m\u001b[0;34m\u001b[0m\u001b[0;34m\u001b[0m\u001b[0m\n\u001b[1;32m    554\u001b[0m         \u001b[0;32mif\u001b[0m \u001b[0mcancellation_manager\u001b[0m \u001b[0;32mis\u001b[0m \u001b[0;32mNone\u001b[0m\u001b[0;34m:\u001b[0m\u001b[0;34m\u001b[0m\u001b[0;34m\u001b[0m\u001b[0m\n\u001b[0;32m--> 555\u001b[0;31m           outputs = execute.execute(\n\u001b[0m\u001b[1;32m    556\u001b[0m               \u001b[0mstr\u001b[0m\u001b[0;34m(\u001b[0m\u001b[0mself\u001b[0m\u001b[0;34m.\u001b[0m\u001b[0msignature\u001b[0m\u001b[0;34m.\u001b[0m\u001b[0mname\u001b[0m\u001b[0;34m)\u001b[0m\u001b[0;34m,\u001b[0m\u001b[0;34m\u001b[0m\u001b[0;34m\u001b[0m\u001b[0m\n\u001b[1;32m    557\u001b[0m               \u001b[0mnum_outputs\u001b[0m\u001b[0;34m=\u001b[0m\u001b[0mself\u001b[0m\u001b[0;34m.\u001b[0m\u001b[0m_num_outputs\u001b[0m\u001b[0;34m,\u001b[0m\u001b[0;34m\u001b[0m\u001b[0;34m\u001b[0m\u001b[0m\n",
      "\u001b[0;32m~/mambaforge/envs/apple_tensorflow/lib/python3.8/site-packages/tensorflow/python/eager/execute.py\u001b[0m in \u001b[0;36mquick_execute\u001b[0;34m(op_name, num_outputs, inputs, attrs, ctx, name)\u001b[0m\n\u001b[1;32m     57\u001b[0m   \u001b[0;32mtry\u001b[0m\u001b[0;34m:\u001b[0m\u001b[0;34m\u001b[0m\u001b[0;34m\u001b[0m\u001b[0m\n\u001b[1;32m     58\u001b[0m     \u001b[0mctx\u001b[0m\u001b[0;34m.\u001b[0m\u001b[0mensure_initialized\u001b[0m\u001b[0;34m(\u001b[0m\u001b[0;34m)\u001b[0m\u001b[0;34m\u001b[0m\u001b[0;34m\u001b[0m\u001b[0m\n\u001b[0;32m---> 59\u001b[0;31m     tensors = pywrap_tfe.TFE_Py_Execute(ctx._handle, device_name, op_name,\n\u001b[0m\u001b[1;32m     60\u001b[0m                                         inputs, attrs, num_outputs)\n\u001b[1;32m     61\u001b[0m   \u001b[0;32mexcept\u001b[0m \u001b[0mcore\u001b[0m\u001b[0;34m.\u001b[0m\u001b[0m_NotOkStatusException\u001b[0m \u001b[0;32mas\u001b[0m \u001b[0me\u001b[0m\u001b[0;34m:\u001b[0m\u001b[0;34m\u001b[0m\u001b[0;34m\u001b[0m\u001b[0m\n",
      "\u001b[0;31mKeyboardInterrupt\u001b[0m: "
     ]
    }
   ],
   "source": [
    "model.fit(train_generator, steps_per_epoch=11459 // BATCH_SIZE, epochs=20, \n",
    "          validation_data=val_generator, use_multiprocessing=False)"
   ]
  },
  {
   "cell_type": "markdown",
   "id": "45556089",
   "metadata": {},
   "source": [
    "### shuffle is turned back on. going to a model with densenet201 instead"
   ]
  },
  {
   "cell_type": "code",
   "execution_count": 27,
   "id": "b41c6316",
   "metadata": {},
   "outputs": [],
   "source": [
    "def scheduler(epoch, lr):\n",
    "    if epoch < 10:\n",
    "        return lr\n",
    "    else:\n",
    "        return lr * tf.math.exp(-0.1)\n",
    "    \n",
    "lr_callback = LearningRateScheduler(scheduler)"
   ]
  },
  {
   "cell_type": "code",
   "execution_count": 28,
   "id": "09dae7f3",
   "metadata": {},
   "outputs": [
    {
     "name": "stdout",
     "output_type": "stream",
     "text": [
      "Found 11459 images belonging to 104 classes.\n",
      "Found 3710 images belonging to 104 classes.\n",
      "Found 1294 images belonging to 104 classes.\n"
     ]
    }
   ],
   "source": [
    "train_generator = ImageDataGenerator(rescale=1./255, \n",
    "                                     horizontal_flip=True, \n",
    "                                     rotation_range=90,\n",
    "                                     vertical_flip=True,\n",
    "                                     brightness_range=[0.5,1.5],\n",
    "                                     zoom_range=0.2,\n",
    "                                     shear_range=0.2\n",
    "                                    ).flow_from_directory(\n",
    "    TRAIN_DIR,\n",
    "    target_size=(IMAGE_DIMENSION, IMAGE_DIMENSION), \n",
    "    batch_size=TRAIN_BATCH_SIZE,\n",
    "    shuffle=True \n",
    ")\n",
    "\n",
    "val_generator = ImageDataGenerator().flow_from_directory(\n",
    "    VAL_DIR,\n",
    "    target_size=(IMAGE_DIMENSION, IMAGE_DIMENSION),\n",
    "    batch_size=VAL_BATCH_SIZE,\n",
    "    shuffle=True\n",
    ")\n",
    "\n",
    "test_generator = ImageDataGenerator().flow_from_directory(\n",
    "    TEST_DIR,\n",
    "    target_size=(IMAGE_DIMENSION, IMAGE_DIMENSION),\n",
    "    batch_size=TEST_BATCH_SIZE,\n",
    "    shuffle=False\n",
    ")"
   ]
  },
  {
   "cell_type": "code",
   "execution_count": 31,
   "id": "0ca0f004",
   "metadata": {},
   "outputs": [
    {
     "ename": "AttributeError",
     "evalue": "'str' object has no attribute 'decode'",
     "output_type": "error",
     "traceback": [
      "\u001b[0;31m---------------------------------------------------------------------------\u001b[0m",
      "\u001b[0;31mAttributeError\u001b[0m                            Traceback (most recent call last)",
      "\u001b[0;32m/var/folders/fh/_3l8mb_s4j967nwd3wg1v2d40000gn/T/ipykernel_13086/2884166489.py\u001b[0m in \u001b[0;36m<module>\u001b[0;34m\u001b[0m\n\u001b[0;32m----> 1\u001b[0;31m \u001b[0mDenseNet_model\u001b[0m \u001b[0;34m=\u001b[0m \u001b[0mDenseNet201\u001b[0m\u001b[0;34m(\u001b[0m\u001b[0mweights\u001b[0m\u001b[0;34m=\u001b[0m\u001b[0;34m'imagenet'\u001b[0m\u001b[0;34m,\u001b[0m \u001b[0minclude_top\u001b[0m\u001b[0;34m=\u001b[0m\u001b[0;32mFalse\u001b[0m\u001b[0;34m,\u001b[0m \u001b[0minput_shape\u001b[0m\u001b[0;34m=\u001b[0m\u001b[0;34m[\u001b[0m\u001b[0mIMAGE_DIMENSION\u001b[0m\u001b[0;34m,\u001b[0m \u001b[0mIMAGE_DIMENSION\u001b[0m\u001b[0;34m,\u001b[0m \u001b[0;36m3\u001b[0m\u001b[0;34m]\u001b[0m\u001b[0;34m)\u001b[0m\u001b[0;34m\u001b[0m\u001b[0;34m\u001b[0m\u001b[0m\n\u001b[0m\u001b[1;32m      2\u001b[0m \u001b[0mDenseNet_model\u001b[0m\u001b[0;34m.\u001b[0m\u001b[0mtrainable\u001b[0m \u001b[0;34m=\u001b[0m \u001b[0;32mFalse\u001b[0m\u001b[0;34m\u001b[0m\u001b[0;34m\u001b[0m\u001b[0m\n\u001b[1;32m      3\u001b[0m \u001b[0;34m\u001b[0m\u001b[0m\n\u001b[1;32m      4\u001b[0m model = Sequential([\n\u001b[1;32m      5\u001b[0m     \u001b[0mDenseNet_model\u001b[0m\u001b[0;34m,\u001b[0m\u001b[0;34m\u001b[0m\u001b[0;34m\u001b[0m\u001b[0m\n",
      "\u001b[0;32m~/mambaforge/envs/apple_tensorflow/lib/python3.8/site-packages/tensorflow/python/keras/applications/densenet.py\u001b[0m in \u001b[0;36mDenseNet201\u001b[0;34m(include_top, weights, input_tensor, input_shape, pooling, classes)\u001b[0m\n\u001b[1;32m    354\u001b[0m                 classes=1000):\n\u001b[1;32m    355\u001b[0m   \u001b[0;34m\"\"\"Instantiates the Densenet201 architecture.\"\"\"\u001b[0m\u001b[0;34m\u001b[0m\u001b[0;34m\u001b[0m\u001b[0m\n\u001b[0;32m--> 356\u001b[0;31m   return DenseNet([6, 12, 48, 32], include_top, weights, input_tensor,\n\u001b[0m\u001b[1;32m    357\u001b[0m                   input_shape, pooling, classes)\n\u001b[1;32m    358\u001b[0m \u001b[0;34m\u001b[0m\u001b[0m\n",
      "\u001b[0;32m~/mambaforge/envs/apple_tensorflow/lib/python3.8/site-packages/tensorflow/python/keras/applications/densenet.py\u001b[0m in \u001b[0;36mDenseNet\u001b[0;34m(blocks, include_top, weights, input_tensor, input_shape, pooling, classes, classifier_activation)\u001b[0m\n\u001b[1;32m    312\u001b[0m             \u001b[0mcache_subdir\u001b[0m\u001b[0;34m=\u001b[0m\u001b[0;34m'models'\u001b[0m\u001b[0;34m,\u001b[0m\u001b[0;34m\u001b[0m\u001b[0;34m\u001b[0m\u001b[0m\n\u001b[1;32m    313\u001b[0m             file_hash='c13680b51ded0fb44dff2d8f86ac8bb1')\n\u001b[0;32m--> 314\u001b[0;31m     \u001b[0mmodel\u001b[0m\u001b[0;34m.\u001b[0m\u001b[0mload_weights\u001b[0m\u001b[0;34m(\u001b[0m\u001b[0mweights_path\u001b[0m\u001b[0;34m)\u001b[0m\u001b[0;34m\u001b[0m\u001b[0;34m\u001b[0m\u001b[0m\n\u001b[0m\u001b[1;32m    315\u001b[0m   \u001b[0;32melif\u001b[0m \u001b[0mweights\u001b[0m \u001b[0;32mis\u001b[0m \u001b[0;32mnot\u001b[0m \u001b[0;32mNone\u001b[0m\u001b[0;34m:\u001b[0m\u001b[0;34m\u001b[0m\u001b[0;34m\u001b[0m\u001b[0m\n\u001b[1;32m    316\u001b[0m     \u001b[0mmodel\u001b[0m\u001b[0;34m.\u001b[0m\u001b[0mload_weights\u001b[0m\u001b[0;34m(\u001b[0m\u001b[0mweights\u001b[0m\u001b[0;34m)\u001b[0m\u001b[0;34m\u001b[0m\u001b[0;34m\u001b[0m\u001b[0m\n",
      "\u001b[0;32m~/mambaforge/envs/apple_tensorflow/lib/python3.8/site-packages/tensorflow/python/keras/engine/training.py\u001b[0m in \u001b[0;36mload_weights\u001b[0;34m(self, filepath, by_name, skip_mismatch, options)\u001b[0m\n\u001b[1;32m   2232\u001b[0m             f, self.layers, skip_mismatch=skip_mismatch)\n\u001b[1;32m   2233\u001b[0m       \u001b[0;32melse\u001b[0m\u001b[0;34m:\u001b[0m\u001b[0;34m\u001b[0m\u001b[0;34m\u001b[0m\u001b[0m\n\u001b[0;32m-> 2234\u001b[0;31m         \u001b[0mhdf5_format\u001b[0m\u001b[0;34m.\u001b[0m\u001b[0mload_weights_from_hdf5_group\u001b[0m\u001b[0;34m(\u001b[0m\u001b[0mf\u001b[0m\u001b[0;34m,\u001b[0m \u001b[0mself\u001b[0m\u001b[0;34m.\u001b[0m\u001b[0mlayers\u001b[0m\u001b[0;34m)\u001b[0m\u001b[0;34m\u001b[0m\u001b[0;34m\u001b[0m\u001b[0m\n\u001b[0m\u001b[1;32m   2235\u001b[0m \u001b[0;34m\u001b[0m\u001b[0m\n\u001b[1;32m   2236\u001b[0m   \u001b[0;32mdef\u001b[0m \u001b[0m_updated_config\u001b[0m\u001b[0;34m(\u001b[0m\u001b[0mself\u001b[0m\u001b[0;34m)\u001b[0m\u001b[0;34m:\u001b[0m\u001b[0;34m\u001b[0m\u001b[0;34m\u001b[0m\u001b[0m\n",
      "\u001b[0;32m~/mambaforge/envs/apple_tensorflow/lib/python3.8/site-packages/tensorflow/python/keras/saving/hdf5_format.py\u001b[0m in \u001b[0;36mload_weights_from_hdf5_group\u001b[0;34m(f, layers)\u001b[0m\n\u001b[1;32m    660\u001b[0m   \"\"\"\n\u001b[1;32m    661\u001b[0m   \u001b[0;32mif\u001b[0m \u001b[0;34m'keras_version'\u001b[0m \u001b[0;32min\u001b[0m \u001b[0mf\u001b[0m\u001b[0;34m.\u001b[0m\u001b[0mattrs\u001b[0m\u001b[0;34m:\u001b[0m\u001b[0;34m\u001b[0m\u001b[0;34m\u001b[0m\u001b[0m\n\u001b[0;32m--> 662\u001b[0;31m     \u001b[0moriginal_keras_version\u001b[0m \u001b[0;34m=\u001b[0m \u001b[0mf\u001b[0m\u001b[0;34m.\u001b[0m\u001b[0mattrs\u001b[0m\u001b[0;34m[\u001b[0m\u001b[0;34m'keras_version'\u001b[0m\u001b[0;34m]\u001b[0m\u001b[0;34m.\u001b[0m\u001b[0mdecode\u001b[0m\u001b[0;34m(\u001b[0m\u001b[0;34m'utf8'\u001b[0m\u001b[0;34m)\u001b[0m\u001b[0;34m\u001b[0m\u001b[0;34m\u001b[0m\u001b[0m\n\u001b[0m\u001b[1;32m    663\u001b[0m   \u001b[0;32melse\u001b[0m\u001b[0;34m:\u001b[0m\u001b[0;34m\u001b[0m\u001b[0;34m\u001b[0m\u001b[0m\n\u001b[1;32m    664\u001b[0m     \u001b[0moriginal_keras_version\u001b[0m \u001b[0;34m=\u001b[0m \u001b[0;34m'1'\u001b[0m\u001b[0;34m\u001b[0m\u001b[0;34m\u001b[0m\u001b[0m\n",
      "\u001b[0;31mAttributeError\u001b[0m: 'str' object has no attribute 'decode'"
     ]
    }
   ],
   "source": [
    "DenseNet_model = DenseNet201(weights='imagenet', include_top=False, input_shape=[IMAGE_DIMENSION, IMAGE_DIMENSION, 3])\n",
    "DenseNet_model.trainable = False\n",
    "\n",
    "model = Sequential([\n",
    "    DenseNet_model,\n",
    "    GlobalAveragePooling2D(),\n",
    "#    layers.Flatten(),\n",
    "    Dropout(0.5, input_shape=(IMAGE_DIMENSION, IMAGE_DIMENSION, 3)),\n",
    "#    Dense(64, activation='relu'),\n",
    "    Dense(NUM_CLASS, activation='softmax')\n",
    "])\n",
    "\n",
    "model.summary()\n",
    "\n",
    "model.compile(optimizer='adam', loss='categorical_crossentropy', metrics='accuracy')"
   ]
  },
  {
   "cell_type": "code",
   "execution_count": null,
   "id": "55ac5d4d",
   "metadata": {
    "scrolled": false
   },
   "outputs": [],
   "source": [
    "model.fit(train_generator, steps_per_epoch=11459 // BATCH_SIZE, epochs=20, \n",
    "          validation_data=val_generator, use_multiprocessing=False)"
   ]
  },
  {
   "cell_type": "markdown",
   "id": "84ca00e9",
   "metadata": {},
   "source": [
    "### WEIRD ATTEMPT HERE"
   ]
  },
  {
   "cell_type": "code",
   "execution_count": 8,
   "id": "a36f2217",
   "metadata": {},
   "outputs": [],
   "source": [
    "def scheduler(epoch, lr):\n",
    "    if epoch < 10:\n",
    "        return lr\n",
    "    else:\n",
    "        return lr * tf.math.exp(-0.1)\n",
    "    \n",
    "lr_callback = LearningRateScheduler(scheduler)"
   ]
  },
  {
   "cell_type": "code",
   "execution_count": 9,
   "id": "f512e5c7",
   "metadata": {},
   "outputs": [
    {
     "name": "stdout",
     "output_type": "stream",
     "text": [
      "Found 11459 images belonging to 104 classes.\n",
      "Found 3710 images belonging to 104 classes.\n",
      "Found 1294 images belonging to 104 classes.\n"
     ]
    }
   ],
   "source": [
    "train_generator = ImageDataGenerator(rescale=1./255, \n",
    "                                     horizontal_flip=True, \n",
    "                                     rotation_range=90,\n",
    "                                     vertical_flip=True,\n",
    "                                     brightness_range=[0.5,1.5],\n",
    "                                     zoom_range=0.2,\n",
    "                                     shear_range=0.2\n",
    "                                    ).flow_from_directory(\n",
    "    TRAIN_DIR,\n",
    "    target_size=(IMAGE_DIMENSION, IMAGE_DIMENSION), \n",
    "    batch_size=TRAIN_BATCH_SIZE,\n",
    "    shuffle=True \n",
    ")\n",
    "\n",
    "val_generator = ImageDataGenerator().flow_from_directory(\n",
    "    VAL_DIR,\n",
    "    target_size=(IMAGE_DIMENSION, IMAGE_DIMENSION),\n",
    "    batch_size=VAL_BATCH_SIZE,\n",
    "    shuffle=True\n",
    ")\n",
    "\n",
    "test_generator = ImageDataGenerator().flow_from_directory(\n",
    "    TEST_DIR,\n",
    "    target_size=(IMAGE_DIMENSION, IMAGE_DIMENSION),\n",
    "    batch_size=TEST_BATCH_SIZE,\n",
    "    shuffle=False\n",
    ")"
   ]
  },
  {
   "cell_type": "code",
   "execution_count": 10,
   "id": "84426eb6",
   "metadata": {},
   "outputs": [
    {
     "ename": "ImportError",
     "evalue": "`load_weights` requires h5py when loading weights from HDF5.",
     "output_type": "error",
     "traceback": [
      "\u001b[0;31m---------------------------------------------------------------------------\u001b[0m",
      "\u001b[0;31mImportError\u001b[0m                               Traceback (most recent call last)",
      "\u001b[0;32m/var/folders/fh/_3l8mb_s4j967nwd3wg1v2d40000gn/T/ipykernel_13678/566271307.py\u001b[0m in \u001b[0;36m<module>\u001b[0;34m\u001b[0m\n\u001b[0;32m----> 1\u001b[0;31m \u001b[0mXception_model\u001b[0m \u001b[0;34m=\u001b[0m \u001b[0mXception\u001b[0m\u001b[0;34m(\u001b[0m\u001b[0mweights\u001b[0m\u001b[0;34m=\u001b[0m\u001b[0;34m'imagenet'\u001b[0m\u001b[0;34m,\u001b[0m \u001b[0minclude_top\u001b[0m\u001b[0;34m=\u001b[0m\u001b[0;32mFalse\u001b[0m\u001b[0;34m,\u001b[0m \u001b[0minput_shape\u001b[0m\u001b[0;34m=\u001b[0m\u001b[0;34m[\u001b[0m\u001b[0mIMAGE_DIMENSION\u001b[0m\u001b[0;34m,\u001b[0m \u001b[0mIMAGE_DIMENSION\u001b[0m\u001b[0;34m,\u001b[0m \u001b[0;36m3\u001b[0m\u001b[0;34m]\u001b[0m\u001b[0;34m)\u001b[0m\u001b[0;34m\u001b[0m\u001b[0;34m\u001b[0m\u001b[0m\n\u001b[0m\u001b[1;32m      2\u001b[0m \u001b[0mXception_model\u001b[0m\u001b[0;34m.\u001b[0m\u001b[0mtrainable\u001b[0m \u001b[0;34m=\u001b[0m \u001b[0;32mFalse\u001b[0m\u001b[0;34m\u001b[0m\u001b[0;34m\u001b[0m\u001b[0m\n\u001b[1;32m      3\u001b[0m \u001b[0;34m\u001b[0m\u001b[0m\n\u001b[1;32m      4\u001b[0m model = Sequential([\n\u001b[1;32m      5\u001b[0m     \u001b[0mXception_model\u001b[0m\u001b[0;34m,\u001b[0m\u001b[0;34m\u001b[0m\u001b[0;34m\u001b[0m\u001b[0m\n",
      "\u001b[0;32m~/mambaforge/envs/apple_tensorflow/lib/python3.8/site-packages/tensorflow/python/keras/applications/xception.py\u001b[0m in \u001b[0;36mXception\u001b[0;34m(include_top, weights, input_tensor, input_shape, pooling, classes, classifier_activation)\u001b[0m\n\u001b[1;32m    309\u001b[0m           \u001b[0mcache_subdir\u001b[0m\u001b[0;34m=\u001b[0m\u001b[0;34m'models'\u001b[0m\u001b[0;34m,\u001b[0m\u001b[0;34m\u001b[0m\u001b[0;34m\u001b[0m\u001b[0m\n\u001b[1;32m    310\u001b[0m           file_hash='b0042744bf5b25fce3cb969f33bebb97')\n\u001b[0;32m--> 311\u001b[0;31m     \u001b[0mmodel\u001b[0m\u001b[0;34m.\u001b[0m\u001b[0mload_weights\u001b[0m\u001b[0;34m(\u001b[0m\u001b[0mweights_path\u001b[0m\u001b[0;34m)\u001b[0m\u001b[0;34m\u001b[0m\u001b[0;34m\u001b[0m\u001b[0m\n\u001b[0m\u001b[1;32m    312\u001b[0m   \u001b[0;32melif\u001b[0m \u001b[0mweights\u001b[0m \u001b[0;32mis\u001b[0m \u001b[0;32mnot\u001b[0m \u001b[0;32mNone\u001b[0m\u001b[0;34m:\u001b[0m\u001b[0;34m\u001b[0m\u001b[0;34m\u001b[0m\u001b[0m\n\u001b[1;32m    313\u001b[0m     \u001b[0mmodel\u001b[0m\u001b[0;34m.\u001b[0m\u001b[0mload_weights\u001b[0m\u001b[0;34m(\u001b[0m\u001b[0mweights\u001b[0m\u001b[0;34m)\u001b[0m\u001b[0;34m\u001b[0m\u001b[0;34m\u001b[0m\u001b[0m\n",
      "\u001b[0;32m~/mambaforge/envs/apple_tensorflow/lib/python3.8/site-packages/tensorflow/python/keras/engine/training.py\u001b[0m in \u001b[0;36mload_weights\u001b[0;34m(self, filepath, by_name, skip_mismatch, options)\u001b[0m\n\u001b[1;32m   2217\u001b[0m       \u001b[0;32mreturn\u001b[0m \u001b[0mstatus\u001b[0m\u001b[0;34m\u001b[0m\u001b[0;34m\u001b[0m\u001b[0m\n\u001b[1;32m   2218\u001b[0m     \u001b[0;32mif\u001b[0m \u001b[0mh5py\u001b[0m \u001b[0;32mis\u001b[0m \u001b[0;32mNone\u001b[0m\u001b[0;34m:\u001b[0m\u001b[0;34m\u001b[0m\u001b[0;34m\u001b[0m\u001b[0m\n\u001b[0;32m-> 2219\u001b[0;31m       raise ImportError(\n\u001b[0m\u001b[1;32m   2220\u001b[0m           '`load_weights` requires h5py when loading weights from HDF5.')\n\u001b[1;32m   2221\u001b[0m     \u001b[0;32mif\u001b[0m \u001b[0;32mnot\u001b[0m \u001b[0mself\u001b[0m\u001b[0;34m.\u001b[0m\u001b[0m_is_graph_network\u001b[0m \u001b[0;32mand\u001b[0m \u001b[0;32mnot\u001b[0m \u001b[0mself\u001b[0m\u001b[0;34m.\u001b[0m\u001b[0mbuilt\u001b[0m\u001b[0;34m:\u001b[0m\u001b[0;34m\u001b[0m\u001b[0;34m\u001b[0m\u001b[0m\n",
      "\u001b[0;31mImportError\u001b[0m: `load_weights` requires h5py when loading weights from HDF5."
     ]
    }
   ],
   "source": [
    "Xception_model = Xception(weights='imagenet', include_top=False, input_shape=[IMAGE_DIMENSION, IMAGE_DIMENSION, 3])\n",
    "Xception_model.trainable = False\n",
    "\n",
    "model = Sequential([\n",
    "    Xception_model,\n",
    "    GlobalAveragePooling2D(),\n",
    "    layers.Flatten(),\n",
    "#    Dropout(0.5, input_shape=(IMAGE_DIMENSION, IMAGE_DIMENSION, 3)),\n",
    "#    Dense(64, activation='relu'),\n",
    "    Dense(NUM_CLASS, activation='softmax')\n",
    "])\n",
    "\n",
    "model.summary()\n",
    "\n",
    "model.compile(optimizer='adam', loss='categorical_crossentropy', metrics='accuracy')"
   ]
  },
  {
   "cell_type": "code",
   "execution_count": 13,
   "id": "d33d1503",
   "metadata": {},
   "outputs": [
    {
     "name": "stdout",
     "output_type": "stream",
     "text": [
      "Epoch 1/20\n",
      "WARNING:tensorflow:AutoGraph could not transform <function Model.make_train_function.<locals>.train_function at 0x2f4ba71f0> and will run it as-is.\n",
      "Please report this to the TensorFlow team. When filing the bug, set the verbosity to 10 (on Linux, `export AUTOGRAPH_VERBOSITY=10`) and attach the full output.\n",
      "Cause: unsupported operand type(s) for -: 'NoneType' and 'int'\n",
      "To silence this warning, decorate the function with @tf.autograph.experimental.do_not_convert\n",
      "WARNING: AutoGraph could not transform <function Model.make_train_function.<locals>.train_function at 0x2f4ba71f0> and will run it as-is.\n",
      "Please report this to the TensorFlow team. When filing the bug, set the verbosity to 10 (on Linux, `export AUTOGRAPH_VERBOSITY=10`) and attach the full output.\n",
      "Cause: unsupported operand type(s) for -: 'NoneType' and 'int'\n",
      "To silence this warning, decorate the function with @tf.autograph.experimental.do_not_convert\n",
      "1145/1145 [==============================] - ETA: 0s - loss: 3.5389 - accuracy: 0.2547WARNING:tensorflow:AutoGraph could not transform <function Model.make_test_function.<locals>.test_function at 0x17fbcd1f0> and will run it as-is.\n",
      "Please report this to the TensorFlow team. When filing the bug, set the verbosity to 10 (on Linux, `export AUTOGRAPH_VERBOSITY=10`) and attach the full output.\n",
      "Cause: unsupported operand type(s) for -: 'NoneType' and 'int'\n",
      "To silence this warning, decorate the function with @tf.autograph.experimental.do_not_convert\n",
      "WARNING: AutoGraph could not transform <function Model.make_test_function.<locals>.test_function at 0x17fbcd1f0> and will run it as-is.\n",
      "Please report this to the TensorFlow team. When filing the bug, set the verbosity to 10 (on Linux, `export AUTOGRAPH_VERBOSITY=10`) and attach the full output.\n",
      "Cause: unsupported operand type(s) for -: 'NoneType' and 'int'\n",
      "To silence this warning, decorate the function with @tf.autograph.experimental.do_not_convert\n",
      "1145/1145 [==============================] - 386s 336ms/step - loss: 3.5385 - accuracy: 0.2547 - val_loss: 385.8642 - val_accuracy: 0.0116\n",
      "Epoch 2/20\n",
      "1145/1145 [==============================] - 386s 337ms/step - loss: 2.1638 - accuracy: 0.4960 - val_loss: 712.2999 - val_accuracy: 0.0221\n",
      "Epoch 3/20\n",
      "  40/1145 [>.............................] - ETA: 4:48 - loss: 1.9368 - accuracy: 0.5162"
     ]
    },
    {
     "ename": "KeyboardInterrupt",
     "evalue": "",
     "output_type": "error",
     "traceback": [
      "\u001b[0;31m---------------------------------------------------------------------------\u001b[0m",
      "\u001b[0;31mKeyboardInterrupt\u001b[0m                         Traceback (most recent call last)",
      "\u001b[0;32m/var/folders/fh/_3l8mb_s4j967nwd3wg1v2d40000gn/T/ipykernel_13086/483433994.py\u001b[0m in \u001b[0;36m<module>\u001b[0;34m\u001b[0m\n\u001b[0;32m----> 1\u001b[0;31m model.fit(train_generator, steps_per_epoch=11459 // BATCH_SIZE, epochs=20, \n\u001b[0m\u001b[1;32m      2\u001b[0m           validation_data=val_generator, use_multiprocessing=False)\n",
      "\u001b[0;32m~/mambaforge/envs/apple_tensorflow/lib/python3.8/site-packages/tensorflow/python/keras/engine/training.py\u001b[0m in \u001b[0;36mfit\u001b[0;34m(self, x, y, batch_size, epochs, verbose, callbacks, validation_split, validation_data, shuffle, class_weight, sample_weight, initial_epoch, steps_per_epoch, validation_steps, validation_batch_size, validation_freq, max_queue_size, workers, use_multiprocessing)\u001b[0m\n\u001b[1;32m   1098\u001b[0m                 _r=1):\n\u001b[1;32m   1099\u001b[0m               \u001b[0mcallbacks\u001b[0m\u001b[0;34m.\u001b[0m\u001b[0mon_train_batch_begin\u001b[0m\u001b[0;34m(\u001b[0m\u001b[0mstep\u001b[0m\u001b[0;34m)\u001b[0m\u001b[0;34m\u001b[0m\u001b[0;34m\u001b[0m\u001b[0m\n\u001b[0;32m-> 1100\u001b[0;31m               \u001b[0mtmp_logs\u001b[0m \u001b[0;34m=\u001b[0m \u001b[0mself\u001b[0m\u001b[0;34m.\u001b[0m\u001b[0mtrain_function\u001b[0m\u001b[0;34m(\u001b[0m\u001b[0miterator\u001b[0m\u001b[0;34m)\u001b[0m\u001b[0;34m\u001b[0m\u001b[0;34m\u001b[0m\u001b[0m\n\u001b[0m\u001b[1;32m   1101\u001b[0m               \u001b[0;32mif\u001b[0m \u001b[0mdata_handler\u001b[0m\u001b[0;34m.\u001b[0m\u001b[0mshould_sync\u001b[0m\u001b[0;34m:\u001b[0m\u001b[0;34m\u001b[0m\u001b[0;34m\u001b[0m\u001b[0m\n\u001b[1;32m   1102\u001b[0m                 \u001b[0mcontext\u001b[0m\u001b[0;34m.\u001b[0m\u001b[0masync_wait\u001b[0m\u001b[0;34m(\u001b[0m\u001b[0;34m)\u001b[0m\u001b[0;34m\u001b[0m\u001b[0;34m\u001b[0m\u001b[0m\n",
      "\u001b[0;32m~/mambaforge/envs/apple_tensorflow/lib/python3.8/site-packages/tensorflow/python/eager/def_function.py\u001b[0m in \u001b[0;36m__call__\u001b[0;34m(self, *args, **kwds)\u001b[0m\n\u001b[1;32m    826\u001b[0m     \u001b[0mtracing_count\u001b[0m \u001b[0;34m=\u001b[0m \u001b[0mself\u001b[0m\u001b[0;34m.\u001b[0m\u001b[0mexperimental_get_tracing_count\u001b[0m\u001b[0;34m(\u001b[0m\u001b[0;34m)\u001b[0m\u001b[0;34m\u001b[0m\u001b[0;34m\u001b[0m\u001b[0m\n\u001b[1;32m    827\u001b[0m     \u001b[0;32mwith\u001b[0m \u001b[0mtrace\u001b[0m\u001b[0;34m.\u001b[0m\u001b[0mTrace\u001b[0m\u001b[0;34m(\u001b[0m\u001b[0mself\u001b[0m\u001b[0;34m.\u001b[0m\u001b[0m_name\u001b[0m\u001b[0;34m)\u001b[0m \u001b[0;32mas\u001b[0m \u001b[0mtm\u001b[0m\u001b[0;34m:\u001b[0m\u001b[0;34m\u001b[0m\u001b[0;34m\u001b[0m\u001b[0m\n\u001b[0;32m--> 828\u001b[0;31m       \u001b[0mresult\u001b[0m \u001b[0;34m=\u001b[0m \u001b[0mself\u001b[0m\u001b[0;34m.\u001b[0m\u001b[0m_call\u001b[0m\u001b[0;34m(\u001b[0m\u001b[0;34m*\u001b[0m\u001b[0margs\u001b[0m\u001b[0;34m,\u001b[0m \u001b[0;34m**\u001b[0m\u001b[0mkwds\u001b[0m\u001b[0;34m)\u001b[0m\u001b[0;34m\u001b[0m\u001b[0;34m\u001b[0m\u001b[0m\n\u001b[0m\u001b[1;32m    829\u001b[0m       \u001b[0mcompiler\u001b[0m \u001b[0;34m=\u001b[0m \u001b[0;34m\"xla\"\u001b[0m \u001b[0;32mif\u001b[0m \u001b[0mself\u001b[0m\u001b[0;34m.\u001b[0m\u001b[0m_experimental_compile\u001b[0m \u001b[0;32melse\u001b[0m \u001b[0;34m\"nonXla\"\u001b[0m\u001b[0;34m\u001b[0m\u001b[0;34m\u001b[0m\u001b[0m\n\u001b[1;32m    830\u001b[0m       \u001b[0mnew_tracing_count\u001b[0m \u001b[0;34m=\u001b[0m \u001b[0mself\u001b[0m\u001b[0;34m.\u001b[0m\u001b[0mexperimental_get_tracing_count\u001b[0m\u001b[0;34m(\u001b[0m\u001b[0;34m)\u001b[0m\u001b[0;34m\u001b[0m\u001b[0;34m\u001b[0m\u001b[0m\n",
      "\u001b[0;32m~/mambaforge/envs/apple_tensorflow/lib/python3.8/site-packages/tensorflow/python/eager/def_function.py\u001b[0m in \u001b[0;36m_call\u001b[0;34m(self, *args, **kwds)\u001b[0m\n\u001b[1;32m    853\u001b[0m       \u001b[0;31m# In this case we have created variables on the first call, so we run the\u001b[0m\u001b[0;34m\u001b[0m\u001b[0;34m\u001b[0m\u001b[0;34m\u001b[0m\u001b[0m\n\u001b[1;32m    854\u001b[0m       \u001b[0;31m# defunned version which is guaranteed to never create variables.\u001b[0m\u001b[0;34m\u001b[0m\u001b[0;34m\u001b[0m\u001b[0;34m\u001b[0m\u001b[0m\n\u001b[0;32m--> 855\u001b[0;31m       \u001b[0;32mreturn\u001b[0m \u001b[0mself\u001b[0m\u001b[0;34m.\u001b[0m\u001b[0m_stateless_fn\u001b[0m\u001b[0;34m(\u001b[0m\u001b[0;34m*\u001b[0m\u001b[0margs\u001b[0m\u001b[0;34m,\u001b[0m \u001b[0;34m**\u001b[0m\u001b[0mkwds\u001b[0m\u001b[0;34m)\u001b[0m  \u001b[0;31m# pylint: disable=not-callable\u001b[0m\u001b[0;34m\u001b[0m\u001b[0;34m\u001b[0m\u001b[0m\n\u001b[0m\u001b[1;32m    856\u001b[0m     \u001b[0;32melif\u001b[0m \u001b[0mself\u001b[0m\u001b[0;34m.\u001b[0m\u001b[0m_stateful_fn\u001b[0m \u001b[0;32mis\u001b[0m \u001b[0;32mnot\u001b[0m \u001b[0;32mNone\u001b[0m\u001b[0;34m:\u001b[0m\u001b[0;34m\u001b[0m\u001b[0;34m\u001b[0m\u001b[0m\n\u001b[1;32m    857\u001b[0m       \u001b[0;31m# Release the lock early so that multiple threads can perform the call\u001b[0m\u001b[0;34m\u001b[0m\u001b[0;34m\u001b[0m\u001b[0;34m\u001b[0m\u001b[0m\n",
      "\u001b[0;32m~/mambaforge/envs/apple_tensorflow/lib/python3.8/site-packages/tensorflow/python/eager/function.py\u001b[0m in \u001b[0;36m__call__\u001b[0;34m(self, *args, **kwargs)\u001b[0m\n\u001b[1;32m   2940\u001b[0m       (graph_function,\n\u001b[1;32m   2941\u001b[0m        filtered_flat_args) = self._maybe_define_function(args, kwargs)\n\u001b[0;32m-> 2942\u001b[0;31m     return graph_function._call_flat(\n\u001b[0m\u001b[1;32m   2943\u001b[0m         filtered_flat_args, captured_inputs=graph_function.captured_inputs)  # pylint: disable=protected-access\n\u001b[1;32m   2944\u001b[0m \u001b[0;34m\u001b[0m\u001b[0m\n",
      "\u001b[0;32m~/mambaforge/envs/apple_tensorflow/lib/python3.8/site-packages/tensorflow/python/eager/function.py\u001b[0m in \u001b[0;36m_call_flat\u001b[0;34m(self, args, captured_inputs, cancellation_manager)\u001b[0m\n\u001b[1;32m   1916\u001b[0m         and executing_eagerly):\n\u001b[1;32m   1917\u001b[0m       \u001b[0;31m# No tape is watching; skip to running the function.\u001b[0m\u001b[0;34m\u001b[0m\u001b[0;34m\u001b[0m\u001b[0;34m\u001b[0m\u001b[0m\n\u001b[0;32m-> 1918\u001b[0;31m       return self._build_call_outputs(self._inference_function.call(\n\u001b[0m\u001b[1;32m   1919\u001b[0m           ctx, args, cancellation_manager=cancellation_manager))\n\u001b[1;32m   1920\u001b[0m     forward_backward = self._select_forward_and_backward_functions(\n",
      "\u001b[0;32m~/mambaforge/envs/apple_tensorflow/lib/python3.8/site-packages/tensorflow/python/eager/function.py\u001b[0m in \u001b[0;36mcall\u001b[0;34m(self, ctx, args, cancellation_manager)\u001b[0m\n\u001b[1;32m    553\u001b[0m       \u001b[0;32mwith\u001b[0m \u001b[0m_InterpolateFunctionError\u001b[0m\u001b[0;34m(\u001b[0m\u001b[0mself\u001b[0m\u001b[0;34m)\u001b[0m\u001b[0;34m:\u001b[0m\u001b[0;34m\u001b[0m\u001b[0;34m\u001b[0m\u001b[0m\n\u001b[1;32m    554\u001b[0m         \u001b[0;32mif\u001b[0m \u001b[0mcancellation_manager\u001b[0m \u001b[0;32mis\u001b[0m \u001b[0;32mNone\u001b[0m\u001b[0;34m:\u001b[0m\u001b[0;34m\u001b[0m\u001b[0;34m\u001b[0m\u001b[0m\n\u001b[0;32m--> 555\u001b[0;31m           outputs = execute.execute(\n\u001b[0m\u001b[1;32m    556\u001b[0m               \u001b[0mstr\u001b[0m\u001b[0;34m(\u001b[0m\u001b[0mself\u001b[0m\u001b[0;34m.\u001b[0m\u001b[0msignature\u001b[0m\u001b[0;34m.\u001b[0m\u001b[0mname\u001b[0m\u001b[0;34m)\u001b[0m\u001b[0;34m,\u001b[0m\u001b[0;34m\u001b[0m\u001b[0;34m\u001b[0m\u001b[0m\n\u001b[1;32m    557\u001b[0m               \u001b[0mnum_outputs\u001b[0m\u001b[0;34m=\u001b[0m\u001b[0mself\u001b[0m\u001b[0;34m.\u001b[0m\u001b[0m_num_outputs\u001b[0m\u001b[0;34m,\u001b[0m\u001b[0;34m\u001b[0m\u001b[0;34m\u001b[0m\u001b[0m\n",
      "\u001b[0;32m~/mambaforge/envs/apple_tensorflow/lib/python3.8/site-packages/tensorflow/python/eager/execute.py\u001b[0m in \u001b[0;36mquick_execute\u001b[0;34m(op_name, num_outputs, inputs, attrs, ctx, name)\u001b[0m\n\u001b[1;32m     57\u001b[0m   \u001b[0;32mtry\u001b[0m\u001b[0;34m:\u001b[0m\u001b[0;34m\u001b[0m\u001b[0;34m\u001b[0m\u001b[0m\n\u001b[1;32m     58\u001b[0m     \u001b[0mctx\u001b[0m\u001b[0;34m.\u001b[0m\u001b[0mensure_initialized\u001b[0m\u001b[0;34m(\u001b[0m\u001b[0;34m)\u001b[0m\u001b[0;34m\u001b[0m\u001b[0;34m\u001b[0m\u001b[0m\n\u001b[0;32m---> 59\u001b[0;31m     tensors = pywrap_tfe.TFE_Py_Execute(ctx._handle, device_name, op_name,\n\u001b[0m\u001b[1;32m     60\u001b[0m                                         inputs, attrs, num_outputs)\n\u001b[1;32m     61\u001b[0m   \u001b[0;32mexcept\u001b[0m \u001b[0mcore\u001b[0m\u001b[0;34m.\u001b[0m\u001b[0m_NotOkStatusException\u001b[0m \u001b[0;32mas\u001b[0m \u001b[0me\u001b[0m\u001b[0;34m:\u001b[0m\u001b[0;34m\u001b[0m\u001b[0;34m\u001b[0m\u001b[0m\n",
      "\u001b[0;31mKeyboardInterrupt\u001b[0m: "
     ]
    }
   ],
   "source": [
    "model.fit(train_generator, steps_per_epoch=11459 // BATCH_SIZE, epochs=20, \n",
    "          validation_data=val_generator, use_multiprocessing=False)"
   ]
  },
  {
   "cell_type": "markdown",
   "id": "46895f32",
   "metadata": {},
   "source": [
    "### try a different pretrained model. ENet B7"
   ]
  },
  {
   "cell_type": "markdown",
   "id": "4cd22f0a",
   "metadata": {},
   "source": [
    "### ensemble for more trained images"
   ]
  },
  {
   "cell_type": "markdown",
   "id": "cea398cd",
   "metadata": {},
   "source": [
    "### removal of transfer learning"
   ]
  },
  {
   "cell_type": "code",
   "execution_count": 14,
   "id": "e0e1d442",
   "metadata": {},
   "outputs": [
    {
     "name": "stdout",
     "output_type": "stream",
     "text": [
      "Found 11459 images belonging to 104 classes.\n",
      "Found 3710 images belonging to 104 classes.\n",
      "Found 1294 images belonging to 104 classes.\n"
     ]
    }
   ],
   "source": [
    "train_generator = ImageDataGenerator(rescale=1./255, \n",
    "                                     horizontal_flip=True, \n",
    "                                     rotation_range=90,\n",
    "                                     vertical_flip=True,\n",
    "                                     brightness_range=[0.5,1.5],\n",
    "                                     zoom_range=0.2,\n",
    "                                     shear_range=0.2\n",
    "                                    ).flow_from_directory(\n",
    "    TRAIN_DIR,\n",
    "    target_size=(IMAGE_DIMENSION, IMAGE_DIMENSION), \n",
    "    batch_size=TRAIN_BATCH_SIZE,\n",
    "    shuffle=True \n",
    ")\n",
    "\n",
    "val_generator = ImageDataGenerator().flow_from_directory(\n",
    "    VAL_DIR,\n",
    "    target_size=(IMAGE_DIMENSION, IMAGE_DIMENSION),\n",
    "    batch_size=VAL_BATCH_SIZE,\n",
    "    shuffle=True\n",
    ")\n",
    "\n",
    "test_generator = ImageDataGenerator().flow_from_directory(\n",
    "    TEST_DIR,\n",
    "    target_size=(IMAGE_DIMENSION, IMAGE_DIMENSION),\n",
    "    batch_size=TEST_BATCH_SIZE,\n",
    "    shuffle=False\n",
    ")"
   ]
  },
  {
   "cell_type": "code",
   "execution_count": 15,
   "id": "59961d04",
   "metadata": {},
   "outputs": [
    {
     "name": "stdout",
     "output_type": "stream",
     "text": [
      "Model: \"sequential_2\"\n",
      "_________________________________________________________________\n",
      "Layer (type)                 Output Shape              Param #   \n",
      "=================================================================\n",
      "conv2d_10 (Conv2D)           (None, 192, 192, 32)      416       \n",
      "_________________________________________________________________\n",
      "max_pooling2d_4 (MaxPooling2 (None, 96, 96, 32)        0         \n",
      "_________________________________________________________________\n",
      "batch_normalization_4 (Batch (None, 96, 96, 32)        128       \n",
      "_________________________________________________________________\n",
      "conv2d_11 (Conv2D)           (None, 94, 94, 16)        4624      \n",
      "_________________________________________________________________\n",
      "max_pooling2d_5 (MaxPooling2 (None, 47, 47, 16)        0         \n",
      "_________________________________________________________________\n",
      "dropout_2 (Dropout)          (None, 47, 47, 16)        0         \n",
      "_________________________________________________________________\n",
      "conv2d_12 (Conv2D)           (None, 45, 46, 4)         388       \n",
      "_________________________________________________________________\n",
      "dropout_3 (Dropout)          (None, 45, 46, 4)         0         \n",
      "_________________________________________________________________\n",
      "flatten_2 (Flatten)          (None, 8280)              0         \n",
      "_________________________________________________________________\n",
      "dense_4 (Dense)              (None, 64)                529984    \n",
      "_________________________________________________________________\n",
      "dense_5 (Dense)              (None, 104)               6760      \n",
      "_________________________________________________________________\n",
      "activation_2 (Activation)    (None, 104)               0         \n",
      "=================================================================\n",
      "Total params: 542,300\n",
      "Trainable params: 542,236\n",
      "Non-trainable params: 64\n",
      "_________________________________________________________________\n"
     ]
    }
   ],
   "source": [
    "model = models.Sequential()\n",
    "model.add(layers.Conv2D(filters=32, \n",
    "                        kernel_size=(2,2),\n",
    "                        strides=(1,1),\n",
    "                        activation='relu',\n",
    "                        padding = 'same',\n",
    "                        input_shape=(IMAGE_DIMENSION, IMAGE_DIMENSION, 3),\n",
    "                        data_format = 'channels_last'))\n",
    "model.add(layers.MaxPooling2D((2,2)))\n",
    "model.add(layers.BatchNormalization())\n",
    "model.add(layers.Conv2D(16, (3,3), activation='relu'))\n",
    "model.add(layers.MaxPooling2D((2,2)))\n",
    "model.add(layers.Dropout(0.70, input_shape=(IMAGE_DIMENSION, IMAGE_DIMENSION, 3)))\n",
    "model.add(layers.Conv2D(4, (3,2), activation='relu'))\n",
    "model.add(layers.Dropout(0.5, input_shape=(IMAGE_DIMENSION, IMAGE_DIMENSION, 3)))\n",
    "model.add(layers.Flatten())\n",
    "model.add(layers.Dense(64, activation='relu'))\n",
    "model.add(layers.Dense(NUM_CLASS)) # output layer\n",
    "model.add(layers.Activation('sigmoid'))\n",
    "\n",
    "model.summary()\n",
    "\n",
    "model.compile(optimizer='adam',\n",
    "              loss='categorical_crossentropy',\n",
    "              metrics=['accuracy'])"
   ]
  },
  {
   "cell_type": "code",
   "execution_count": 16,
   "id": "88f46d10",
   "metadata": {
    "scrolled": false
   },
   "outputs": [
    {
     "name": "stdout",
     "output_type": "stream",
     "text": [
      "Epoch 1/25\n",
      "WARNING:tensorflow:AutoGraph could not transform <function Model.make_train_function.<locals>.train_function at 0x2d82564c0> and will run it as-is.\n",
      "Please report this to the TensorFlow team. When filing the bug, set the verbosity to 10 (on Linux, `export AUTOGRAPH_VERBOSITY=10`) and attach the full output.\n",
      "Cause: unsupported operand type(s) for -: 'NoneType' and 'int'\n",
      "To silence this warning, decorate the function with @tf.autograph.experimental.do_not_convert\n",
      "WARNING: AutoGraph could not transform <function Model.make_train_function.<locals>.train_function at 0x2d82564c0> and will run it as-is.\n",
      "Please report this to the TensorFlow team. When filing the bug, set the verbosity to 10 (on Linux, `export AUTOGRAPH_VERBOSITY=10`) and attach the full output.\n",
      "Cause: unsupported operand type(s) for -: 'NoneType' and 'int'\n",
      "To silence this warning, decorate the function with @tf.autograph.experimental.do_not_convert\n",
      "1145/1145 [==============================] - ETA: 0s - loss: 4.2987 - accuracy: 0.0631WARNING:tensorflow:AutoGraph could not transform <function Model.make_test_function.<locals>.test_function at 0x17258d160> and will run it as-is.\n",
      "Please report this to the TensorFlow team. When filing the bug, set the verbosity to 10 (on Linux, `export AUTOGRAPH_VERBOSITY=10`) and attach the full output.\n",
      "Cause: unsupported operand type(s) for -: 'NoneType' and 'int'\n",
      "To silence this warning, decorate the function with @tf.autograph.experimental.do_not_convert\n",
      "WARNING: AutoGraph could not transform <function Model.make_test_function.<locals>.test_function at 0x17258d160> and will run it as-is.\n",
      "Please report this to the TensorFlow team. When filing the bug, set the verbosity to 10 (on Linux, `export AUTOGRAPH_VERBOSITY=10`) and attach the full output.\n",
      "Cause: unsupported operand type(s) for -: 'NoneType' and 'int'\n",
      "To silence this warning, decorate the function with @tf.autograph.experimental.do_not_convert\n",
      "1145/1145 [==============================] - 75s 65ms/step - loss: 4.2986 - accuracy: 0.0631 - val_loss: 4.6266 - val_accuracy: 0.0361\n",
      "Epoch 2/25\n",
      "1145/1145 [==============================] - 75s 66ms/step - loss: 3.9596 - accuracy: 0.0891 - val_loss: 22.4009 - val_accuracy: 0.0402\n",
      "Epoch 3/25\n",
      "1145/1145 [==============================] - 75s 65ms/step - loss: 3.7988 - accuracy: 0.1024 - val_loss: 87.8962 - val_accuracy: 0.0555\n",
      "Epoch 4/25\n",
      "1145/1145 [==============================] - 76s 66ms/step - loss: 3.7347 - accuracy: 0.1094 - val_loss: 33.3124 - val_accuracy: 0.0523\n",
      "Epoch 5/25\n",
      "1145/1145 [==============================] - 75s 66ms/step - loss: 3.6525 - accuracy: 0.1110 - val_loss: 51.2424 - val_accuracy: 0.0544\n",
      "Epoch 6/25\n",
      "1145/1145 [==============================] - 75s 66ms/step - loss: 3.6823 - accuracy: 0.1132 - val_loss: 94.6410 - val_accuracy: 0.0601\n",
      "Epoch 7/25\n",
      "1145/1145 [==============================] - 74s 64ms/step - loss: 3.6455 - accuracy: 0.1259 - val_loss: 48.5730 - val_accuracy: 0.0466\n",
      "Epoch 8/25\n",
      "1145/1145 [==============================] - 72s 63ms/step - loss: 3.5996 - accuracy: 0.1248 - val_loss: 63.9997 - val_accuracy: 0.0596\n",
      "Epoch 9/25\n",
      "1145/1145 [==============================] - 74s 65ms/step - loss: 3.5840 - accuracy: 0.1238 - val_loss: 58.9102 - val_accuracy: 0.0515\n",
      "Epoch 10/25\n",
      "1145/1145 [==============================] - 76s 67ms/step - loss: 3.5454 - accuracy: 0.1332 - val_loss: 55.0750 - val_accuracy: 0.0636\n",
      "Epoch 11/25\n",
      "1145/1145 [==============================] - 77s 67ms/step - loss: 3.5893 - accuracy: 0.1288 - val_loss: 106.3863 - val_accuracy: 0.0628\n",
      "Epoch 12/25\n",
      "1145/1145 [==============================] - 75s 65ms/step - loss: 3.6079 - accuracy: 0.1269 - val_loss: 93.4040 - val_accuracy: 0.0749\n",
      "Epoch 13/25\n",
      "1145/1145 [==============================] - 75s 66ms/step - loss: 3.5762 - accuracy: 0.1292 - val_loss: 120.4898 - val_accuracy: 0.0682\n",
      "Epoch 14/25\n",
      "1145/1145 [==============================] - 75s 65ms/step - loss: 3.5805 - accuracy: 0.1329 - val_loss: 141.4276 - val_accuracy: 0.0402\n",
      "Epoch 15/25\n",
      "1145/1145 [==============================] - 73s 64ms/step - loss: 3.5574 - accuracy: 0.1268 - val_loss: 64.5107 - val_accuracy: 0.0493\n",
      "Epoch 16/25\n",
      "1145/1145 [==============================] - 73s 64ms/step - loss: 3.5996 - accuracy: 0.1379 - val_loss: 117.0594 - val_accuracy: 0.0617\n",
      "Epoch 17/25\n",
      "1145/1145 [==============================] - 74s 64ms/step - loss: 3.5719 - accuracy: 0.1278 - val_loss: 227.8199 - val_accuracy: 0.0663\n",
      "Epoch 18/25\n",
      "1145/1145 [==============================] - 74s 64ms/step - loss: 3.5614 - accuracy: 0.1304 - val_loss: 247.5011 - val_accuracy: 0.0666\n",
      "Epoch 19/25\n",
      "1145/1145 [==============================] - 76s 66ms/step - loss: 3.6342 - accuracy: 0.1294 - val_loss: 249.2863 - val_accuracy: 0.0606\n",
      "Epoch 20/25\n",
      "1145/1145 [==============================] - 77s 67ms/step - loss: 3.6075 - accuracy: 0.1297 - val_loss: 114.7423 - val_accuracy: 0.0660\n",
      "Epoch 21/25\n",
      "1145/1145 [==============================] - 77s 67ms/step - loss: 3.5735 - accuracy: 0.1386 - val_loss: 152.0242 - val_accuracy: 0.0501\n",
      "Epoch 22/25\n",
      "1145/1145 [==============================] - 74s 65ms/step - loss: 3.5878 - accuracy: 0.1246 - val_loss: 148.4701 - val_accuracy: 0.0671\n",
      "Epoch 23/25\n",
      "1145/1145 [==============================] - 74s 65ms/step - loss: 3.6005 - accuracy: 0.1304 - val_loss: 142.6960 - val_accuracy: 0.0609\n",
      "Epoch 24/25\n",
      "1145/1145 [==============================] - 74s 65ms/step - loss: 3.6053 - accuracy: 0.1307 - val_loss: 237.4102 - val_accuracy: 0.0582\n",
      "Epoch 25/25\n",
      "1145/1145 [==============================] - 74s 65ms/step - loss: 3.6182 - accuracy: 0.1290 - val_loss: 146.2400 - val_accuracy: 0.0666\n"
     ]
    },
    {
     "data": {
      "text/plain": [
       "<tensorflow.python.keras.callbacks.History at 0x2a9d7cc40>"
      ]
     },
     "execution_count": 16,
     "metadata": {},
     "output_type": "execute_result"
    }
   ],
   "source": [
    "model.fit(train_generator, steps_per_epoch=11459 // BATCH_SIZE, epochs=25,\n",
    "          validation_data=val_generator, use_multiprocessing=False)"
   ]
  },
  {
   "cell_type": "markdown",
   "id": "59edb70e",
   "metadata": {},
   "source": [
    "### replace flatten with global average pooling"
   ]
  },
  {
   "cell_type": "code",
   "execution_count": 25,
   "id": "214a629c",
   "metadata": {},
   "outputs": [
    {
     "name": "stdout",
     "output_type": "stream",
     "text": [
      "Found 11459 images belonging to 104 classes.\n",
      "Found 3710 images belonging to 104 classes.\n",
      "Found 1294 images belonging to 104 classes.\n"
     ]
    }
   ],
   "source": [
    "train_generator = ImageDataGenerator(rescale=1./255, \n",
    "                                     horizontal_flip=True, \n",
    "                                     rotation_range=90,\n",
    "                                     vertical_flip=True,\n",
    "                                     brightness_range=[0.5,1.5],\n",
    "                                     zoom_range=0.2,\n",
    "                                     shear_range=0.2,\n",
    "                                    ).flow_from_directory(\n",
    "    TRAIN_DIR,\n",
    "    target_size=(IMAGE_DIMENSION, IMAGE_DIMENSION), \n",
    "    batch_size=TRAIN_BATCH_SIZE,\n",
    "    shuffle=True \n",
    ")\n",
    "\n",
    "val_generator = ImageDataGenerator().flow_from_directory(\n",
    "    VAL_DIR,\n",
    "    target_size=(IMAGE_DIMENSION, IMAGE_DIMENSION),\n",
    "    batch_size=VAL_BATCH_SIZE,\n",
    "    shuffle=True\n",
    ")\n",
    "\n",
    "test_generator = ImageDataGenerator().flow_from_directory(\n",
    "    TEST_DIR,\n",
    "    target_size=(IMAGE_DIMENSION, IMAGE_DIMENSION),\n",
    "    batch_size=TEST_BATCH_SIZE,\n",
    "    shuffle=False\n",
    ")"
   ]
  },
  {
   "cell_type": "code",
   "execution_count": 26,
   "id": "fe655f16",
   "metadata": {},
   "outputs": [
    {
     "name": "stdout",
     "output_type": "stream",
     "text": [
      "Model: \"sequential_4\"\n",
      "_________________________________________________________________\n",
      "Layer (type)                 Output Shape              Param #   \n",
      "=================================================================\n",
      "conv2d_16 (Conv2D)           (None, 192, 192, 32)      416       \n",
      "_________________________________________________________________\n",
      "max_pooling2d_8 (MaxPooling2 (None, 96, 96, 32)        0         \n",
      "_________________________________________________________________\n",
      "batch_normalization_6 (Batch (None, 96, 96, 32)        128       \n",
      "_________________________________________________________________\n",
      "conv2d_17 (Conv2D)           (None, 94, 94, 16)        4624      \n",
      "_________________________________________________________________\n",
      "max_pooling2d_9 (MaxPooling2 (None, 47, 47, 16)        0         \n",
      "_________________________________________________________________\n",
      "dropout_6 (Dropout)          (None, 47, 47, 16)        0         \n",
      "_________________________________________________________________\n",
      "conv2d_18 (Conv2D)           (None, 45, 46, 4)         388       \n",
      "_________________________________________________________________\n",
      "dropout_7 (Dropout)          (None, 45, 46, 4)         0         \n",
      "_________________________________________________________________\n",
      "global_average_pooling2d_1 ( (None, 4)                 0         \n",
      "_________________________________________________________________\n",
      "dense_8 (Dense)              (None, 64)                320       \n",
      "_________________________________________________________________\n",
      "dense_9 (Dense)              (None, 104)               6760      \n",
      "_________________________________________________________________\n",
      "activation_4 (Activation)    (None, 104)               0         \n",
      "=================================================================\n",
      "Total params: 12,636\n",
      "Trainable params: 12,572\n",
      "Non-trainable params: 64\n",
      "_________________________________________________________________\n"
     ]
    }
   ],
   "source": [
    "model = models.Sequential()\n",
    "model.add(layers.Conv2D(filters=32, \n",
    "                        kernel_size=(2,2),\n",
    "                        strides=(1,1),\n",
    "                        activation='relu',\n",
    "                        padding = 'same',\n",
    "                        input_shape=(IMAGE_DIMENSION, IMAGE_DIMENSION, 3),\n",
    "                        data_format = 'channels_last'))\n",
    "model.add(layers.MaxPooling2D((2,2)))\n",
    "model.add(layers.BatchNormalization())\n",
    "model.add(layers.Conv2D(16, (3,3), activation='relu'))\n",
    "model.add(layers.MaxPooling2D((2,2)))\n",
    "model.add(layers.Dropout(0.70, input_shape=(IMAGE_DIMENSION, IMAGE_DIMENSION, 3)))\n",
    "model.add(layers.Conv2D(4, (3,2), activation='relu'))\n",
    "model.add(layers.Dropout(0.5, input_shape=(IMAGE_DIMENSION, IMAGE_DIMENSION, 3)))\n",
    "model.add(layers.GlobalAveragePooling2D())\n",
    "model.add(layers.Dense(64, activation='relu'))\n",
    "model.add(layers.Dense(NUM_CLASS)) # output layer\n",
    "model.add(layers.Activation('sigmoid'))\n",
    "\n",
    "model.summary()\n",
    "\n",
    "model.compile(optimizer='adam',\n",
    "              loss='categorical_crossentropy',\n",
    "              metrics=['accuracy'])"
   ]
  },
  {
   "cell_type": "code",
   "execution_count": 27,
   "id": "208ec3bd",
   "metadata": {
    "scrolled": false
   },
   "outputs": [
    {
     "name": "stdout",
     "output_type": "stream",
     "text": [
      "Epoch 1/25\n",
      "WARNING:tensorflow:AutoGraph could not transform <function Model.make_train_function.<locals>.train_function at 0x2fe7868b0> and will run it as-is.\n",
      "Please report this to the TensorFlow team. When filing the bug, set the verbosity to 10 (on Linux, `export AUTOGRAPH_VERBOSITY=10`) and attach the full output.\n",
      "Cause: unsupported operand type(s) for -: 'NoneType' and 'int'\n",
      "To silence this warning, decorate the function with @tf.autograph.experimental.do_not_convert\n",
      "WARNING: AutoGraph could not transform <function Model.make_train_function.<locals>.train_function at 0x2fe7868b0> and will run it as-is.\n",
      "Please report this to the TensorFlow team. When filing the bug, set the verbosity to 10 (on Linux, `export AUTOGRAPH_VERBOSITY=10`) and attach the full output.\n",
      "Cause: unsupported operand type(s) for -: 'NoneType' and 'int'\n",
      "To silence this warning, decorate the function with @tf.autograph.experimental.do_not_convert\n",
      "1145/1145 [==============================] - ETA: 0s - loss: 4.1093 - accuracy: 0.0680WARNING:tensorflow:AutoGraph could not transform <function Model.make_test_function.<locals>.test_function at 0x2fe782550> and will run it as-is.\n",
      "Please report this to the TensorFlow team. When filing the bug, set the verbosity to 10 (on Linux, `export AUTOGRAPH_VERBOSITY=10`) and attach the full output.\n",
      "Cause: unsupported operand type(s) for -: 'NoneType' and 'int'\n",
      "To silence this warning, decorate the function with @tf.autograph.experimental.do_not_convert\n",
      "WARNING: AutoGraph could not transform <function Model.make_test_function.<locals>.test_function at 0x2fe782550> and will run it as-is.\n",
      "Please report this to the TensorFlow team. When filing the bug, set the verbosity to 10 (on Linux, `export AUTOGRAPH_VERBOSITY=10`) and attach the full output.\n",
      "Cause: unsupported operand type(s) for -: 'NoneType' and 'int'\n",
      "To silence this warning, decorate the function with @tf.autograph.experimental.do_not_convert\n",
      "1145/1145 [==============================] - 76s 66ms/step - loss: 4.1090 - accuracy: 0.0680 - val_loss: 261.3221 - val_accuracy: 0.1038\n",
      "Epoch 2/25\n",
      "1145/1145 [==============================] - 76s 66ms/step - loss: 3.4589 - accuracy: 0.1469 - val_loss: 263.5721 - val_accuracy: 0.1067\n",
      "Epoch 3/25\n",
      "1145/1145 [==============================] - 77s 67ms/step - loss: 3.3183 - accuracy: 0.1624 - val_loss: 279.4435 - val_accuracy: 0.1065\n",
      "Epoch 4/25\n",
      "1145/1145 [==============================] - 75s 65ms/step - loss: 3.2902 - accuracy: 0.1646 - val_loss: 272.5081 - val_accuracy: 0.1186\n",
      "Epoch 5/25\n",
      "1145/1145 [==============================] - 75s 65ms/step - loss: 3.2164 - accuracy: 0.1731 - val_loss: 403.3244 - val_accuracy: 0.0984\n",
      "Epoch 6/25\n",
      "1145/1145 [==============================] - 76s 66ms/step - loss: 3.2312 - accuracy: 0.1750 - val_loss: 275.3152 - val_accuracy: 0.1439\n",
      "Epoch 7/25\n",
      "1145/1145 [==============================] - 76s 66ms/step - loss: 3.1929 - accuracy: 0.1782 - val_loss: 435.3306 - val_accuracy: 0.0927\n",
      "Epoch 8/25\n",
      "1145/1145 [==============================] - 75s 66ms/step - loss: 3.1381 - accuracy: 0.1935 - val_loss: 370.6629 - val_accuracy: 0.1108\n",
      "Epoch 9/25\n",
      "1145/1145 [==============================] - 75s 66ms/step - loss: 3.1340 - accuracy: 0.1878 - val_loss: 319.3524 - val_accuracy: 0.1135\n",
      "Epoch 10/25\n",
      "1145/1145 [==============================] - 76s 66ms/step - loss: 3.1186 - accuracy: 0.1982 - val_loss: 494.7249 - val_accuracy: 0.1011\n",
      "Epoch 11/25\n",
      "1145/1145 [==============================] - 76s 66ms/step - loss: 3.1027 - accuracy: 0.1958 - val_loss: 435.5752 - val_accuracy: 0.0598\n",
      "Epoch 12/25\n",
      "1145/1145 [==============================] - 75s 65ms/step - loss: 3.0741 - accuracy: 0.2038 - val_loss: 397.6430 - val_accuracy: 0.0962\n",
      "Epoch 13/25\n",
      "1145/1145 [==============================] - 75s 66ms/step - loss: 3.0756 - accuracy: 0.2022 - val_loss: 263.3274 - val_accuracy: 0.1191\n",
      "Epoch 14/25\n",
      "1145/1145 [==============================] - 77s 68ms/step - loss: 3.0528 - accuracy: 0.2057 - val_loss: 374.7185 - val_accuracy: 0.1024\n",
      "Epoch 15/25\n",
      "1145/1145 [==============================] - 75s 65ms/step - loss: 3.0240 - accuracy: 0.2075 - val_loss: 371.3446 - val_accuracy: 0.1000\n",
      "Epoch 16/25\n",
      "1145/1145 [==============================] - 76s 66ms/step - loss: 3.0363 - accuracy: 0.2122 - val_loss: 473.1928 - val_accuracy: 0.0760\n",
      "Epoch 17/25\n",
      "1145/1145 [==============================] - 73s 64ms/step - loss: 3.0359 - accuracy: 0.2076 - val_loss: 357.3557 - val_accuracy: 0.0887\n",
      "Epoch 18/25\n",
      "1145/1145 [==============================] - 75s 66ms/step - loss: 2.9961 - accuracy: 0.2231 - val_loss: 523.6544 - val_accuracy: 0.0712\n",
      "Epoch 19/25\n",
      "1145/1145 [==============================] - 78s 68ms/step - loss: 2.9751 - accuracy: 0.2225 - val_loss: 525.1722 - val_accuracy: 0.0644\n",
      "Epoch 20/25\n",
      "1145/1145 [==============================] - 79s 69ms/step - loss: 2.9864 - accuracy: 0.2142 - val_loss: 547.3213 - val_accuracy: 0.0609\n",
      "Epoch 21/25\n",
      "1145/1145 [==============================] - 77s 67ms/step - loss: 2.9781 - accuracy: 0.2133 - val_loss: 431.2943 - val_accuracy: 0.1035\n",
      "Epoch 22/25\n",
      "1145/1145 [==============================] - 78s 68ms/step - loss: 2.9444 - accuracy: 0.2203 - val_loss: 472.2821 - val_accuracy: 0.0846\n",
      "Epoch 23/25\n",
      "1145/1145 [==============================] - 79s 69ms/step - loss: 2.9242 - accuracy: 0.2178 - val_loss: 588.1907 - val_accuracy: 0.0811\n",
      "Epoch 24/25\n",
      "1145/1145 [==============================] - 80s 70ms/step - loss: 2.9531 - accuracy: 0.2202 - val_loss: 647.2532 - val_accuracy: 0.0625\n",
      "Epoch 25/25\n",
      "1145/1145 [==============================] - 81s 71ms/step - loss: 2.9618 - accuracy: 0.2223 - val_loss: 432.9597 - val_accuracy: 0.0666\n"
     ]
    },
    {
     "data": {
      "text/plain": [
       "<tensorflow.python.keras.callbacks.History at 0x2fe2a70a0>"
      ]
     },
     "execution_count": 27,
     "metadata": {},
     "output_type": "execute_result"
    }
   ],
   "source": [
    "model.fit(train_generator, steps_per_epoch=11459 // BATCH_SIZE, epochs=25,\n",
    "          validation_data=val_generator, use_multiprocessing=False)"
   ]
  },
  {
   "cell_type": "markdown",
   "id": "948813b6",
   "metadata": {},
   "source": [
    "### rerunning this in hopes to get best performing model again"
   ]
  },
  {
   "cell_type": "code",
   "execution_count": 28,
   "id": "a7456c57",
   "metadata": {},
   "outputs": [
    {
     "name": "stdout",
     "output_type": "stream",
     "text": [
      "Found 11459 images belonging to 104 classes.\n",
      "Found 3710 images belonging to 104 classes.\n",
      "Found 1294 images belonging to 104 classes.\n"
     ]
    }
   ],
   "source": [
    "train_generator = ImageDataGenerator(rescale=1./255, \n",
    "                                     horizontal_flip=True, \n",
    "                                     rotation_range=90,\n",
    "                                     vertical_flip=True,\n",
    "                                     brightness_range=[0.5,1.5],\n",
    "                                     zoom_range=0.2,\n",
    "                                     shear_range=0.2,\n",
    "                                    ).flow_from_directory(\n",
    "    TRAIN_DIR,\n",
    "    target_size=(IMAGE_DIMENSION, IMAGE_DIMENSION), \n",
    "    batch_size=TRAIN_BATCH_SIZE,\n",
    "    shuffle=True \n",
    ")\n",
    "\n",
    "val_generator = ImageDataGenerator().flow_from_directory(\n",
    "    VAL_DIR,\n",
    "    target_size=(IMAGE_DIMENSION, IMAGE_DIMENSION),\n",
    "    batch_size=VAL_BATCH_SIZE,\n",
    "    shuffle=True\n",
    ")\n",
    "\n",
    "test_generator = ImageDataGenerator().flow_from_directory(\n",
    "    TEST_DIR,\n",
    "    target_size=(IMAGE_DIMENSION, IMAGE_DIMENSION),\n",
    "    batch_size=TEST_BATCH_SIZE,\n",
    "    shuffle=False\n",
    ")"
   ]
  },
  {
   "cell_type": "code",
   "execution_count": 29,
   "id": "00adbbdd",
   "metadata": {},
   "outputs": [
    {
     "name": "stdout",
     "output_type": "stream",
     "text": [
      "Model: \"sequential_5\"\n",
      "_________________________________________________________________\n",
      "Layer (type)                 Output Shape              Param #   \n",
      "=================================================================\n",
      "conv2d_19 (Conv2D)           (None, 192, 192, 32)      416       \n",
      "_________________________________________________________________\n",
      "max_pooling2d_10 (MaxPooling (None, 96, 96, 32)        0         \n",
      "_________________________________________________________________\n",
      "conv2d_20 (Conv2D)           (None, 95, 95, 64)        8256      \n",
      "_________________________________________________________________\n",
      "max_pooling2d_11 (MaxPooling (None, 47, 47, 64)        0         \n",
      "_________________________________________________________________\n",
      "conv2d_21 (Conv2D)           (None, 46, 46, 64)        16448     \n",
      "_________________________________________________________________\n",
      "flatten_3 (Flatten)          (None, 135424)            0         \n",
      "_________________________________________________________________\n",
      "dropout_8 (Dropout)          (None, 135424)            0         \n",
      "_________________________________________________________________\n",
      "dense_10 (Dense)             (None, 64)                8667200   \n",
      "_________________________________________________________________\n",
      "dense_11 (Dense)             (None, 104)               6760      \n",
      "_________________________________________________________________\n",
      "activation_5 (Activation)    (None, 104)               0         \n",
      "=================================================================\n",
      "Total params: 8,699,080\n",
      "Trainable params: 8,699,080\n",
      "Non-trainable params: 0\n",
      "_________________________________________________________________\n"
     ]
    }
   ],
   "source": [
    "model = models.Sequential()\n",
    "model.add(layers.Conv2D(filters=32, \n",
    "                        kernel_size=(2,2),\n",
    "                        strides=(1,1),\n",
    "                        activation='relu',\n",
    "                        padding = 'same',\n",
    "                        input_shape=(IMAGE_DIMENSION, IMAGE_DIMENSION, 3),\n",
    "                        data_format = 'channels_last'))\n",
    "model.add(layers.MaxPooling2D((2,2)))\n",
    "model.add(layers.Conv2D(64, (2,2), activation='relu'))\n",
    "model.add(layers.MaxPooling2D((2,2)))\n",
    "model.add(layers.Conv2D(64, (2,2), activation='relu'))\n",
    "model.add(layers.Flatten())\n",
    "model.add(layers.Dropout(0.5, input_shape=(IMAGE_DIMENSION, IMAGE_DIMENSION, 3)))\n",
    "model.add(layers.Dense(64, activation='relu'))\n",
    "model.add(layers.Dense(NUM_CLASS)) # output layer\n",
    "model.add(layers.Activation('sigmoid'))\n",
    "\n",
    "model.summary()\n",
    "\n",
    "model.compile(optimizer='adam',\n",
    "              loss='categorical_crossentropy',\n",
    "              metrics=['accuracy'])"
   ]
  },
  {
   "cell_type": "code",
   "execution_count": 30,
   "id": "be427fc1",
   "metadata": {
    "scrolled": false
   },
   "outputs": [
    {
     "name": "stdout",
     "output_type": "stream",
     "text": [
      "Epoch 1/25\n",
      "WARNING:tensorflow:AutoGraph could not transform <function Model.make_train_function.<locals>.train_function at 0x2fe870a60> and will run it as-is.\n",
      "Please report this to the TensorFlow team. When filing the bug, set the verbosity to 10 (on Linux, `export AUTOGRAPH_VERBOSITY=10`) and attach the full output.\n",
      "Cause: unsupported operand type(s) for -: 'NoneType' and 'int'\n",
      "To silence this warning, decorate the function with @tf.autograph.experimental.do_not_convert\n",
      "WARNING: AutoGraph could not transform <function Model.make_train_function.<locals>.train_function at 0x2fe870a60> and will run it as-is.\n",
      "Please report this to the TensorFlow team. When filing the bug, set the verbosity to 10 (on Linux, `export AUTOGRAPH_VERBOSITY=10`) and attach the full output.\n",
      "Cause: unsupported operand type(s) for -: 'NoneType' and 'int'\n",
      "To silence this warning, decorate the function with @tf.autograph.experimental.do_not_convert\n",
      "1145/1145 [==============================] - ETA: 0s - loss: 4.1307 - accuracy: 0.0758WARNING:tensorflow:AutoGraph could not transform <function Model.make_test_function.<locals>.test_function at 0x2cf9f4d30> and will run it as-is.\n",
      "Please report this to the TensorFlow team. When filing the bug, set the verbosity to 10 (on Linux, `export AUTOGRAPH_VERBOSITY=10`) and attach the full output.\n",
      "Cause: unsupported operand type(s) for -: 'NoneType' and 'int'\n",
      "To silence this warning, decorate the function with @tf.autograph.experimental.do_not_convert\n",
      "WARNING: AutoGraph could not transform <function Model.make_test_function.<locals>.test_function at 0x2cf9f4d30> and will run it as-is.\n",
      "Please report this to the TensorFlow team. When filing the bug, set the verbosity to 10 (on Linux, `export AUTOGRAPH_VERBOSITY=10`) and attach the full output.\n",
      "Cause: unsupported operand type(s) for -: 'NoneType' and 'int'\n",
      "To silence this warning, decorate the function with @tf.autograph.experimental.do_not_convert\n",
      "1145/1145 [==============================] - 109s 95ms/step - loss: 4.1304 - accuracy: 0.0758 - val_loss: 203.2040 - val_accuracy: 0.1186\n",
      "Epoch 2/25\n",
      "1145/1145 [==============================] - 112s 97ms/step - loss: 3.4339 - accuracy: 0.1609 - val_loss: 235.8162 - val_accuracy: 0.1186\n",
      "Epoch 3/25\n",
      "1145/1145 [==============================] - 119s 104ms/step - loss: 3.1897 - accuracy: 0.1982 - val_loss: 284.8329 - val_accuracy: 0.1569\n",
      "Epoch 4/25\n",
      "1145/1145 [==============================] - 114s 100ms/step - loss: 3.0643 - accuracy: 0.2256 - val_loss: 225.3302 - val_accuracy: 0.1811\n",
      "Epoch 5/25\n",
      "1145/1145 [==============================] - 112s 98ms/step - loss: 2.9476 - accuracy: 0.2365 - val_loss: 172.3603 - val_accuracy: 0.1903\n",
      "Epoch 6/25\n",
      "1145/1145 [==============================] - 107s 93ms/step - loss: 2.8611 - accuracy: 0.2552 - val_loss: 228.6638 - val_accuracy: 0.1941\n",
      "Epoch 7/25\n",
      "1145/1145 [==============================] - 101s 88ms/step - loss: 2.8126 - accuracy: 0.2728 - val_loss: 201.8111 - val_accuracy: 0.1809\n",
      "Epoch 8/25\n",
      "1145/1145 [==============================] - 100s 88ms/step - loss: 2.7538 - accuracy: 0.2784 - val_loss: 205.6072 - val_accuracy: 0.1647\n",
      "Epoch 9/25\n",
      "1145/1145 [==============================] - 99s 86ms/step - loss: 2.7101 - accuracy: 0.2893 - val_loss: 191.5348 - val_accuracy: 0.2105\n",
      "Epoch 10/25\n",
      "1145/1145 [==============================] - 98s 86ms/step - loss: 2.6722 - accuracy: 0.2975 - val_loss: 170.5408 - val_accuracy: 0.2062\n",
      "Epoch 11/25\n",
      "1145/1145 [==============================] - 99s 86ms/step - loss: 2.6338 - accuracy: 0.3017 - val_loss: 154.8050 - val_accuracy: 0.1992\n",
      "Epoch 12/25\n",
      "1145/1145 [==============================] - 101s 88ms/step - loss: 2.6161 - accuracy: 0.3171 - val_loss: 187.8258 - val_accuracy: 0.1903\n",
      "Epoch 13/25\n",
      "1145/1145 [==============================] - 98s 86ms/step - loss: 2.6005 - accuracy: 0.3181 - val_loss: 158.4048 - val_accuracy: 0.1903\n",
      "Epoch 14/25\n",
      "1145/1145 [==============================] - 98s 86ms/step - loss: 2.5421 - accuracy: 0.3314 - val_loss: 184.7882 - val_accuracy: 0.2051\n",
      "Epoch 15/25\n",
      "1145/1145 [==============================] - 99s 86ms/step - loss: 2.5334 - accuracy: 0.3292 - val_loss: 187.4083 - val_accuracy: 0.2318\n",
      "Epoch 16/25\n",
      "1145/1145 [==============================] - 100s 88ms/step - loss: 2.4901 - accuracy: 0.3429 - val_loss: 232.2639 - val_accuracy: 0.1814\n",
      "Epoch 17/25\n",
      "1145/1145 [==============================] - 100s 88ms/step - loss: 2.4738 - accuracy: 0.3414 - val_loss: 224.5862 - val_accuracy: 0.2057\n",
      "Epoch 18/25\n",
      "1145/1145 [==============================] - 100s 87ms/step - loss: 2.5183 - accuracy: 0.3439 - val_loss: 204.8527 - val_accuracy: 0.2256\n",
      "Epoch 19/25\n",
      "1145/1145 [==============================] - 100s 87ms/step - loss: 2.4921 - accuracy: 0.3351 - val_loss: 155.2117 - val_accuracy: 0.2178\n",
      "Epoch 20/25\n",
      "1145/1145 [==============================] - 99s 86ms/step - loss: 2.4691 - accuracy: 0.3417 - val_loss: 169.4785 - val_accuracy: 0.2307\n",
      "Epoch 21/25\n",
      "1145/1145 [==============================] - 99s 86ms/step - loss: 2.4268 - accuracy: 0.3516 - val_loss: 218.8454 - val_accuracy: 0.2391\n",
      "Epoch 22/25\n",
      "1145/1145 [==============================] - 99s 86ms/step - loss: 2.4276 - accuracy: 0.3546 - val_loss: 237.4671 - val_accuracy: 0.2283\n",
      "Epoch 23/25\n",
      "1145/1145 [==============================] - 99s 86ms/step - loss: 2.4352 - accuracy: 0.3478 - val_loss: 202.7003 - val_accuracy: 0.2520\n",
      "Epoch 24/25\n",
      "1145/1145 [==============================] - 99s 86ms/step - loss: 2.4337 - accuracy: 0.3526 - val_loss: 241.5366 - val_accuracy: 0.2024\n",
      "Epoch 25/25\n",
      "1145/1145 [==============================] - 99s 86ms/step - loss: 2.3984 - accuracy: 0.3635 - val_loss: 236.1217 - val_accuracy: 0.2008\n"
     ]
    },
    {
     "data": {
      "text/plain": [
       "<tensorflow.python.keras.callbacks.History at 0x2aab33790>"
      ]
     },
     "execution_count": 30,
     "metadata": {},
     "output_type": "execute_result"
    }
   ],
   "source": [
    "model.fit(train_generator, steps_per_epoch=11459 // BATCH_SIZE, epochs=25,\n",
    "          validation_data=val_generator, use_multiprocessing=False)"
   ]
  },
  {
   "cell_type": "markdown",
   "id": "608414bb",
   "metadata": {},
   "source": [
    "### running above with learning rate"
   ]
  },
  {
   "cell_type": "code",
   "execution_count": 31,
   "id": "4bae8d1f",
   "metadata": {},
   "outputs": [],
   "source": [
    "def scheduler(epoch, lr):\n",
    "    if epoch < 10:\n",
    "        return lr\n",
    "    else:\n",
    "        return lr * tf.math.exp(-0.1)\n",
    "    \n",
    "lr_callback = LearningRateScheduler(scheduler)"
   ]
  },
  {
   "cell_type": "code",
   "execution_count": 32,
   "id": "5da25dac",
   "metadata": {},
   "outputs": [
    {
     "name": "stdout",
     "output_type": "stream",
     "text": [
      "Found 11459 images belonging to 104 classes.\n",
      "Found 3710 images belonging to 104 classes.\n",
      "Found 1294 images belonging to 104 classes.\n"
     ]
    }
   ],
   "source": [
    "train_generator = ImageDataGenerator(rescale=1./255, \n",
    "                                     horizontal_flip=True, \n",
    "                                     rotation_range=90,\n",
    "                                     vertical_flip=True,\n",
    "                                     brightness_range=[0.5,1.5],\n",
    "                                     zoom_range=0.2,\n",
    "                                     shear_range=0.2\n",
    "                                    ).flow_from_directory(\n",
    "    TRAIN_DIR,\n",
    "    target_size=(IMAGE_DIMENSION, IMAGE_DIMENSION), \n",
    "    batch_size=TRAIN_BATCH_SIZE,\n",
    "    shuffle=True \n",
    ")\n",
    "\n",
    "val_generator = ImageDataGenerator().flow_from_directory(\n",
    "    VAL_DIR,\n",
    "    target_size=(IMAGE_DIMENSION, IMAGE_DIMENSION),\n",
    "    batch_size=VAL_BATCH_SIZE,\n",
    "    shuffle=True\n",
    ")\n",
    "\n",
    "test_generator = ImageDataGenerator().flow_from_directory(\n",
    "    TEST_DIR,\n",
    "    target_size=(IMAGE_DIMENSION, IMAGE_DIMENSION),\n",
    "    batch_size=TEST_BATCH_SIZE,\n",
    "    shuffle=False\n",
    ")"
   ]
  },
  {
   "cell_type": "code",
   "execution_count": 33,
   "id": "d1b190a3",
   "metadata": {
    "scrolled": false
   },
   "outputs": [
    {
     "name": "stdout",
     "output_type": "stream",
     "text": [
      "Model: \"sequential_6\"\n",
      "_________________________________________________________________\n",
      "Layer (type)                 Output Shape              Param #   \n",
      "=================================================================\n",
      "conv2d_22 (Conv2D)           (None, 192, 192, 32)      416       \n",
      "_________________________________________________________________\n",
      "max_pooling2d_12 (MaxPooling (None, 96, 96, 32)        0         \n",
      "_________________________________________________________________\n",
      "conv2d_23 (Conv2D)           (None, 95, 95, 64)        8256      \n",
      "_________________________________________________________________\n",
      "max_pooling2d_13 (MaxPooling (None, 47, 47, 64)        0         \n",
      "_________________________________________________________________\n",
      "conv2d_24 (Conv2D)           (None, 46, 46, 64)        16448     \n",
      "_________________________________________________________________\n",
      "flatten_4 (Flatten)          (None, 135424)            0         \n",
      "_________________________________________________________________\n",
      "dropout_9 (Dropout)          (None, 135424)            0         \n",
      "_________________________________________________________________\n",
      "dense_12 (Dense)             (None, 64)                8667200   \n",
      "_________________________________________________________________\n",
      "dense_13 (Dense)             (None, 104)               6760      \n",
      "_________________________________________________________________\n",
      "activation_6 (Activation)    (None, 104)               0         \n",
      "=================================================================\n",
      "Total params: 8,699,080\n",
      "Trainable params: 8,699,080\n",
      "Non-trainable params: 0\n",
      "_________________________________________________________________\n"
     ]
    }
   ],
   "source": [
    "model = models.Sequential()\n",
    "model.add(layers.Conv2D(filters=32, \n",
    "                        kernel_size=(2,2),\n",
    "                        strides=(1,1),\n",
    "                        activation='relu',\n",
    "                        padding = 'same',\n",
    "                        input_shape=(IMAGE_DIMENSION, IMAGE_DIMENSION, 3),\n",
    "                        data_format = 'channels_last'))\n",
    "model.add(layers.MaxPooling2D((2,2)))\n",
    "model.add(layers.Conv2D(64, (2,2), activation='relu'))\n",
    "model.add(layers.MaxPooling2D((2,2)))\n",
    "model.add(layers.Conv2D(64, (2,2), activation='relu'))\n",
    "model.add(layers.Flatten())\n",
    "model.add(layers.Dropout(0.5, input_shape=(IMAGE_DIMENSION, IMAGE_DIMENSION, 3)))\n",
    "model.add(layers.Dense(64, activation='relu'))\n",
    "model.add(layers.Dense(NUM_CLASS)) # output layer\n",
    "model.add(layers.Activation('sigmoid'))\n",
    "\n",
    "model.summary()\n",
    "\n",
    "model.compile(optimizer='adam',\n",
    "              loss='categorical_crossentropy',\n",
    "              metrics=['accuracy'])"
   ]
  },
  {
   "cell_type": "code",
   "execution_count": 34,
   "id": "a0aea0a2",
   "metadata": {},
   "outputs": [
    {
     "name": "stdout",
     "output_type": "stream",
     "text": [
      "Epoch 1/25\n",
      "WARNING:tensorflow:AutoGraph could not transform <function Model.make_train_function.<locals>.train_function at 0x2d00779d0> and will run it as-is.\n",
      "Please report this to the TensorFlow team. When filing the bug, set the verbosity to 10 (on Linux, `export AUTOGRAPH_VERBOSITY=10`) and attach the full output.\n",
      "Cause: unsupported operand type(s) for -: 'NoneType' and 'int'\n",
      "To silence this warning, decorate the function with @tf.autograph.experimental.do_not_convert\n",
      "WARNING: AutoGraph could not transform <function Model.make_train_function.<locals>.train_function at 0x2d00779d0> and will run it as-is.\n",
      "Please report this to the TensorFlow team. When filing the bug, set the verbosity to 10 (on Linux, `export AUTOGRAPH_VERBOSITY=10`) and attach the full output.\n",
      "Cause: unsupported operand type(s) for -: 'NoneType' and 'int'\n",
      "To silence this warning, decorate the function with @tf.autograph.experimental.do_not_convert\n",
      "1145/1145 [==============================] - ETA: 0s - loss: 4.0301 - accuracy: 0.0905WARNING:tensorflow:AutoGraph could not transform <function Model.make_test_function.<locals>.test_function at 0x2fefb1ca0> and will run it as-is.\n",
      "Please report this to the TensorFlow team. When filing the bug, set the verbosity to 10 (on Linux, `export AUTOGRAPH_VERBOSITY=10`) and attach the full output.\n",
      "Cause: unsupported operand type(s) for -: 'NoneType' and 'int'\n",
      "To silence this warning, decorate the function with @tf.autograph.experimental.do_not_convert\n",
      "WARNING: AutoGraph could not transform <function Model.make_test_function.<locals>.test_function at 0x2fefb1ca0> and will run it as-is.\n",
      "Please report this to the TensorFlow team. When filing the bug, set the verbosity to 10 (on Linux, `export AUTOGRAPH_VERBOSITY=10`) and attach the full output.\n",
      "Cause: unsupported operand type(s) for -: 'NoneType' and 'int'\n",
      "To silence this warning, decorate the function with @tf.autograph.experimental.do_not_convert\n",
      "1145/1145 [==============================] - 99s 86ms/step - loss: 4.0299 - accuracy: 0.0905 - val_loss: 151.7955 - val_accuracy: 0.1353\n",
      "Epoch 2/25\n",
      "1145/1145 [==============================] - 99s 86ms/step - loss: 3.3704 - accuracy: 0.1702 - val_loss: 176.2399 - val_accuracy: 0.1706\n",
      "Epoch 3/25\n",
      "1145/1145 [==============================] - 99s 86ms/step - loss: 3.1685 - accuracy: 0.1914 - val_loss: 215.1403 - val_accuracy: 0.1873\n",
      "Epoch 4/25\n",
      "1145/1145 [==============================] - 99s 86ms/step - loss: 3.0643 - accuracy: 0.2102 - val_loss: 185.4122 - val_accuracy: 0.1916\n",
      "Epoch 5/25\n",
      "1145/1145 [==============================] - 99s 86ms/step - loss: 2.9532 - accuracy: 0.2399 - val_loss: 273.9863 - val_accuracy: 0.1523\n",
      "Epoch 6/25\n",
      "1145/1145 [==============================] - 99s 86ms/step - loss: 2.8342 - accuracy: 0.2569 - val_loss: 264.5327 - val_accuracy: 0.1620\n",
      "Epoch 7/25\n",
      "1145/1145 [==============================] - 99s 86ms/step - loss: 2.7401 - accuracy: 0.2720 - val_loss: 223.7726 - val_accuracy: 0.1857\n",
      "Epoch 8/25\n",
      "1145/1145 [==============================] - 99s 86ms/step - loss: 2.6996 - accuracy: 0.2874 - val_loss: 202.9182 - val_accuracy: 0.1951\n",
      "Epoch 9/25\n",
      "1145/1145 [==============================] - 99s 86ms/step - loss: 2.6630 - accuracy: 0.2934 - val_loss: 221.0086 - val_accuracy: 0.1946\n",
      "Epoch 10/25\n",
      "1145/1145 [==============================] - 98s 86ms/step - loss: 2.6293 - accuracy: 0.3007 - val_loss: 225.0456 - val_accuracy: 0.2005\n",
      "Epoch 11/25\n",
      "1145/1145 [==============================] - 98s 86ms/step - loss: 2.5571 - accuracy: 0.3173 - val_loss: 196.7980 - val_accuracy: 0.2016\n",
      "Epoch 12/25\n",
      "1145/1145 [==============================] - 99s 86ms/step - loss: 2.5245 - accuracy: 0.3340 - val_loss: 218.1291 - val_accuracy: 0.1811\n",
      "Epoch 13/25\n",
      "1145/1145 [==============================] - 99s 86ms/step - loss: 2.4802 - accuracy: 0.3416 - val_loss: 287.6992 - val_accuracy: 0.1615\n",
      "Epoch 14/25\n",
      "1145/1145 [==============================] - 99s 86ms/step - loss: 2.4776 - accuracy: 0.3432 - val_loss: 286.5100 - val_accuracy: 0.1744\n",
      "Epoch 15/25\n",
      "1145/1145 [==============================] - 99s 86ms/step - loss: 2.4166 - accuracy: 0.3530 - val_loss: 263.8869 - val_accuracy: 0.1698\n",
      "Epoch 16/25\n",
      "1145/1145 [==============================] - 99s 86ms/step - loss: 2.3782 - accuracy: 0.3625 - val_loss: 266.7283 - val_accuracy: 0.1747\n",
      "Epoch 17/25\n",
      "1145/1145 [==============================] - 99s 86ms/step - loss: 2.3679 - accuracy: 0.3658 - val_loss: 279.1163 - val_accuracy: 0.1682\n",
      "Epoch 18/25\n",
      "1145/1145 [==============================] - 99s 86ms/step - loss: 2.3002 - accuracy: 0.3831 - val_loss: 265.1566 - val_accuracy: 0.1811\n",
      "Epoch 19/25\n",
      "1145/1145 [==============================] - 99s 86ms/step - loss: 2.2824 - accuracy: 0.3877 - val_loss: 272.1034 - val_accuracy: 0.2038\n",
      "Epoch 20/25\n",
      "1145/1145 [==============================] - 99s 86ms/step - loss: 2.2793 - accuracy: 0.3820 - val_loss: 315.4775 - val_accuracy: 0.1806\n",
      "Epoch 21/25\n",
      "1145/1145 [==============================] - 99s 86ms/step - loss: 2.2412 - accuracy: 0.3854 - val_loss: 293.5861 - val_accuracy: 0.1927\n",
      "Epoch 22/25\n",
      "1145/1145 [==============================] - 99s 86ms/step - loss: 2.2466 - accuracy: 0.3992 - val_loss: 280.2253 - val_accuracy: 0.2057\n",
      "Epoch 23/25\n",
      "1145/1145 [==============================] - 99s 86ms/step - loss: 2.1956 - accuracy: 0.4045 - val_loss: 238.6762 - val_accuracy: 0.2065\n",
      "Epoch 24/25\n",
      "1145/1145 [==============================] - 99s 86ms/step - loss: 2.1743 - accuracy: 0.4053 - val_loss: 260.5864 - val_accuracy: 0.1973\n",
      "Epoch 25/25\n",
      "1145/1145 [==============================] - 99s 86ms/step - loss: 2.2001 - accuracy: 0.4092 - val_loss: 271.5286 - val_accuracy: 0.2202\n"
     ]
    },
    {
     "data": {
      "text/plain": [
       "<tensorflow.python.keras.callbacks.History at 0x2a73c7d30>"
      ]
     },
     "execution_count": 34,
     "metadata": {},
     "output_type": "execute_result"
    }
   ],
   "source": [
    "model.fit(train_generator, steps_per_epoch=11459 // BATCH_SIZE, epochs=25,\n",
    "          validation_data=val_generator, callbacks=lr_callback, use_multiprocessing=False)"
   ]
  },
  {
   "cell_type": "markdown",
   "id": "a8f7b41f",
   "metadata": {},
   "source": [
    "### increasing number of epochs for the sake of it"
   ]
  },
  {
   "cell_type": "code",
   "execution_count": 35,
   "id": "d08fcd58",
   "metadata": {},
   "outputs": [],
   "source": [
    "def scheduler(epoch, lr):\n",
    "    if epoch < 10:\n",
    "        return lr\n",
    "    else:\n",
    "        return lr * tf.math.exp(-0.1)\n",
    "    \n",
    "lr_callback = LearningRateScheduler(scheduler)"
   ]
  },
  {
   "cell_type": "code",
   "execution_count": 36,
   "id": "a942163e",
   "metadata": {},
   "outputs": [
    {
     "name": "stdout",
     "output_type": "stream",
     "text": [
      "Found 11459 images belonging to 104 classes.\n",
      "Found 3710 images belonging to 104 classes.\n",
      "Found 1294 images belonging to 104 classes.\n"
     ]
    }
   ],
   "source": [
    "train_generator = ImageDataGenerator(rescale=1./255, \n",
    "                                     horizontal_flip=True, \n",
    "                                     rotation_range=90,\n",
    "                                     vertical_flip=True,\n",
    "                                     brightness_range=[0.5,1.5],\n",
    "                                     zoom_range=0.2,\n",
    "                                     shear_range=0.2\n",
    "                                    ).flow_from_directory(\n",
    "    TRAIN_DIR,\n",
    "    target_size=(IMAGE_DIMENSION, IMAGE_DIMENSION), \n",
    "    batch_size=TRAIN_BATCH_SIZE,\n",
    "    shuffle=True \n",
    ")\n",
    "\n",
    "val_generator = ImageDataGenerator().flow_from_directory(\n",
    "    VAL_DIR,\n",
    "    target_size=(IMAGE_DIMENSION, IMAGE_DIMENSION),\n",
    "    batch_size=VAL_BATCH_SIZE,\n",
    "    shuffle=True\n",
    ")\n",
    "\n",
    "test_generator = ImageDataGenerator().flow_from_directory(\n",
    "    TEST_DIR,\n",
    "    target_size=(IMAGE_DIMENSION, IMAGE_DIMENSION),\n",
    "    batch_size=TEST_BATCH_SIZE,\n",
    "    shuffle=False\n",
    ")"
   ]
  },
  {
   "cell_type": "code",
   "execution_count": 37,
   "id": "b1263e20",
   "metadata": {},
   "outputs": [
    {
     "name": "stdout",
     "output_type": "stream",
     "text": [
      "Model: \"sequential_7\"\n",
      "_________________________________________________________________\n",
      "Layer (type)                 Output Shape              Param #   \n",
      "=================================================================\n",
      "conv2d_25 (Conv2D)           (None, 192, 192, 32)      416       \n",
      "_________________________________________________________________\n",
      "max_pooling2d_14 (MaxPooling (None, 96, 96, 32)        0         \n",
      "_________________________________________________________________\n",
      "batch_normalization_7 (Batch (None, 96, 96, 32)        128       \n",
      "_________________________________________________________________\n",
      "conv2d_26 (Conv2D)           (None, 95, 95, 64)        8256      \n",
      "_________________________________________________________________\n",
      "max_pooling2d_15 (MaxPooling (None, 47, 47, 64)        0         \n",
      "_________________________________________________________________\n",
      "conv2d_27 (Conv2D)           (None, 46, 46, 64)        16448     \n",
      "_________________________________________________________________\n",
      "flatten_5 (Flatten)          (None, 135424)            0         \n",
      "_________________________________________________________________\n",
      "dropout_10 (Dropout)         (None, 135424)            0         \n",
      "_________________________________________________________________\n",
      "dense_14 (Dense)             (None, 64)                8667200   \n",
      "_________________________________________________________________\n",
      "dense_15 (Dense)             (None, 32)                2080      \n",
      "_________________________________________________________________\n",
      "dense_16 (Dense)             (None, 104)               3432      \n",
      "_________________________________________________________________\n",
      "activation_7 (Activation)    (None, 104)               0         \n",
      "=================================================================\n",
      "Total params: 8,697,960\n",
      "Trainable params: 8,697,896\n",
      "Non-trainable params: 64\n",
      "_________________________________________________________________\n"
     ]
    }
   ],
   "source": [
    "model = models.Sequential()\n",
    "model.add(layers.Conv2D(filters=32, \n",
    "                        kernel_size=(2,2),\n",
    "                        strides=(1,1),\n",
    "                        activation='relu',\n",
    "                        padding = 'same',\n",
    "                        input_shape=(IMAGE_DIMENSION, IMAGE_DIMENSION, 3),\n",
    "                        data_format = 'channels_last'))\n",
    "model.add(layers.MaxPooling2D((2,2)))\n",
    "model.add(layers.BatchNormalization())\n",
    "model.add(layers.Conv2D(64, (2,2), activation='relu'))\n",
    "model.add(layers.MaxPooling2D((2,2)))\n",
    "model.add(layers.Conv2D(64, (2,2), activation='relu'))\n",
    "model.add(layers.Flatten())\n",
    "model.add(layers.Dropout(0.5, input_shape=(IMAGE_DIMENSION, IMAGE_DIMENSION, 3)))\n",
    "model.add(layers.Dense(64, activation='relu'))\n",
    "model.add(layers.Dense(32, activation='relu'))\n",
    "model.add(layers.Dense(NUM_CLASS)) # output layer\n",
    "model.add(layers.Activation('sigmoid'))\n",
    "\n",
    "model.summary()\n",
    "\n",
    "model.compile(optimizer='adam',\n",
    "              loss='categorical_crossentropy',\n",
    "              metrics=['accuracy'])"
   ]
  },
  {
   "cell_type": "code",
   "execution_count": 38,
   "id": "374f40d7",
   "metadata": {
    "scrolled": true
   },
   "outputs": [
    {
     "name": "stdout",
     "output_type": "stream",
     "text": [
      "Epoch 1/50\n",
      "WARNING:tensorflow:AutoGraph could not transform <function Model.make_train_function.<locals>.train_function at 0x306086310> and will run it as-is.\n",
      "Please report this to the TensorFlow team. When filing the bug, set the verbosity to 10 (on Linux, `export AUTOGRAPH_VERBOSITY=10`) and attach the full output.\n",
      "Cause: unsupported operand type(s) for -: 'NoneType' and 'int'\n",
      "To silence this warning, decorate the function with @tf.autograph.experimental.do_not_convert\n",
      "WARNING: AutoGraph could not transform <function Model.make_train_function.<locals>.train_function at 0x306086310> and will run it as-is.\n",
      "Please report this to the TensorFlow team. When filing the bug, set the verbosity to 10 (on Linux, `export AUTOGRAPH_VERBOSITY=10`) and attach the full output.\n",
      "Cause: unsupported operand type(s) for -: 'NoneType' and 'int'\n",
      "To silence this warning, decorate the function with @tf.autograph.experimental.do_not_convert\n",
      "1145/1145 [==============================] - ETA: 0s - loss: 4.2746 - accuracy: 0.0681WARNING:tensorflow:AutoGraph could not transform <function Model.make_test_function.<locals>.test_function at 0x2cf9f4040> and will run it as-is.\n",
      "Please report this to the TensorFlow team. When filing the bug, set the verbosity to 10 (on Linux, `export AUTOGRAPH_VERBOSITY=10`) and attach the full output.\n",
      "Cause: unsupported operand type(s) for -: 'NoneType' and 'int'\n",
      "To silence this warning, decorate the function with @tf.autograph.experimental.do_not_convert\n",
      "WARNING: AutoGraph could not transform <function Model.make_test_function.<locals>.test_function at 0x2cf9f4040> and will run it as-is.\n",
      "Please report this to the TensorFlow team. When filing the bug, set the verbosity to 10 (on Linux, `export AUTOGRAPH_VERBOSITY=10`) and attach the full output.\n",
      "Cause: unsupported operand type(s) for -: 'NoneType' and 'int'\n",
      "To silence this warning, decorate the function with @tf.autograph.experimental.do_not_convert\n",
      "1145/1145 [==============================] - 102s 89ms/step - loss: 4.2744 - accuracy: 0.0681 - val_loss: 195.6339 - val_accuracy: 0.0774\n",
      "Epoch 2/50\n",
      "1145/1145 [==============================] - 102s 89ms/step - loss: 3.5497 - accuracy: 0.1526 - val_loss: 228.1601 - val_accuracy: 0.1005\n",
      "Epoch 3/50\n",
      "1145/1145 [==============================] - 102s 89ms/step - loss: 3.3376 - accuracy: 0.1784 - val_loss: 127.5001 - val_accuracy: 0.1051\n",
      "Epoch 4/50\n",
      "1145/1145 [==============================] - 101s 88ms/step - loss: 3.1966 - accuracy: 0.1914 - val_loss: 222.9627 - val_accuracy: 0.1496\n",
      "Epoch 5/50\n",
      "1145/1145 [==============================] - 101s 89ms/step - loss: 3.0969 - accuracy: 0.1986 - val_loss: 256.0226 - val_accuracy: 0.1108\n",
      "Epoch 6/50\n",
      "1145/1145 [==============================] - 101s 89ms/step - loss: 3.0453 - accuracy: 0.2089 - val_loss: 192.3036 - val_accuracy: 0.1580\n",
      "Epoch 7/50\n",
      "1145/1145 [==============================] - 101s 88ms/step - loss: 2.9936 - accuracy: 0.2268 - val_loss: 180.7772 - val_accuracy: 0.1332\n",
      "Epoch 8/50\n",
      "1145/1145 [==============================] - 101s 89ms/step - loss: 2.9609 - accuracy: 0.2256 - val_loss: 257.1698 - val_accuracy: 0.1243\n",
      "Epoch 9/50\n",
      "1145/1145 [==============================] - 101s 89ms/step - loss: 2.9320 - accuracy: 0.2385 - val_loss: 194.5499 - val_accuracy: 0.1275\n",
      "Epoch 10/50\n",
      "1145/1145 [==============================] - 101s 88ms/step - loss: 2.9037 - accuracy: 0.2386 - val_loss: 128.2830 - val_accuracy: 0.1650\n",
      "Epoch 11/50\n",
      "1145/1145 [==============================] - 101s 89ms/step - loss: 2.8767 - accuracy: 0.2451 - val_loss: 161.2448 - val_accuracy: 0.1038\n",
      "Epoch 12/50\n",
      "1145/1145 [==============================] - 101s 89ms/step - loss: 2.8188 - accuracy: 0.2519 - val_loss: 159.3591 - val_accuracy: 0.1156\n",
      "Epoch 13/50\n",
      "1145/1145 [==============================] - 101s 89ms/step - loss: 2.7558 - accuracy: 0.2737 - val_loss: 138.0059 - val_accuracy: 0.1259\n",
      "Epoch 14/50\n",
      "1145/1145 [==============================] - 102s 89ms/step - loss: 2.7429 - accuracy: 0.2687 - val_loss: 91.5898 - val_accuracy: 0.1108\n",
      "Epoch 15/50\n",
      "1145/1145 [==============================] - 102s 89ms/step - loss: 2.6974 - accuracy: 0.2818 - val_loss: 124.5240 - val_accuracy: 0.1569\n",
      "Epoch 16/50\n",
      "1145/1145 [==============================] - 102s 89ms/step - loss: 2.6544 - accuracy: 0.2906 - val_loss: 182.3376 - val_accuracy: 0.1464\n",
      "Epoch 17/50\n",
      "1145/1145 [==============================] - 102s 89ms/step - loss: 2.6418 - accuracy: 0.2953 - val_loss: 147.9471 - val_accuracy: 0.1881\n",
      "Epoch 18/50\n",
      "1145/1145 [==============================] - 102s 89ms/step - loss: 2.6029 - accuracy: 0.3072 - val_loss: 153.8720 - val_accuracy: 0.1795\n",
      "Epoch 19/50\n",
      "1145/1145 [==============================] - 102s 89ms/step - loss: 2.5501 - accuracy: 0.3136 - val_loss: 167.4666 - val_accuracy: 0.1997\n",
      "Epoch 20/50\n",
      "1145/1145 [==============================] - 102s 89ms/step - loss: 2.5423 - accuracy: 0.3216 - val_loss: 170.0822 - val_accuracy: 0.1558\n",
      "Epoch 21/50\n",
      "1145/1145 [==============================] - 102s 89ms/step - loss: 2.5299 - accuracy: 0.3192 - val_loss: 152.1707 - val_accuracy: 0.2003\n",
      "Epoch 22/50\n",
      "1145/1145 [==============================] - 102s 89ms/step - loss: 2.4961 - accuracy: 0.3326 - val_loss: 139.9490 - val_accuracy: 0.2005\n",
      "Epoch 23/50\n",
      "1145/1145 [==============================] - 102s 89ms/step - loss: 2.4627 - accuracy: 0.3255 - val_loss: 162.7338 - val_accuracy: 0.2245\n",
      "Epoch 24/50\n",
      "1145/1145 [==============================] - 102s 89ms/step - loss: 2.4612 - accuracy: 0.3303 - val_loss: 159.4128 - val_accuracy: 0.2588\n",
      "Epoch 25/50\n",
      "1145/1145 [==============================] - 102s 89ms/step - loss: 2.4292 - accuracy: 0.3396 - val_loss: 179.2935 - val_accuracy: 0.2229\n",
      "Epoch 26/50\n",
      "1145/1145 [==============================] - 102s 89ms/step - loss: 2.4304 - accuracy: 0.3397 - val_loss: 162.2899 - val_accuracy: 0.2278\n",
      "Epoch 27/50\n",
      "1145/1145 [==============================] - 102s 89ms/step - loss: 2.4265 - accuracy: 0.3392 - val_loss: 196.2229 - val_accuracy: 0.1887\n",
      "Epoch 28/50\n",
      "1145/1145 [==============================] - 102s 89ms/step - loss: 2.3993 - accuracy: 0.3537 - val_loss: 176.5646 - val_accuracy: 0.2119\n",
      "Epoch 29/50\n",
      "1145/1145 [==============================] - 102s 89ms/step - loss: 2.4282 - accuracy: 0.3392 - val_loss: 160.1967 - val_accuracy: 0.2350\n",
      "Epoch 30/50\n",
      "1145/1145 [==============================] - 102s 89ms/step - loss: 2.3907 - accuracy: 0.3495 - val_loss: 182.4824 - val_accuracy: 0.2127\n",
      "Epoch 31/50\n",
      "1145/1145 [==============================] - 102s 89ms/step - loss: 2.3784 - accuracy: 0.3528 - val_loss: 157.8200 - val_accuracy: 0.2084\n",
      "Epoch 32/50\n",
      "1145/1145 [==============================] - 102s 89ms/step - loss: 2.3831 - accuracy: 0.3534 - val_loss: 183.5473 - val_accuracy: 0.2264\n",
      "Epoch 33/50\n",
      "1145/1145 [==============================] - 102s 89ms/step - loss: 2.3324 - accuracy: 0.3625 - val_loss: 170.8540 - val_accuracy: 0.2243\n",
      "Epoch 34/50\n",
      "1145/1145 [==============================] - 102s 89ms/step - loss: 2.3448 - accuracy: 0.3589 - val_loss: 184.8492 - val_accuracy: 0.2084\n",
      "Epoch 35/50\n",
      "1145/1145 [==============================] - 102s 89ms/step - loss: 2.3496 - accuracy: 0.3609 - val_loss: 169.2857 - val_accuracy: 0.2248\n",
      "Epoch 36/50\n",
      "1145/1145 [==============================] - 102s 89ms/step - loss: 2.3200 - accuracy: 0.3612 - val_loss: 194.4808 - val_accuracy: 0.2062\n",
      "Epoch 37/50\n",
      "1145/1145 [==============================] - 102s 89ms/step - loss: 2.3314 - accuracy: 0.3600 - val_loss: 188.5077 - val_accuracy: 0.2181\n",
      "Epoch 38/50\n",
      "1145/1145 [==============================] - 102s 89ms/step - loss: 2.3142 - accuracy: 0.3718 - val_loss: 175.9889 - val_accuracy: 0.2151\n",
      "Epoch 39/50\n",
      "1145/1145 [==============================] - 102s 89ms/step - loss: 2.2816 - accuracy: 0.3772 - val_loss: 185.2301 - val_accuracy: 0.2151\n",
      "Epoch 40/50\n",
      "1145/1145 [==============================] - 102s 89ms/step - loss: 2.2968 - accuracy: 0.3631 - val_loss: 178.8918 - val_accuracy: 0.2194\n",
      "Epoch 41/50\n",
      "1145/1145 [==============================] - 102s 89ms/step - loss: 2.3335 - accuracy: 0.3635 - val_loss: 191.2257 - val_accuracy: 0.2108\n",
      "Epoch 42/50\n",
      "1145/1145 [==============================] - 103s 90ms/step - loss: 2.3010 - accuracy: 0.3725 - val_loss: 193.1470 - val_accuracy: 0.2186\n"
     ]
    },
    {
     "name": "stdout",
     "output_type": "stream",
     "text": [
      "Epoch 43/50\n",
      "1145/1145 [==============================] - 102s 89ms/step - loss: 2.3088 - accuracy: 0.3728 - val_loss: 183.7158 - val_accuracy: 0.2170\n",
      "Epoch 44/50\n",
      "1145/1145 [==============================] - 102s 89ms/step - loss: 2.2849 - accuracy: 0.3732 - val_loss: 174.5177 - val_accuracy: 0.2323\n",
      "Epoch 45/50\n",
      "1145/1145 [==============================] - 102s 89ms/step - loss: 2.3005 - accuracy: 0.3690 - val_loss: 178.0510 - val_accuracy: 0.2181\n",
      "Epoch 46/50\n",
      "1145/1145 [==============================] - 102s 89ms/step - loss: 2.2708 - accuracy: 0.3800 - val_loss: 182.0894 - val_accuracy: 0.2159\n",
      "Epoch 47/50\n",
      "1145/1145 [==============================] - 102s 89ms/step - loss: 2.3004 - accuracy: 0.3659 - val_loss: 183.3173 - val_accuracy: 0.2164\n",
      "Epoch 48/50\n",
      "1145/1145 [==============================] - 102s 89ms/step - loss: 2.3126 - accuracy: 0.3767 - val_loss: 186.6792 - val_accuracy: 0.2148\n",
      "Epoch 49/50\n",
      "1145/1145 [==============================] - 102s 89ms/step - loss: 2.2834 - accuracy: 0.3766 - val_loss: 181.0298 - val_accuracy: 0.2240\n",
      "Epoch 50/50\n",
      "1145/1145 [==============================] - 102s 89ms/step - loss: 2.2942 - accuracy: 0.3815 - val_loss: 178.5520 - val_accuracy: 0.2208\n"
     ]
    },
    {
     "data": {
      "text/plain": [
       "<tensorflow.python.keras.callbacks.History at 0x3060b5a30>"
      ]
     },
     "execution_count": 38,
     "metadata": {},
     "output_type": "execute_result"
    }
   ],
   "source": [
    "model.fit(train_generator, steps_per_epoch=11459 // BATCH_SIZE, epochs=50,\n",
    "          validation_data=val_generator, callbacks=lr_callback, use_multiprocessing=False)"
   ]
  },
  {
   "cell_type": "markdown",
   "id": "665b8f77",
   "metadata": {},
   "source": [
    "### trying to recreate the best model. reducing number of layers"
   ]
  },
  {
   "cell_type": "code",
   "execution_count": 43,
   "id": "c5180c63",
   "metadata": {},
   "outputs": [],
   "source": [
    "def scheduler(epoch, lr):\n",
    "    if epoch < 10:\n",
    "        return lr\n",
    "    else:\n",
    "        return lr * tf.math.exp(-0.1)\n",
    "    \n",
    "lr_callback = LearningRateScheduler(scheduler)"
   ]
  },
  {
   "cell_type": "code",
   "execution_count": 44,
   "id": "2e586b5d",
   "metadata": {},
   "outputs": [
    {
     "name": "stdout",
     "output_type": "stream",
     "text": [
      "Found 11459 images belonging to 104 classes.\n",
      "Found 3710 images belonging to 104 classes.\n",
      "Found 1294 images belonging to 104 classes.\n"
     ]
    }
   ],
   "source": [
    "train_generator = ImageDataGenerator(rescale=1./255, \n",
    "                                     horizontal_flip=True, \n",
    "                                     rotation_range=90,\n",
    "                                     vertical_flip=True,\n",
    "                                     brightness_range=[0.5,1.5],\n",
    "                                     zoom_range=0.2,\n",
    "                                     shear_range=0.2\n",
    "                                    ).flow_from_directory(\n",
    "    TRAIN_DIR,\n",
    "    target_size=(IMAGE_DIMENSION, IMAGE_DIMENSION), \n",
    "    batch_size=TRAIN_BATCH_SIZE,\n",
    "    shuffle=True \n",
    ")\n",
    "\n",
    "val_generator = ImageDataGenerator().flow_from_directory(\n",
    "    VAL_DIR,\n",
    "    target_size=(IMAGE_DIMENSION, IMAGE_DIMENSION),\n",
    "    batch_size=VAL_BATCH_SIZE,\n",
    "    shuffle=True\n",
    ")\n",
    "\n",
    "test_generator = ImageDataGenerator().flow_from_directory(\n",
    "    TEST_DIR,\n",
    "    target_size=(IMAGE_DIMENSION, IMAGE_DIMENSION),\n",
    "    batch_size=TEST_BATCH_SIZE,\n",
    "    shuffle=False\n",
    ")"
   ]
  },
  {
   "cell_type": "code",
   "execution_count": 45,
   "id": "37d1a299",
   "metadata": {},
   "outputs": [
    {
     "name": "stdout",
     "output_type": "stream",
     "text": [
      "Model: \"sequential_9\"\n",
      "_________________________________________________________________\n",
      "Layer (type)                 Output Shape              Param #   \n",
      "=================================================================\n",
      "conv2d_30 (Conv2D)           (None, 192, 192, 32)      416       \n",
      "_________________________________________________________________\n",
      "max_pooling2d_17 (MaxPooling (None, 96, 96, 32)        0         \n",
      "_________________________________________________________________\n",
      "conv2d_31 (Conv2D)           (None, 94, 94, 64)        18496     \n",
      "_________________________________________________________________\n",
      "max_pooling2d_18 (MaxPooling (None, 31, 23, 64)        0         \n",
      "_________________________________________________________________\n",
      "flatten_7 (Flatten)          (None, 45632)             0         \n",
      "_________________________________________________________________\n",
      "dropout_12 (Dropout)         (None, 45632)             0         \n",
      "_________________________________________________________________\n",
      "dense_19 (Dense)             (None, 32)                1460256   \n",
      "_________________________________________________________________\n",
      "dense_20 (Dense)             (None, 104)               3432      \n",
      "_________________________________________________________________\n",
      "activation_9 (Activation)    (None, 104)               0         \n",
      "=================================================================\n",
      "Total params: 1,482,600\n",
      "Trainable params: 1,482,600\n",
      "Non-trainable params: 0\n",
      "_________________________________________________________________\n"
     ]
    }
   ],
   "source": [
    "model = models.Sequential()\n",
    "model.add(layers.Conv2D(filters=32, \n",
    "                        kernel_size=(2,2),\n",
    "                        strides=(1,1),\n",
    "                        activation='relu',\n",
    "                        padding = 'same',\n",
    "                        input_shape=(IMAGE_DIMENSION, IMAGE_DIMENSION, 3),\n",
    "                        data_format = 'channels_last'))\n",
    "model.add(layers.MaxPooling2D((2,2)))\n",
    "model.add(layers.Conv2D(64, (3,3), activation='relu'))\n",
    "model.add(layers.MaxPooling2D((3,4)))\n",
    "model.add(layers.Flatten())\n",
    "model.add(layers.Dropout(0.5, input_shape=(IMAGE_DIMENSION, IMAGE_DIMENSION, 3)))\n",
    "model.add(layers.Dense(32, activation='relu'))\n",
    "model.add(layers.Dense(NUM_CLASS)) # output layer\n",
    "model.add(layers.Activation('sigmoid'))\n",
    "\n",
    "model.summary()\n",
    "\n",
    "model.compile(optimizer='adam',\n",
    "              loss='categorical_crossentropy',\n",
    "              metrics=['accuracy'])"
   ]
  },
  {
   "cell_type": "code",
   "execution_count": 46,
   "id": "f3806b67",
   "metadata": {},
   "outputs": [
    {
     "name": "stdout",
     "output_type": "stream",
     "text": [
      "Epoch 1/50\n",
      "WARNING:tensorflow:AutoGraph could not transform <function Model.make_train_function.<locals>.train_function at 0x30581a8b0> and will run it as-is.\n",
      "Please report this to the TensorFlow team. When filing the bug, set the verbosity to 10 (on Linux, `export AUTOGRAPH_VERBOSITY=10`) and attach the full output.\n",
      "Cause: unsupported operand type(s) for -: 'NoneType' and 'int'\n",
      "To silence this warning, decorate the function with @tf.autograph.experimental.do_not_convert\n",
      "WARNING: AutoGraph could not transform <function Model.make_train_function.<locals>.train_function at 0x30581a8b0> and will run it as-is.\n",
      "Please report this to the TensorFlow team. When filing the bug, set the verbosity to 10 (on Linux, `export AUTOGRAPH_VERBOSITY=10`) and attach the full output.\n",
      "Cause: unsupported operand type(s) for -: 'NoneType' and 'int'\n",
      "To silence this warning, decorate the function with @tf.autograph.experimental.do_not_convert\n",
      "1145/1145 [==============================] - ETA: 0s - loss: 4.0908 - accuracy: 0.0856WARNING:tensorflow:AutoGraph could not transform <function Model.make_test_function.<locals>.test_function at 0x3962c1c10> and will run it as-is.\n",
      "Please report this to the TensorFlow team. When filing the bug, set the verbosity to 10 (on Linux, `export AUTOGRAPH_VERBOSITY=10`) and attach the full output.\n",
      "Cause: unsupported operand type(s) for -: 'NoneType' and 'int'\n",
      "To silence this warning, decorate the function with @tf.autograph.experimental.do_not_convert\n",
      "WARNING: AutoGraph could not transform <function Model.make_test_function.<locals>.test_function at 0x3962c1c10> and will run it as-is.\n",
      "Please report this to the TensorFlow team. When filing the bug, set the verbosity to 10 (on Linux, `export AUTOGRAPH_VERBOSITY=10`) and attach the full output.\n",
      "Cause: unsupported operand type(s) for -: 'NoneType' and 'int'\n",
      "To silence this warning, decorate the function with @tf.autograph.experimental.do_not_convert\n",
      "1145/1145 [==============================] - 94s 82ms/step - loss: 4.0906 - accuracy: 0.0856 - val_loss: 208.0112 - val_accuracy: 0.1358\n",
      "Epoch 2/50\n",
      "1145/1145 [==============================] - 94s 82ms/step - loss: 3.3691 - accuracy: 0.1724 - val_loss: 243.4412 - val_accuracy: 0.1884\n",
      "Epoch 3/50\n",
      "1145/1145 [==============================] - 91s 79ms/step - loss: 3.1471 - accuracy: 0.2075 - val_loss: 238.0947 - val_accuracy: 0.1962\n",
      "Epoch 4/50\n",
      "1145/1145 [==============================] - 91s 79ms/step - loss: 3.0231 - accuracy: 0.2283 - val_loss: 232.7818 - val_accuracy: 0.1811\n",
      "Epoch 5/50\n",
      "1145/1145 [==============================] - 91s 80ms/step - loss: 2.9422 - accuracy: 0.2388 - val_loss: 235.1550 - val_accuracy: 0.1997\n",
      "Epoch 6/50\n",
      "1145/1145 [==============================] - 92s 80ms/step - loss: 2.8512 - accuracy: 0.2590 - val_loss: 231.3258 - val_accuracy: 0.2167\n",
      "Epoch 7/50\n",
      "1145/1145 [==============================] - 92s 80ms/step - loss: 2.8101 - accuracy: 0.2604 - val_loss: 217.6885 - val_accuracy: 0.2305\n",
      "Epoch 8/50\n",
      "1145/1145 [==============================] - 93s 82ms/step - loss: 2.7688 - accuracy: 0.2741 - val_loss: 228.9598 - val_accuracy: 0.2299\n",
      "Epoch 9/50\n",
      "1145/1145 [==============================] - 93s 81ms/step - loss: 2.7317 - accuracy: 0.2828 - val_loss: 223.1283 - val_accuracy: 0.2439\n",
      "Epoch 10/50\n",
      "1145/1145 [==============================] - 93s 81ms/step - loss: 2.6705 - accuracy: 0.2983 - val_loss: 218.6030 - val_accuracy: 0.2129\n",
      "Epoch 11/50\n",
      "1145/1145 [==============================] - 91s 79ms/step - loss: 2.6472 - accuracy: 0.3041 - val_loss: 234.9631 - val_accuracy: 0.2170\n",
      "Epoch 12/50\n",
      "1145/1145 [==============================] - 92s 80ms/step - loss: 2.6117 - accuracy: 0.3135 - val_loss: 210.5100 - val_accuracy: 0.2159\n",
      "Epoch 13/50\n",
      "1145/1145 [==============================] - 91s 79ms/step - loss: 2.5480 - accuracy: 0.3185 - val_loss: 223.8887 - val_accuracy: 0.2480\n",
      "Epoch 14/50\n",
      "1145/1145 [==============================] - 91s 79ms/step - loss: 2.5593 - accuracy: 0.3233 - val_loss: 237.3100 - val_accuracy: 0.1784\n",
      "Epoch 15/50\n",
      "1145/1145 [==============================] - 91s 80ms/step - loss: 2.5372 - accuracy: 0.3333 - val_loss: 224.8083 - val_accuracy: 0.2075\n",
      "Epoch 16/50\n",
      "1145/1145 [==============================] - 91s 79ms/step - loss: 2.5093 - accuracy: 0.3363 - val_loss: 228.0128 - val_accuracy: 0.2197\n",
      "Epoch 17/50\n",
      "1145/1145 [==============================] - 91s 79ms/step - loss: 2.4735 - accuracy: 0.3376 - val_loss: 244.7263 - val_accuracy: 0.1884\n",
      "Epoch 18/50\n",
      "1145/1145 [==============================] - 90s 79ms/step - loss: 2.4623 - accuracy: 0.3437 - val_loss: 228.8602 - val_accuracy: 0.2216\n",
      "Epoch 19/50\n",
      "1145/1145 [==============================] - 92s 80ms/step - loss: 2.4218 - accuracy: 0.3470 - val_loss: 247.2881 - val_accuracy: 0.2167\n",
      "Epoch 20/50\n",
      "1145/1145 [==============================] - 92s 81ms/step - loss: 2.4339 - accuracy: 0.3506 - val_loss: 229.4265 - val_accuracy: 0.2323\n",
      "Epoch 21/50\n",
      "1145/1145 [==============================] - 93s 81ms/step - loss: 2.4412 - accuracy: 0.3488 - val_loss: 248.8943 - val_accuracy: 0.2305\n",
      "Epoch 22/50\n",
      "1145/1145 [==============================] - 92s 80ms/step - loss: 2.4188 - accuracy: 0.3578 - val_loss: 242.5019 - val_accuracy: 0.2229\n",
      "Epoch 23/50\n",
      "1145/1145 [==============================] - 96s 84ms/step - loss: 2.3900 - accuracy: 0.3651 - val_loss: 258.2390 - val_accuracy: 0.2159\n",
      "Epoch 24/50\n",
      "1145/1145 [==============================] - 93s 82ms/step - loss: 2.3962 - accuracy: 0.3612 - val_loss: 252.5932 - val_accuracy: 0.2075\n",
      "Epoch 25/50\n",
      " 198/1145 [====>.........................] - ETA: 1:12 - loss: 2.3251 - accuracy: 0.3755"
     ]
    },
    {
     "ename": "KeyboardInterrupt",
     "evalue": "",
     "output_type": "error",
     "traceback": [
      "\u001b[0;31m---------------------------------------------------------------------------\u001b[0m",
      "\u001b[0;31mKeyboardInterrupt\u001b[0m                         Traceback (most recent call last)",
      "\u001b[0;32m/var/folders/fh/_3l8mb_s4j967nwd3wg1v2d40000gn/T/ipykernel_13678/302656601.py\u001b[0m in \u001b[0;36m<module>\u001b[0;34m\u001b[0m\n\u001b[0;32m----> 1\u001b[0;31m model.fit(train_generator, steps_per_epoch=11459 // BATCH_SIZE, epochs=50,\n\u001b[0m\u001b[1;32m      2\u001b[0m           validation_data=val_generator, callbacks=lr_callback, use_multiprocessing=False)\n",
      "\u001b[0;32m~/mambaforge/envs/apple_tensorflow/lib/python3.8/site-packages/tensorflow/python/keras/engine/training.py\u001b[0m in \u001b[0;36mfit\u001b[0;34m(self, x, y, batch_size, epochs, verbose, callbacks, validation_split, validation_data, shuffle, class_weight, sample_weight, initial_epoch, steps_per_epoch, validation_steps, validation_batch_size, validation_freq, max_queue_size, workers, use_multiprocessing)\u001b[0m\n\u001b[1;32m   1098\u001b[0m                 _r=1):\n\u001b[1;32m   1099\u001b[0m               \u001b[0mcallbacks\u001b[0m\u001b[0;34m.\u001b[0m\u001b[0mon_train_batch_begin\u001b[0m\u001b[0;34m(\u001b[0m\u001b[0mstep\u001b[0m\u001b[0;34m)\u001b[0m\u001b[0;34m\u001b[0m\u001b[0;34m\u001b[0m\u001b[0m\n\u001b[0;32m-> 1100\u001b[0;31m               \u001b[0mtmp_logs\u001b[0m \u001b[0;34m=\u001b[0m \u001b[0mself\u001b[0m\u001b[0;34m.\u001b[0m\u001b[0mtrain_function\u001b[0m\u001b[0;34m(\u001b[0m\u001b[0miterator\u001b[0m\u001b[0;34m)\u001b[0m\u001b[0;34m\u001b[0m\u001b[0;34m\u001b[0m\u001b[0m\n\u001b[0m\u001b[1;32m   1101\u001b[0m               \u001b[0;32mif\u001b[0m \u001b[0mdata_handler\u001b[0m\u001b[0;34m.\u001b[0m\u001b[0mshould_sync\u001b[0m\u001b[0;34m:\u001b[0m\u001b[0;34m\u001b[0m\u001b[0;34m\u001b[0m\u001b[0m\n\u001b[1;32m   1102\u001b[0m                 \u001b[0mcontext\u001b[0m\u001b[0;34m.\u001b[0m\u001b[0masync_wait\u001b[0m\u001b[0;34m(\u001b[0m\u001b[0;34m)\u001b[0m\u001b[0;34m\u001b[0m\u001b[0;34m\u001b[0m\u001b[0m\n",
      "\u001b[0;32m~/mambaforge/envs/apple_tensorflow/lib/python3.8/site-packages/tensorflow/python/eager/def_function.py\u001b[0m in \u001b[0;36m__call__\u001b[0;34m(self, *args, **kwds)\u001b[0m\n\u001b[1;32m    826\u001b[0m     \u001b[0mtracing_count\u001b[0m \u001b[0;34m=\u001b[0m \u001b[0mself\u001b[0m\u001b[0;34m.\u001b[0m\u001b[0mexperimental_get_tracing_count\u001b[0m\u001b[0;34m(\u001b[0m\u001b[0;34m)\u001b[0m\u001b[0;34m\u001b[0m\u001b[0;34m\u001b[0m\u001b[0m\n\u001b[1;32m    827\u001b[0m     \u001b[0;32mwith\u001b[0m \u001b[0mtrace\u001b[0m\u001b[0;34m.\u001b[0m\u001b[0mTrace\u001b[0m\u001b[0;34m(\u001b[0m\u001b[0mself\u001b[0m\u001b[0;34m.\u001b[0m\u001b[0m_name\u001b[0m\u001b[0;34m)\u001b[0m \u001b[0;32mas\u001b[0m \u001b[0mtm\u001b[0m\u001b[0;34m:\u001b[0m\u001b[0;34m\u001b[0m\u001b[0;34m\u001b[0m\u001b[0m\n\u001b[0;32m--> 828\u001b[0;31m       \u001b[0mresult\u001b[0m \u001b[0;34m=\u001b[0m \u001b[0mself\u001b[0m\u001b[0;34m.\u001b[0m\u001b[0m_call\u001b[0m\u001b[0;34m(\u001b[0m\u001b[0;34m*\u001b[0m\u001b[0margs\u001b[0m\u001b[0;34m,\u001b[0m \u001b[0;34m**\u001b[0m\u001b[0mkwds\u001b[0m\u001b[0;34m)\u001b[0m\u001b[0;34m\u001b[0m\u001b[0;34m\u001b[0m\u001b[0m\n\u001b[0m\u001b[1;32m    829\u001b[0m       \u001b[0mcompiler\u001b[0m \u001b[0;34m=\u001b[0m \u001b[0;34m\"xla\"\u001b[0m \u001b[0;32mif\u001b[0m \u001b[0mself\u001b[0m\u001b[0;34m.\u001b[0m\u001b[0m_experimental_compile\u001b[0m \u001b[0;32melse\u001b[0m \u001b[0;34m\"nonXla\"\u001b[0m\u001b[0;34m\u001b[0m\u001b[0;34m\u001b[0m\u001b[0m\n\u001b[1;32m    830\u001b[0m       \u001b[0mnew_tracing_count\u001b[0m \u001b[0;34m=\u001b[0m \u001b[0mself\u001b[0m\u001b[0;34m.\u001b[0m\u001b[0mexperimental_get_tracing_count\u001b[0m\u001b[0;34m(\u001b[0m\u001b[0;34m)\u001b[0m\u001b[0;34m\u001b[0m\u001b[0;34m\u001b[0m\u001b[0m\n",
      "\u001b[0;32m~/mambaforge/envs/apple_tensorflow/lib/python3.8/site-packages/tensorflow/python/eager/def_function.py\u001b[0m in \u001b[0;36m_call\u001b[0;34m(self, *args, **kwds)\u001b[0m\n\u001b[1;32m    853\u001b[0m       \u001b[0;31m# In this case we have created variables on the first call, so we run the\u001b[0m\u001b[0;34m\u001b[0m\u001b[0;34m\u001b[0m\u001b[0;34m\u001b[0m\u001b[0m\n\u001b[1;32m    854\u001b[0m       \u001b[0;31m# defunned version which is guaranteed to never create variables.\u001b[0m\u001b[0;34m\u001b[0m\u001b[0;34m\u001b[0m\u001b[0;34m\u001b[0m\u001b[0m\n\u001b[0;32m--> 855\u001b[0;31m       \u001b[0;32mreturn\u001b[0m \u001b[0mself\u001b[0m\u001b[0;34m.\u001b[0m\u001b[0m_stateless_fn\u001b[0m\u001b[0;34m(\u001b[0m\u001b[0;34m*\u001b[0m\u001b[0margs\u001b[0m\u001b[0;34m,\u001b[0m \u001b[0;34m**\u001b[0m\u001b[0mkwds\u001b[0m\u001b[0;34m)\u001b[0m  \u001b[0;31m# pylint: disable=not-callable\u001b[0m\u001b[0;34m\u001b[0m\u001b[0;34m\u001b[0m\u001b[0m\n\u001b[0m\u001b[1;32m    856\u001b[0m     \u001b[0;32melif\u001b[0m \u001b[0mself\u001b[0m\u001b[0;34m.\u001b[0m\u001b[0m_stateful_fn\u001b[0m \u001b[0;32mis\u001b[0m \u001b[0;32mnot\u001b[0m \u001b[0;32mNone\u001b[0m\u001b[0;34m:\u001b[0m\u001b[0;34m\u001b[0m\u001b[0;34m\u001b[0m\u001b[0m\n\u001b[1;32m    857\u001b[0m       \u001b[0;31m# Release the lock early so that multiple threads can perform the call\u001b[0m\u001b[0;34m\u001b[0m\u001b[0;34m\u001b[0m\u001b[0;34m\u001b[0m\u001b[0m\n",
      "\u001b[0;32m~/mambaforge/envs/apple_tensorflow/lib/python3.8/site-packages/tensorflow/python/eager/function.py\u001b[0m in \u001b[0;36m__call__\u001b[0;34m(self, *args, **kwargs)\u001b[0m\n\u001b[1;32m   2940\u001b[0m       (graph_function,\n\u001b[1;32m   2941\u001b[0m        filtered_flat_args) = self._maybe_define_function(args, kwargs)\n\u001b[0;32m-> 2942\u001b[0;31m     return graph_function._call_flat(\n\u001b[0m\u001b[1;32m   2943\u001b[0m         filtered_flat_args, captured_inputs=graph_function.captured_inputs)  # pylint: disable=protected-access\n\u001b[1;32m   2944\u001b[0m \u001b[0;34m\u001b[0m\u001b[0m\n",
      "\u001b[0;32m~/mambaforge/envs/apple_tensorflow/lib/python3.8/site-packages/tensorflow/python/eager/function.py\u001b[0m in \u001b[0;36m_call_flat\u001b[0;34m(self, args, captured_inputs, cancellation_manager)\u001b[0m\n\u001b[1;32m   1916\u001b[0m         and executing_eagerly):\n\u001b[1;32m   1917\u001b[0m       \u001b[0;31m# No tape is watching; skip to running the function.\u001b[0m\u001b[0;34m\u001b[0m\u001b[0;34m\u001b[0m\u001b[0;34m\u001b[0m\u001b[0m\n\u001b[0;32m-> 1918\u001b[0;31m       return self._build_call_outputs(self._inference_function.call(\n\u001b[0m\u001b[1;32m   1919\u001b[0m           ctx, args, cancellation_manager=cancellation_manager))\n\u001b[1;32m   1920\u001b[0m     forward_backward = self._select_forward_and_backward_functions(\n",
      "\u001b[0;32m~/mambaforge/envs/apple_tensorflow/lib/python3.8/site-packages/tensorflow/python/eager/function.py\u001b[0m in \u001b[0;36mcall\u001b[0;34m(self, ctx, args, cancellation_manager)\u001b[0m\n\u001b[1;32m    553\u001b[0m       \u001b[0;32mwith\u001b[0m \u001b[0m_InterpolateFunctionError\u001b[0m\u001b[0;34m(\u001b[0m\u001b[0mself\u001b[0m\u001b[0;34m)\u001b[0m\u001b[0;34m:\u001b[0m\u001b[0;34m\u001b[0m\u001b[0;34m\u001b[0m\u001b[0m\n\u001b[1;32m    554\u001b[0m         \u001b[0;32mif\u001b[0m \u001b[0mcancellation_manager\u001b[0m \u001b[0;32mis\u001b[0m \u001b[0;32mNone\u001b[0m\u001b[0;34m:\u001b[0m\u001b[0;34m\u001b[0m\u001b[0;34m\u001b[0m\u001b[0m\n\u001b[0;32m--> 555\u001b[0;31m           outputs = execute.execute(\n\u001b[0m\u001b[1;32m    556\u001b[0m               \u001b[0mstr\u001b[0m\u001b[0;34m(\u001b[0m\u001b[0mself\u001b[0m\u001b[0;34m.\u001b[0m\u001b[0msignature\u001b[0m\u001b[0;34m.\u001b[0m\u001b[0mname\u001b[0m\u001b[0;34m)\u001b[0m\u001b[0;34m,\u001b[0m\u001b[0;34m\u001b[0m\u001b[0;34m\u001b[0m\u001b[0m\n\u001b[1;32m    557\u001b[0m               \u001b[0mnum_outputs\u001b[0m\u001b[0;34m=\u001b[0m\u001b[0mself\u001b[0m\u001b[0;34m.\u001b[0m\u001b[0m_num_outputs\u001b[0m\u001b[0;34m,\u001b[0m\u001b[0;34m\u001b[0m\u001b[0;34m\u001b[0m\u001b[0m\n",
      "\u001b[0;32m~/mambaforge/envs/apple_tensorflow/lib/python3.8/site-packages/tensorflow/python/eager/execute.py\u001b[0m in \u001b[0;36mquick_execute\u001b[0;34m(op_name, num_outputs, inputs, attrs, ctx, name)\u001b[0m\n\u001b[1;32m     57\u001b[0m   \u001b[0;32mtry\u001b[0m\u001b[0;34m:\u001b[0m\u001b[0;34m\u001b[0m\u001b[0;34m\u001b[0m\u001b[0m\n\u001b[1;32m     58\u001b[0m     \u001b[0mctx\u001b[0m\u001b[0;34m.\u001b[0m\u001b[0mensure_initialized\u001b[0m\u001b[0;34m(\u001b[0m\u001b[0;34m)\u001b[0m\u001b[0;34m\u001b[0m\u001b[0;34m\u001b[0m\u001b[0m\n\u001b[0;32m---> 59\u001b[0;31m     tensors = pywrap_tfe.TFE_Py_Execute(ctx._handle, device_name, op_name,\n\u001b[0m\u001b[1;32m     60\u001b[0m                                         inputs, attrs, num_outputs)\n\u001b[1;32m     61\u001b[0m   \u001b[0;32mexcept\u001b[0m \u001b[0mcore\u001b[0m\u001b[0;34m.\u001b[0m\u001b[0m_NotOkStatusException\u001b[0m \u001b[0;32mas\u001b[0m \u001b[0me\u001b[0m\u001b[0;34m:\u001b[0m\u001b[0;34m\u001b[0m\u001b[0;34m\u001b[0m\u001b[0m\n",
      "\u001b[0;31mKeyboardInterrupt\u001b[0m: "
     ]
    }
   ],
   "source": [
    "model.fit(train_generator, steps_per_epoch=11459 // BATCH_SIZE, epochs=50,\n",
    "          validation_data=val_generator, callbacks=lr_callback, use_multiprocessing=False)"
   ]
  },
  {
   "cell_type": "markdown",
   "id": "dff1293b",
   "metadata": {},
   "source": [
    "### attempting to reduce the number of classes. removing the classes beyond three standard deviations"
   ]
  },
  {
   "cell_type": "code",
   "execution_count": 71,
   "id": "2d98ddc7",
   "metadata": {},
   "outputs": [],
   "source": [
    "import os, os.path"
   ]
  },
  {
   "cell_type": "code",
   "execution_count": 74,
   "id": "d0b6173b",
   "metadata": {
    "collapsed": true
   },
   "outputs": [
    {
     "data": {
      "text/plain": [
       "['data/jpeg-192x192/train/toad lily',\n",
       " 'data/jpeg-192x192/train/love in the mist',\n",
       " 'data/jpeg-192x192/train/monkshood',\n",
       " 'data/jpeg-192x192/train/azalea',\n",
       " 'data/jpeg-192x192/train/fritillary',\n",
       " 'data/jpeg-192x192/train/silverbush',\n",
       " 'data/jpeg-192x192/train/canterbury bells',\n",
       " 'data/jpeg-192x192/train/stemless gentian',\n",
       " 'data/jpeg-192x192/train/pink primrose',\n",
       " 'data/jpeg-192x192/train/buttercup',\n",
       " 'data/jpeg-192x192/train/poinsettia',\n",
       " 'data/jpeg-192x192/train/desert-rose',\n",
       " 'data/jpeg-192x192/train/bird of paradise',\n",
       " 'data/jpeg-192x192/train/columbine',\n",
       " 'data/jpeg-192x192/train/frangipani',\n",
       " 'data/jpeg-192x192/train/sweet pea',\n",
       " 'data/jpeg-192x192/train/siam tulip',\n",
       " 'data/jpeg-192x192/train/great masterwort',\n",
       " 'data/jpeg-192x192/train/hard-leaved pocket orchid',\n",
       " 'data/jpeg-192x192/train/marigold',\n",
       " 'data/jpeg-192x192/train/foxglove',\n",
       " 'data/jpeg-192x192/train/wild pansy',\n",
       " 'data/jpeg-192x192/train/windflower',\n",
       " 'data/jpeg-192x192/train/daisy',\n",
       " 'data/jpeg-192x192/train/tiger lily',\n",
       " 'data/jpeg-192x192/train/purple coneflower',\n",
       " 'data/jpeg-192x192/train/orange dahlia',\n",
       " 'data/jpeg-192x192/train/globe-flower',\n",
       " 'data/jpeg-192x192/train/lilac hibiscus',\n",
       " 'data/jpeg-192x192/train/fire lily',\n",
       " 'data/jpeg-192x192/train/balloon flower',\n",
       " 'data/jpeg-192x192/train/iris',\n",
       " 'data/jpeg-192x192/train/bishop of llandaff',\n",
       " 'data/jpeg-192x192/train/yellow iris',\n",
       " 'data/jpeg-192x192/train/garden phlox',\n",
       " 'data/jpeg-192x192/train/alpine sea holly',\n",
       " 'data/jpeg-192x192/train/geranium',\n",
       " 'data/jpeg-192x192/train/pink quill',\n",
       " 'data/jpeg-192x192/train/tree poppy',\n",
       " 'data/jpeg-192x192/train/spear thistle',\n",
       " 'data/jpeg-192x192/train/bromelia',\n",
       " 'data/jpeg-192x192/train/common dandelion',\n",
       " 'data/jpeg-192x192/train/sword lily',\n",
       " 'data/jpeg-192x192/train/peruvian lily',\n",
       " 'data/jpeg-192x192/train/carnation',\n",
       " 'data/jpeg-192x192/train/cosmos',\n",
       " 'data/jpeg-192x192/train/spring crocus',\n",
       " 'data/jpeg-192x192/train/lotus',\n",
       " 'data/jpeg-192x192/train/bolero deep blue',\n",
       " 'data/jpeg-192x192/train/anthurium',\n",
       " 'data/jpeg-192x192/train/rose',\n",
       " 'data/jpeg-192x192/train/water lily',\n",
       " 'data/jpeg-192x192/train/primula',\n",
       " 'data/jpeg-192x192/train/blackberry lily',\n",
       " 'data/jpeg-192x192/train/gaura',\n",
       " 'data/jpeg-192x192/train/trumpet creeper',\n",
       " 'data/jpeg-192x192/train/globe thistle',\n",
       " 'data/jpeg-192x192/train/sweet william',\n",
       " 'data/jpeg-192x192/train/snapdragon',\n",
       " 'data/jpeg-192x192/train/mexican petunia',\n",
       " 'data/jpeg-192x192/train/cyclamen ',\n",
       " 'data/jpeg-192x192/train/petunia',\n",
       " 'data/jpeg-192x192/train/gazania',\n",
       " 'data/jpeg-192x192/train/king protea',\n",
       " 'data/jpeg-192x192/train/blanket flower',\n",
       " 'data/jpeg-192x192/train/common tulip',\n",
       " 'data/jpeg-192x192/train/giant white arum lily',\n",
       " 'data/jpeg-192x192/train/wild rose',\n",
       " 'data/jpeg-192x192/train/morning glory',\n",
       " 'data/jpeg-192x192/train/thorn apple',\n",
       " 'data/jpeg-192x192/train/pincushion flower',\n",
       " 'data/jpeg-192x192/train/tree mallow',\n",
       " 'data/jpeg-192x192/train/canna lily',\n",
       " 'data/jpeg-192x192/train/camellia',\n",
       " 'data/jpeg-192x192/train/pink-yellow dahlia',\n",
       " 'data/jpeg-192x192/train/bee balm',\n",
       " 'data/jpeg-192x192/train/wild geranium',\n",
       " 'data/jpeg-192x192/train/artichoke',\n",
       " 'data/jpeg-192x192/train/black-eyed susan',\n",
       " 'data/jpeg-192x192/train/ruby-lipped cattleya',\n",
       " 'data/jpeg-192x192/train/clematis',\n",
       " 'data/jpeg-192x192/train/prince of wales feathers',\n",
       " 'data/jpeg-192x192/train/hibiscus',\n",
       " 'data/jpeg-192x192/train/cautleya spicata',\n",
       " 'data/jpeg-192x192/train/lenten rose',\n",
       " 'data/jpeg-192x192/train/red ginger',\n",
       " \"data/jpeg-192x192/train/colt's foot\",\n",
       " 'data/jpeg-192x192/train/hippeastrum ',\n",
       " 'data/jpeg-192x192/train/mallow',\n",
       " 'data/jpeg-192x192/train/californian poppy',\n",
       " 'data/jpeg-192x192/train/corn poppy',\n",
       " 'data/jpeg-192x192/train/moon orchid',\n",
       " 'data/jpeg-192x192/train/passion flower',\n",
       " 'data/jpeg-192x192/train/grape hyacinth',\n",
       " 'data/jpeg-192x192/train/japanese anemone',\n",
       " 'data/jpeg-192x192/train/watercress',\n",
       " 'data/jpeg-192x192/train/cape flower',\n",
       " 'data/jpeg-192x192/train/osteospermum',\n",
       " 'data/jpeg-192x192/train/barberton daisy',\n",
       " 'data/jpeg-192x192/train/bougainvillea',\n",
       " 'data/jpeg-192x192/train/magnolia',\n",
       " 'data/jpeg-192x192/train/sunflower',\n",
       " 'data/jpeg-192x192/train/daffodil',\n",
       " 'data/jpeg-192x192/train/wallflower']"
      ]
     },
     "execution_count": 74,
     "metadata": {},
     "output_type": "execute_result"
    }
   ],
   "source": [
    "# can delete\n",
    "class_list_dir = []\n",
    "\n",
    "for file in os.listdir(TRAIN_DIR):\n",
    "    d = os.path.join(TRAIN_DIR, file)\n",
    "    if os.path.isdir(d):\n",
    "        class_list_dir.append(d)\n",
    "        \n",
    "class_list_dir"
   ]
  },
  {
   "cell_type": "code",
   "execution_count": 151,
   "id": "dfa02b49",
   "metadata": {},
   "outputs": [
    {
     "name": "stdout",
     "output_type": "stream",
     "text": [
      "11564\n"
     ]
    }
   ],
   "source": [
    "file_count = sum(len(files) for _, _, files in os.walk(TRAIN_DIR))\n",
    "print(file_count)"
   ]
  },
  {
   "cell_type": "code",
   "execution_count": 129,
   "id": "071273a5",
   "metadata": {},
   "outputs": [],
   "source": [
    "# can delete\n",
    "class_count = {}\n",
    "\n",
    "for class_folder in class_list_dir:\n",
    "    file_count = sum(len(files) for _, _, files in os.walk(class_folder))\n",
    "    class_count[class_folder[24:]] = file_count, class_folder"
   ]
  },
  {
   "cell_type": "code",
   "execution_count": 144,
   "id": "9889d1f4",
   "metadata": {},
   "outputs": [
    {
     "name": "stdout",
     "output_type": "stream",
     "text": [
      "[78, 21, 79, 124, 44, 26, 18, 32, 246, 236, 100, 29, 95, 102, 139, 19, 17, 24, 24, 113, 126, 95, 235, 381, 79, 50, 33, 19, 34, 17, 82, 707, 53, 205, 22, 17, 58, 22, 86, 238, 32, 508, 58, 46, 95, 18, 19, 126, 16, 107, 415, 151, 104, 23, 81, 29, 77, 99, 123, 38, 132, 182, 95, 84, 22, 352, 24, 670, 276, 113, 87, 27, 42, 115, 53, 101, 634, 108, 85, 33, 92, 19, 122, 25, 67, 17, 40, 96, 91, 50, 76, 16, 108, 77, 27, 87, 52, 31, 59, 119, 109, 415, 87, 156]\n"
     ]
    }
   ],
   "source": [
    "# can delete \n",
    "flower_count = []\n",
    "\n",
    "for flower in list(class_count.values()):\n",
    "    flower_count.append(flower[0])\n",
    "    \n",
    "print(flower_count)"
   ]
  },
  {
   "cell_type": "code",
   "execution_count": 150,
   "id": "0b41f2ea",
   "metadata": {},
   "outputs": [
    {
     "name": "stdout",
     "output_type": "stream",
     "text": [
      "78\n",
      "data/jpeg-192x192/train/toad lily\n"
     ]
    }
   ],
   "source": [
    "# shows the count\n",
    "print(list(class_count.values())[0][0])\n",
    "\n",
    "# shows the directory \n",
    "print(list(class_count.values())[0][1])"
   ]
  },
  {
   "cell_type": "code",
   "execution_count": 145,
   "id": "b317ff59",
   "metadata": {},
   "outputs": [
    {
     "data": {
      "text/plain": [
       "<BarContainer object of 104 artists>"
      ]
     },
     "execution_count": 145,
     "metadata": {},
     "output_type": "execute_result"
    },
    {
     "data": {
      "image/png": "[encoded data removed]",
      "text/plain": [
       "<Figure size 432x288 with 1 Axes>"
      ]
     },
     "metadata": {
      "needs_background": "light"
     },
     "output_type": "display_data"
    },
    {
     "data": {
      "image/png": "[encoded data removed]",
      "text/plain": [
       "<Figure size 7200x7200 with 1 Axes>"
      ]
     },
     "metadata": {
      "needs_background": "light"
     },
     "output_type": "display_data"
    }
   ],
   "source": [
    "fig, ax = plt.subplots()\n",
    "plt.figure(figsize=(100, 100))\n",
    "plt.bar(class_count.keys(), flower_count)"
   ]
  },
  {
   "cell_type": "code",
   "execution_count": 149,
   "id": "b6c7707e",
   "metadata": {},
   "outputs": [
    {
     "name": "stdout",
     "output_type": "stream",
     "text": [
      "standard deviation: 132.99130714962862\n",
      "max: 707\n",
      "min: 16\n",
      "mean: 111.1826923076923\n",
      "25%: 30.5\n",
      "75%: 113.5\n",
      "10%: 19.0\n",
      "5%: 17.15\n"
     ]
    }
   ],
   "source": [
    "# finding metrics \n",
    "class_std = np.std(flower_count)\n",
    "class_max = max(flower_count)\n",
    "class_min = min(flower_count)\n",
    "class_mean = np.mean(flower_count)\n",
    "class_first_quartile = np.percentile(flower_count, 25)\n",
    "class_third_quartile = np.percentile(flower_count, 75)\n",
    "class_tenth_percentile = np.percentile(flower_count, 10)\n",
    "class_fifth_percentile = np.percentile(flower_count, 5)\n",
    "\n",
    "print(f'standard deviation: {class_std}')\n",
    "print(f'max: {class_max}')\n",
    "print(f'min: {class_min}')\n",
    "print(f'mean: {class_mean}')\n",
    "print(f'25%: {class_first_quartile}')\n",
    "print(f'75%: {class_third_quartile}')\n",
    "print(f'10%: {class_tenth_percentile}')\n",
    "print(f'5%: {class_fifth_percentile}')"
   ]
  },
  {
   "cell_type": "markdown",
   "id": "9d998a86",
   "metadata": {},
   "source": [
    "### going to remove the folders with less than the 10%"
   ]
  },
  {
   "cell_type": "code",
   "execution_count": 122,
   "id": "4e098351",
   "metadata": {},
   "outputs": [],
   "source": [
    "# help me gottfried"
   ]
  },
  {
   "cell_type": "code",
   "execution_count": 183,
   "id": "d6227af5",
   "metadata": {},
   "outputs": [],
   "source": [
    "import shutil\n",
    "# create new directory if conditions are met\n",
    "# path of file to copy\n",
    "# path of file to create a copy\n",
    "\n",
    "src = 'data/jpeg-192x192/train/toad lily'\n",
    "dst = 'data/jpeg-192x192/train_new/toad lily'\n",
    "\n",
    "def copy_subfolder(source):\n",
    "    destination = src[:23] + '_new' + src[23:]\n",
    "    \n",
    "    shutil.copytree(source, destination, symlinks=False, ignore=None, \n",
    "                copy_function=shutil.copy2, ignore_dangling_symlinks=False, dirs_exist_ok=False)\n",
    "    \n",
    "def item_count(folder):\n",
    "    file_count = sum(len(files) for _, _, files in os.walk(folder))\n",
    "    \n",
    "    return file_count\n",
    "    \n",
    "def select_subset(subfolder_list, percentile):\n",
    "    for subfolder in subfolder_list:\n",
    "        if item_count(subfolder) < percentile"
   ]
  },
  {
   "cell_type": "code",
   "execution_count": null,
   "id": "64e2723d",
   "metadata": {},
   "outputs": [],
   "source": []
  },
  {
   "cell_type": "code",
   "execution_count": 164,
   "id": "5c43f7d3",
   "metadata": {},
   "outputs": [
    {
     "name": "stdout",
     "output_type": "stream",
     "text": [
      "data/jpeg-192x192/train/toad lily\n",
      "data/jpeg-192x192/train/love in the mist\n",
      "data/jpeg-192x192/train/monkshood\n",
      "data/jpeg-192x192/train/azalea\n",
      "data/jpeg-192x192/train/fritillary\n",
      "data/jpeg-192x192/train/silverbush\n",
      "data/jpeg-192x192/train/canterbury bells\n",
      "data/jpeg-192x192/train/stemless gentian\n",
      "data/jpeg-192x192/train/pink primrose\n",
      "data/jpeg-192x192/train/buttercup\n",
      "data/jpeg-192x192/train/poinsettia\n",
      "data/jpeg-192x192/train/desert-rose\n",
      "data/jpeg-192x192/train/bird of paradise\n",
      "data/jpeg-192x192/train/columbine\n",
      "data/jpeg-192x192/train/frangipani\n",
      "data/jpeg-192x192/train/sweet pea\n",
      "data/jpeg-192x192/train/siam tulip\n",
      "data/jpeg-192x192/train/great masterwort\n",
      "data/jpeg-192x192/train/hard-leaved pocket orchid\n",
      "data/jpeg-192x192/train/marigold\n",
      "data/jpeg-192x192/train/foxglove\n",
      "data/jpeg-192x192/train/wild pansy\n",
      "data/jpeg-192x192/train/windflower\n",
      "data/jpeg-192x192/train/daisy\n",
      "data/jpeg-192x192/train/tiger lily\n",
      "data/jpeg-192x192/train/purple coneflower\n",
      "data/jpeg-192x192/train/orange dahlia\n",
      "data/jpeg-192x192/train/globe-flower\n",
      "data/jpeg-192x192/train/lilac hibiscus\n",
      "data/jpeg-192x192/train/fire lily\n",
      "data/jpeg-192x192/train/balloon flower\n",
      "data/jpeg-192x192/train/iris\n",
      "data/jpeg-192x192/train/bishop of llandaff\n",
      "data/jpeg-192x192/train/yellow iris\n",
      "data/jpeg-192x192/train/garden phlox\n",
      "data/jpeg-192x192/train/alpine sea holly\n",
      "data/jpeg-192x192/train/geranium\n",
      "data/jpeg-192x192/train/pink quill\n",
      "data/jpeg-192x192/train/tree poppy\n",
      "data/jpeg-192x192/train/spear thistle\n",
      "data/jpeg-192x192/train/bromelia\n",
      "data/jpeg-192x192/train/common dandelion\n",
      "data/jpeg-192x192/train/sword lily\n",
      "data/jpeg-192x192/train/peruvian lily\n",
      "data/jpeg-192x192/train/carnation\n",
      "data/jpeg-192x192/train/cosmos\n",
      "data/jpeg-192x192/train/spring crocus\n",
      "data/jpeg-192x192/train/lotus\n",
      "data/jpeg-192x192/train/bolero deep blue\n",
      "data/jpeg-192x192/train/anthurium\n",
      "data/jpeg-192x192/train/rose\n",
      "data/jpeg-192x192/train/water lily\n",
      "data/jpeg-192x192/train/primula\n",
      "data/jpeg-192x192/train/blackberry lily\n",
      "data/jpeg-192x192/train/gaura\n",
      "data/jpeg-192x192/train/trumpet creeper\n",
      "data/jpeg-192x192/train/globe thistle\n",
      "data/jpeg-192x192/train/sweet william\n",
      "data/jpeg-192x192/train/snapdragon\n",
      "data/jpeg-192x192/train/mexican petunia\n",
      "data/jpeg-192x192/train/cyclamen \n",
      "data/jpeg-192x192/train/petunia\n",
      "data/jpeg-192x192/train/gazania\n",
      "data/jpeg-192x192/train/king protea\n",
      "data/jpeg-192x192/train/blanket flower\n",
      "data/jpeg-192x192/train/common tulip\n",
      "data/jpeg-192x192/train/giant white arum lily\n",
      "data/jpeg-192x192/train/wild rose\n",
      "data/jpeg-192x192/train/morning glory\n",
      "data/jpeg-192x192/train/thorn apple\n",
      "data/jpeg-192x192/train/pincushion flower\n",
      "data/jpeg-192x192/train/tree mallow\n",
      "data/jpeg-192x192/train/canna lily\n",
      "data/jpeg-192x192/train/camellia\n",
      "data/jpeg-192x192/train/pink-yellow dahlia\n",
      "data/jpeg-192x192/train/bee balm\n",
      "data/jpeg-192x192/train/wild geranium\n",
      "data/jpeg-192x192/train/artichoke\n",
      "data/jpeg-192x192/train/black-eyed susan\n",
      "data/jpeg-192x192/train/ruby-lipped cattleya\n",
      "data/jpeg-192x192/train/clematis\n",
      "data/jpeg-192x192/train/prince of wales feathers\n",
      "data/jpeg-192x192/train/hibiscus\n",
      "data/jpeg-192x192/train/cautleya spicata\n",
      "data/jpeg-192x192/train/lenten rose\n",
      "data/jpeg-192x192/train/red ginger\n",
      "data/jpeg-192x192/train/colt's foot\n",
      "data/jpeg-192x192/train/hippeastrum \n",
      "data/jpeg-192x192/train/mallow\n",
      "data/jpeg-192x192/train/californian poppy\n",
      "data/jpeg-192x192/train/corn poppy\n",
      "data/jpeg-192x192/train/moon orchid\n",
      "data/jpeg-192x192/train/passion flower\n",
      "data/jpeg-192x192/train/grape hyacinth\n",
      "data/jpeg-192x192/train/japanese anemone\n",
      "data/jpeg-192x192/train/watercress\n",
      "data/jpeg-192x192/train/cape flower\n",
      "data/jpeg-192x192/train/osteospermum\n",
      "data/jpeg-192x192/train/barberton daisy\n",
      "data/jpeg-192x192/train/bougainvillea\n",
      "data/jpeg-192x192/train/magnolia\n",
      "data/jpeg-192x192/train/sunflower\n",
      "data/jpeg-192x192/train/daffodil\n",
      "data/jpeg-192x192/train/wallflower\n"
     ]
    }
   ],
   "source": [
    "# get list of all subfolders\n",
    "def get_directory(something something something):\n",
    "    for flower in list(class_count.values()):\n",
    "        print(flower[1])\n",
    "\n",
    "# print(list(class_count.values())[0][1])"
   ]
  },
  {
   "cell_type": "markdown",
   "id": "03fa25a5",
   "metadata": {},
   "source": [
    "## should be the start of preprocessing"
   ]
  },
  {
   "cell_type": "markdown",
   "id": "936ebc66",
   "metadata": {},
   "source": [
    "### adding everything into actual functions"
   ]
  },
  {
   "cell_type": "code",
   "execution_count": 173,
   "id": "46f6b84d",
   "metadata": {},
   "outputs": [],
   "source": [
    "def get_subfolder_list(source_folder):\n",
    "    class_list_dir = []\n",
    "\n",
    "    for file in os.listdir(source_folder):\n",
    "        d = os.path.join(source_folder, file)\n",
    "        if os.path.isdir(d):\n",
    "            class_list_dir.append(d)\n",
    "\n",
    "    return class_list_dir"
   ]
  },
  {
   "cell_type": "code",
   "execution_count": 174,
   "id": "e72eb344",
   "metadata": {},
   "outputs": [],
   "source": [
    "def map_classes(subfolder_list):\n",
    "    class_count = {}\n",
    "\n",
    "    for class_folder in subfolder_list:\n",
    "        file_count = sum(len(files) for _, _, files in os.walk(class_folder))\n",
    "        class_count[class_folder[24:]] = file_count, class_folder\n",
    "        \n",
    "    return class_count"
   ]
  },
  {
   "cell_type": "code",
   "execution_count": 175,
   "id": "ba368653",
   "metadata": {},
   "outputs": [],
   "source": [
    "def get_flower_count(class_map):\n",
    "    flower_count = []\n",
    "\n",
    "    for flower in list(class_count.values()):\n",
    "        flower_count.append(flower[0])\n",
    "\n",
    "    return flower_count"
   ]
  },
  {
   "cell_type": "code",
   "execution_count": null,
   "id": "b8b0c75f",
   "metadata": {},
   "outputs": [],
   "source": []
  },
  {
   "cell_type": "code",
   "execution_count": null,
   "id": "f49d5ca7",
   "metadata": {},
   "outputs": [],
   "source": []
  },
  {
   "cell_type": "code",
   "execution_count": 183,
   "id": "82314d32",
   "metadata": {},
   "outputs": [],
   "source": [
    "# create new directory if conditions are met\n",
    "# path of file to copy\n",
    "# path of file to create a copy\n",
    "\n",
    "src = 'data/jpeg-192x192/train/toad lily'\n",
    "dst = 'data/jpeg-192x192/train_new/toad lily'\n",
    "\n",
    "def copy_subfolder(source):\n",
    "    destination = src[:23] + '_new' + src[23:]\n",
    "    \n",
    "    shutil.copytree(source, destination, symlinks=False, ignore=None, \n",
    "                copy_function=shutil.copy2, ignore_dangling_symlinks=False, dirs_exist_ok=False)\n",
    "    \n",
    "def item_count(folder):\n",
    "    file_count = sum(len(files) for _, _, files in os.walk(folder))\n",
    "    \n",
    "    return file_count\n",
    "    \n",
    "def select_subset(subfolder_list, percentile):\n",
    "    for subfolder in subfolder_list:\n",
    "        if item_count(subfolder) < percentile"
   ]
  },
  {
   "cell_type": "code",
   "execution_count": 182,
   "id": "117f7166",
   "metadata": {},
   "outputs": [
    {
     "data": {
      "text/plain": [
       "['data/jpeg-192x192/train/toad lily',\n",
       " 'data/jpeg-192x192/train/love in the mist',\n",
       " 'data/jpeg-192x192/train/monkshood',\n",
       " 'data/jpeg-192x192/train/azalea',\n",
       " 'data/jpeg-192x192/train/fritillary',\n",
       " 'data/jpeg-192x192/train/silverbush',\n",
       " 'data/jpeg-192x192/train/canterbury bells',\n",
       " 'data/jpeg-192x192/train/stemless gentian',\n",
       " 'data/jpeg-192x192/train/pink primrose',\n",
       " 'data/jpeg-192x192/train/buttercup',\n",
       " 'data/jpeg-192x192/train/poinsettia',\n",
       " 'data/jpeg-192x192/train/desert-rose',\n",
       " 'data/jpeg-192x192/train/bird of paradise',\n",
       " 'data/jpeg-192x192/train/columbine',\n",
       " 'data/jpeg-192x192/train/frangipani',\n",
       " 'data/jpeg-192x192/train/sweet pea',\n",
       " 'data/jpeg-192x192/train/siam tulip',\n",
       " 'data/jpeg-192x192/train/great masterwort',\n",
       " 'data/jpeg-192x192/train/hard-leaved pocket orchid',\n",
       " 'data/jpeg-192x192/train/marigold',\n",
       " 'data/jpeg-192x192/train/foxglove',\n",
       " 'data/jpeg-192x192/train/wild pansy',\n",
       " 'data/jpeg-192x192/train/windflower',\n",
       " 'data/jpeg-192x192/train/daisy',\n",
       " 'data/jpeg-192x192/train/tiger lily',\n",
       " 'data/jpeg-192x192/train/purple coneflower',\n",
       " 'data/jpeg-192x192/train/orange dahlia',\n",
       " 'data/jpeg-192x192/train/globe-flower',\n",
       " 'data/jpeg-192x192/train/lilac hibiscus',\n",
       " 'data/jpeg-192x192/train/fire lily',\n",
       " 'data/jpeg-192x192/train/balloon flower',\n",
       " 'data/jpeg-192x192/train/iris',\n",
       " 'data/jpeg-192x192/train/bishop of llandaff',\n",
       " 'data/jpeg-192x192/train/yellow iris',\n",
       " 'data/jpeg-192x192/train/garden phlox',\n",
       " 'data/jpeg-192x192/train/alpine sea holly',\n",
       " 'data/jpeg-192x192/train/geranium',\n",
       " 'data/jpeg-192x192/train/pink quill',\n",
       " 'data/jpeg-192x192/train/tree poppy',\n",
       " 'data/jpeg-192x192/train/spear thistle',\n",
       " 'data/jpeg-192x192/train/bromelia',\n",
       " 'data/jpeg-192x192/train/common dandelion',\n",
       " 'data/jpeg-192x192/train/sword lily',\n",
       " 'data/jpeg-192x192/train/peruvian lily',\n",
       " 'data/jpeg-192x192/train/carnation',\n",
       " 'data/jpeg-192x192/train/cosmos',\n",
       " 'data/jpeg-192x192/train/spring crocus',\n",
       " 'data/jpeg-192x192/train/lotus',\n",
       " 'data/jpeg-192x192/train/bolero deep blue',\n",
       " 'data/jpeg-192x192/train/anthurium',\n",
       " 'data/jpeg-192x192/train/rose',\n",
       " 'data/jpeg-192x192/train/water lily',\n",
       " 'data/jpeg-192x192/train/primula',\n",
       " 'data/jpeg-192x192/train/blackberry lily',\n",
       " 'data/jpeg-192x192/train/gaura',\n",
       " 'data/jpeg-192x192/train/trumpet creeper',\n",
       " 'data/jpeg-192x192/train/globe thistle',\n",
       " 'data/jpeg-192x192/train/sweet william',\n",
       " 'data/jpeg-192x192/train/snapdragon',\n",
       " 'data/jpeg-192x192/train/mexican petunia',\n",
       " 'data/jpeg-192x192/train/cyclamen ',\n",
       " 'data/jpeg-192x192/train/petunia',\n",
       " 'data/jpeg-192x192/train/gazania',\n",
       " 'data/jpeg-192x192/train/king protea',\n",
       " 'data/jpeg-192x192/train/blanket flower',\n",
       " 'data/jpeg-192x192/train/common tulip',\n",
       " 'data/jpeg-192x192/train/giant white arum lily',\n",
       " 'data/jpeg-192x192/train/wild rose',\n",
       " 'data/jpeg-192x192/train/morning glory',\n",
       " 'data/jpeg-192x192/train/thorn apple',\n",
       " 'data/jpeg-192x192/train/pincushion flower',\n",
       " 'data/jpeg-192x192/train/tree mallow',\n",
       " 'data/jpeg-192x192/train/canna lily',\n",
       " 'data/jpeg-192x192/train/camellia',\n",
       " 'data/jpeg-192x192/train/pink-yellow dahlia',\n",
       " 'data/jpeg-192x192/train/bee balm',\n",
       " 'data/jpeg-192x192/train/wild geranium',\n",
       " 'data/jpeg-192x192/train/artichoke',\n",
       " 'data/jpeg-192x192/train/black-eyed susan',\n",
       " 'data/jpeg-192x192/train/ruby-lipped cattleya',\n",
       " 'data/jpeg-192x192/train/clematis',\n",
       " 'data/jpeg-192x192/train/prince of wales feathers',\n",
       " 'data/jpeg-192x192/train/hibiscus',\n",
       " 'data/jpeg-192x192/train/cautleya spicata',\n",
       " 'data/jpeg-192x192/train/lenten rose',\n",
       " 'data/jpeg-192x192/train/red ginger',\n",
       " \"data/jpeg-192x192/train/colt's foot\",\n",
       " 'data/jpeg-192x192/train/hippeastrum ',\n",
       " 'data/jpeg-192x192/train/mallow',\n",
       " 'data/jpeg-192x192/train/californian poppy',\n",
       " 'data/jpeg-192x192/train/corn poppy',\n",
       " 'data/jpeg-192x192/train/moon orchid',\n",
       " 'data/jpeg-192x192/train/passion flower',\n",
       " 'data/jpeg-192x192/train/grape hyacinth',\n",
       " 'data/jpeg-192x192/train/japanese anemone',\n",
       " 'data/jpeg-192x192/train/watercress',\n",
       " 'data/jpeg-192x192/train/cape flower',\n",
       " 'data/jpeg-192x192/train/osteospermum',\n",
       " 'data/jpeg-192x192/train/barberton daisy',\n",
       " 'data/jpeg-192x192/train/bougainvillea',\n",
       " 'data/jpeg-192x192/train/magnolia',\n",
       " 'data/jpeg-192x192/train/sunflower',\n",
       " 'data/jpeg-192x192/train/daffodil',\n",
       " 'data/jpeg-192x192/train/wallflower']"
      ]
     },
     "execution_count": 182,
     "metadata": {},
     "output_type": "execute_result"
    }
   ],
   "source": [
    "get_subfolder_list(TRAIN_DIR)"
   ]
  },
  {
   "cell_type": "markdown",
   "id": "8e42af93",
   "metadata": {},
   "source": [
    "### introduce early stopping"
   ]
  },
  {
   "cell_type": "code",
   "execution_count": null,
   "id": "7357c6fb",
   "metadata": {},
   "outputs": [],
   "source": []
  },
  {
   "cell_type": "code",
   "execution_count": null,
   "id": "863710bc",
   "metadata": {},
   "outputs": [],
   "source": []
  },
  {
   "cell_type": "code",
   "execution_count": null,
   "id": "782406ba",
   "metadata": {},
   "outputs": [],
   "source": []
  },
  {
   "cell_type": "code",
   "execution_count": null,
   "id": "3117cd2a",
   "metadata": {},
   "outputs": [],
   "source": []
  },
  {
   "cell_type": "code",
   "execution_count": null,
   "id": "f9d9bdba",
   "metadata": {},
   "outputs": [],
   "source": []
  },
  {
   "cell_type": "markdown",
   "id": "116d9ae6",
   "metadata": {},
   "source": [
    "### increase batch size and epochs to experiment"
   ]
  },
  {
   "cell_type": "code",
   "execution_count": null,
   "id": "68df2cf5",
   "metadata": {},
   "outputs": [],
   "source": [
    "BATCH_SIZE = 128\n",
    "TRAIN_BATCH_SIZE = BATCH_SIZE\n",
    "VAL_BATCH_SIZE = BATCH_SIZE\n",
    "#TEST_BATCH_SIZE = 32"
   ]
  },
  {
   "cell_type": "code",
   "execution_count": null,
   "id": "d500daa4",
   "metadata": {},
   "outputs": [],
   "source": [
    "# Build the model with multiple hidden layers\n",
    "model_3 = models.Sequential()\n",
    "model_3.add(layers.Conv2D(filters=32, \n",
    "                        kernel_size=(2,2),\n",
    "                        strides=(1,1),\n",
    "                        activation='relu',\n",
    "                        padding = 'same',\n",
    "                        input_shape=(IMAGE_DIMENSION, IMAGE_DIMENSION, 3),\n",
    "                        data_format = 'channels_last'))\n",
    "model_3.add(layers.MaxPooling2D(pool_size=(2,2),\n",
    "                     strides=2))\n",
    "model_3.add(layers.Flatten())        \n",
    "# possibly more layers here\n",
    "model_3.add(layers.Dense(128))\n",
    "model_3.add(layers.Activation('relu'))\n",
    "model_3.add(layers.Dense(NUM_CLASS)) # output layer\n",
    "model_3.add(layers.Activation('sigmoid'))"
   ]
  },
  {
   "cell_type": "code",
   "execution_count": null,
   "id": "fad34aa5",
   "metadata": {},
   "outputs": [],
   "source": [
    "model_3.summary()"
   ]
  },
  {
   "cell_type": "code",
   "execution_count": null,
   "id": "6bb0d061",
   "metadata": {},
   "outputs": [],
   "source": [
    "# Define an optimizer, cost lost function, and scoring metric\n",
    "model_3.compile(optimizer='adam',\n",
    "              loss='binary_crossentropy',\n",
    "              metrics=['accuracy'])"
   ]
  },
  {
   "cell_type": "code",
   "execution_count": null,
   "id": "8b922994",
   "metadata": {
    "scrolled": true
   },
   "outputs": [],
   "source": [
    "model_3.fit(train_img, train_lb, epochs=100, batch_size=TRAIN_BATCH_SIZE)"
   ]
  },
  {
   "cell_type": "code",
   "execution_count": null,
   "id": "17c02c60",
   "metadata": {},
   "outputs": [],
   "source": [
    "val_loss, val_acc = model_3.evaluate(val_img, val_lb, batch_size=TRAIN_BATCH_SIZE)"
   ]
  },
  {
   "cell_type": "markdown",
   "id": "7dde8974",
   "metadata": {},
   "source": [
    "### adding dropout layer"
   ]
  },
  {
   "cell_type": "code",
   "execution_count": null,
   "id": "935c1451",
   "metadata": {},
   "outputs": [],
   "source": [
    "BATCH_SIZE = 128\n",
    "TRAIN_BATCH_SIZE = BATCH_SIZE\n",
    "VAL_BATCH_SIZE = BATCH_SIZE\n",
    "#TEST_BATCH_SIZE = 32"
   ]
  },
  {
   "cell_type": "code",
   "execution_count": null,
   "id": "22ce1f01",
   "metadata": {},
   "outputs": [],
   "source": [
    "# Build the model with multiple hidden layers\n",
    "model_4 = models.Sequential()\n",
    "model_4.add(layers.Conv2D(filters=32, \n",
    "                        kernel_size=(2,2),\n",
    "                        strides=(1,1),\n",
    "                        activation='relu',\n",
    "                        padding = 'same',\n",
    "                        input_shape=(IMAGE_DIMENSION, IMAGE_DIMENSION, 3),\n",
    "                        data_format = 'channels_last'))\n",
    "model_4.add(layers.MaxPooling2D(pool_size=(2,2),\n",
    "                     strides=2))\n",
    "model_4.add(layers.Flatten())        \n",
    "# possibly more layers here\n",
    "model_4.add(layers.Dropout(0.2, input_shape=(IMAGE_DIMENSION,)))\n",
    "model_4.add(layers.Dense(128, activation='relu'))\n",
    "model_4.add(layers.Dense(64, activation='relu'))\n",
    "model_4.add(layers.Dense(NUM_CLASS)) # output layer\n",
    "model_4.add(layers.Activation('sigmoid'))"
   ]
  },
  {
   "cell_type": "code",
   "execution_count": null,
   "id": "e0b39e17",
   "metadata": {},
   "outputs": [],
   "source": [
    "model_4.summary()"
   ]
  },
  {
   "cell_type": "code",
   "execution_count": null,
   "id": "6b369d05",
   "metadata": {},
   "outputs": [],
   "source": [
    "# Define an optimizer, cost lost function, and scoring metric\n",
    "model_4.compile(optimizer='adam',\n",
    "              loss='binary_crossentropy',\n",
    "              metrics=['accuracy'])"
   ]
  },
  {
   "cell_type": "code",
   "execution_count": null,
   "id": "36b2d4d0",
   "metadata": {
    "scrolled": true
   },
   "outputs": [],
   "source": [
    "model_4.fit(train_img, train_lb, epochs=100, batch_size=TRAIN_BATCH_SIZE)"
   ]
  },
  {
   "cell_type": "code",
   "execution_count": null,
   "id": "e5953679",
   "metadata": {},
   "outputs": [],
   "source": [
    "val_loss, val_acc = model_4.evaluate(val_img, val_lb, batch_size=TRAIN_BATCH_SIZE)"
   ]
  },
  {
   "cell_type": "markdown",
   "id": "ab6a20d2",
   "metadata": {},
   "source": [
    "### shuffle is turned on. more epochs"
   ]
  },
  {
   "cell_type": "code",
   "execution_count": null,
   "id": "c4b9e603",
   "metadata": {},
   "outputs": [],
   "source": [
    "# Build the model with multiple hidden layers\n",
    "model_1 = models.Sequential()\n",
    "model_1.add(layers.Conv2D(filters=32, \n",
    "                        kernel_size=(2,2),\n",
    "                        strides=(1,1),\n",
    "                        activation='relu',\n",
    "                        padding = 'same',\n",
    "                        input_shape=(IMAGE_DIMENSION, IMAGE_DIMENSION, 3),\n",
    "                        data_format = 'channels_last'))\n",
    "model_1.add(layers.BatchNormalization())\n",
    "model_1.add(layers.MaxPooling2D(pool_size=(2,2),\n",
    "                     strides=2))\n",
    "model_1.add(layers.Flatten())        \n",
    "# possibly more layers here\n",
    "model_1.add(layers.Dense(NUM_CLASS)) # output layer\n",
    "model_1.add(layers.Activation('sigmoid'))"
   ]
  },
  {
   "cell_type": "code",
   "execution_count": null,
   "id": "d1d93a41",
   "metadata": {},
   "outputs": [],
   "source": [
    "model_1.summary()"
   ]
  },
  {
   "cell_type": "code",
   "execution_count": null,
   "id": "83816901",
   "metadata": {},
   "outputs": [],
   "source": [
    "# Define an optimizer, cost lost function, and scoring metric\n",
    "model_1.compile(optimizer='adam',\n",
    "              loss='categorical_crossentropy',\n",
    "              metrics=['categorical_crossentropy'])"
   ]
  },
  {
   "cell_type": "code",
   "execution_count": null,
   "id": "e34aa2f5",
   "metadata": {
    "scrolled": false
   },
   "outputs": [],
   "source": [
    "model_1.fit(train_img, train_lb, epochs=150, batch_size=TRAIN_BATCH_SIZE)"
   ]
  },
  {
   "cell_type": "code",
   "execution_count": null,
   "id": "b2c35175",
   "metadata": {
    "scrolled": true
   },
   "outputs": [],
   "source": [
    "val_loss, val_acc = model_1.evaluate(val_img, val_lb, batch_size=TRAIN_BATCH_SIZE)"
   ]
  },
  {
   "cell_type": "markdown",
   "id": "8d01900c",
   "metadata": {},
   "source": [
    "### without flattening"
   ]
  },
  {
   "cell_type": "code",
   "execution_count": null,
   "id": "dff33361",
   "metadata": {},
   "outputs": [],
   "source": [
    "with strategy.scope():\n",
    "    pretrained_model = tf.keras.applications.Xception(\n",
    "        weights='imagenet',\n",
    "        include_top=False ,\n",
    "        input_shape=[IMAGE_DIMENSION, IMAGE_DIMENSION, 3]\n",
    "    )\n",
    "    pretrained_model.trainable = False\n",
    "    \n",
    "    model1 = tf.keras.Sequential([\n",
    "        # To a base pretrained on ImageNet to extract features from images...\n",
    "        pretrained_model,\n",
    "        # ... attach a new head to act as a classifier.\n",
    "        tf.keras.layers.GlobalAveragePooling2D(),\n",
    "        # tf.keras.layers.Dropout(rate=0.2),\n",
    "        tf.keras.layers.Dense(len(CLASSES), activation='softmax')\n",
    "    ])"
   ]
  }
 ],
 "metadata": {
  "kernelspec": {
   "display_name": "Python 3 (ipykernel)",
   "language": "python",
   "name": "python3"
  },
  "language_info": {
   "codemirror_mode": {
    "name": "ipython",
    "version": 3
   },
   "file_extension": ".py",
   "mimetype": "text/x-python",
   "name": "python",
   "nbconvert_exporter": "python",
   "pygments_lexer": "ipython3",
   "version": "3.8.12"
  }
 },
 "nbformat": 4,
 "nbformat_minor": 5
}
