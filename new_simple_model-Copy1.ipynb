{
 "cells": [
  {
   "cell_type": "markdown",
   "id": "240acf99",
   "metadata": {},
   "source": [
    "Dataset organized kindly by user Mourad. https://www.kaggle.com/msheriey/104-flowers-garden-of-eden"
   ]
  },
  {
   "cell_type": "markdown",
   "id": "57708f20",
   "metadata": {},
   "source": [
    "# import"
   ]
  },
  {
   "cell_type": "code",
   "execution_count": 2,
   "id": "12d75b1c",
   "metadata": {},
   "outputs": [],
   "source": [
    "import os\n",
    "import pandas as pd\n",
    "import numpy as np\n",
    "import matplotlib.pyplot as plt\n",
    "%matplotlib inline\n",
    "from tensorflow.keras.models import Sequential\n",
    "from tensorflow.keras.layers import Dense, Conv2D, MaxPooling2D, Flatten\n",
    "from tensorflow.keras.preprocessing.image import ImageDataGenerator, array_to_img, img_to_array, load_img\n",
    "from tensorflow.keras.utils import to_categorical\n",
    "from sklearn.model_selection import train_test_split\n",
    "import tensorflow as tf\n",
    "from tensorflow.keras import datasets, layers, models\n",
    "import random"
   ]
  },
  {
   "cell_type": "markdown",
   "id": "31dfd567",
   "metadata": {},
   "source": [
    "# global variables"
   ]
  },
  {
   "cell_type": "code",
   "execution_count": 3,
   "id": "b60659f1",
   "metadata": {},
   "outputs": [],
   "source": [
    "# image size options: 192, 224, 311, 512\n",
    "IMAGE_DIMENSION = 192\n",
    "VECTOR_LEN = IMAGE_DIMENSION**2\n",
    "NUM_CLASS = 104\n",
    "\n",
    "TRAIN_DIR = f'data/jpeg-{IMAGE_DIMENSION}x{IMAGE_DIMENSION}/train'\n",
    "VAL_DIR = f'data/jpeg-{IMAGE_DIMENSION}x{IMAGE_DIMENSION}/val'\n",
    "TEST_DIR = f'data/jpeg-{IMAGE_DIMENSION}x{IMAGE_DIMENSION}/test'\n",
    "\n",
    "BATCH_SIZE = 32\n",
    "TRAIN_BATCH_SIZE = BATCH_SIZE\n",
    "VAL_BATCH_SIZE = BATCH_SIZE\n",
    "TEST_BATCH_SIZE = 32"
   ]
  },
  {
   "cell_type": "markdown",
   "id": "7989fb6c",
   "metadata": {},
   "source": [
    "# generate datasets"
   ]
  },
  {
   "cell_type": "code",
   "execution_count": 4,
   "id": "e68dae13",
   "metadata": {},
   "outputs": [],
   "source": [
    "# train_img, train_lb = next(generate_train_dataset()) # x_train, y_train\n",
    "# val_img, val_lb = next(generate_val_dataset()) # x_test, y_test\n",
    "# test_img, test_lb = next(generate_test_dataset())"
   ]
  },
  {
   "cell_type": "code",
   "execution_count": 5,
   "id": "9ffde253",
   "metadata": {},
   "outputs": [
    {
     "name": "stdout",
     "output_type": "stream",
     "text": [
      "Found 11459 images belonging to 104 classes.\n",
      "Found 3710 images belonging to 104 classes.\n",
      "Found 1294 images belonging to 104 classes.\n"
     ]
    }
   ],
   "source": [
    "train_generator = ImageDataGenerator(rescale=1./255).flow_from_directory(\n",
    "    TRAIN_DIR,\n",
    "    target_size=(IMAGE_DIMENSION, IMAGE_DIMENSION), \n",
    "    batch_size=TRAIN_BATCH_SIZE,\n",
    "    shuffle=True \n",
    ")\n",
    "\n",
    "val_generator = ImageDataGenerator().flow_from_directory(\n",
    "    VAL_DIR,\n",
    "    target_size=(IMAGE_DIMENSION, IMAGE_DIMENSION),\n",
    "    batch_size=VAL_BATCH_SIZE,\n",
    "    shuffle=False\n",
    ")\n",
    "\n",
    "test_generator = ImageDataGenerator().flow_from_directory(\n",
    "    TEST_DIR,\n",
    "    target_size=(IMAGE_DIMENSION, IMAGE_DIMENSION),\n",
    "    batch_size=TEST_BATCH_SIZE,\n",
    "    shuffle=False\n",
    ")"
   ]
  },
  {
   "cell_type": "code",
   "execution_count": 6,
   "id": "2199d2d0",
   "metadata": {},
   "outputs": [],
   "source": [
    "train_img, train_lb = next(train_generator)\n",
    "val_img, val_lb = next(val_generator)\n",
    "test_img, test_lb = next(test_generator)"
   ]
  },
  {
   "cell_type": "markdown",
   "id": "04d44fe8",
   "metadata": {},
   "source": [
    "# explore data"
   ]
  },
  {
   "cell_type": "code",
   "execution_count": 7,
   "id": "d29d5271",
   "metadata": {},
   "outputs": [
    {
     "data": {
      "text/plain": [
       "((32, 192, 192, 3), (32, 104))"
      ]
     },
     "execution_count": 7,
     "metadata": {},
     "output_type": "execute_result"
    }
   ],
   "source": [
    "train_img.shape, train_lb.shape"
   ]
  },
  {
   "cell_type": "code",
   "execution_count": 8,
   "id": "65f8702b",
   "metadata": {},
   "outputs": [
    {
     "data": {
      "text/plain": [
       "array([0., 0., 0., 0., 0., 0., 0., 0., 0., 0., 0., 0., 0., 0., 0., 0., 0.,\n",
       "       0., 0., 0., 0., 0., 0., 0., 0., 0., 0., 0., 0., 0., 0., 0., 0., 0.,\n",
       "       0., 0., 0., 0., 0., 0., 0., 0., 0., 0., 0., 0., 0., 0., 0., 0., 0.,\n",
       "       0., 0., 0., 0., 1., 0., 0., 0., 0., 0., 0., 0., 0., 0., 0., 0., 0.,\n",
       "       0., 0., 0., 0., 0., 0., 0., 0., 0., 0., 0., 0., 0., 0., 0., 0., 0.,\n",
       "       0., 0., 0., 0., 0., 0., 0., 0., 0., 0., 0., 0., 0., 0., 0., 0., 0.,\n",
       "       0., 0.], dtype=float32)"
      ]
     },
     "execution_count": 8,
     "metadata": {},
     "output_type": "execute_result"
    }
   ],
   "source": [
    "train_lb[1]"
   ]
  },
  {
   "cell_type": "markdown",
   "id": "b6c474f7",
   "metadata": {},
   "source": [
    "# preprocessing"
   ]
  },
  {
   "cell_type": "code",
   "execution_count": 9,
   "id": "635ad7c8",
   "metadata": {},
   "outputs": [
    {
     "data": {
      "text/plain": [
       "((32, 192, 192, 3), (32, 104))"
      ]
     },
     "execution_count": 9,
     "metadata": {},
     "output_type": "execute_result"
    }
   ],
   "source": [
    "train_img.shape, train_lb.shape"
   ]
  },
  {
   "cell_type": "code",
   "execution_count": 10,
   "id": "afa81543",
   "metadata": {
    "scrolled": true
   },
   "outputs": [
    {
     "name": "stdout",
     "output_type": "stream",
     "text": [
      "(32, 192, 192, 3)\n",
      "(32, 104)\n",
      "(32, 192, 192, 3)\n",
      "(32, 104)\n"
     ]
    }
   ],
   "source": [
    "print(np.shape(train_img))\n",
    "print(np.shape(train_lb))\n",
    "print(np.shape(val_img))\n",
    "print(np.shape(val_lb))"
   ]
  },
  {
   "cell_type": "code",
   "execution_count": 11,
   "id": "aa5b0e89",
   "metadata": {},
   "outputs": [
    {
     "data": {
      "text/plain": [
       "(110592, 32)"
      ]
     },
     "execution_count": 11,
     "metadata": {},
     "output_type": "execute_result"
    }
   ],
   "source": [
    "train_img_unrow = train_img.reshape(TRAIN_BATCH_SIZE, -1).T\n",
    "np.shape(train_img_unrow)"
   ]
  },
  {
   "cell_type": "code",
   "execution_count": 12,
   "id": "54b7a025",
   "metadata": {
    "scrolled": true
   },
   "outputs": [
    {
     "data": {
      "text/plain": [
       "(110592, 32)"
      ]
     },
     "execution_count": 12,
     "metadata": {},
     "output_type": "execute_result"
    }
   ],
   "source": [
    "val_img_unrow = val_img.reshape(VAL_BATCH_SIZE, -1).T\n",
    "np.shape(val_img_unrow)"
   ]
  },
  {
   "cell_type": "markdown",
   "id": "741ed4b1",
   "metadata": {},
   "source": [
    "# base model cnn"
   ]
  },
  {
   "cell_type": "code",
   "execution_count": 13,
   "id": "e870f5fe",
   "metadata": {},
   "outputs": [
    {
     "name": "stdout",
     "output_type": "stream",
     "text": [
      "Model: \"sequential\"\n",
      "_________________________________________________________________\n",
      "Layer (type)                 Output Shape              Param #   \n",
      "=================================================================\n",
      "conv2d (Conv2D)              (None, 192, 192, 32)      416       \n",
      "_________________________________________________________________\n",
      "max_pooling2d (MaxPooling2D) (None, 96, 96, 32)        0         \n",
      "_________________________________________________________________\n",
      "flatten (Flatten)            (None, 294912)            0         \n",
      "_________________________________________________________________\n",
      "dense (Dense)                (None, 104)               30670952  \n",
      "_________________________________________________________________\n",
      "activation (Activation)      (None, 104)               0         \n",
      "=================================================================\n",
      "Total params: 30,671,368\n",
      "Trainable params: 30,671,368\n",
      "Non-trainable params: 0\n",
      "_________________________________________________________________\n"
     ]
    }
   ],
   "source": [
    "model = models.Sequential()\n",
    "model.add(layers.Conv2D(filters=32, \n",
    "                        kernel_size=(2,2),\n",
    "                        strides=(1,1),\n",
    "                        activation='relu',\n",
    "                        padding = 'same',\n",
    "                        input_shape=(IMAGE_DIMENSION, IMAGE_DIMENSION, 3),\n",
    "                        data_format = 'channels_last'))\n",
    "model.add(layers.MaxPooling2D(pool_size=(2,2),\n",
    "                     strides=2))\n",
    "model.add(layers.Flatten())        \n",
    "# possibly more layers here\n",
    "\n",
    "model.add(layers.Dense(NUM_CLASS)) # output layer\n",
    "model.add(layers.Activation('sigmoid'))\n",
    "\n",
    "model.summary()\n",
    "\n",
    "model.compile(optimizer='adam',\n",
    "              loss='categorical_crossentropy',\n",
    "              metrics=['accuracy'])"
   ]
  },
  {
   "cell_type": "code",
   "execution_count": 14,
   "id": "3d89f3e8",
   "metadata": {
    "scrolled": true
   },
   "outputs": [
    {
     "name": "stdout",
     "output_type": "stream",
     "text": [
      "Epoch 1/5\n",
      "WARNING:tensorflow:AutoGraph could not transform <function Model.make_train_function.<locals>.train_function at 0x16d2be040> and will run it as-is.\n",
      "Please report this to the TensorFlow team. When filing the bug, set the verbosity to 10 (on Linux, `export AUTOGRAPH_VERBOSITY=10`) and attach the full output.\n",
      "Cause: unsupported operand type(s) for -: 'NoneType' and 'int'\n",
      "To silence this warning, decorate the function with @tf.autograph.experimental.do_not_convert\n",
      "WARNING: AutoGraph could not transform <function Model.make_train_function.<locals>.train_function at 0x16d2be040> and will run it as-is.\n",
      "Please report this to the TensorFlow team. When filing the bug, set the verbosity to 10 (on Linux, `export AUTOGRAPH_VERBOSITY=10`) and attach the full output.\n",
      "Cause: unsupported operand type(s) for -: 'NoneType' and 'int'\n",
      "To silence this warning, decorate the function with @tf.autograph.experimental.do_not_convert\n"
     ]
    },
    {
     "name": "stderr",
     "output_type": "stream",
     "text": [
      "/Users/nobletang/mambaforge/envs/apple_tensorflow/lib/python3.8/site-packages/tensorflow/python/keras/engine/training.py:1844: UserWarning: `Model.fit_generator` is deprecated and will be removed in a future version. Please use `Model.fit`, which supports generators.\n",
      "  warnings.warn('`Model.fit_generator` is deprecated and '\n",
      "2021-12-01 16:30:55.646993: I tensorflow/compiler/mlir/mlir_graph_optimization_pass.cc:116] None of the MLIR optimization passes are enabled (registered 2)\n",
      "2021-12-01 16:30:55.647229: W tensorflow/core/platform/profile_utils/cpu_utils.cc:126] Failed to get CPU frequency: 0 Hz\n"
     ]
    },
    {
     "name": "stdout",
     "output_type": "stream",
     "text": [
      "359/359 [==============================] - 74s 206ms/step - loss: 14.7019 - accuracy: 0.1186\n",
      "Epoch 2/5\n",
      "359/359 [==============================] - 74s 207ms/step - loss: 2.0302 - accuracy: 0.4903\n",
      "Epoch 3/5\n",
      "359/359 [==============================] - 75s 208ms/step - loss: 0.6388 - accuracy: 0.8605\n",
      "Epoch 4/5\n",
      "359/359 [==============================] - 75s 208ms/step - loss: 0.1832 - accuracy: 0.9675\n",
      "Epoch 5/5\n",
      "359/359 [==============================] - 74s 206ms/step - loss: 0.0765 - accuracy: 0.9896\n"
     ]
    },
    {
     "data": {
      "text/plain": [
       "<tensorflow.python.keras.callbacks.History at 0x16a8b4b50>"
      ]
     },
     "execution_count": 14,
     "metadata": {},
     "output_type": "execute_result"
    }
   ],
   "source": [
    "model.fit_generator(train_generator, epochs=5)"
   ]
  },
  {
   "cell_type": "code",
   "execution_count": null,
   "id": "3d3648cc",
   "metadata": {},
   "outputs": [],
   "source": []
  },
  {
   "cell_type": "markdown",
   "id": "28c29038",
   "metadata": {},
   "source": [
    "# cnn"
   ]
  },
  {
   "cell_type": "code",
   "execution_count": null,
   "id": "9f3398ff",
   "metadata": {},
   "outputs": [],
   "source": [
    "# initial_learning_rate = 0.1\n",
    "# lr_schedule = ExponentialDecay(\n",
    "#     initial_learning_rate, decay_steps=100000, decay_rate=0.01, staircase=True\n",
    "# )\n",
    "\n",
    "# optimizer = tf.keras.optimizers.RMSprop(learning_rate=lr_schedule)"
   ]
  },
  {
   "cell_type": "code",
   "execution_count": null,
   "id": "49983d64",
   "metadata": {},
   "outputs": [],
   "source": [
    "# Build the model with multiple hidden layers\n",
    "model_1 = models.Sequential()\n",
    "model_1.add(layers.Conv2D(filters=32, \n",
    "                        kernel_size=(2,2),\n",
    "                        strides=(1,1),\n",
    "                        activation='relu',\n",
    "                        padding = 'same',\n",
    "                        input_shape=(IMAGE_DIMENSION, IMAGE_DIMENSION, 3),\n",
    "                        data_format = 'channels_last'))\n",
    "model_1.add(layers.MaxPooling2D(pool_size=(2,2),\n",
    "                     strides=2))\n",
    "model_1.add(layers.Flatten())        \n",
    "# possibly more layers here\n",
    "\n",
    "model_1.add(layers.Dense(NUM_CLASS)) # output layer\n",
    "model_1.add(layers.Activation('sigmoid'))"
   ]
  },
  {
   "cell_type": "code",
   "execution_count": null,
   "id": "7f89b47e",
   "metadata": {},
   "outputs": [],
   "source": [
    "model_1.summary()"
   ]
  },
  {
   "cell_type": "code",
   "execution_count": null,
   "id": "bd80885f",
   "metadata": {},
   "outputs": [],
   "source": [
    "# Define an optimizer, cost lost function, and scoring metric\n",
    "model_1.compile(optimizer='adam',\n",
    "              loss='binary_crossentropy',\n",
    "              metrics=['accuracy'])"
   ]
  },
  {
   "cell_type": "code",
   "execution_count": null,
   "id": "d74f96c2",
   "metadata": {
    "scrolled": false
   },
   "outputs": [],
   "source": [
    "model_1.fit(train_img, train_lb, epochs=50, batch_size=TRAIN_BATCH_SIZE)"
   ]
  },
  {
   "cell_type": "code",
   "execution_count": null,
   "id": "98c87878",
   "metadata": {
    "scrolled": true
   },
   "outputs": [],
   "source": [
    "val_loss, val_acc = model_1.evaluate(val_img, val_lb, batch_size=TRAIN_BATCH_SIZE)"
   ]
  },
  {
   "cell_type": "markdown",
   "id": "5b82d656",
   "metadata": {},
   "source": [
    "### Probably some overfitting in this cnn model. Will try adding more layers to this and see if that reduces overfitting"
   ]
  },
  {
   "cell_type": "code",
   "execution_count": null,
   "id": "e71ef8b3",
   "metadata": {},
   "outputs": [],
   "source": [
    "# Build the model with multiple hidden layers\n",
    "model_2 = models.Sequential()\n",
    "model_2.add(layers.Conv2D(filters=32, \n",
    "                        kernel_size=(2,2),\n",
    "                        strides=(1,1),\n",
    "                        activation='relu',\n",
    "                        padding = 'same',\n",
    "                        input_shape=(IMAGE_DIMENSION, IMAGE_DIMENSION, 3),\n",
    "                        data_format = 'channels_last'))\n",
    "model_2.add(layers.MaxPooling2D(pool_size=(2,2),\n",
    "                     strides=2))\n",
    "model_2.add(layers.Flatten())        \n",
    "# possibly more layers here\n",
    "model_2.add(layers.Dense(128))\n",
    "model_2.add(layers.Activation('relu'))\n",
    "model_2.add(layers.Dense(NUM_CLASS)) # output layer\n",
    "model_2.add(layers.Activation('sigmoid'))"
   ]
  },
  {
   "cell_type": "code",
   "execution_count": null,
   "id": "cf614d29",
   "metadata": {},
   "outputs": [],
   "source": [
    "model_2.summary()"
   ]
  },
  {
   "cell_type": "code",
   "execution_count": null,
   "id": "b75cb9c9",
   "metadata": {},
   "outputs": [],
   "source": [
    "# Define an optimizer, cost lost function, and scoring metric\n",
    "model_2.compile(optimizer='adam',\n",
    "              loss='binary_crossentropy',\n",
    "              metrics=['accuracy'])"
   ]
  },
  {
   "cell_type": "code",
   "execution_count": null,
   "id": "b10f554a",
   "metadata": {},
   "outputs": [],
   "source": [
    "model_2.fit(train_img, train_lb, epochs=50, batch_size=TRAIN_BATCH_SIZE)"
   ]
  },
  {
   "cell_type": "code",
   "execution_count": null,
   "id": "f19dcfa2",
   "metadata": {},
   "outputs": [],
   "source": [
    "val_loss, val_acc = model_2.evaluate(val_img, val_lb, batch_size=TRAIN_BATCH_SIZE)"
   ]
  },
  {
   "cell_type": "markdown",
   "id": "62b623df",
   "metadata": {},
   "source": [
    "### increase batch size and epochs to experiment"
   ]
  },
  {
   "cell_type": "code",
   "execution_count": null,
   "id": "844ab1d1",
   "metadata": {},
   "outputs": [],
   "source": [
    "BATCH_SIZE = 128\n",
    "TRAIN_BATCH_SIZE = BATCH_SIZE\n",
    "VAL_BATCH_SIZE = BATCH_SIZE\n",
    "#TEST_BATCH_SIZE = 32"
   ]
  },
  {
   "cell_type": "code",
   "execution_count": null,
   "id": "18151134",
   "metadata": {},
   "outputs": [],
   "source": [
    "# Build the model with multiple hidden layers\n",
    "model_3 = models.Sequential()\n",
    "model_3.add(layers.Conv2D(filters=32, \n",
    "                        kernel_size=(2,2),\n",
    "                        strides=(1,1),\n",
    "                        activation='relu',\n",
    "                        padding = 'same',\n",
    "                        input_shape=(IMAGE_DIMENSION, IMAGE_DIMENSION, 3),\n",
    "                        data_format = 'channels_last'))\n",
    "model_3.add(layers.MaxPooling2D(pool_size=(2,2),\n",
    "                     strides=2))\n",
    "model_3.add(layers.Flatten())        \n",
    "# possibly more layers here\n",
    "model_3.add(layers.Dense(128))\n",
    "model_3.add(layers.Activation('relu'))\n",
    "model_3.add(layers.Dense(NUM_CLASS)) # output layer\n",
    "model_3.add(layers.Activation('sigmoid'))"
   ]
  },
  {
   "cell_type": "code",
   "execution_count": null,
   "id": "c649cbb6",
   "metadata": {},
   "outputs": [],
   "source": [
    "model_3.summary()"
   ]
  },
  {
   "cell_type": "code",
   "execution_count": null,
   "id": "fe7111b1",
   "metadata": {},
   "outputs": [],
   "source": [
    "# Define an optimizer, cost lost function, and scoring metric\n",
    "model_3.compile(optimizer='adam',\n",
    "              loss='binary_crossentropy',\n",
    "              metrics=['accuracy'])"
   ]
  },
  {
   "cell_type": "code",
   "execution_count": null,
   "id": "d2f04e12",
   "metadata": {
    "scrolled": true
   },
   "outputs": [],
   "source": [
    "model_3.fit(train_img, train_lb, epochs=100, batch_size=TRAIN_BATCH_SIZE)"
   ]
  },
  {
   "cell_type": "code",
   "execution_count": null,
   "id": "3d6065b8",
   "metadata": {},
   "outputs": [],
   "source": [
    "val_loss, val_acc = model_3.evaluate(val_img, val_lb, batch_size=TRAIN_BATCH_SIZE)"
   ]
  },
  {
   "cell_type": "markdown",
   "id": "31398d91",
   "metadata": {},
   "source": [
    "### adding dropout layer"
   ]
  },
  {
   "cell_type": "code",
   "execution_count": null,
   "id": "b6c58eaf",
   "metadata": {},
   "outputs": [],
   "source": [
    "BATCH_SIZE = 128\n",
    "TRAIN_BATCH_SIZE = BATCH_SIZE\n",
    "VAL_BATCH_SIZE = BATCH_SIZE\n",
    "#TEST_BATCH_SIZE = 32"
   ]
  },
  {
   "cell_type": "code",
   "execution_count": null,
   "id": "e223bc48",
   "metadata": {},
   "outputs": [],
   "source": [
    "# Build the model with multiple hidden layers\n",
    "model_4 = models.Sequential()\n",
    "model_4.add(layers.Conv2D(filters=32, \n",
    "                        kernel_size=(2,2),\n",
    "                        strides=(1,1),\n",
    "                        activation='relu',\n",
    "                        padding = 'same',\n",
    "                        input_shape=(IMAGE_DIMENSION, IMAGE_DIMENSION, 3),\n",
    "                        data_format = 'channels_last'))\n",
    "model_4.add(layers.MaxPooling2D(pool_size=(2,2),\n",
    "                     strides=2))\n",
    "model_4.add(layers.Flatten())        \n",
    "# possibly more layers here\n",
    "model_4.add(layers.Dropout(0.2, input_shape=(IMAGE_DIMENSION,)))\n",
    "model_4.add(layers.Dense(128, activation='relu'))\n",
    "model_4.add(layers.Dense(64, activation='relu'))\n",
    "model_4.add(layers.Dense(NUM_CLASS)) # output layer\n",
    "model_4.add(layers.Activation('sigmoid'))"
   ]
  },
  {
   "cell_type": "code",
   "execution_count": null,
   "id": "c1de7af2",
   "metadata": {},
   "outputs": [],
   "source": [
    "model_4.summary()"
   ]
  },
  {
   "cell_type": "code",
   "execution_count": null,
   "id": "2ccf730e",
   "metadata": {},
   "outputs": [],
   "source": [
    "# Define an optimizer, cost lost function, and scoring metric\n",
    "model_4.compile(optimizer='adam',\n",
    "              loss='binary_crossentropy',\n",
    "              metrics=['accuracy'])"
   ]
  },
  {
   "cell_type": "code",
   "execution_count": null,
   "id": "c31d51ed",
   "metadata": {
    "scrolled": true
   },
   "outputs": [],
   "source": [
    "model_4.fit(train_img, train_lb, epochs=100, batch_size=TRAIN_BATCH_SIZE)"
   ]
  },
  {
   "cell_type": "code",
   "execution_count": null,
   "id": "495833c4",
   "metadata": {},
   "outputs": [],
   "source": [
    "val_loss, val_acc = model_4.evaluate(val_img, val_lb, batch_size=TRAIN_BATCH_SIZE)"
   ]
  },
  {
   "cell_type": "markdown",
   "id": "537ed031",
   "metadata": {},
   "source": [
    "### shuffle is turned on. more epochs"
   ]
  },
  {
   "cell_type": "code",
   "execution_count": null,
   "id": "a0317e90",
   "metadata": {},
   "outputs": [],
   "source": [
    "# Build the model with multiple hidden layers\n",
    "model_1 = models.Sequential()\n",
    "model_1.add(layers.Conv2D(filters=32, \n",
    "                        kernel_size=(2,2),\n",
    "                        strides=(1,1),\n",
    "                        activation='relu',\n",
    "                        padding = 'same',\n",
    "                        input_shape=(IMAGE_DIMENSION, IMAGE_DIMENSION, 3),\n",
    "                        data_format = 'channels_last'))\n",
    "model_1.add(layers.BatchNormalization())\n",
    "model_1.add(layers.MaxPooling2D(pool_size=(2,2),\n",
    "                     strides=2))\n",
    "model_1.add(layers.Flatten())        \n",
    "# possibly more layers here\n",
    "model_1.add(layers.Dense(NUM_CLASS)) # output layer\n",
    "model_1.add(layers.Activation('sigmoid'))"
   ]
  },
  {
   "cell_type": "code",
   "execution_count": null,
   "id": "e449447b",
   "metadata": {},
   "outputs": [],
   "source": [
    "model_1.summary()"
   ]
  },
  {
   "cell_type": "code",
   "execution_count": null,
   "id": "499eb3a3",
   "metadata": {},
   "outputs": [],
   "source": [
    "# Define an optimizer, cost lost function, and scoring metric\n",
    "model_1.compile(optimizer='adam',\n",
    "              loss='categorical_crossentropy',\n",
    "              metrics=['categorical_crossentropy'])"
   ]
  },
  {
   "cell_type": "code",
   "execution_count": null,
   "id": "bd5cbf48",
   "metadata": {
    "scrolled": false
   },
   "outputs": [],
   "source": [
    "model_1.fit(train_img, train_lb, epochs=150, batch_size=TRAIN_BATCH_SIZE)"
   ]
  },
  {
   "cell_type": "code",
   "execution_count": null,
   "id": "4d4f0e01",
   "metadata": {
    "scrolled": true
   },
   "outputs": [],
   "source": [
    "val_loss, val_acc = model_1.evaluate(val_img, val_lb, batch_size=TRAIN_BATCH_SIZE)"
   ]
  },
  {
   "cell_type": "markdown",
   "id": "9cf9099b",
   "metadata": {},
   "source": [
    "### without flattening"
   ]
  },
  {
   "cell_type": "code",
   "execution_count": null,
   "id": "7ad32abb",
   "metadata": {},
   "outputs": [],
   "source": [
    "with strategy.scope():\n",
    "    pretrained_model = tf.keras.applications.Xception(\n",
    "        weights='imagenet',\n",
    "        include_top=False ,\n",
    "        input_shape=[IMAGE_DIMENSION, IMAGE_DIMENSION, 3]\n",
    "    )\n",
    "    pretrained_model.trainable = False\n",
    "    \n",
    "    model1 = tf.keras.Sequential([\n",
    "        # To a base pretrained on ImageNet to extract features from images...\n",
    "        pretrained_model,\n",
    "        # ... attach a new head to act as a classifier.\n",
    "        tf.keras.layers.GlobalAveragePooling2D(),\n",
    "        # tf.keras.layers.Dropout(rate=0.2),\n",
    "        tf.keras.layers.Dense(len(CLASSES), activation='softmax')\n",
    "    ])"
   ]
  },
  {
   "cell_type": "markdown",
   "id": "c3e97769",
   "metadata": {},
   "source": [
    "# data augmentation"
   ]
  },
  {
   "cell_type": "markdown",
   "id": "400e1956",
   "metadata": {},
   "source": [
    "running into overfitting issues. will augment data to reduce overfitting"
   ]
  },
  {
   "cell_type": "code",
   "execution_count": null,
   "id": "79e60a3f",
   "metadata": {},
   "outputs": [],
   "source": [
    "def random_fliplr(image):\n",
    "    if random.choice([0,1]):\n",
    "        image = np.fliplr(image)\n",
    "    else:\n",
    "        pass\n",
    "\n",
    "    return image\n",
    "\n",
    "def random_flipud(image):\n",
    "    if random_choice([0,1]):\n",
    "        image = np.flipud(image)\n",
    "    else:\n",
    "        pass\n",
    "\n",
    "    return image"
   ]
  },
  {
   "cell_type": "code",
   "execution_count": null,
   "id": "93469fa8",
   "metadata": {},
   "outputs": [],
   "source": [
    "# display a sample image\n",
    "array_to_img(train_img[0])"
   ]
  },
  {
   "cell_type": "code",
   "execution_count": null,
   "id": "9a6b11de",
   "metadata": {},
   "outputs": [],
   "source": [
    "def augment_dataset(dataset):\n",
    "    # actual augmenting the dataset\n",
    "    augmented_dataset = dataset[0]\n",
    "    print(augmented_dataset)\n",
    "    \n",
    "    for img in dataset:\n",
    "        img = random_fliplr(img)\n",
    "        img = random_flipud(img)\n",
    "        \n",
    "        np.append(augmented_dataset, img, axis=0)\n",
    "        \n",
    "    return augmented_dataset"
   ]
  },
  {
   "cell_type": "code",
   "execution_count": null,
   "id": "53956e20",
   "metadata": {},
   "outputs": [],
   "source": [
    "array_to_img(random_fliplr(train_img[0]))"
   ]
  },
  {
   "cell_type": "code",
   "execution_count": null,
   "id": "c6051587",
   "metadata": {},
   "outputs": [],
   "source": [
    "new_array = augment_dataset(train_img)"
   ]
  },
  {
   "cell_type": "code",
   "execution_count": null,
   "id": "7a662453",
   "metadata": {},
   "outputs": [],
   "source": [
    "def print_img(dataset):\n",
    "    for img in dataset:\n",
    "        array_to_img(img)\n",
    "        \n",
    "    return array_to_img(img)"
   ]
  },
  {
   "cell_type": "code",
   "execution_count": null,
   "id": "302f1cb2",
   "metadata": {},
   "outputs": [],
   "source": [
    "print_img(train_img)"
   ]
  },
  {
   "cell_type": "code",
   "execution_count": null,
   "id": "cf9d65f1",
   "metadata": {},
   "outputs": [],
   "source": []
  }
 ],
 "metadata": {
  "kernelspec": {
   "display_name": "Python 3 (ipykernel)",
   "language": "python",
   "name": "python3"
  },
  "language_info": {
   "codemirror_mode": {
    "name": "ipython",
    "version": 3
   },
   "file_extension": ".py",
   "mimetype": "text/x-python",
   "name": "python",
   "nbconvert_exporter": "python",
   "pygments_lexer": "ipython3",
   "version": "3.8.12"
  }
 },
 "nbformat": 4,
 "nbformat_minor": 5
}
