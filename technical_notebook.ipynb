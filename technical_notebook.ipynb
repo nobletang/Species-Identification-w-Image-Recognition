{
 "cells": [
  {
   "cell_type": "markdown",
   "id": "96ac549f",
   "metadata": {},
   "source": [
    "![title](assets/flower_banner.jpeg)"
   ]
  },
  {
   "cell_type": "markdown",
   "id": "08a05d22",
   "metadata": {},
   "source": [
    "# Introduction"
   ]
  },
  {
   "cell_type": "markdown",
   "id": "016c64f6",
   "metadata": {},
   "source": [
    "In this journal, a machine learning model is used to identify flowers through image classification. This multi-classification model is trained with thousands of images which are randomly augmented to achieve better generalization. The model serves to be a proof of concept in battling invasive plant species that damage the fragile ecosystems in which they reside. This journal will contain the steps taken to arrive at a similar model. Analysis of the results will be mentioned in the later sections, followed by what the results mean for the stakeholder."
   ]
  },
  {
   "cell_type": "markdown",
   "id": "766e394a",
   "metadata": {},
   "source": [
    "# Business Understanding"
   ]
  },
  {
   "cell_type": "markdown",
   "id": "3b7a2890",
   "metadata": {},
   "source": [
    "Every year, the U.S. is estimated to lose $120B due to the impact of invasive plant species. Invasive plant species can reduce yield in nearby agriculture, kill existing plants, increase the risk of forest fires, and much more. While the spread of invasive plant species can be slowed through customs, the plants that reside in U.S. right now need to be found and removed. Programs to remove these plants are already in place, but can be accelerated through the use of machine learning and scouting tools like drones. Drones can quickly scout dangerous terrain and machine learning can rapidly review photos to identify an invasive plant species. This proposal will help reduce cost spent in manual labor and remove the risk of workers traversing dangerous terrain."
   ]
  },
  {
   "cell_type": "markdown",
   "id": "e2a77e64",
   "metadata": {},
   "source": [
    "### Imports"
   ]
  },
  {
   "cell_type": "code",
   "execution_count": 1,
   "id": "5b58042a",
   "metadata": {},
   "outputs": [],
   "source": [
    "import os\n",
    "import pandas as pd\n",
    "import numpy as np\n",
    "import matplotlib.pyplot as plt\n",
    "%matplotlib inline\n",
    "from tensorflow.keras.models import Sequential\n",
    "from tensorflow.keras.layers import Dense, Conv2D, MaxPooling2D, Flatten, GlobalAveragePooling2D, Dropout\n",
    "from tensorflow.keras.preprocessing.image import ImageDataGenerator, array_to_img, img_to_array, load_img\n",
    "#from tensorflow.keras.utils import to_categorical\n",
    "import tensorflow as tf\n",
    "from tensorflow.keras import datasets, layers, models\n",
    "#from tensorflow.keras.applications import Xception, DenseNet201\n",
    "from tensorflow.keras.callbacks import LearningRateScheduler\n",
    "#import random\n",
    "from PIL import Image\n",
    "import shutil\n",
    "import h5py"
   ]
  },
  {
   "cell_type": "markdown",
   "id": "6072b8ae",
   "metadata": {},
   "source": [
    "### Global Variables"
   ]
  },
  {
   "cell_type": "code",
   "execution_count": 2,
   "id": "c0b06a26",
   "metadata": {},
   "outputs": [],
   "source": [
    "# image size options: 192\n",
    "IMAGE_DIMENSION = 192\n",
    "VECTOR_LEN = IMAGE_DIMENSION**2\n",
    "NUM_CLASS = 96\n",
    "\n",
    "train_dir = f'data/jpeg-{IMAGE_DIMENSION}x{IMAGE_DIMENSION}/train'\n",
    "val_dir = f'data/jpeg-{IMAGE_DIMENSION}x{IMAGE_DIMENSION}/val'\n",
    "test_dir = f'data/jpeg-{IMAGE_DIMENSION}x{IMAGE_DIMENSION}/test'\n",
    "\n",
    "BATCH_SIZE = 64\n",
    "TRAIN_BATCH_SIZE = BATCH_SIZE\n",
    "VAL_BATCH_SIZE = BATCH_SIZE\n",
    "TEST_BATCH_SIZE = BATCH_SIZE"
   ]
  },
  {
   "cell_type": "markdown",
   "id": "1015a998",
   "metadata": {},
   "source": [
    "# Data Understanding"
   ]
  },
  {
   "cell_type": "markdown",
   "id": "fe156660",
   "metadata": {},
   "source": [
    "### Functions"
   ]
  },
  {
   "cell_type": "code",
   "execution_count": 3,
   "id": "752d9953",
   "metadata": {},
   "outputs": [],
   "source": [
    "def get_subfolder_list(source_folder):\n",
    "    # returns a list of all the subfolders in the source_folder\n",
    "    class_list_dir = []\n",
    "\n",
    "    for file in os.listdir(source_folder):\n",
    "        d = os.path.join(source_folder, file)\n",
    "        if os.path.isdir(d):\n",
    "            class_list_dir.append(d)\n",
    "\n",
    "    return class_list_dir\n",
    "\n",
    "def map_classes(subfolder_list):\n",
    "    # returns a dict with the flower as the key, and (count, directory) as the values\n",
    "    class_dict = {}\n",
    "\n",
    "    for class_folder in subfolder_list:\n",
    "        file_count = sum(len(files) for _, _, files in os.walk(class_folder))\n",
    "        class_dict[class_folder[24:]] = file_count, class_folder\n",
    "        \n",
    "    return class_dict\n",
    "\n",
    "def get_flower_count(class_dict):\n",
    "    # returns a list of the number of flowers found in the dict\n",
    "    flower_count = []\n",
    "\n",
    "    for flower in list(class_dict.values()):\n",
    "        flower_count.append(flower[0])\n",
    "\n",
    "    return flower_count\n",
    "\n",
    "def get_metrics(flower_count):\n",
    "    # returns basic metrics when given a list of flower value count\n",
    "    class_std = np.std(flower_count)\n",
    "    class_max = max(flower_count)\n",
    "    class_min = min(flower_count)\n",
    "    class_mean = np.mean(flower_count)\n",
    "    class_first_quartile = np.percentile(flower_count, 25)\n",
    "    class_third_quartile = np.percentile(flower_count, 75)\n",
    "    class_tenth_percentile = np.percentile(flower_count, 10)\n",
    "    class_fifth_percentile = np.percentile(flower_count, 5)\n",
    "\n",
    "    print(f'0. standard deviation: {class_std}')\n",
    "    print(f'1. max: {class_max}')\n",
    "    print(f'2. min: {class_min}')\n",
    "    print(f'3. mean: {class_mean}')\n",
    "    print(f'4. 25%: {class_first_quartile}')\n",
    "    print(f'5. 75%: {class_third_quartile}')\n",
    "    print(f'6. 10%: {class_tenth_percentile}')\n",
    "    print(f'7. 5%: {class_fifth_percentile}')\n",
    "    \n",
    "    return (class_std, class_max, class_min, class_mean, class_first_quartile,\n",
    "class_third_quartile, class_tenth_percentile, class_fifth_percentile)\n",
    "\n",
    "def plot_distribution(keys, values):\n",
    "    list1 = list(train_dict.keys())\n",
    "    list2 = train_flower_count\n",
    "    \n",
    "    dict_list = {}\n",
    "\n",
    "    for i in range(len(list1)):\n",
    "        dict_list[list1[i]] = list2[i]\n",
    "\n",
    "    dict_list\n",
    "    \n",
    "    df = pd.DataFrame.from_dict(dict_list, orient='index')\n",
    "\n",
    "    df_sorted = df.sort_values(0, ascending=False)\n",
    "\n",
    "    flower_name = list(df_sorted.index)\n",
    "    value_count = list(df_sorted[0])\n",
    "    \n",
    "    fig, ax = plt.subplots(figsize=(15, 20))\n",
    "\n",
    "    ax.barh(flower_name, value_count);\n",
    "    ax.set_xlabel('# of images')"
   ]
  },
  {
   "cell_type": "code",
   "execution_count": 4,
   "id": "69d1a192",
   "metadata": {},
   "outputs": [
    {
     "data": {
      "text/plain": [
       "['data/jpeg-192x192/train/toad lily',\n",
       " 'data/jpeg-192x192/train/love in the mist',\n",
       " 'data/jpeg-192x192/train/monkshood',\n",
       " 'data/jpeg-192x192/train/azalea',\n",
       " 'data/jpeg-192x192/train/fritillary']"
      ]
     },
     "execution_count": 4,
     "metadata": {},
     "output_type": "execute_result"
    }
   ],
   "source": [
    "train_subfolders = get_subfolder_list(train_dir)\n",
    "train_dict = map_classes(train_subfolders)\n",
    "train_flower_count = get_flower_count(train_dict)\n",
    "\n",
    "train_subfolders[:5]"
   ]
  },
  {
   "cell_type": "code",
   "execution_count": 5,
   "id": "1b816f3d",
   "metadata": {},
   "outputs": [
    {
     "name": "stdout",
     "output_type": "stream",
     "text": [
      "0. standard deviation: 132.99130714962862\n",
      "1. max: 707\n",
      "2. min: 16\n",
      "3. mean: 111.1826923076923\n",
      "4. 25%: 30.5\n",
      "5. 75%: 113.5\n",
      "6. 10%: 19.0\n",
      "7. 5%: 17.15\n"
     ]
    },
    {
     "data": {
      "text/plain": [
       "(132.99130714962862, 707, 16, 111.1826923076923, 30.5, 113.5, 19.0, 17.15)"
      ]
     },
     "execution_count": 5,
     "metadata": {},
     "output_type": "execute_result"
    }
   ],
   "source": [
    "get_metrics(train_flower_count)"
   ]
  },
  {
   "cell_type": "code",
   "execution_count": 6,
   "id": "1155601c",
   "metadata": {},
   "outputs": [
    {
     "data": {
      "image/png": "[encoded data removed]",
      "text/plain": [
       "<Figure size 1080x1440 with 1 Axes>"
      ]
     },
     "metadata": {
      "needs_background": "light"
     },
     "output_type": "display_data"
    }
   ],
   "source": [
    "list1 = list(train_dict.keys())\n",
    "list2 = train_flower_count\n",
    "\n",
    "plot_distribution(list1, list2)"
   ]
  },
  {
   "cell_type": "markdown",
   "id": "50d41c79",
   "metadata": {},
   "source": [
    "There are 104 different flower species provided in this dataset, 16,463 images with different compositions. An image can be of a distant rose bush, a macro photo of a sunflower bud, or a portrait with a hibiscus tucked behind the ear. The distribution of these flowers is not equal and would result in some preprocessing before models should be trained."
   ]
  },
  {
   "cell_type": "markdown",
   "id": "beccaf5e",
   "metadata": {},
   "source": [
    "# Data Preparation"
   ]
  },
  {
   "cell_type": "markdown",
   "id": "4b4e638b",
   "metadata": {},
   "source": [
    "### More functions"
   ]
  },
  {
   "cell_type": "code",
   "execution_count": 7,
   "id": "6f56f173",
   "metadata": {},
   "outputs": [],
   "source": [
    "def copy_subfolder(source):\n",
    "    # copies source folder to a new directory with '_new' attached to the end of the folder name\n",
    "    prev_dir_index = source.rfind('/')\n",
    "    destination = source[:prev_dir_index] + '_new' + source[prev_dir_index:]\n",
    "    \n",
    "    \n",
    "    if not os.path.exists(destination):\n",
    "        result = shutil.copytree(source, destination, symlinks=False, ignore=None, \n",
    "                                 copy_function=shutil.copy2, ignore_dangling_symlinks=False, \n",
    "                                 dirs_exist_ok=False)\n",
    "    else:\n",
    "        print(f'{destination} already exists')\n",
    "        \n",
    "    return result\n",
    "    \n",
    "def item_count(folder):\n",
    "    # helper function to identify which folders to remove\n",
    "    file_count = sum(len(files) for _, _, files in os.walk(folder))\n",
    "    \n",
    "    return file_count\n",
    "    \n",
    "def get_short_list(subfolder_list, n):\n",
    "    # find a list of classes that are divided by the specified n value\n",
    "    temp_dict = map_classes(subfolder_list)\n",
    "    temp_flower_count = get_flower_count(temp_dict)\n",
    "    \n",
    "    move_list = []\n",
    "    ignore_list = []\n",
    "    \n",
    "    percent_cutoff = np.percentile(temp_flower_count, n)\n",
    "    \n",
    "    remove_count = 0\n",
    "    \n",
    "    for subfolder in subfolder_list:\n",
    "        if item_count(subfolder) >= percent_cutoff:\n",
    "            move_list.append(subfolder)\n",
    "        else:\n",
    "            ignore_list.append(subfolder)\n",
    "            remove_count += item_count(subfolder)\n",
    "            \n",
    "    print(f'removed {remove_count} images')\n",
    "    \n",
    "    return move_list, ignore_list\n",
    "    \n",
    "def trim(subfolder_list):\n",
    "    # main function used to copy classes into new train, val, test \n",
    "    for subfolder in subfolder_list:\n",
    "        copy_subfolder(subfolder)\n",
    "\n",
    "        val_subfolder = subfolder.replace('/train/', '/val/')\n",
    "        copy_subfolder(val_subfolder)\n",
    "\n",
    "        test_subfolder = subfolder.replace('/train/', '/test/')\n",
    "        copy_subfolder(test_subfolder)"
   ]
  },
  {
   "cell_type": "markdown",
   "id": "5ae2c4bc",
   "metadata": {},
   "source": [
    "The structure of the directory has class labels for the train and validation folder, but the test folder contains images without any labels. To create a typical train, validate, and test structure, the images in the test folder will be ignored from this point on. 10% of the images found in the train folder will be moved into a new test folder, resulting in three folders with labeled images."
   ]
  },
  {
   "cell_type": "code",
   "execution_count": 8,
   "id": "c258b86b",
   "metadata": {},
   "outputs": [
    {
     "name": "stdout",
     "output_type": "stream",
     "text": [
      "removed 136 images\n"
     ]
    }
   ],
   "source": [
    "move_list, ignore_list = get_short_list(train_subfolders, 10)"
   ]
  },
  {
   "cell_type": "code",
   "execution_count": 9,
   "id": "6e94ef7c",
   "metadata": {},
   "outputs": [],
   "source": [
    "# only needs to be run once if the direectory is not yet set up\n",
    "trim(move_list)"
   ]
  },
  {
   "cell_type": "code",
   "execution_count": 10,
   "id": "cb343a18",
   "metadata": {},
   "outputs": [],
   "source": [
    "# updating the directories as new folders are made \n",
    "train_dir = f'data/jpeg-{IMAGE_DIMENSION}x{IMAGE_DIMENSION}/train_new'\n",
    "val_dir = f'data/jpeg-{IMAGE_DIMENSION}x{IMAGE_DIMENSION}/val_new'\n",
    "test_dir = f'data/jpeg-{IMAGE_DIMENSION}x{IMAGE_DIMENSION}/test_new'"
   ]
  },
  {
   "cell_type": "markdown",
   "id": "502eb2b6",
   "metadata": {},
   "source": [
    "![resulting directory](assets/directory_after.jpg)"
   ]
  },
  {
   "cell_type": "markdown",
   "id": "2def1770",
   "metadata": {},
   "source": [
    "With this directory set up, classes of flowers that do not have enough information on which to train a model can be removed. Functions have been created to select these folders to avoid manually separating the folders by hand. In the models shown in the notebook, the 10th percentile of the number of images found in the training are removed from the scope. This leaves 96 classes with 16,268 images. On average, there should be 168 images per class that can be divided into train, validation, and test sets. "
   ]
  },
  {
   "cell_type": "markdown",
   "id": "dd53f713",
   "metadata": {},
   "source": [
    "With nearly 100 different classes, there are not enough images to effectively train a model. Data augmentation will be used to make the model more generalizable. Each image will randomly flip, change in brightness, crop, and many other transformations. Also, with these images being RGB, the images will need to be standardized from 0 and 255 to the range of 0 and 1."
   ]
  },
  {
   "cell_type": "code",
   "execution_count": 11,
   "id": "66560442",
   "metadata": {},
   "outputs": [
    {
     "name": "stdout",
     "output_type": "stream",
     "text": [
      "Found 11331 images belonging to 96 classes.\n",
      "Found 3666 images belonging to 96 classes.\n",
      "Found 1271 images belonging to 96 classes.\n"
     ]
    }
   ],
   "source": [
    "train_generator = ImageDataGenerator(rescale=1./255, \n",
    "                                     horizontal_flip=True, \n",
    "                                     rotation_range=45,\n",
    "                                     vertical_flip=False,\n",
    "                                     brightness_range=[0.75,1.25],\n",
    "                                     zoom_range=0.2,\n",
    "                                     shear_range=0.2\n",
    "                                    ).flow_from_directory(\n",
    "    train_dir,\n",
    "    target_size=(IMAGE_DIMENSION, IMAGE_DIMENSION), \n",
    "    batch_size=TRAIN_BATCH_SIZE,\n",
    "    shuffle=True \n",
    ")\n",
    "\n",
    "val_generator = ImageDataGenerator().flow_from_directory(\n",
    "    val_dir,\n",
    "    target_size=(IMAGE_DIMENSION, IMAGE_DIMENSION),\n",
    "    batch_size=VAL_BATCH_SIZE,\n",
    "    shuffle=True\n",
    ")\n",
    "\n",
    "test_generator = ImageDataGenerator().flow_from_directory(\n",
    "    test_dir,\n",
    "    target_size=(IMAGE_DIMENSION, IMAGE_DIMENSION),\n",
    "    batch_size=TEST_BATCH_SIZE,\n",
    "    shuffle=False\n",
    ")"
   ]
  },
  {
   "cell_type": "markdown",
   "id": "45fe5142",
   "metadata": {},
   "source": [
    "# Modeling"
   ]
  },
  {
   "cell_type": "markdown",
   "id": "3522bd66",
   "metadata": {},
   "source": [
    "The first model made is a simple convoluational neural network (CNN) which has two hidden layers."
   ]
  },
  {
   "cell_type": "code",
   "execution_count": 12,
   "id": "1c4e5730",
   "metadata": {},
   "outputs": [],
   "source": [
    "sample_size = 11331"
   ]
  },
  {
   "cell_type": "code",
   "execution_count": 13,
   "id": "1f49bcb5",
   "metadata": {
    "scrolled": true
   },
   "outputs": [
    {
     "name": "stdout",
     "output_type": "stream",
     "text": [
      "Model: \"sequential\"\n",
      "_________________________________________________________________\n",
      "Layer (type)                 Output Shape              Param #   \n",
      "=================================================================\n",
      "conv2d (Conv2D)              (None, 192, 192, 64)      832       \n",
      "_________________________________________________________________\n",
      "max_pooling2d (MaxPooling2D) (None, 96, 96, 64)        0         \n",
      "_________________________________________________________________\n",
      "flatten (Flatten)            (None, 589824)            0         \n",
      "_________________________________________________________________\n",
      "dense (Dense)                (None, 96)                56623200  \n",
      "_________________________________________________________________\n",
      "activation (Activation)      (None, 96)                0         \n",
      "=================================================================\n",
      "Total params: 56,624,032\n",
      "Trainable params: 56,624,032\n",
      "Non-trainable params: 0\n",
      "_________________________________________________________________\n",
      "Epoch 1/40\n",
      "WARNING:tensorflow:AutoGraph could not transform <function Model.make_train_function.<locals>.train_function at 0x29ed468b0> and will run it as-is.\n",
      "Please report this to the TensorFlow team. When filing the bug, set the verbosity to 10 (on Linux, `export AUTOGRAPH_VERBOSITY=10`) and attach the full output.\n",
      "Cause: unsupported operand type(s) for -: 'NoneType' and 'int'\n",
      "To silence this warning, decorate the function with @tf.autograph.experimental.do_not_convert\n",
      "WARNING: AutoGraph could not transform <function Model.make_train_function.<locals>.train_function at 0x29ed468b0> and will run it as-is.\n",
      "Please report this to the TensorFlow team. When filing the bug, set the verbosity to 10 (on Linux, `export AUTOGRAPH_VERBOSITY=10`) and attach the full output.\n",
      "Cause: unsupported operand type(s) for -: 'NoneType' and 'int'\n",
      "To silence this warning, decorate the function with @tf.autograph.experimental.do_not_convert\n"
     ]
    },
    {
     "name": "stderr",
     "output_type": "stream",
     "text": [
      "2021-12-07 00:02:55.126977: I tensorflow/compiler/mlir/mlir_graph_optimization_pass.cc:116] None of the MLIR optimization passes are enabled (registered 2)\n",
      "2021-12-07 00:02:55.127156: W tensorflow/core/platform/profile_utils/cpu_utils.cc:126] Failed to get CPU frequency: 0 Hz\n"
     ]
    },
    {
     "name": "stdout",
     "output_type": "stream",
     "text": [
      "177/177 [==============================] - ETA: 0s - loss: 25.8318 - accuracy: 0.0884WARNING:tensorflow:AutoGraph could not transform <function Model.make_test_function.<locals>.test_function at 0x2cf13b160> and will run it as-is.\n",
      "Please report this to the TensorFlow team. When filing the bug, set the verbosity to 10 (on Linux, `export AUTOGRAPH_VERBOSITY=10`) and attach the full output.\n",
      "Cause: unsupported operand type(s) for -: 'NoneType' and 'int'\n",
      "To silence this warning, decorate the function with @tf.autograph.experimental.do_not_convert\n",
      "WARNING: AutoGraph could not transform <function Model.make_test_function.<locals>.test_function at 0x2cf13b160> and will run it as-is.\n",
      "Please report this to the TensorFlow team. When filing the bug, set the verbosity to 10 (on Linux, `export AUTOGRAPH_VERBOSITY=10`) and attach the full output.\n",
      "Cause: unsupported operand type(s) for -: 'NoneType' and 'int'\n",
      "To silence this warning, decorate the function with @tf.autograph.experimental.do_not_convert\n",
      "177/177 [==============================] - 113s 634ms/step - loss: 25.7514 - accuracy: 0.0887 - val_loss: 759.5265 - val_accuracy: 0.1560\n",
      "Epoch 2/40\n",
      "177/177 [==============================] - 111s 629ms/step - loss: 3.1520 - accuracy: 0.2247 - val_loss: 678.8417 - val_accuracy: 0.1825\n",
      "Epoch 3/40\n",
      "177/177 [==============================] - 112s 630ms/step - loss: 2.9142 - accuracy: 0.2669 - val_loss: 796.0239 - val_accuracy: 0.1596\n",
      "Epoch 4/40\n",
      "177/177 [==============================] - 112s 632ms/step - loss: 2.8110 - accuracy: 0.2804 - val_loss: 760.2482 - val_accuracy: 0.1691\n",
      "Epoch 5/40\n",
      "177/177 [==============================] - 113s 635ms/step - loss: 2.6507 - accuracy: 0.3188 - val_loss: 911.1553 - val_accuracy: 0.1498\n",
      "Epoch 6/40\n",
      "177/177 [==============================] - 112s 633ms/step - loss: 2.6032 - accuracy: 0.3221 - val_loss: 858.1315 - val_accuracy: 0.1759\n",
      "Epoch 7/40\n",
      "177/177 [==============================] - 112s 633ms/step - loss: 2.5657 - accuracy: 0.3369 - val_loss: 1129.0138 - val_accuracy: 0.1274\n",
      "Epoch 8/40\n",
      "177/177 [==============================] - 113s 634ms/step - loss: 2.5072 - accuracy: 0.3483 - val_loss: 1008.8470 - val_accuracy: 0.1740\n",
      "Epoch 9/40\n",
      "177/177 [==============================] - 113s 635ms/step - loss: 2.4436 - accuracy: 0.3715 - val_loss: 1128.2083 - val_accuracy: 0.1476\n",
      "Epoch 10/40\n",
      "177/177 [==============================] - 113s 635ms/step - loss: 2.3965 - accuracy: 0.3715 - val_loss: 1232.8032 - val_accuracy: 0.1290\n",
      "Epoch 11/40\n",
      "177/177 [==============================] - 112s 633ms/step - loss: 2.4144 - accuracy: 0.3651 - val_loss: 1132.4705 - val_accuracy: 0.1631\n",
      "Epoch 12/40\n",
      "177/177 [==============================] - 112s 633ms/step - loss: 2.3623 - accuracy: 0.3847 - val_loss: 1075.9556 - val_accuracy: 0.1852\n",
      "Epoch 13/40\n",
      "177/177 [==============================] - 113s 636ms/step - loss: 2.3229 - accuracy: 0.3934 - val_loss: 1212.7423 - val_accuracy: 0.1588\n",
      "Epoch 14/40\n",
      "177/177 [==============================] - 113s 635ms/step - loss: 2.3122 - accuracy: 0.3906 - val_loss: 1287.6001 - val_accuracy: 0.1451\n",
      "Epoch 15/40\n",
      "177/177 [==============================] - 112s 634ms/step - loss: 2.2512 - accuracy: 0.4081 - val_loss: 1386.9718 - val_accuracy: 0.1124\n",
      "Epoch 16/40\n",
      "177/177 [==============================] - 112s 634ms/step - loss: 2.2547 - accuracy: 0.3996 - val_loss: 1423.1422 - val_accuracy: 0.1301\n",
      "Epoch 17/40\n",
      "177/177 [==============================] - 113s 635ms/step - loss: 2.2315 - accuracy: 0.4107 - val_loss: 1507.5316 - val_accuracy: 0.1498\n",
      "Epoch 18/40\n",
      "177/177 [==============================] - 112s 633ms/step - loss: 2.2241 - accuracy: 0.4138 - val_loss: 1681.4316 - val_accuracy: 0.1184\n",
      "Epoch 19/40\n",
      "177/177 [==============================] - 112s 634ms/step - loss: 2.1797 - accuracy: 0.4279 - val_loss: 1659.9489 - val_accuracy: 0.1178\n",
      "Epoch 20/40\n",
      "177/177 [==============================] - 113s 634ms/step - loss: 2.2763 - accuracy: 0.4044 - val_loss: 1485.4275 - val_accuracy: 0.1342\n",
      "Epoch 21/40\n",
      "177/177 [==============================] - 113s 634ms/step - loss: 2.2151 - accuracy: 0.4147 - val_loss: 1703.5083 - val_accuracy: 0.1307\n",
      "Epoch 22/40\n",
      "177/177 [==============================] - 113s 636ms/step - loss: 2.1740 - accuracy: 0.4267 - val_loss: 1783.1621 - val_accuracy: 0.1159\n",
      "Epoch 23/40\n",
      "177/177 [==============================] - 112s 634ms/step - loss: 2.1077 - accuracy: 0.4365 - val_loss: 1764.7305 - val_accuracy: 0.1353\n",
      "Epoch 24/40\n",
      "177/177 [==============================] - 113s 638ms/step - loss: 2.1207 - accuracy: 0.4383 - val_loss: 1894.7817 - val_accuracy: 0.1069\n",
      "Epoch 25/40\n",
      "177/177 [==============================] - 112s 633ms/step - loss: 2.1189 - accuracy: 0.4428 - val_loss: 2129.3784 - val_accuracy: 0.1026\n",
      "Epoch 26/40\n",
      "177/177 [==============================] - 113s 636ms/step - loss: 2.0979 - accuracy: 0.4375 - val_loss: 1995.2828 - val_accuracy: 0.1135\n",
      "Epoch 27/40\n",
      "177/177 [==============================] - 113s 635ms/step - loss: 2.1013 - accuracy: 0.4414 - val_loss: 1739.6310 - val_accuracy: 0.1282\n",
      "Epoch 28/40\n",
      "177/177 [==============================] - 113s 637ms/step - loss: 2.0783 - accuracy: 0.4410 - val_loss: 2051.1509 - val_accuracy: 0.1088\n",
      "Epoch 29/40\n",
      "177/177 [==============================] - 112s 633ms/step - loss: 2.0361 - accuracy: 0.4592 - val_loss: 2206.5806 - val_accuracy: 0.1072\n",
      "Epoch 30/40\n",
      "177/177 [==============================] - 113s 635ms/step - loss: 2.0591 - accuracy: 0.4520 - val_loss: 2240.9832 - val_accuracy: 0.1037\n",
      "Epoch 31/40\n",
      "177/177 [==============================] - 113s 635ms/step - loss: 2.0071 - accuracy: 0.4660 - val_loss: 2352.6370 - val_accuracy: 0.0985\n",
      "Epoch 32/40\n",
      "177/177 [==============================] - 113s 638ms/step - loss: 2.0288 - accuracy: 0.4586 - val_loss: 2354.2207 - val_accuracy: 0.1072\n",
      "Epoch 33/40\n",
      "177/177 [==============================] - 112s 634ms/step - loss: 1.9728 - accuracy: 0.4685 - val_loss: 2122.4377 - val_accuracy: 0.1211\n",
      "Epoch 34/40\n",
      "177/177 [==============================] - 113s 634ms/step - loss: 2.0692 - accuracy: 0.4560 - val_loss: 2656.0720 - val_accuracy: 0.1058\n",
      "Epoch 35/40\n",
      "177/177 [==============================] - 113s 634ms/step - loss: 1.9708 - accuracy: 0.4708 - val_loss: 2496.7068 - val_accuracy: 0.1004\n",
      "Epoch 36/40\n",
      "177/177 [==============================] - 112s 637ms/step - loss: 1.9423 - accuracy: 0.4815 - val_loss: 2530.6794 - val_accuracy: 0.1067\n",
      "Epoch 37/40\n",
      "177/177 [==============================] - 112s 634ms/step - loss: 1.9897 - accuracy: 0.4719 - val_loss: 2528.7080 - val_accuracy: 0.1097\n",
      "Epoch 38/40\n",
      "177/177 [==============================] - 113s 634ms/step - loss: 1.9095 - accuracy: 0.4889 - val_loss: 2700.6084 - val_accuracy: 0.1012\n",
      "Epoch 39/40\n",
      "177/177 [==============================] - 112s 634ms/step - loss: 1.9302 - accuracy: 0.4780 - val_loss: 3223.5718 - val_accuracy: 0.0786\n",
      "Epoch 40/40\n",
      "177/177 [==============================] - 113s 635ms/step - loss: 1.9087 - accuracy: 0.4895 - val_loss: 2823.1299 - val_accuracy: 0.1080\n"
     ]
    },
    {
     "data": {
      "text/plain": [
       "<tensorflow.python.keras.callbacks.History at 0x2c755bd60>"
      ]
     },
     "execution_count": 13,
     "metadata": {},
     "output_type": "execute_result"
    }
   ],
   "source": [
    "model = models.Sequential()\n",
    "model.add(layers.Conv2D(filters=64, \n",
    "                        kernel_size=(2,2),\n",
    "                        activation='relu',\n",
    "                        padding = 'same',\n",
    "                        input_shape=(IMAGE_DIMENSION, IMAGE_DIMENSION, 3),\n",
    "                        data_format = 'channels_last'))\n",
    "model.add(layers.MaxPooling2D((2,2)))\n",
    "model.add(layers.Flatten())\n",
    "model.add(layers.Dense(NUM_CLASS)) # output layer\n",
    "model.add(layers.Activation('sigmoid'))\n",
    "\n",
    "model.summary()\n",
    "\n",
    "model.compile(optimizer='adam',\n",
    "              loss='categorical_crossentropy',\n",
    "              metrics=['accuracy'])\n",
    "\n",
    "# training begins\n",
    "model.fit(train_generator, steps_per_epoch=sample_size // BATCH_SIZE, epochs=40,\n",
    "          validation_data=val_generator, use_multiprocessing=False)"
   ]
  },
  {
   "cell_type": "markdown",
   "id": "8523c81a",
   "metadata": {},
   "source": [
    "The second model uses some overfitting reducing layers, BatchNormalization() and Dropout(). This will hopefully reduce the validation loss and increase cross-validation accuracy"
   ]
  },
  {
   "cell_type": "code",
   "execution_count": 14,
   "id": "aac97260",
   "metadata": {
    "scrolled": true
   },
   "outputs": [
    {
     "name": "stdout",
     "output_type": "stream",
     "text": [
      "Model: \"sequential_1\"\n",
      "_________________________________________________________________\n",
      "Layer (type)                 Output Shape              Param #   \n",
      "=================================================================\n",
      "conv2d_1 (Conv2D)            (None, 192, 192, 64)      832       \n",
      "_________________________________________________________________\n",
      "max_pooling2d_1 (MaxPooling2 (None, 96, 96, 64)        0         \n",
      "_________________________________________________________________\n",
      "batch_normalization (BatchNo (None, 96, 96, 64)        256       \n",
      "_________________________________________________________________\n",
      "dropout (Dropout)            (None, 96, 96, 64)        0         \n",
      "_________________________________________________________________\n",
      "flatten_1 (Flatten)          (None, 589824)            0         \n",
      "_________________________________________________________________\n",
      "dense_1 (Dense)              (None, 96)                56623200  \n",
      "_________________________________________________________________\n",
      "activation_1 (Activation)    (None, 96)                0         \n",
      "=================================================================\n",
      "Total params: 56,624,288\n",
      "Trainable params: 56,624,160\n",
      "Non-trainable params: 128\n",
      "_________________________________________________________________\n",
      "Epoch 1/40\n",
      "WARNING:tensorflow:AutoGraph could not transform <function Model.make_train_function.<locals>.train_function at 0x2dc927790> and will run it as-is.\n",
      "Please report this to the TensorFlow team. When filing the bug, set the verbosity to 10 (on Linux, `export AUTOGRAPH_VERBOSITY=10`) and attach the full output.\n",
      "Cause: unsupported operand type(s) for -: 'NoneType' and 'int'\n",
      "To silence this warning, decorate the function with @tf.autograph.experimental.do_not_convert\n",
      "WARNING: AutoGraph could not transform <function Model.make_train_function.<locals>.train_function at 0x2dc927790> and will run it as-is.\n",
      "Please report this to the TensorFlow team. When filing the bug, set the verbosity to 10 (on Linux, `export AUTOGRAPH_VERBOSITY=10`) and attach the full output.\n",
      "Cause: unsupported operand type(s) for -: 'NoneType' and 'int'\n",
      "To silence this warning, decorate the function with @tf.autograph.experimental.do_not_convert\n",
      "177/177 [==============================] - ETA: 0s - loss: 33.0558 - accuracy: 0.0694WARNING:tensorflow:AutoGraph could not transform <function Model.make_test_function.<locals>.test_function at 0x2dc92e3a0> and will run it as-is.\n",
      "Please report this to the TensorFlow team. When filing the bug, set the verbosity to 10 (on Linux, `export AUTOGRAPH_VERBOSITY=10`) and attach the full output.\n",
      "Cause: unsupported operand type(s) for -: 'NoneType' and 'int'\n",
      "To silence this warning, decorate the function with @tf.autograph.experimental.do_not_convert\n",
      "WARNING: AutoGraph could not transform <function Model.make_test_function.<locals>.test_function at 0x2dc92e3a0> and will run it as-is.\n",
      "Please report this to the TensorFlow team. When filing the bug, set the verbosity to 10 (on Linux, `export AUTOGRAPH_VERBOSITY=10`) and attach the full output.\n",
      "Cause: unsupported operand type(s) for -: 'NoneType' and 'int'\n",
      "To silence this warning, decorate the function with @tf.autograph.experimental.do_not_convert\n",
      "177/177 [==============================] - 126s 706ms/step - loss: 32.9588 - accuracy: 0.0695 - val_loss: 95.6941 - val_accuracy: 0.1020\n",
      "Epoch 2/40\n",
      "177/177 [==============================] - 127s 714ms/step - loss: 3.7702 - accuracy: 0.1220 - val_loss: 246.9025 - val_accuracy: 0.1162\n",
      "Epoch 3/40\n",
      "177/177 [==============================] - 126s 710ms/step - loss: 3.6381 - accuracy: 0.1531 - val_loss: 634.3389 - val_accuracy: 0.1012\n",
      "Epoch 4/40\n",
      "177/177 [==============================] - 127s 715ms/step - loss: 3.6201 - accuracy: 0.1589 - val_loss: 1205.5724 - val_accuracy: 0.1080\n",
      "Epoch 5/40\n",
      "177/177 [==============================] - 128s 719ms/step - loss: 3.5732 - accuracy: 0.1738 - val_loss: 1672.2013 - val_accuracy: 0.0977\n",
      "Epoch 6/40\n",
      "177/177 [==============================] - 126s 707ms/step - loss: 3.5139 - accuracy: 0.1854 - val_loss: 1490.2679 - val_accuracy: 0.1135\n",
      "Epoch 7/40\n",
      "177/177 [==============================] - 125s 706ms/step - loss: 3.4832 - accuracy: 0.1967 - val_loss: 1486.3582 - val_accuracy: 0.1424\n",
      "Epoch 8/40\n",
      "177/177 [==============================] - 125s 706ms/step - loss: 3.4390 - accuracy: 0.1957 - val_loss: 2398.5010 - val_accuracy: 0.0870\n",
      "Epoch 9/40\n",
      "177/177 [==============================] - 127s 713ms/step - loss: 3.4846 - accuracy: 0.1908 - val_loss: 1610.4275 - val_accuracy: 0.1088\n",
      "Epoch 10/40\n",
      "177/177 [==============================] - 127s 713ms/step - loss: 3.4371 - accuracy: 0.1944 - val_loss: 2160.3818 - val_accuracy: 0.0974\n",
      "Epoch 11/40\n",
      "177/177 [==============================] - 127s 716ms/step - loss: 3.4263 - accuracy: 0.1998 - val_loss: 2190.0483 - val_accuracy: 0.1086\n",
      "Epoch 12/40\n",
      "177/177 [==============================] - 128s 718ms/step - loss: 3.3773 - accuracy: 0.2112 - val_loss: 1889.6826 - val_accuracy: 0.0996\n",
      "Epoch 13/40\n",
      "177/177 [==============================] - 128s 718ms/step - loss: 3.3529 - accuracy: 0.2180 - val_loss: 1526.2391 - val_accuracy: 0.1252\n",
      "Epoch 14/40\n",
      "177/177 [==============================] - 128s 723ms/step - loss: 3.3125 - accuracy: 0.2137 - val_loss: 2548.5112 - val_accuracy: 0.1001\n",
      "Epoch 15/40\n",
      "177/177 [==============================] - 129s 726ms/step - loss: 3.2679 - accuracy: 0.2264 - val_loss: 1651.1338 - val_accuracy: 0.1309\n",
      "Epoch 16/40\n",
      "177/177 [==============================] - 129s 724ms/step - loss: 3.3148 - accuracy: 0.2279 - val_loss: 2016.8900 - val_accuracy: 0.1165\n",
      "Epoch 17/40\n",
      "177/177 [==============================] - 129s 726ms/step - loss: 3.3089 - accuracy: 0.2277 - val_loss: 2460.0022 - val_accuracy: 0.0756\n",
      "Epoch 18/40\n",
      "177/177 [==============================] - 131s 736ms/step - loss: 3.2809 - accuracy: 0.2296 - val_loss: 2356.6606 - val_accuracy: 0.0889\n",
      "Epoch 19/40\n",
      "177/177 [==============================] - 130s 732ms/step - loss: 3.2024 - accuracy: 0.2367 - val_loss: 1937.3833 - val_accuracy: 0.1026\n",
      "Epoch 20/40\n",
      "177/177 [==============================] - 130s 731ms/step - loss: 3.2077 - accuracy: 0.2455 - val_loss: 1917.0873 - val_accuracy: 0.1097\n",
      "Epoch 21/40\n",
      "177/177 [==============================] - 133s 748ms/step - loss: 3.2410 - accuracy: 0.2487 - val_loss: 1960.8289 - val_accuracy: 0.1045\n",
      "Epoch 22/40\n",
      "177/177 [==============================] - 133s 749ms/step - loss: 3.2000 - accuracy: 0.2512 - val_loss: 1828.1666 - val_accuracy: 0.1080\n",
      "Epoch 23/40\n",
      "177/177 [==============================] - 133s 752ms/step - loss: 3.1714 - accuracy: 0.2627 - val_loss: 1520.6063 - val_accuracy: 0.1227\n",
      "Epoch 24/40\n",
      "177/177 [==============================] - 133s 750ms/step - loss: 3.1534 - accuracy: 0.2593 - val_loss: 2128.7327 - val_accuracy: 0.0941\n",
      "Epoch 25/40\n",
      "177/177 [==============================] - 133s 749ms/step - loss: 3.0975 - accuracy: 0.2639 - val_loss: 1650.4113 - val_accuracy: 0.1170\n",
      "Epoch 26/40\n",
      "177/177 [==============================] - 134s 752ms/step - loss: 3.1704 - accuracy: 0.2597 - val_loss: 2084.2424 - val_accuracy: 0.0944\n",
      "Epoch 27/40\n",
      "177/177 [==============================] - 133s 748ms/step - loss: 3.0696 - accuracy: 0.2735 - val_loss: 2151.4600 - val_accuracy: 0.0884\n",
      "Epoch 28/40\n",
      "177/177 [==============================] - 136s 766ms/step - loss: 3.0506 - accuracy: 0.2748 - val_loss: 2350.0854 - val_accuracy: 0.0870\n",
      "Epoch 29/40\n",
      "177/177 [==============================] - 137s 769ms/step - loss: 3.0436 - accuracy: 0.2787 - val_loss: 1988.2537 - val_accuracy: 0.0933\n",
      "Epoch 30/40\n",
      "177/177 [==============================] - 137s 769ms/step - loss: 3.0656 - accuracy: 0.2746 - val_loss: 2011.1123 - val_accuracy: 0.1037\n",
      "Epoch 31/40\n",
      "177/177 [==============================] - 138s 777ms/step - loss: 3.0906 - accuracy: 0.2685 - val_loss: 2017.6152 - val_accuracy: 0.0925\n",
      "Epoch 32/40\n",
      "177/177 [==============================] - 140s 788ms/step - loss: 3.0508 - accuracy: 0.2814 - val_loss: 1799.3217 - val_accuracy: 0.1124\n",
      "Epoch 33/40\n",
      "177/177 [==============================] - 140s 787ms/step - loss: 3.0553 - accuracy: 0.2845 - val_loss: 1859.6385 - val_accuracy: 0.1236\n",
      "Epoch 34/40\n"
     ]
    },
    {
     "name": "stdout",
     "output_type": "stream",
     "text": [
      "177/177 [==============================] - 140s 786ms/step - loss: 3.0755 - accuracy: 0.2797 - val_loss: 1837.1237 - val_accuracy: 0.1069\n",
      "Epoch 35/40\n",
      "177/177 [==============================] - 140s 789ms/step - loss: 2.9986 - accuracy: 0.2925 - val_loss: 1858.5997 - val_accuracy: 0.1064\n",
      "Epoch 36/40\n",
      "177/177 [==============================] - 140s 788ms/step - loss: 2.9250 - accuracy: 0.2989 - val_loss: 2265.9082 - val_accuracy: 0.0906\n",
      "Epoch 37/40\n",
      "177/177 [==============================] - 140s 790ms/step - loss: 2.9218 - accuracy: 0.2980 - val_loss: 1886.7369 - val_accuracy: 0.1026\n",
      "Epoch 38/40\n",
      "177/177 [==============================] - 142s 798ms/step - loss: 2.9358 - accuracy: 0.2927 - val_loss: 1856.5054 - val_accuracy: 0.1189\n",
      "Epoch 39/40\n",
      "177/177 [==============================] - 140s 789ms/step - loss: 2.9496 - accuracy: 0.3013 - val_loss: 1822.2678 - val_accuracy: 0.1277\n",
      "Epoch 40/40\n",
      "177/177 [==============================] - 144s 810ms/step - loss: 2.9786 - accuracy: 0.2933 - val_loss: 1654.8495 - val_accuracy: 0.1274\n"
     ]
    },
    {
     "data": {
      "text/plain": [
       "<tensorflow.python.keras.callbacks.History at 0x2dc922d00>"
      ]
     },
     "execution_count": 14,
     "metadata": {},
     "output_type": "execute_result"
    }
   ],
   "source": [
    "model = models.Sequential()\n",
    "model.add(layers.Conv2D(filters=64, \n",
    "                        kernel_size=(2,2),\n",
    "                        activation='relu',\n",
    "                        padding = 'same',\n",
    "                        input_shape=(IMAGE_DIMENSION, IMAGE_DIMENSION, 3),\n",
    "                        data_format = 'channels_last'))\n",
    "model.add(layers.MaxPooling2D((2,2)))\n",
    "model.add(layers.BatchNormalization())\n",
    "model.add(layers.Dropout(0.7))\n",
    "model.add(layers.Flatten())\n",
    "model.add(layers.Dense(NUM_CLASS)) # output layer\n",
    "model.add(layers.Activation('sigmoid'))\n",
    "\n",
    "model.summary()\n",
    "\n",
    "model.compile(optimizer='adam',\n",
    "              loss='categorical_crossentropy',\n",
    "              metrics=['accuracy'])\n",
    "\n",
    "# training begins\n",
    "model.fit(train_generator, steps_per_epoch=sample_size // BATCH_SIZE, epochs=40,\n",
    "          validation_data=val_generator, use_multiprocessing=False)"
   ]
  },
  {
   "cell_type": "markdown",
   "id": "05788959",
   "metadata": {},
   "source": [
    "Through many iterations, the final model comes out to be a convolutional neural network (CNN) with several layers. The model looks through each image and run for 20 epochs. There is also a learning rate that reduces the rate at which the model trains. The goal of the learning rate is to prevent training loss to get ahead of the validation loss."
   ]
  },
  {
   "cell_type": "code",
   "execution_count": 15,
   "id": "363fa144",
   "metadata": {},
   "outputs": [],
   "source": [
    "def scheduler(epoch, lr):\n",
    "    if epoch < 10:\n",
    "        return lr\n",
    "    else:\n",
    "        return 0.00001\n",
    "    \n",
    "lr_callback = LearningRateScheduler(scheduler)"
   ]
  },
  {
   "cell_type": "markdown",
   "id": "051cdcc7",
   "metadata": {},
   "source": [
    "There were some attempts at bettering the model during training but metrics were not improved. The final model faced much overfitting issues but did not use BatchNormalization nor Dropout layers. Adding these layers did not help improve the cross-validation accuracy metric. When attempting to introduce transfer learning, the results instead reduced the cross-validation accuracy metric and increased validation loss. With shorter run times and better metrics, these layers were removed from the final model."
   ]
  },
  {
   "cell_type": "code",
   "execution_count": 16,
   "id": "4ced539c",
   "metadata": {
    "scrolled": true
   },
   "outputs": [
    {
     "name": "stdout",
     "output_type": "stream",
     "text": [
      "Model: \"sequential_2\"\n",
      "_________________________________________________________________\n",
      "Layer (type)                 Output Shape              Param #   \n",
      "=================================================================\n",
      "conv2d_2 (Conv2D)            (None, 192, 192, 32)      416       \n",
      "_________________________________________________________________\n",
      "max_pooling2d_2 (MaxPooling2 (None, 96, 96, 32)        0         \n",
      "_________________________________________________________________\n",
      "conv2d_3 (Conv2D)            (None, 94, 94, 16)        4624      \n",
      "_________________________________________________________________\n",
      "max_pooling2d_3 (MaxPooling2 (None, 31, 31, 16)        0         \n",
      "_________________________________________________________________\n",
      "flatten_2 (Flatten)          (None, 15376)             0         \n",
      "_________________________________________________________________\n",
      "dense_2 (Dense)              (None, 64)                984128    \n",
      "_________________________________________________________________\n",
      "dense_3 (Dense)              (None, 96)                6240      \n",
      "_________________________________________________________________\n",
      "activation_2 (Activation)    (None, 96)                0         \n",
      "=================================================================\n",
      "Total params: 995,408\n",
      "Trainable params: 995,408\n",
      "Non-trainable params: 0\n",
      "_________________________________________________________________\n",
      "Epoch 1/40\n",
      "WARNING:tensorflow:AutoGraph could not transform <function Model.make_train_function.<locals>.train_function at 0x2dca3fa60> and will run it as-is.\n",
      "Please report this to the TensorFlow team. When filing the bug, set the verbosity to 10 (on Linux, `export AUTOGRAPH_VERBOSITY=10`) and attach the full output.\n",
      "Cause: unsupported operand type(s) for -: 'NoneType' and 'int'\n",
      "To silence this warning, decorate the function with @tf.autograph.experimental.do_not_convert\n",
      "WARNING: AutoGraph could not transform <function Model.make_train_function.<locals>.train_function at 0x2dca3fa60> and will run it as-is.\n",
      "Please report this to the TensorFlow team. When filing the bug, set the verbosity to 10 (on Linux, `export AUTOGRAPH_VERBOSITY=10`) and attach the full output.\n",
      "Cause: unsupported operand type(s) for -: 'NoneType' and 'int'\n",
      "To silence this warning, decorate the function with @tf.autograph.experimental.do_not_convert\n",
      "177/177 [==============================] - ETA: 0s - loss: 4.0814 - accuracy: 0.0910WARNING:tensorflow:AutoGraph could not transform <function Model.make_test_function.<locals>.test_function at 0x2cf5d41f0> and will run it as-is.\n",
      "Please report this to the TensorFlow team. When filing the bug, set the verbosity to 10 (on Linux, `export AUTOGRAPH_VERBOSITY=10`) and attach the full output.\n",
      "Cause: unsupported operand type(s) for -: 'NoneType' and 'int'\n",
      "To silence this warning, decorate the function with @tf.autograph.experimental.do_not_convert\n",
      "WARNING: AutoGraph could not transform <function Model.make_test_function.<locals>.test_function at 0x2cf5d41f0> and will run it as-is.\n",
      "Please report this to the TensorFlow team. When filing the bug, set the verbosity to 10 (on Linux, `export AUTOGRAPH_VERBOSITY=10`) and attach the full output.\n",
      "Cause: unsupported operand type(s) for -: 'NoneType' and 'int'\n",
      "To silence this warning, decorate the function with @tf.autograph.experimental.do_not_convert\n",
      "177/177 [==============================] - 70s 394ms/step - loss: 4.0795 - accuracy: 0.0912 - val_loss: 417.9023 - val_accuracy: 0.1462\n",
      "Epoch 2/40\n",
      "177/177 [==============================] - 70s 394ms/step - loss: 3.2397 - accuracy: 0.1924 - val_loss: 385.8196 - val_accuracy: 0.1822\n",
      "Epoch 3/40\n",
      "177/177 [==============================] - 70s 393ms/step - loss: 2.9845 - accuracy: 0.2322 - val_loss: 390.5142 - val_accuracy: 0.2062\n",
      "Epoch 4/40\n",
      "177/177 [==============================] - 70s 393ms/step - loss: 2.8121 - accuracy: 0.2742 - val_loss: 479.0864 - val_accuracy: 0.1669\n",
      "Epoch 5/40\n",
      "177/177 [==============================] - 70s 393ms/step - loss: 2.7344 - accuracy: 0.2936 - val_loss: 377.9829 - val_accuracy: 0.2360\n",
      "Epoch 6/40\n",
      "177/177 [==============================] - 70s 394ms/step - loss: 2.5851 - accuracy: 0.3255 - val_loss: 380.8907 - val_accuracy: 0.2534\n",
      "Epoch 7/40\n",
      "177/177 [==============================] - 70s 394ms/step - loss: 2.5673 - accuracy: 0.3280 - val_loss: 361.2941 - val_accuracy: 0.2703\n",
      "Epoch 8/40\n",
      "177/177 [==============================] - 70s 394ms/step - loss: 2.4903 - accuracy: 0.3485 - val_loss: 397.6859 - val_accuracy: 0.2649\n",
      "Epoch 9/40\n",
      "177/177 [==============================] - 70s 394ms/step - loss: 2.4495 - accuracy: 0.3642 - val_loss: 393.3997 - val_accuracy: 0.2791\n",
      "Epoch 10/40\n",
      "177/177 [==============================] - 70s 393ms/step - loss: 2.3108 - accuracy: 0.3988 - val_loss: 352.8341 - val_accuracy: 0.2908\n",
      "Epoch 11/40\n",
      "177/177 [==============================] - 70s 393ms/step - loss: 2.2719 - accuracy: 0.4038 - val_loss: 354.0220 - val_accuracy: 0.3033\n",
      "Epoch 12/40\n",
      "177/177 [==============================] - 70s 394ms/step - loss: 2.2010 - accuracy: 0.4204 - val_loss: 361.2710 - val_accuracy: 0.3003\n",
      "Epoch 13/40\n",
      "177/177 [==============================] - 70s 393ms/step - loss: 2.1794 - accuracy: 0.4332 - val_loss: 364.8544 - val_accuracy: 0.3006\n",
      "Epoch 14/40\n",
      "177/177 [==============================] - 70s 395ms/step - loss: 2.1773 - accuracy: 0.4360 - val_loss: 364.8899 - val_accuracy: 0.3025\n",
      "Epoch 15/40\n",
      "177/177 [==============================] - 70s 394ms/step - loss: 2.1565 - accuracy: 0.4335 - val_loss: 372.3235 - val_accuracy: 0.3017\n",
      "Epoch 16/40\n",
      "177/177 [==============================] - 70s 395ms/step - loss: 2.1696 - accuracy: 0.4278 - val_loss: 370.8303 - val_accuracy: 0.3033\n",
      "Epoch 17/40\n",
      "177/177 [==============================] - 70s 393ms/step - loss: 2.1913 - accuracy: 0.4271 - val_loss: 371.2419 - val_accuracy: 0.3055\n",
      "Epoch 18/40\n",
      "177/177 [==============================] - 70s 394ms/step - loss: 2.1626 - accuracy: 0.4330 - val_loss: 372.3724 - val_accuracy: 0.3071\n",
      "Epoch 19/40\n",
      "177/177 [==============================] - 70s 394ms/step - loss: 2.1439 - accuracy: 0.4387 - val_loss: 372.1146 - val_accuracy: 0.3061\n",
      "Epoch 20/40\n",
      "177/177 [==============================] - 70s 394ms/step - loss: 2.1556 - accuracy: 0.4358 - val_loss: 373.1258 - val_accuracy: 0.3080\n",
      "Epoch 21/40\n",
      "177/177 [==============================] - 70s 394ms/step - loss: 2.1902 - accuracy: 0.4220 - val_loss: 371.2866 - val_accuracy: 0.3115\n",
      "Epoch 22/40\n",
      "177/177 [==============================] - 70s 394ms/step - loss: 2.1365 - accuracy: 0.4387 - val_loss: 374.8782 - val_accuracy: 0.3091\n",
      "Epoch 23/40\n",
      "177/177 [==============================] - 70s 394ms/step - loss: 2.1219 - accuracy: 0.4402 - val_loss: 375.1099 - val_accuracy: 0.3074\n",
      "Epoch 24/40\n",
      "177/177 [==============================] - 70s 394ms/step - loss: 2.1579 - accuracy: 0.4370 - val_loss: 376.8864 - val_accuracy: 0.3099\n",
      "Epoch 25/40\n",
      "177/177 [==============================] - 70s 394ms/step - loss: 2.1605 - accuracy: 0.4403 - val_loss: 377.6998 - val_accuracy: 0.3101\n",
      "Epoch 26/40\n",
      "177/177 [==============================] - 70s 396ms/step - loss: 2.1248 - accuracy: 0.4334 - val_loss: 378.8810 - val_accuracy: 0.3091\n",
      "Epoch 27/40\n",
      "177/177 [==============================] - 70s 394ms/step - loss: 2.1512 - accuracy: 0.4349 - val_loss: 377.3744 - val_accuracy: 0.3101\n",
      "Epoch 28/40\n",
      "177/177 [==============================] - 70s 394ms/step - loss: 2.1673 - accuracy: 0.4297 - val_loss: 383.1159 - val_accuracy: 0.3066\n",
      "Epoch 29/40\n",
      "177/177 [==============================] - 70s 394ms/step - loss: 2.1149 - accuracy: 0.4374 - val_loss: 382.7729 - val_accuracy: 0.3063\n",
      "Epoch 30/40\n",
      "177/177 [==============================] - 70s 394ms/step - loss: 2.1352 - accuracy: 0.4393 - val_loss: 384.8067 - val_accuracy: 0.3033\n",
      "Epoch 31/40\n",
      "177/177 [==============================] - 70s 394ms/step - loss: 2.1488 - accuracy: 0.4304 - val_loss: 387.5913 - val_accuracy: 0.3017\n",
      "Epoch 32/40\n",
      "177/177 [==============================] - 70s 395ms/step - loss: 2.1304 - accuracy: 0.4398 - val_loss: 386.0492 - val_accuracy: 0.3036\n",
      "Epoch 33/40\n",
      "177/177 [==============================] - 70s 395ms/step - loss: 2.1232 - accuracy: 0.4282 - val_loss: 384.6398 - val_accuracy: 0.3055\n"
     ]
    },
    {
     "name": "stdout",
     "output_type": "stream",
     "text": [
      "Epoch 34/40\n",
      "177/177 [==============================] - 70s 393ms/step - loss: 2.1409 - accuracy: 0.4437 - val_loss: 385.6295 - val_accuracy: 0.3017\n",
      "Epoch 35/40\n",
      "177/177 [==============================] - 70s 395ms/step - loss: 2.1223 - accuracy: 0.4368 - val_loss: 385.9601 - val_accuracy: 0.3009\n",
      "Epoch 36/40\n",
      "177/177 [==============================] - 70s 394ms/step - loss: 2.1297 - accuracy: 0.4411 - val_loss: 385.2014 - val_accuracy: 0.3055\n",
      "Epoch 37/40\n",
      "177/177 [==============================] - 70s 393ms/step - loss: 2.1179 - accuracy: 0.4432 - val_loss: 385.0614 - val_accuracy: 0.3036\n",
      "Epoch 38/40\n",
      "177/177 [==============================] - 70s 394ms/step - loss: 2.1165 - accuracy: 0.4414 - val_loss: 388.5646 - val_accuracy: 0.3028\n",
      "Epoch 39/40\n",
      "177/177 [==============================] - 70s 393ms/step - loss: 2.1175 - accuracy: 0.4497 - val_loss: 385.4748 - val_accuracy: 0.3052\n",
      "Epoch 40/40\n",
      "177/177 [==============================] - 70s 393ms/step - loss: 2.1476 - accuracy: 0.4363 - val_loss: 388.6221 - val_accuracy: 0.3033\n"
     ]
    },
    {
     "data": {
      "text/plain": [
       "<tensorflow.python.keras.callbacks.History at 0x2cef33100>"
      ]
     },
     "execution_count": 16,
     "metadata": {},
     "output_type": "execute_result"
    }
   ],
   "source": [
    "model = models.Sequential()\n",
    "model.add(layers.Conv2D(filters=32, \n",
    "                        kernel_size=(2,2),\n",
    "                        activation='relu',\n",
    "                        padding = 'same',\n",
    "                        input_shape=(IMAGE_DIMENSION, IMAGE_DIMENSION, 3),\n",
    "                        data_format = 'channels_last'))\n",
    "model.add(layers.MaxPooling2D((2,2)))\n",
    "model.add(layers.Conv2D(16, (3,3), activation='relu'))\n",
    "model.add(layers.MaxPooling2D((3,3)))\n",
    "model.add(layers.Flatten())\n",
    "model.add(layers.Dense(64))\n",
    "model.add(layers.Dense(NUM_CLASS)) # output layer\n",
    "model.add(layers.Activation('sigmoid'))\n",
    "\n",
    "model.summary()\n",
    "\n",
    "model.compile(optimizer='adam',\n",
    "              loss='categorical_crossentropy',\n",
    "              metrics=['accuracy'])\n",
    "\n",
    "# training begins\n",
    "model.fit(train_generator, steps_per_epoch=sample_size // BATCH_SIZE, epochs=40,\n",
    "          validation_data=val_generator, callbacks=lr_callback, use_multiprocessing=False)"
   ]
  },
  {
   "cell_type": "markdown",
   "id": "0b654a76",
   "metadata": {},
   "source": [
    "# Analysis"
   ]
  },
  {
   "cell_type": "markdown",
   "id": "dd06f701",
   "metadata": {},
   "source": [
    "With the model fully trained, the best accuracy of the model was 31% cross-validation accuracy. The same model is evaluated against the test set and performed at 28% test accuracy. The result is a model that can make classifications better than random guess, which would be 1/96. This is a significant improvement over random guess as random guessing would be correct ~1% of the time. "
   ]
  },
  {
   "cell_type": "code",
   "execution_count": 17,
   "id": "6c934800",
   "metadata": {},
   "outputs": [
    {
     "name": "stderr",
     "output_type": "stream",
     "text": [
      "/Users/nobletang/mambaforge/envs/apple_tensorflow/lib/python3.8/site-packages/tensorflow/python/keras/engine/training.py:1877: UserWarning: `Model.evaluate_generator` is deprecated and will be removed in a future version. Please use `Model.evaluate`, which supports generators.\n",
      "  warnings.warn('`Model.evaluate_generator` is deprecated and '\n"
     ]
    },
    {
     "data": {
      "text/plain": [
       "[385.5659484863281, 0.317859947681427]"
      ]
     },
     "execution_count": 17,
     "metadata": {},
     "output_type": "execute_result"
    }
   ],
   "source": [
    "model.evaluate_generator(test_generator, use_multiprocessing=False)"
   ]
  },
  {
   "cell_type": "markdown",
   "id": "d83acee7",
   "metadata": {},
   "source": [
    "The model could be improved by having more images of flowers to train on. More images means the model could identify just the important features. Also, perhaps the model could improve if more resources were available, like RAM or GPU. "
   ]
  },
  {
   "cell_type": "markdown",
   "id": "863a0590",
   "metadata": {},
   "source": [
    "# Conclusion"
   ]
  },
  {
   "cell_type": "markdown",
   "id": "80cc0aad",
   "metadata": {},
   "source": [
    "Image classification of flowers is possible with what was gathered for the model. 31% of the images looked at by this model are correctly identified. While the model could be improved, this is a proof of concept for the U.S. Department of Agriculture. The model has much room for improvement given more time and resources, but for the scope of the project, a model has been trained on images to identify the species of a flower."
   ]
  },
  {
   "cell_type": "markdown",
   "id": "0b6a3669",
   "metadata": {},
   "source": [
    "# Future Research"
   ]
  },
  {
   "cell_type": "markdown",
   "id": "fecea0cb",
   "metadata": {},
   "source": [
    "There is room to grow for the model. With more images to even out the class imbalance, the model could drastically improve in accuracy. More computational power would also more epochs and different batch sizes to be run. Lastly, proper installation of dependencies would grant access to different transfer learning applications, possibly increasing the model metrics."
   ]
  }
 ],
 "metadata": {
  "kernelspec": {
   "display_name": "Python 3 (ipykernel)",
   "language": "python",
   "name": "python3"
  },
  "language_info": {
   "codemirror_mode": {
    "name": "ipython",
    "version": 3
   },
   "file_extension": ".py",
   "mimetype": "text/x-python",
   "name": "python",
   "nbconvert_exporter": "python",
   "pygments_lexer": "ipython3",
   "version": "3.8.12"
  }
 },
 "nbformat": 4,
 "nbformat_minor": 5
}
